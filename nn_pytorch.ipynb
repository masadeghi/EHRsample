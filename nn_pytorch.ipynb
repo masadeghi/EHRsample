{
  "nbformat": 4,
  "nbformat_minor": 0,
  "metadata": {
    "colab": {
      "provenance": [],
      "toc_visible": true,
      "authorship_tag": "ABX9TyNpxk4u0Htb78J/9pI8TbbO",
      "include_colab_link": true
    },
    "kernelspec": {
      "name": "python3",
      "display_name": "Python 3"
    },
    "language_info": {
      "name": "python"
    }
  },
  "cells": [
    {
      "cell_type": "markdown",
      "metadata": {
        "id": "view-in-github",
        "colab_type": "text"
      },
      "source": [
        "<a href=\"https://colab.research.google.com/github/masadeghi/EHRsample/blob/main/nn_pytorch.ipynb\" target=\"_parent\"><img src=\"https://colab.research.google.com/assets/colab-badge.svg\" alt=\"Open In Colab\"/></a>"
      ]
    },
    {
      "cell_type": "markdown",
      "source": [
        "# **Import dependencies**"
      ],
      "metadata": {
        "id": "hB6wTVgIF8LG"
      }
    },
    {
      "cell_type": "code",
      "source": [
        "import pandas as pd\n",
        "import numpy as np\n",
        "import random\n",
        "import time\n",
        "import matplotlib.pyplot as plt\n",
        "\n",
        "from sklearn.impute import SimpleImputer\n",
        "from sklearn.preprocessing import MinMaxScaler\n",
        "\n",
        "import torch\n",
        "import torch.nn as nn"
      ],
      "metadata": {
        "id": "r3GhuaVEF--D"
      },
      "execution_count": 1,
      "outputs": []
    },
    {
      "cell_type": "markdown",
      "source": [
        "# **Import data**\n",
        "\n",
        "1. Download the data from this link (You'll need to sign up in the PhysioNet website and sign a data use agreement.'): https://physionet.org/content/heart-failure-zigong/1.3/#files\n",
        "2. Upload the .zip file to your google drive. (Here, I've uploaded the file to a folder named \"databases\" in my Google drive)\n",
        "3. Read the datasets into pandas dataframes."
      ],
      "metadata": {
        "id": "Ft063vV9D1fV"
      }
    },
    {
      "cell_type": "code",
      "execution_count": 2,
      "metadata": {
        "colab": {
          "base_uri": "https://localhost:8080/"
        },
        "id": "1OHCzSNR9O_G",
        "outputId": "978265d6-b137-4821-aeac-922f650f117f"
      },
      "outputs": [
        {
          "output_type": "stream",
          "name": "stdout",
          "text": [
            "Mounted at /content/gdrive\n"
          ]
        }
      ],
      "source": [
        "# Mount Google drive\n",
        "from google.colab import drive\n",
        "\n",
        "drive.mount('/content/gdrive')"
      ]
    },
    {
      "cell_type": "code",
      "source": [
        "# Unzip the .zip file containing all the datasets\n",
        "!unzip gdrive/MyDrive/databases/hospitalized-patients-with-heart-failure-integrating-electronic-healthcare-records-and-external-outcome-data-1.3.zip"
      ],
      "metadata": {
        "colab": {
          "base_uri": "https://localhost:8080/"
        },
        "id": "A6czABpX9ZH2",
        "outputId": "4779dcd8-32b7-4f56-b947-b7ea3fb823a1"
      },
      "execution_count": 3,
      "outputs": [
        {
          "output_type": "stream",
          "name": "stdout",
          "text": [
            "Archive:  gdrive/MyDrive/databases/hospitalized-patients-with-heart-failure-integrating-electronic-healthcare-records-and-external-outcome-data-1.3.zip\n",
            "  inflating: hospitalized-patients-with-heart-failure-integrating-electronic-healthcare-records-and-external-outcome-data-1.3/LICENSE.txt  \n",
            "  inflating: hospitalized-patients-with-heart-failure-integrating-electronic-healthcare-records-and-external-outcome-data-1.3/SHA256SUMS.txt  \n",
            "  inflating: hospitalized-patients-with-heart-failure-integrating-electronic-healthcare-records-and-external-outcome-data-1.3/dat.csv  \n",
            "  inflating: hospitalized-patients-with-heart-failure-integrating-electronic-healthcare-records-and-external-outcome-data-1.3/dat_md.csv  \n",
            "  inflating: hospitalized-patients-with-heart-failure-integrating-electronic-healthcare-records-and-external-outcome-data-1.3/dataDictionary.csv  \n"
          ]
        }
      ]
    },
    {
      "cell_type": "code",
      "source": [
        "# Read the datasets into pandas dataframes\n",
        "patient_data = pd.read_csv('/content/hospitalized-patients-with-heart-failure-integrating-electronic-healthcare-records-and-external-outcome-data-1.3/dat.csv', index_col = 0)\n",
        "treatment_data = pd.read_csv('/content/hospitalized-patients-with-heart-failure-integrating-electronic-healthcare-records-and-external-outcome-data-1.3/dat_md.csv', index_col = 0)\n",
        "dict_data = pd.read_csv('/content/hospitalized-patients-with-heart-failure-integrating-electronic-healthcare-records-and-external-outcome-data-1.3/dataDictionary.csv', index_col = 0)"
      ],
      "metadata": {
        "id": "_yU010e195ub"
      },
      "execution_count": 2,
      "outputs": []
    },
    {
      "cell_type": "markdown",
      "source": [
        "# **Exploratory data analysis and feature engineering**"
      ],
      "metadata": {
        "id": "vz3oTkgDFD_D"
      }
    },
    {
      "cell_type": "markdown",
      "source": [
        "## Step 1: Restructure the treatment data\n",
        "One-hot encode the `treatment_data` dataset so that treatment data (drugs administered to the patients during their hospitalization) could be concatenated with the clinical and lab data (`patient_data` dataset)."
      ],
      "metadata": {
        "id": "tA8JkS7TLdWW"
      }
    },
    {
      "cell_type": "code",
      "source": [
        "# Initialize zeros matrix with desired dimensions, indexes, and column names\n",
        "drugs = np.zeros((len(patient_data['inpatient.number'].unique()),\n",
        "                  len(treatment_data['Drug_name'].unique())))\n",
        "\n",
        "drugs = pd.DataFrame(drugs, index = patient_data['inpatient.number'].unique(), columns = treatment_data['Drug_name'].unique())\n",
        "\n",
        "# Iterate over the rows and columns of the constructed matrix and repalce 0 with 1\n",
        "# in the appropriate column if the treatment was administered.\n",
        "for index, row in drugs.iterrows():\n",
        "  for col in drugs.columns:\n",
        "    subset = treatment_data.loc[treatment_data['inpatient.number'] == index, 'Drug_name']\n",
        "    if col in subset.values:\n",
        "      drugs.loc[index, col] = 1\n",
        "\n",
        "# Concatenate the resulting matrix with the main dataset:\n",
        "# Total data (t_data) = main dataset + drug data\n",
        "patient_data.set_index('inpatient.number', inplace = True)\n",
        "\n",
        "t_data = pd.concat([patient_data, drugs], axis = 1)"
      ],
      "metadata": {
        "id": "CVTt7wzD96Ez"
      },
      "execution_count": 3,
      "outputs": []
    },
    {
      "cell_type": "markdown",
      "source": [
        "## Step 2: Explore the features\n",
        "\n",
        "* Identify features with missing data.\n",
        "* Explore each feature to understand its data structure."
      ],
      "metadata": {
        "id": "-OGdU7lmLbQw"
      }
    },
    {
      "cell_type": "code",
      "source": [
        "# Determining the extent of missing data in the dataset\n",
        "missing_perc = []\n",
        "\n",
        "for i, col in enumerate(t_data.columns):\n",
        "  percentage = t_data[col].isnull().mean()\n",
        "  missing_perc.append((i, col, percentage))\n",
        "\n",
        "missing_perc.sort(key = lambda x: x[2], reverse = True)\n",
        "\n",
        "plt.hist([i[2] for i in missing_perc], bins = 20)\n",
        "plt.show()"
      ],
      "metadata": {
        "colab": {
          "base_uri": "https://localhost:8080/",
          "height": 265
        },
        "id": "uBhcaGIKIcE5",
        "outputId": "5780dae5-d846-4e85-db5d-b0ef315c5ace"
      },
      "execution_count": 4,
      "outputs": [
        {
          "output_type": "display_data",
          "data": {
            "text/plain": [
              "<Figure size 432x288 with 1 Axes>"
            ],
            "image/png": "[encoded data removed]"
          },
          "metadata": {
            "needs_background": "light"
          }
        }
      ]
    },
    {
      "cell_type": "code",
      "source": [
        "# Explore each variable\n",
        "def summary(colname):\n",
        "  col = t_data[colname]\n",
        "\n",
        "  print(col[:5])\n",
        "\n",
        "  if col.dtype == object:\n",
        "    print('\\n Unique factors: \\n', col.unique())\n",
        "    print('\\n', col.describe(include = 'object'))\n",
        "  else:\n",
        "    print('\\n', col.describe())\n",
        "\n",
        "summary(\"dischargeDay\")"
      ],
      "metadata": {
        "colab": {
          "base_uri": "https://localhost:8080/"
        },
        "id": "MEXw-K0uKxkw",
        "outputId": "c14fd8ee-75f2-4dbb-b515-bad52bd0789e"
      },
      "execution_count": 5,
      "outputs": [
        {
          "output_type": "stream",
          "name": "stdout",
          "text": [
            "857781    11\n",
            "743087     8\n",
            "866418     5\n",
            "775928    11\n",
            "810128     5\n",
            "Name: dischargeDay, dtype: int64\n",
            "\n",
            " count    2008.000000\n",
            "mean        9.420817\n",
            "std         8.030256\n",
            "min         1.000000\n",
            "25%         6.000000\n",
            "50%         8.000000\n",
            "75%        10.000000\n",
            "max       123.000000\n",
            "Name: dischargeDay, dtype: float64\n"
          ]
        }
      ]
    },
    {
      "cell_type": "markdown",
      "source": [
        "## Step 3: Split data into predictor (`X`) and target (`y`) datasets\n",
        "* Log transform `y` to make it's distribution closer to normal."
      ],
      "metadata": {
        "id": "T_gHs48kNFIU"
      }
    },
    {
      "cell_type": "code",
      "source": [
        "y = t_data['dischargeDay']\n",
        "X = t_data.drop('dischargeDay', axis = 1)"
      ],
      "metadata": {
        "id": "0Cgdn17kNMyt"
      },
      "execution_count": 6,
      "outputs": []
    },
    {
      "cell_type": "code",
      "source": [
        "# log transform y\n",
        "import seaborn as sns\n",
        "sns.displot(y)\n",
        "y = np.log(y)\n",
        "sns.displot(y)"
      ],
      "metadata": {
        "colab": {
          "base_uri": "https://localhost:8080/",
          "height": 739
        },
        "id": "OhA3Z1nZPs1S",
        "outputId": "3b326daf-db6f-4c58-f866-468019feb67b"
      },
      "execution_count": 7,
      "outputs": [
        {
          "output_type": "execute_result",
          "data": {
            "text/plain": [
              "<seaborn.axisgrid.FacetGrid at 0x7f912c8385e0>"
            ]
          },
          "metadata": {},
          "execution_count": 7
        },
        {
          "output_type": "display_data",
          "data": {
            "text/plain": [
              "<Figure size 360x360 with 1 Axes>"
            ],
            "image/png": "[encoded data removed]"
          },
          "metadata": {
            "needs_background": "light"
          }
        },
        {
          "output_type": "display_data",
          "data": {
            "text/plain": [
              "<Figure size 360x360 with 1 Axes>"
            ],
            "image/png": "[encoded data removed]"
          },
          "metadata": {
            "needs_background": "light"
          }
        }
      ]
    },
    {
      "cell_type": "markdown",
      "source": [
        "## Step 4: Remove features that aren't useful in a practical setting\n",
        "Explore the features in `X` to classify them into the following categories:\n",
        "\n",
        "*   Features that are expected to be available at the time of admission or a short while after (e.g., preliminary lab data)\n",
        "*   Features that are expected to be available only at the time of discharge\n",
        "*   Features from echocardiography\n",
        "*   Features that are expected to be available only after patient discharge and on patient follow-up\n",
        "\n",
        "For predicting duration of hospital stay, only the first category could be useful in a clinical setting."
      ],
      "metadata": {
        "id": "PVoRU5yrLxCN"
      }
    },
    {
      "cell_type": "code",
      "source": [
        "# Features only availble at the time of discharge\n",
        "discharge_var = ['DestinationDischarge', 'discharge.department', 'outcome.during.hospitalization']\n",
        "\n",
        "# Features only available after discharge and on patient follow-up\n",
        "future_var = ['death.within.28.days', 're.admission.within.28.days', 'death.within.3.months',\n",
        "              're.admission.within.3.months', 'death.within.6.months', 're.admission.within.6.months',\n",
        "              'time.of.death..days.from.admission.', 're.admission.time..days.from.admission.',\n",
        "              'return.to.emergency.department.within.6.months', 'time.to.emergency.department.within.6.months']\n",
        "\n",
        "# Features only available after an echocardiography\n",
        "echo_var = ['LVEF', 'left.ventricular.end.diastolic.diameter.LV',\n",
        "            'mitral.valve.EMS', 'mitral.valve.AMS', 'EA',\n",
        "            'tricuspid.valve.return.velocity', 'tricuspid.valve.return.pressure']\n",
        "\n",
        "# Remove future_var and discharge_var from X\n",
        "X = X.drop(discharge_var + future_var, axis = 1)"
      ],
      "metadata": {
        "id": "Vjf2k2zf-i3k"
      },
      "execution_count": 8,
      "outputs": []
    },
    {
      "cell_type": "markdown",
      "source": [
        "## Step 5: Remove features with too many missing values"
      ],
      "metadata": {
        "id": "CkVccxJb_UDo"
      }
    },
    {
      "cell_type": "code",
      "source": [
        "# Remove features with more than 20% missing data\n",
        "keepers = [True] * len(X.columns)\n",
        "\n",
        "for i, col in enumerate(X.columns):\n",
        "  if X[col].isnull().mean() > 0.2: # This also removes all echo_vars\n",
        "    keepers[i] = False\n",
        "\n",
        "X = X.loc[:, keepers]"
      ],
      "metadata": {
        "id": "t4cO6fqx_ZtW"
      },
      "execution_count": 9,
      "outputs": []
    },
    {
      "cell_type": "markdown",
      "source": [
        "## Step 6: Convert ordered categorical features to numerical encodings\n",
        "e.g., NYHA classification could be represented as 1.0 to 4.0 to indicate increasing severity of heart failure."
      ],
      "metadata": {
        "id": "vCYCI6dtU-tY"
      }
    },
    {
      "cell_type": "code",
      "source": [
        "convert_ordered = {'NYHA.cardiac.function.classification': {'II': 2, 'III': 3, 'IV': 4},\n",
        "                   'Killip.grade': {'I': 1, 'II': 2, 'III': 3, 'IV': 4},\n",
        "                   'consciousness': {'Clear': 0, 'ResponsiveToSound': 1, 'ResponsiveToPain': 2, 'Nonresponsive': 3},\n",
        "                   'respiratory.support.': {'None': 0, 'NIMV': 1, 'IMV': 2},\n",
        "                   'ageCat': {'(21,29]': 0, '(29,39]': 1, '(39,49]': 2, '(49,59]': 3, '(59,69]': 4, '(69,79]': 5, '(79,89]': 6, '(89,110]': 7}\n",
        "}\n",
        "\n",
        "X = X.replace(convert_ordered)"
      ],
      "metadata": {
        "id": "RAU1K_o3VoJm"
      },
      "execution_count": 10,
      "outputs": []
    },
    {
      "cell_type": "markdown",
      "source": [
        "# **Prepare data for input into the model**\n",
        "1. Divide data into continuous and categorical features.\n",
        "2. Split data into train/test datasets.\n",
        "2. Impute missing values using values inferred from train datasets.\n",
        "3. Normalize continuous features using values inferred from train datasets.\n",
        "4. Convert datasets to torch tensors."
      ],
      "metadata": {
        "id": "lU9Nkunn5qvR"
      }
    },
    {
      "cell_type": "markdown",
      "source": [
        "## Step 1: Divide data into continuous and categorical features"
      ],
      "metadata": {
        "id": "HITCTtDpP1LL"
      }
    },
    {
      "cell_type": "code",
      "source": [
        "# Categorical features\n",
        "patient_id_and_clinic = ['admission.ward', 'admission.way', 'occupation', 'gender', 'type.of.heart.failure',\n",
        "                         'oxygen.inhalation', 'type.II.respiratory.failure', 'acute.renal.failure']\n",
        "\n",
        "past_medical_history = ['myocardial.infarction', 'congestive.heart.failure', 'peripheral.vascular.disease',\n",
        "                        'cerebrovascular.disease', 'dementia', 'Chronic.obstructive.pulmonary.disease', \n",
        "                        'connective.tissue.disease', 'peptic.ulcer.disease', 'diabetes',\n",
        "                        'moderate.to.severe.chronic.kidney.disease', 'hemiplegia', 'leukemia',\n",
        "                        'malignant.lymphoma', 'solid.tumor', 'liver.disease', 'AIDS']\n",
        "                       \n",
        "treatments = ['sulfotanshinone sodium injection', 'Furosemide tablet', 'Enoxaparin Sodium injection',\n",
        "              'Meglumine Adenosine Cyclophosphate for injection', 'Furosemide injection', 'Milrinone injection',\n",
        "              'Metoprolol Succinate Sustained-release tablet', 'Deslanoside injection', 'Torasemide tablet',\n",
        "              'Benazepril hydrochloride tablet', 'Atorvastatin calcium tablet', 'Aspirin enteric-coated tablet',\n",
        "              'Digoxin tablet', 'Hydrochlorothiazide tablet', 'metoprolol tartrate injection',\n",
        "              'Spironolactone tablet', 'Valsartan Dispersible tablet', 'Dobutamine hydrochloride injection',\n",
        "              'Clopidogrel Hydrogen Sulphate tablet', 'Isoprenaline Hydrochloride injection', 'Nitroglycerin injection',\n",
        "              'Shenfu injection', 'Isosorbide Mononitrate Sustained Release tablet', 'warfarin sodium tablet',\n",
        "              'Heparin Sodium injection']\n",
        "\n",
        "categorical_columns = patient_id_and_clinic + past_medical_history + treatments\n",
        "\n",
        "categorical_features = X[categorical_columns]"
      ],
      "metadata": {
        "id": "pargq1mPTvTA"
      },
      "execution_count": 11,
      "outputs": []
    },
    {
      "cell_type": "code",
      "source": [
        "# Continuous features\n",
        "continuous_columns = list(set(X.columns) - set(categorical_columns))\n",
        "\n",
        "continuous_features = X[continuous_columns]"
      ],
      "metadata": {
        "id": "yFP8Hh8r7n3Q"
      },
      "execution_count": 12,
      "outputs": []
    },
    {
      "cell_type": "markdown",
      "source": [
        "## Step 2: Split data into train/test datasets"
      ],
      "metadata": {
        "id": "ZIs76dRA6HAs"
      }
    },
    {
      "cell_type": "code",
      "source": [
        "no_examples = len(y)\n",
        "\n",
        "indexes = list(range(no_examples))\n",
        "\n",
        "random.seed(50)\n",
        "random.shuffle(indexes)\n",
        "\n",
        "train_indexes = indexes[:int(0.8 * no_examples)]\n",
        "test_indexes = indexes[int(0.8 * no_examples):]\n",
        "\n",
        "X_train_cont = continuous_features.iloc[train_indexes, :]\n",
        "X_train_cat = categorical_features.iloc[train_indexes, :]\n",
        "y_train = y.values[train_indexes]\n",
        "\n",
        "X_test_cont = continuous_features.iloc[test_indexes, :]\n",
        "X_test_cat = categorical_features.iloc[test_indexes, :]\n",
        "y_test = y.values[test_indexes]"
      ],
      "metadata": {
        "id": "xYFFCWNn6HPJ"
      },
      "execution_count": 13,
      "outputs": []
    },
    {
      "cell_type": "markdown",
      "source": [
        "## Step 3: Impute missing data\n",
        "* Replace NAs with the feature mode for categorical variables (`dtype = 'category'`).\n",
        "* Replace NAs in continuous features (`dtype = 'float64'`) with column median."
      ],
      "metadata": {
        "id": "ryCXm3KXQQY-"
      }
    },
    {
      "cell_type": "code",
      "source": [
        "imp_cont = SimpleImputer(missing_values = np.nan, strategy = 'median')\n",
        "X_train_cont = imp_cont.fit_transform(X_train_cont)\n",
        "X_test_cont = imp_cont.transform(X_test_cont)\n",
        "\n",
        "imp_cat = SimpleImputer(missing_values = np.nan, strategy = 'most_frequent')\n",
        "X_train_cat = imp_cat.fit_transform(X_train_cat)\n",
        "X_test_cat = imp_cat.transform(X_test_cat)"
      ],
      "metadata": {
        "id": "EJ5PpPUr_uiC"
      },
      "execution_count": 14,
      "outputs": []
    },
    {
      "cell_type": "markdown",
      "source": [
        "## Step 4: Normalize continuous features"
      ],
      "metadata": {
        "id": "KGyVqext5HXk"
      }
    },
    {
      "cell_type": "code",
      "source": [
        "scaler = MinMaxScaler()\n",
        "\n",
        "X_train_cont = scaler.fit_transform(X_train_cont)\n",
        "X_test_cont = scaler.transform(X_test_cont)"
      ],
      "metadata": {
        "id": "WOEq0_xN4oYN"
      },
      "execution_count": 15,
      "outputs": []
    },
    {
      "cell_type": "markdown",
      "source": [
        "## Step 5: Prepare data for input into the model\n",
        "* Reconvert categorical datasets to pandas dataframes.\n",
        "* Set `dtype` of categorical variables to `category`\n",
        "* Convert continuous and categorical features and target data to torch tensors."
      ],
      "metadata": {
        "id": "gkOAG7kkgH3d"
      }
    },
    {
      "cell_type": "code",
      "source": [
        "# Categorical features\n",
        "X_train_cat = pd.DataFrame(X_train_cat, columns = categorical_columns)\n",
        "X_test_cat = pd.DataFrame(X_test_cat, columns = categorical_columns)\n",
        "\n",
        "X_train_cat[categorical_columns] = X_train_cat[categorical_columns].astype('category')\n",
        "X_test_cat[categorical_columns] = X_test_cat[categorical_columns].astype('category')\n",
        "\n",
        "X_train_cat = np.stack([X_train_cat[col].cat.codes.values for col in categorical_columns], axis = 1)\n",
        "X_test_cat = np.stack([X_test_cat[col].cat.codes.values for col in categorical_columns], axis = 1)\n",
        "\n",
        "X_train_cat = torch.tensor(X_train_cat, dtype = torch.int64)\n",
        "X_test_cat = torch.tensor(X_test_cat, dtype = torch.int64)"
      ],
      "metadata": {
        "id": "USnSY6yF-H2D"
      },
      "execution_count": 16,
      "outputs": []
    },
    {
      "cell_type": "code",
      "source": [
        "# Continuous features\n",
        "X_train_cont = torch.tensor(X_train_cont, dtype = torch.float32)\n",
        "X_test_cont = torch.tensor(X_test_cont, dtype = torch.float32)"
      ],
      "metadata": {
        "id": "_Oe5uriW_Wst"
      },
      "execution_count": 17,
      "outputs": []
    },
    {
      "cell_type": "code",
      "source": [
        "# Target\n",
        "y_train = torch.tensor(y_train, dtype = torch.float32).reshape(-1, 1)\n",
        "y_test = torch.tensor(y_test, dtype = torch.float32).reshape(-1, 1)"
      ],
      "metadata": {
        "id": "v3GEI9kkg5Bo"
      },
      "execution_count": 18,
      "outputs": []
    },
    {
      "cell_type": "markdown",
      "source": [
        "# Define Model"
      ],
      "metadata": {
        "id": "X3J15xY0h2Po"
      }
    },
    {
      "cell_type": "markdown",
      "source": [
        "## Step 1: Set embedding sizes for the categorical features\n",
        "* The rule of thumb for determining the embedding size is to divide the number of unique entries in each column by 2, but not to exceed 50."
      ],
      "metadata": {
        "id": "W7iQ9g4QiMT3"
      }
    },
    {
      "cell_type": "code",
      "source": [
        "X[categorical_columns] =  X[categorical_columns].astype('category')\n",
        "cat_szs = [len(X[col].cat.categories) for col in categorical_columns]\n",
        "emb_szs = [(size, min(50, (size+1)//2)) for size in cat_szs]\n",
        "emb_szs[:5]"
      ],
      "metadata": {
        "colab": {
          "base_uri": "https://localhost:8080/"
        },
        "id": "xTdJtAodmscy",
        "outputId": "216ee668-38d8-454e-c45e-bd7888d548aa"
      },
      "execution_count": 19,
      "outputs": [
        {
          "output_type": "execute_result",
          "data": {
            "text/plain": [
              "[(4, 2), (2, 1), (5, 3), (2, 1), (3, 2)]"
            ]
          },
          "metadata": {},
          "execution_count": 19
        }
      ]
    },
    {
      "cell_type": "markdown",
      "source": [
        "## Step 2: Define a TabularModel class"
      ],
      "metadata": {
        "id": "2PBj9ztaikKK"
      }
    },
    {
      "cell_type": "code",
      "source": [
        "class TabularModel(nn.Module):\n",
        "\n",
        "    def __init__(self, emb_szs, n_cont, out_sz, layers, p=0.5):\n",
        "        super().__init__()\n",
        "        self.embeds = nn.ModuleList([nn.Embedding(ni, nf) for ni,nf in emb_szs])\n",
        "        self.emb_drop = nn.Dropout(p)\n",
        "        self.bn_cont = nn.BatchNorm1d(n_cont)\n",
        "        \n",
        "        layerlist = []\n",
        "        n_emb = sum((nf for ni,nf in emb_szs))\n",
        "        n_in = n_emb + n_cont\n",
        "        \n",
        "        for i in layers:\n",
        "            layerlist.append(nn.Linear(n_in,i)) \n",
        "            layerlist.append(nn.ReLU(inplace=True))\n",
        "            layerlist.append(nn.BatchNorm1d(i))\n",
        "            layerlist.append(nn.Dropout(p))\n",
        "            n_in = i\n",
        "        layerlist.append(nn.Linear(layers[-1],out_sz))\n",
        "            \n",
        "        self.layers = nn.Sequential(*layerlist)\n",
        "    \n",
        "    def forward(self, x_cat, x_cont):\n",
        "        embeddings = []\n",
        "        for i,e in enumerate(self.embeds):\n",
        "            embeddings.append(e(x_cat[:,i]))\n",
        "        x = torch.cat(embeddings, 1)\n",
        "        x = self.emb_drop(x)\n",
        "        \n",
        "        x_cont = self.bn_cont(x_cont)\n",
        "        x = torch.cat([x, x_cont], 1)\n",
        "        x = self.layers(x)\n",
        "        return x"
      ],
      "metadata": {
        "id": "UsmbDWNWmdd4"
      },
      "execution_count": 20,
      "outputs": []
    },
    {
      "cell_type": "markdown",
      "source": [
        "## Step 3: Define the model"
      ],
      "metadata": {
        "id": "m04xDl1nGatI"
      }
    },
    {
      "cell_type": "code",
      "source": [
        "model = TabularModel(emb_szs,\n",
        "                     continuous_features.shape[1],\n",
        "                     1,\n",
        "                     [200,100],\n",
        "                     p=0.4)\n",
        "\n",
        "criterion = nn.MSELoss()\n",
        "\n",
        "optimizer = torch.optim.Adam(model.parameters(), lr = 0.001)"
      ],
      "metadata": {
        "id": "_CsjgdQimjer"
      },
      "execution_count": 27,
      "outputs": []
    },
    {
      "cell_type": "code",
      "source": [
        "model"
      ],
      "metadata": {
        "colab": {
          "base_uri": "https://localhost:8080/"
        },
        "id": "azR433_Tjk20",
        "outputId": "c2eb8b46-960b-4f8a-d0e1-f062740f5af8"
      },
      "execution_count": 22,
      "outputs": [
        {
          "output_type": "execute_result",
          "data": {
            "text/plain": [
              "TabularModel(\n",
              "  (embeds): ModuleList(\n",
              "    (0): Embedding(4, 2)\n",
              "    (1): Embedding(2, 1)\n",
              "    (2): Embedding(5, 3)\n",
              "    (3): Embedding(2, 1)\n",
              "    (4): Embedding(3, 2)\n",
              "    (5): Embedding(2, 1)\n",
              "    (6): Embedding(2, 1)\n",
              "    (7): Embedding(2, 1)\n",
              "    (8): Embedding(2, 1)\n",
              "    (9): Embedding(2, 1)\n",
              "    (10): Embedding(2, 1)\n",
              "    (11): Embedding(2, 1)\n",
              "    (12): Embedding(2, 1)\n",
              "    (13): Embedding(2, 1)\n",
              "    (14): Embedding(2, 1)\n",
              "    (15): Embedding(2, 1)\n",
              "    (16): Embedding(2, 1)\n",
              "    (17): Embedding(2, 1)\n",
              "    (18): Embedding(2, 1)\n",
              "    (19): Embedding(1, 1)\n",
              "    (20): Embedding(2, 1)\n",
              "    (21): Embedding(2, 1)\n",
              "    (22): Embedding(2, 1)\n",
              "    (23): Embedding(2, 1)\n",
              "    (24): Embedding(2, 1)\n",
              "    (25): Embedding(2, 1)\n",
              "    (26): Embedding(2, 1)\n",
              "    (27): Embedding(2, 1)\n",
              "    (28): Embedding(2, 1)\n",
              "    (29): Embedding(2, 1)\n",
              "    (30): Embedding(2, 1)\n",
              "    (31): Embedding(2, 1)\n",
              "    (32): Embedding(2, 1)\n",
              "    (33): Embedding(2, 1)\n",
              "    (34): Embedding(2, 1)\n",
              "    (35): Embedding(2, 1)\n",
              "    (36): Embedding(2, 1)\n",
              "    (37): Embedding(2, 1)\n",
              "    (38): Embedding(2, 1)\n",
              "    (39): Embedding(2, 1)\n",
              "    (40): Embedding(2, 1)\n",
              "    (41): Embedding(2, 1)\n",
              "    (42): Embedding(2, 1)\n",
              "    (43): Embedding(2, 1)\n",
              "    (44): Embedding(2, 1)\n",
              "    (45): Embedding(2, 1)\n",
              "    (46): Embedding(2, 1)\n",
              "    (47): Embedding(2, 1)\n",
              "    (48): Embedding(2, 1)\n",
              "  )\n",
              "  (emb_drop): Dropout(p=0.4, inplace=False)\n",
              "  (bn_cont): BatchNorm1d(83, eps=1e-05, momentum=0.1, affine=True, track_running_stats=True)\n",
              "  (layers): Sequential(\n",
              "    (0): Linear(in_features=136, out_features=200, bias=True)\n",
              "    (1): ReLU(inplace=True)\n",
              "    (2): BatchNorm1d(200, eps=1e-05, momentum=0.1, affine=True, track_running_stats=True)\n",
              "    (3): Dropout(p=0.4, inplace=False)\n",
              "    (4): Linear(in_features=200, out_features=100, bias=True)\n",
              "    (5): ReLU(inplace=True)\n",
              "    (6): BatchNorm1d(100, eps=1e-05, momentum=0.1, affine=True, track_running_stats=True)\n",
              "    (7): Dropout(p=0.4, inplace=False)\n",
              "    (8): Linear(in_features=100, out_features=1, bias=True)\n",
              "  )\n",
              ")"
            ]
          },
          "metadata": {},
          "execution_count": 22
        }
      ]
    },
    {
      "cell_type": "markdown",
      "source": [
        "# Training the model"
      ],
      "metadata": {
        "id": "_jr-PUEjpbLd"
      }
    },
    {
      "cell_type": "markdown",
      "source": [
        "## Step 1: train the model"
      ],
      "metadata": {
        "id": "fnpXmRm8q0Fp"
      }
    },
    {
      "cell_type": "code",
      "source": [
        "torch.manual_seed(50)\n",
        "\n",
        "start_time = time.time()\n",
        "\n",
        "epochs = 1000\n",
        "train_losses = []\n",
        "val_losses = []\n",
        "\n",
        "for i in range(epochs):\n",
        "    i += 1\n",
        "    y_pred = model(X_train_cat, X_train_cont)\n",
        "    loss_train = criterion(y_pred, y_train)\n",
        "    train_losses.append(loss_train)\n",
        "\n",
        "    with torch.no_grad():\n",
        "      y_val = model(X_test_cat, X_test_cont)\n",
        "      loss_val = criterion(y_val, y_test)\n",
        "    val_losses.append(loss_val)\n",
        "\n",
        "    if i % 50 == 1 :\n",
        "      print(f'epoch: {i:3}  train loss: {loss_train.item():8.4f}      validation loss: {loss_val.item():8.4f}')\n",
        "\n",
        "    optimizer.zero_grad()\n",
        "    loss_train.backward()\n",
        "    optimizer.step()\n",
        "\n",
        "\n",
        "print(f'epoch: {i:3}  train loss: {loss_train.item():8.4f}      validation loss: {loss_val.item():8.4f}') # print the last line\n",
        "print(f'\\nDuration: {time.time() - start_time:.0f} seconds') # print the time elapsed"
      ],
      "metadata": {
        "colab": {
          "base_uri": "https://localhost:8080/"
        },
        "id": "YSB9aYH3pk_3",
        "outputId": "79833c72-dfc0-40ce-d00b-82c86662b8e9"
      },
      "execution_count": 28,
      "outputs": [
        {
          "output_type": "stream",
          "name": "stdout",
          "text": [
            "epoch:   1  train loss:   4.9957      validation loss:   5.2566\n",
            "epoch:  51  train loss:   3.5346      validation loss:   3.7283\n",
            "epoch: 101  train loss:   1.8489      validation loss:   2.0165\n",
            "epoch: 151  train loss:   0.9690      validation loss:   1.1933\n",
            "epoch: 201  train loss:   0.7242      validation loss:   0.8284\n",
            "epoch: 251  train loss:   0.6299      validation loss:   0.7742\n",
            "epoch: 301  train loss:   0.4859      validation loss:   0.7236\n",
            "epoch: 351  train loss:   0.4727      validation loss:   0.8433\n",
            "epoch: 401  train loss:   0.4008      validation loss:   0.7181\n",
            "epoch: 451  train loss:   0.3417      validation loss:   0.6404\n",
            "epoch: 501  train loss:   0.3550      validation loss:   0.6902\n",
            "epoch: 551  train loss:   0.3074      validation loss:   0.6092\n",
            "epoch: 601  train loss:   0.2925      validation loss:   0.6109\n",
            "epoch: 651  train loss:   0.2651      validation loss:   0.5013\n",
            "epoch: 701  train loss:   0.2204      validation loss:   0.5393\n",
            "epoch: 751  train loss:   0.2375      validation loss:   0.5120\n",
            "epoch: 801  train loss:   0.2260      validation loss:   0.5493\n",
            "epoch: 851  train loss:   0.2117      validation loss:   0.5017\n",
            "epoch: 901  train loss:   0.1986      validation loss:   0.5194\n",
            "epoch: 951  train loss:   0.1764      validation loss:   0.5203\n",
            "epoch: 1000  train loss:   0.1850      validation loss:   0.5170\n",
            "\n",
            "Duration: 38 seconds\n"
          ]
        }
      ]
    },
    {
      "cell_type": "markdown",
      "source": [
        "## Step 2: Plot loss curves"
      ],
      "metadata": {
        "id": "sJe59Eiwq3Hg"
      }
    },
    {
      "cell_type": "code",
      "source": [
        "train_losses_np = np.array([i.detach().numpy() for i in train_losses])\n",
        "val_losses_np = np.array([i.detach().numpy() for i in val_losses])\n",
        "\n",
        "plt.plot(range(epochs), train_losses_np)\n",
        "plt.plot(range(epochs), val_losses_np)\n",
        "plt.ylabel('MSE Loss')\n",
        "plt.xlabel('Epoch');"
      ],
      "metadata": {
        "colab": {
          "base_uri": "https://localhost:8080/",
          "height": 279
        },
        "id": "V0so8Q7dqXpp",
        "outputId": "d67aeb56-2da2-4b5a-a0a6-04bb32451f5c"
      },
      "execution_count": 29,
      "outputs": [
        {
          "output_type": "display_data",
          "data": {
            "text/plain": [
              "<Figure size 432x288 with 1 Axes>"
            ],
            "image/png": "[encoded data removed]"
          },
          "metadata": {
            "needs_background": "light"
          }
        }
      ]
    },
    {
      "cell_type": "markdown",
      "source": [
        "## Step 3: Validate the model"
      ],
      "metadata": {
        "id": "qhCIYsNxqx5u"
      }
    },
    {
      "cell_type": "code",
      "source": [
        "with torch.no_grad():\n",
        "    y_val = model(X_test_cat, X_test_cont)\n",
        "    loss = criterion(y_val, y_test)\n",
        "\n",
        "print(f'MSE: {loss:.8f}')"
      ],
      "metadata": {
        "colab": {
          "base_uri": "https://localhost:8080/"
        },
        "id": "7ebaExD-q7qI",
        "outputId": "4bc899cf-8265-4ed4-a8f7-845d694af51f"
      },
      "execution_count": 30,
      "outputs": [
        {
          "output_type": "stream",
          "name": "stdout",
          "text": [
            "MSE: 0.48846531\n"
          ]
        }
      ]
    }
  ]
}