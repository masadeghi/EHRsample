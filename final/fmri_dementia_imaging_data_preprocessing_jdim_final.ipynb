{
  "nbformat": 4,
  "nbformat_minor": 0,
  "metadata": {
    "colab": {
      "provenance": [],
      "toc_visible": true,
      "authorship_tag": "ABX9TyPr1NF+EOg5Cut+iS4PxmWU",
      "include_colab_link": true
    },
    "kernelspec": {
      "name": "python3",
      "display_name": "Python 3"
    },
    "language_info": {
      "name": "python"
    }
  },
  "cells": [
    {
      "cell_type": "markdown",
      "metadata": {
        "id": "view-in-github",
        "colab_type": "text"
      },
      "source": [
        "<a href=\"https://colab.research.google.com/github/masadeghi/EHRsample/blob/main/final/fmri_dementia_imaging_data_preprocessing_jdim_final.ipynb\" target=\"_parent\"><img src=\"https://colab.research.google.com/assets/colab-badge.svg\" alt=\"Open In Colab\"/></a>"
      ]
    },
    {
      "cell_type": "markdown",
      "metadata": {
        "id": "FfnGcpBaBt1e"
      },
      "source": [
        "# Import dependencies"
      ]
    },
    {
      "cell_type": "code",
      "execution_count": null,
      "metadata": {
        "id": "bsgP2mKPBYYX",
        "colab": {
          "base_uri": "https://localhost:8080/"
        },
        "outputId": "b8cb7b54-0d24-4d18-a38b-548fec40a5d2"
      },
      "outputs": [
        {
          "output_type": "stream",
          "name": "stdout",
          "text": [
            "\u001b[2K     \u001b[90m━━━━━━━━━━━━━━━━━━━━━━━━━━━━━━━━━━━━━━━━\u001b[0m \u001b[32m95.8/95.8 kB\u001b[0m \u001b[31m2.0 MB/s\u001b[0m eta \u001b[36m0:00:00\u001b[0m\n",
            "\u001b[2K     \u001b[90m━━━━━━━━━━━━━━━━━━━━━━━━━━━━━━━━━━━━━━━━\u001b[0m \u001b[32m169.1/169.1 kB\u001b[0m \u001b[31m9.4 MB/s\u001b[0m eta \u001b[36m0:00:00\u001b[0m\n",
            "\u001b[?25h"
          ]
        }
      ],
      "source": [
        "import os\n",
        "import gc\n",
        "import copy\n",
        "from tqdm.notebook import tqdm\n",
        "from itertools import product\n",
        "\n",
        "import numpy as np\n",
        "import pandas as pd\n",
        "import seaborn as sns\n",
        "import matplotlib.pyplot as plt\n",
        "\n",
        "from sklearn.model_selection import train_test_split\n",
        "from sklearn.ensemble import RandomForestClassifier\n",
        "from sklearn.preprocessing import StandardScaler\n",
        "from sklearn.metrics import balanced_accuracy_score\n",
        "\n",
        "from joblib import Parallel, delayed\n",
        "\n",
        "!pip install -qU tsfresh\n",
        "import tsfresh\n",
        "from tsfresh.feature_extraction import extract_features\n",
        "\n",
        "!pip install -qU tsai\n",
        "import tsai\n",
        "from tsai.utils import to_tsfresh"
      ]
    },
    {
      "cell_type": "markdown",
      "metadata": {
        "id": "kR5-OiZyWZui"
      },
      "source": [
        "# Connect to Google Drive and set cd"
      ]
    },
    {
      "cell_type": "code",
      "execution_count": null,
      "metadata": {
        "colab": {
          "base_uri": "https://localhost:8080/"
        },
        "id": "oYqvLCGYWiHI",
        "outputId": "6902c8f1-3649-4c3f-c478-0ff86925ac17"
      },
      "outputs": [
        {
          "output_type": "stream",
          "name": "stdout",
          "text": [
            "Mounted at /content/gdrive\n"
          ]
        }
      ],
      "source": [
        "# Mount Google drive\n",
        "from google.colab import drive\n",
        "\n",
        "drive.mount('/content/gdrive')"
      ]
    },
    {
      "cell_type": "code",
      "execution_count": null,
      "metadata": {
        "colab": {
          "base_uri": "https://localhost:8080/"
        },
        "id": "MLzP4Nx7WkiY",
        "outputId": "85726394-25c7-4182-ac61-815319f2f643"
      },
      "outputs": [
        {
          "output_type": "stream",
          "name": "stdout",
          "text": [
            "/content/gdrive/MyDrive/Coding projects/resting_fmri_dementia\n"
          ]
        }
      ],
      "source": [
        "%cd /content/gdrive/MyDrive/Coding projects/resting_fmri_dementia/"
      ]
    },
    {
      "cell_type": "markdown",
      "metadata": {
        "id": "tX7pm_jVC9jd"
      },
      "source": [
        "# Data preprocessing:"
      ]
    },
    {
      "cell_type": "markdown",
      "metadata": {
        "id": "vCcahdbwBzTL"
      },
      "source": [
        "## Import data into usable form by Python"
      ]
    },
    {
      "cell_type": "markdown",
      "source": [
        "### Import labels"
      ],
      "metadata": {
        "id": "O8CfECY04q58"
      }
    },
    {
      "cell_type": "code",
      "execution_count": null,
      "metadata": {
        "id": "gjV0iejYB3QU"
      },
      "outputs": [],
      "source": [
        "labels = pd.read_csv('./group_csv_files/labels_new_final.csv')"
      ]
    },
    {
      "cell_type": "code",
      "source": [
        "labels['class'].replace(to_replace = {'AD': 0, 'FTD': 1, 'HC': 2, 'MCI' : 3}, inplace = True)\n",
        "\n",
        "labels.head()"
      ],
      "metadata": {
        "colab": {
          "base_uri": "https://localhost:8080/",
          "height": 206
        },
        "id": "C-Ys_WsX9znd",
        "outputId": "335c7ba5-9063-4fc9-9efd-ddffb566b91d"
      },
      "execution_count": null,
      "outputs": [
        {
          "output_type": "execute_result",
          "data": {
            "text/plain": [
              "   class patient_original_id fmri_id_in_database subject_id_in_dataset  \\\n",
              "0      0          002_S_5018          rs_fMRI_1'                 1.txt   \n",
              "1      0          002_S_5018          rs_fMRI_2'                 2.txt   \n",
              "2      0          002_S_5018          rs_fMRI_3'                 3.txt   \n",
              "3      0          002_S_5018          rs_fMRI_4'                 4.txt   \n",
              "4      0          006_S_4153          rs_fMRI_1'                 5.txt   \n",
              "\n",
              "   valid_scans  invalid_scans  perc_invalid  \n",
              "0          111             29          0.21  \n",
              "1          103             37          0.26  \n",
              "2          129             11          0.08  \n",
              "3          121             19          0.14  \n",
              "4          129             11          0.08  "
            ],
            "text/html": [
              "\n",
              "\n",
              "  <div id=\"df-d1801791-984e-4cdd-ac70-6c385e91fade\">\n",
              "    <div class=\"colab-df-container\">\n",
              "      <div>\n",
              "<style scoped>\n",
              "    .dataframe tbody tr th:only-of-type {\n",
              "        vertical-align: middle;\n",
              "    }\n",
              "\n",
              "    .dataframe tbody tr th {\n",
              "        vertical-align: top;\n",
              "    }\n",
              "\n",
              "    .dataframe thead th {\n",
              "        text-align: right;\n",
              "    }\n",
              "</style>\n",
              "<table border=\"1\" class=\"dataframe\">\n",
              "  <thead>\n",
              "    <tr style=\"text-align: right;\">\n",
              "      <th></th>\n",
              "      <th>class</th>\n",
              "      <th>patient_original_id</th>\n",
              "      <th>fmri_id_in_database</th>\n",
              "      <th>subject_id_in_dataset</th>\n",
              "      <th>valid_scans</th>\n",
              "      <th>invalid_scans</th>\n",
              "      <th>perc_invalid</th>\n",
              "    </tr>\n",
              "  </thead>\n",
              "  <tbody>\n",
              "    <tr>\n",
              "      <th>0</th>\n",
              "      <td>0</td>\n",
              "      <td>002_S_5018</td>\n",
              "      <td>rs_fMRI_1'</td>\n",
              "      <td>1.txt</td>\n",
              "      <td>111</td>\n",
              "      <td>29</td>\n",
              "      <td>0.21</td>\n",
              "    </tr>\n",
              "    <tr>\n",
              "      <th>1</th>\n",
              "      <td>0</td>\n",
              "      <td>002_S_5018</td>\n",
              "      <td>rs_fMRI_2'</td>\n",
              "      <td>2.txt</td>\n",
              "      <td>103</td>\n",
              "      <td>37</td>\n",
              "      <td>0.26</td>\n",
              "    </tr>\n",
              "    <tr>\n",
              "      <th>2</th>\n",
              "      <td>0</td>\n",
              "      <td>002_S_5018</td>\n",
              "      <td>rs_fMRI_3'</td>\n",
              "      <td>3.txt</td>\n",
              "      <td>129</td>\n",
              "      <td>11</td>\n",
              "      <td>0.08</td>\n",
              "    </tr>\n",
              "    <tr>\n",
              "      <th>3</th>\n",
              "      <td>0</td>\n",
              "      <td>002_S_5018</td>\n",
              "      <td>rs_fMRI_4'</td>\n",
              "      <td>4.txt</td>\n",
              "      <td>121</td>\n",
              "      <td>19</td>\n",
              "      <td>0.14</td>\n",
              "    </tr>\n",
              "    <tr>\n",
              "      <th>4</th>\n",
              "      <td>0</td>\n",
              "      <td>006_S_4153</td>\n",
              "      <td>rs_fMRI_1'</td>\n",
              "      <td>5.txt</td>\n",
              "      <td>129</td>\n",
              "      <td>11</td>\n",
              "      <td>0.08</td>\n",
              "    </tr>\n",
              "  </tbody>\n",
              "</table>\n",
              "</div>\n",
              "      <button class=\"colab-df-convert\" onclick=\"convertToInteractive('df-d1801791-984e-4cdd-ac70-6c385e91fade')\"\n",
              "              title=\"Convert this dataframe to an interactive table.\"\n",
              "              style=\"display:none;\">\n",
              "\n",
              "  <svg xmlns=\"http://www.w3.org/2000/svg\" height=\"24px\"viewBox=\"0 0 24 24\"\n",
              "       width=\"24px\">\n",
              "    <path d=\"M0 0h24v24H0V0z\" fill=\"none\"/>\n",
              "    <path d=\"M18.56 5.44l.94 2.06.94-2.06 2.06-.94-2.06-.94-.94-2.06-.94 2.06-2.06.94zm-11 1L8.5 8.5l.94-2.06 2.06-.94-2.06-.94L8.5 2.5l-.94 2.06-2.06.94zm10 10l.94 2.06.94-2.06 2.06-.94-2.06-.94-.94-2.06-.94 2.06-2.06.94z\"/><path d=\"M17.41 7.96l-1.37-1.37c-.4-.4-.92-.59-1.43-.59-.52 0-1.04.2-1.43.59L10.3 9.45l-7.72 7.72c-.78.78-.78 2.05 0 2.83L4 21.41c.39.39.9.59 1.41.59.51 0 1.02-.2 1.41-.59l7.78-7.78 2.81-2.81c.8-.78.8-2.07 0-2.86zM5.41 20L4 18.59l7.72-7.72 1.47 1.35L5.41 20z\"/>\n",
              "  </svg>\n",
              "      </button>\n",
              "\n",
              "\n",
              "\n",
              "    <div id=\"df-f3f04b4c-1c78-47c5-991a-30d8ab31a89c\">\n",
              "      <button class=\"colab-df-quickchart\" onclick=\"quickchart('df-f3f04b4c-1c78-47c5-991a-30d8ab31a89c')\"\n",
              "              title=\"Suggest charts.\"\n",
              "              style=\"display:none;\">\n",
              "\n",
              "<svg xmlns=\"http://www.w3.org/2000/svg\" height=\"24px\"viewBox=\"0 0 24 24\"\n",
              "     width=\"24px\">\n",
              "    <g>\n",
              "        <path d=\"M19 3H5c-1.1 0-2 .9-2 2v14c0 1.1.9 2 2 2h14c1.1 0 2-.9 2-2V5c0-1.1-.9-2-2-2zM9 17H7v-7h2v7zm4 0h-2V7h2v10zm4 0h-2v-4h2v4z\"/>\n",
              "    </g>\n",
              "</svg>\n",
              "      </button>\n",
              "    </div>\n",
              "\n",
              "<style>\n",
              "  .colab-df-quickchart {\n",
              "    background-color: #E8F0FE;\n",
              "    border: none;\n",
              "    border-radius: 50%;\n",
              "    cursor: pointer;\n",
              "    display: none;\n",
              "    fill: #1967D2;\n",
              "    height: 32px;\n",
              "    padding: 0 0 0 0;\n",
              "    width: 32px;\n",
              "  }\n",
              "\n",
              "  .colab-df-quickchart:hover {\n",
              "    background-color: #E2EBFA;\n",
              "    box-shadow: 0px 1px 2px rgba(60, 64, 67, 0.3), 0px 1px 3px 1px rgba(60, 64, 67, 0.15);\n",
              "    fill: #174EA6;\n",
              "  }\n",
              "\n",
              "  [theme=dark] .colab-df-quickchart {\n",
              "    background-color: #3B4455;\n",
              "    fill: #D2E3FC;\n",
              "  }\n",
              "\n",
              "  [theme=dark] .colab-df-quickchart:hover {\n",
              "    background-color: #434B5C;\n",
              "    box-shadow: 0px 1px 3px 1px rgba(0, 0, 0, 0.15);\n",
              "    filter: drop-shadow(0px 1px 2px rgba(0, 0, 0, 0.3));\n",
              "    fill: #FFFFFF;\n",
              "  }\n",
              "</style>\n",
              "\n",
              "    <script>\n",
              "      async function quickchart(key) {\n",
              "        const containerElement = document.querySelector('#' + key);\n",
              "        const charts = await google.colab.kernel.invokeFunction(\n",
              "            'suggestCharts', [key], {});\n",
              "      }\n",
              "    </script>\n",
              "\n",
              "      <script>\n",
              "\n",
              "function displayQuickchartButton(domScope) {\n",
              "  let quickchartButtonEl =\n",
              "    domScope.querySelector('#df-f3f04b4c-1c78-47c5-991a-30d8ab31a89c button.colab-df-quickchart');\n",
              "  quickchartButtonEl.style.display =\n",
              "    google.colab.kernel.accessAllowed ? 'block' : 'none';\n",
              "}\n",
              "\n",
              "        displayQuickchartButton(document);\n",
              "      </script>\n",
              "      <style>\n",
              "    .colab-df-container {\n",
              "      display:flex;\n",
              "      flex-wrap:wrap;\n",
              "      gap: 12px;\n",
              "    }\n",
              "\n",
              "    .colab-df-convert {\n",
              "      background-color: #E8F0FE;\n",
              "      border: none;\n",
              "      border-radius: 50%;\n",
              "      cursor: pointer;\n",
              "      display: none;\n",
              "      fill: #1967D2;\n",
              "      height: 32px;\n",
              "      padding: 0 0 0 0;\n",
              "      width: 32px;\n",
              "    }\n",
              "\n",
              "    .colab-df-convert:hover {\n",
              "      background-color: #E2EBFA;\n",
              "      box-shadow: 0px 1px 2px rgba(60, 64, 67, 0.3), 0px 1px 3px 1px rgba(60, 64, 67, 0.15);\n",
              "      fill: #174EA6;\n",
              "    }\n",
              "\n",
              "    [theme=dark] .colab-df-convert {\n",
              "      background-color: #3B4455;\n",
              "      fill: #D2E3FC;\n",
              "    }\n",
              "\n",
              "    [theme=dark] .colab-df-convert:hover {\n",
              "      background-color: #434B5C;\n",
              "      box-shadow: 0px 1px 3px 1px rgba(0, 0, 0, 0.15);\n",
              "      filter: drop-shadow(0px 1px 2px rgba(0, 0, 0, 0.3));\n",
              "      fill: #FFFFFF;\n",
              "    }\n",
              "  </style>\n",
              "\n",
              "      <script>\n",
              "        const buttonEl =\n",
              "          document.querySelector('#df-d1801791-984e-4cdd-ac70-6c385e91fade button.colab-df-convert');\n",
              "        buttonEl.style.display =\n",
              "          google.colab.kernel.accessAllowed ? 'block' : 'none';\n",
              "\n",
              "        async function convertToInteractive(key) {\n",
              "          const element = document.querySelector('#df-d1801791-984e-4cdd-ac70-6c385e91fade');\n",
              "          const dataTable =\n",
              "            await google.colab.kernel.invokeFunction('convertToInteractive',\n",
              "                                                     [key], {});\n",
              "          if (!dataTable) return;\n",
              "\n",
              "          const docLinkHtml = 'Like what you see? Visit the ' +\n",
              "            '<a target=\"_blank\" href=https://colab.research.google.com/notebooks/data_table.ipynb>data table notebook</a>'\n",
              "            + ' to learn more about interactive tables.';\n",
              "          element.innerHTML = '';\n",
              "          dataTable['output_type'] = 'display_data';\n",
              "          await google.colab.output.renderOutput(dataTable, element);\n",
              "          const docLink = document.createElement('div');\n",
              "          docLink.innerHTML = docLinkHtml;\n",
              "          element.appendChild(docLink);\n",
              "        }\n",
              "      </script>\n",
              "    </div>\n",
              "  </div>\n"
            ]
          },
          "metadata": {},
          "execution_count": 5
        }
      ]
    },
    {
      "cell_type": "markdown",
      "metadata": {
        "id": "-pEt-Ia6-8w1"
      },
      "source": [
        "### Function for retrieving information from the .txt files into numpy arrays\n"
      ]
    },
    {
      "cell_type": "code",
      "execution_count": null,
      "metadata": {
        "id": "7mGKrt--cJwK"
      },
      "outputs": [],
      "source": [
        "def get_datasets(data_csv, standardized=True):\n",
        "\n",
        "  \"\"\"\n",
        "  Use a CSV file containing dataset metadata to create dataset paths. Then load and process these datasets.\n",
        "\n",
        "  Parameters:\n",
        "  ----------\n",
        "  data_csv : pandas.DataFrame\n",
        "      A DataFrame where each row contains metadata for each dataset including\n",
        "      'subject_id_in_dataset' and 'class'.\n",
        "  standardized : bool, optional\n",
        "      A flag indicating whether to load standardized (scaled) data. If True, data\n",
        "      is loaded from the standardized data directory ('./scaled_data_dir_final').\n",
        "      Otherwise, data is loaded from the raw data directory ('./raw_data_dir_final').\n",
        "      Default is True.\n",
        "\n",
        "  Returns:\n",
        "  -------\n",
        "  X : numpy.ndarray\n",
        "      A 3D NumPy array of shape (n_samples, 200, 140) containing the dataset matrices.\n",
        "      Each matrix is truncated or padded to a shape of (200, 140).\n",
        "  y : numpy.ndarray\n",
        "      A 1D NumPy array of shape (n_samples,) containing the class labels for each dataset.\n",
        "\n",
        "  Notes:\n",
        "  -----\n",
        "  - The function assumes that the data matrices are stored in CSV format and can be read\n",
        "    using `numpy.genfromtxt` with a comma delimiter.\n",
        "  - If a matrix has fewer than 200 rows or 140 columns, the corresponding entries in `X`\n",
        "    will remain as NaNs.\n",
        "  - Progress of the dataset loading process is displayed using `tqdm`.\n",
        "\n",
        "  Example:\n",
        "  -------\n",
        "  data_csv = pd.DataFrame({\n",
        "      'subject_id_in_dataset': ['1.txt', '2.txt'],\n",
        "      'class': [0, 1]\n",
        "  })\n",
        "  X, y = get_datasets(data_csv)\n",
        "  \"\"\"\n",
        "\n",
        "  X = np.empty((len(data_csv), 200, 140))\n",
        "  X[:] = np.nan\n",
        "\n",
        "  y = np.empty(len(data_csv))\n",
        "  y[:] = np.nan\n",
        "\n",
        "  for i, row in tqdm(data_csv.iterrows(), total=data_csv.shape[0]):\n",
        "    matrix_name = row['subject_id_in_dataset']\n",
        "    matrix_label = row['class']\n",
        "\n",
        "    if standardized:\n",
        "      dir_path = './scaled_data_dir_final'\n",
        "    else:\n",
        "      dir_path = './raw_data_dir_final'\n",
        "\n",
        "    matrix_path = os.path.join(dir_path, matrix_name)\n",
        "    matrix_arr = np.genfromtxt(matrix_path, delimiter=',')\n",
        "\n",
        "    if matrix_arr.shape[0] >= 200 and matrix_arr.shape[1] >= 140:\n",
        "      matrix_arr = matrix_arr[:200, :140]\n",
        "      X[i] = matrix_arr\n",
        "      y[i] = matrix_label\n",
        "\n",
        "  return X, y"
      ]
    },
    {
      "cell_type": "markdown",
      "metadata": {
        "id": "k2hS_NUC4IVL"
      },
      "source": [
        "### Load .txt datasets as arrays"
      ]
    },
    {
      "cell_type": "code",
      "execution_count": null,
      "metadata": {
        "colab": {
          "base_uri": "https://localhost:8080/"
        },
        "id": "iTgI76rX4IVL",
        "outputId": "5b9b680f-0ad0-413b-e913-712a90a3ad6d"
      },
      "outputs": [
        {
          "output_type": "stream",
          "name": "stderr",
          "text": [
            "100%|██████████| 1351/1351 [06:15<00:00,  3.60it/s]"
          ]
        },
        {
          "output_type": "stream",
          "name": "stdout",
          "text": [
            "X shape:  (1351, 200, 140)\n",
            "y shape:  (1351,)\n"
          ]
        },
        {
          "output_type": "stream",
          "name": "stderr",
          "text": [
            "\n"
          ]
        }
      ],
      "source": [
        "# Load data from .txt files\n",
        "X, y = get_datasets(labels, standardized = False)\n",
        "\n",
        "print(\"X shape: \", X.shape)\n",
        "print(\"y shape: \", y.shape)"
      ]
    },
    {
      "cell_type": "markdown",
      "source": [
        "## Clean up the datasets\n",
        "\n",
        "1. Remove elements that had a high percentage of outlier scans (based on labels dataframe)\n",
        "\n",
        "2. Remove the fMRIs that had returned all zeros (dimensions smaller than 200 * 140) during preprocessing in CONN. We do this by removing any of the samples that have NaNs."
      ],
      "metadata": {
        "id": "wvnYeNpv4zmu"
      }
    },
    {
      "cell_type": "code",
      "source": [
        "# Indexes of subjects with <= 50% outlier scans\n",
        "out_idx = np.where(~(labels['perc_invalid'] > 0.5))[0]\n",
        "\n",
        "# Indexes of subjects without NaNs\n",
        "nan_idx = np.unique(np.where(~np.isnan(X).any(axis=2))[0])\n",
        "\n",
        "# Indexes of subjects who satisfy both criteria\n",
        "final_idx = np.array(list(set(out_idx).intersection(nan_idx)))\n",
        "\n",
        "# Indexes of subjects that were excluded\n",
        "excluded_idx = np.array(set(list(labels.index)).difference(final_idx))"
      ],
      "metadata": {
        "id": "qsLGRs2hK4kS"
      },
      "execution_count": null,
      "outputs": []
    },
    {
      "cell_type": "code",
      "source": [
        "# Save indexes\n",
        "np.save('./group_csv_files/final_idx.npy', final_idx)\n",
        "np.save('./group_csv_files/excluded_idx.npy', excluded_idx)"
      ],
      "metadata": {
        "id": "_JkD7bgLgqP2"
      },
      "execution_count": null,
      "outputs": []
    },
    {
      "cell_type": "code",
      "source": [
        "# Number of scans in each class\n",
        "labels['class'].value_counts().sort_index()"
      ],
      "metadata": {
        "colab": {
          "base_uri": "https://localhost:8080/"
        },
        "id": "jtwgOqKK6YEn",
        "outputId": "8305c9e7-a273-485f-f205-c4102316d651"
      },
      "execution_count": null,
      "outputs": [
        {
          "output_type": "execute_result",
          "data": {
            "text/plain": [
              "0    101\n",
              "1    396\n",
              "2    470\n",
              "3    384\n",
              "Name: class, dtype: int64"
            ]
          },
          "metadata": {},
          "execution_count": 10
        }
      ]
    },
    {
      "cell_type": "code",
      "source": [
        "# Number of patients in each class, seggregated by database:\n",
        "grouped_by_class_adni_ids = labels[labels['patient_original_id'].str.len() == 10].groupby('class').patient_original_id.unique()\n",
        "grouped_by_class_nifd_ids = labels[labels['patient_original_id'].str.len() == 8].groupby('class').patient_original_id.unique()\n",
        "\n",
        "print(\"Patients in AD class from ADNI: \", len(grouped_by_class_adni_ids[0]))\n",
        "print(\"Patients in FTD class from NIFD: \", len(grouped_by_class_nifd_ids[1]))\n",
        "print(\"Patients in HC class from ADNI, NIFD, and total: \",\n",
        "      len(grouped_by_class_adni_ids[2]),\n",
        "      len(grouped_by_class_nifd_ids[2]),\n",
        "      len(grouped_by_class_adni_ids[2]) + len(grouped_by_class_nifd_ids[2]))\n",
        "print(\"Patients in MCI class from ADNI: \", len(grouped_by_class_adni_ids[3]))"
      ],
      "metadata": {
        "colab": {
          "base_uri": "https://localhost:8080/"
        },
        "id": "85MUeTi9AKbI",
        "outputId": "a8148709-a27f-4d90-af44-1e94197dc4e0"
      },
      "execution_count": null,
      "outputs": [
        {
          "output_type": "stream",
          "name": "stdout",
          "text": [
            "Patients in AD class from ADNI:  33\n",
            "Patients in FTD class from NIFD:  171\n",
            "Patients in HC class from ADNI, NIFD, and total:  51 114 165\n",
            "Patients in MCI class from ADNI:  105\n"
          ]
        }
      ]
    },
    {
      "cell_type": "code",
      "source": [
        "# Number of patients excluded from each class\n",
        "labels.loc[excluded_idx, 'class'].value_counts().sort_index()"
      ],
      "metadata": {
        "colab": {
          "base_uri": "https://localhost:8080/"
        },
        "id": "x-Jfl1Fy44Vl",
        "outputId": "d8b173d2-ac79-4d8c-e1c8-a7de941df3f5"
      },
      "execution_count": null,
      "outputs": [
        {
          "output_type": "execute_result",
          "data": {
            "text/plain": [
              "0     11\n",
              "1    133\n",
              "2     86\n",
              "3     37\n",
              "Name: class, dtype: int64"
            ]
          },
          "metadata": {},
          "execution_count": 12
        }
      ]
    },
    {
      "cell_type": "code",
      "source": [
        "# Number of patients in each class after the exclusions\n",
        "labels.loc[final_idx, 'class'].value_counts().sort_index()"
      ],
      "metadata": {
        "colab": {
          "base_uri": "https://localhost:8080/"
        },
        "id": "GgXdDh7t6_X5",
        "outputId": "1975bea0-4ae4-4b47-ecdc-29c25137aafb"
      },
      "execution_count": null,
      "outputs": [
        {
          "output_type": "execute_result",
          "data": {
            "text/plain": [
              "0     90\n",
              "1    263\n",
              "2    384\n",
              "3    347\n",
              "Name: class, dtype: int64"
            ]
          },
          "metadata": {},
          "execution_count": 13
        }
      ]
    },
    {
      "cell_type": "code",
      "source": [
        "# Get new X and y without the exlusions\n",
        "X = X[final_idx, :, :]\n",
        "y = y[final_idx]\n",
        "\n",
        "print(\"X shape: \", X.shape)\n",
        "print(\"y shape: \", y.shape)"
      ],
      "metadata": {
        "colab": {
          "base_uri": "https://localhost:8080/"
        },
        "id": "-2t2CR4J46T5",
        "outputId": "be780f83-020a-42cc-c689-e84125122e91"
      },
      "execution_count": null,
      "outputs": [
        {
          "output_type": "stream",
          "name": "stdout",
          "text": [
            "X shape:  (1084, 200, 140)\n",
            "y shape:  (1084,)\n"
          ]
        }
      ]
    },
    {
      "cell_type": "code",
      "source": [
        "# Get the new labels subset without the exclusions\n",
        "labels = labels.loc[final_idx, :]"
      ],
      "metadata": {
        "id": "H09Q0ai_NbEM"
      },
      "execution_count": null,
      "outputs": []
    },
    {
      "cell_type": "code",
      "source": [
        "# Number of patients in each class, seggregated by database, after the exclusions:\n",
        "grouped_by_class_adni_ids = labels[labels['patient_original_id'].str.len() == 10].groupby('class').patient_original_id.unique()\n",
        "grouped_by_class_nifd_ids = labels[labels['patient_original_id'].str.len() == 8].groupby('class').patient_original_id.unique()\n",
        "\n",
        "print(\"Patients in AD class from ADNI: \", len(grouped_by_class_adni_ids[0]))\n",
        "print(\"Patients in FTD class from NIFD: \", len(grouped_by_class_nifd_ids[1]))\n",
        "print(\"Patients in HC class from ADNI, NIFD, and total: \",\n",
        "      len(grouped_by_class_adni_ids[2]),\n",
        "      len(grouped_by_class_nifd_ids[2]),\n",
        "      len(grouped_by_class_adni_ids[2]) + len(grouped_by_class_nifd_ids[2]))\n",
        "print(\"Patients in MCI class from ADNI: \", len(grouped_by_class_adni_ids[3]))"
      ],
      "metadata": {
        "colab": {
          "base_uri": "https://localhost:8080/"
        },
        "id": "ia9a7eKR8TER",
        "outputId": "da4cb850-f5fd-44d0-c9d5-ca7b79a8544d"
      },
      "execution_count": null,
      "outputs": [
        {
          "output_type": "stream",
          "name": "stdout",
          "text": [
            "Patients in AD class from ADNI:  32\n",
            "Patients in FTD class from NIFD:  151\n",
            "Patients in HC class from ADNI, NIFD, and total:  51 97 148\n",
            "Patients in MCI class from ADNI:  103\n"
          ]
        }
      ]
    },
    {
      "cell_type": "markdown",
      "metadata": {
        "id": "Fc1OpepJ48BU"
      },
      "source": [
        "## Train/val/test split\n",
        "Performed based on patient_IDs and their diagnosis at their first visit, rather than image_IDs to prevent data leakage. Some patients have multiple associated image_IDs"
      ]
    },
    {
      "cell_type": "code",
      "source": [
        "splittable_data = labels.loc[:, ['class', 'patient_original_id']].groupby('patient_original_id').first()"
      ],
      "metadata": {
        "id": "e_oW4u93Nvui"
      },
      "execution_count": null,
      "outputs": []
    },
    {
      "cell_type": "code",
      "execution_count": null,
      "metadata": {
        "id": "8CAg3Cn449v5"
      },
      "outputs": [],
      "source": [
        "# Splitting out the test set\n",
        "ids_train_val, ids_test = train_test_split(splittable_data, test_size = 0.2, shuffle = True,\n",
        "                                           random_state = 42, stratify = splittable_data['class'])"
      ]
    },
    {
      "cell_type": "code",
      "source": [
        "train_val_idx = np.where(labels['patient_original_id'].isin(ids_train_val.index).values)[0]\n",
        "test_idx = np.where(labels['patient_original_id'].isin(ids_test.index).values)[0]"
      ],
      "metadata": {
        "id": "rlaS8cUBPzNR"
      },
      "execution_count": null,
      "outputs": []
    },
    {
      "cell_type": "code",
      "source": [
        "# Shuffle the indexes\n",
        "np.random.seed(42)\n",
        "np.random.shuffle(train_val_idx)\n",
        "\n",
        "np.random.seed(42)\n",
        "np.random.shuffle(test_idx)"
      ],
      "metadata": {
        "id": "9WlHTBkCTdT3"
      },
      "execution_count": null,
      "outputs": []
    },
    {
      "cell_type": "code",
      "source": [
        "X_train_val = X[train_val_idx, :, :]\n",
        "y_train_val = y[train_val_idx]\n",
        "\n",
        "X_test = X[test_idx, :, :]\n",
        "y_test = y[test_idx]"
      ],
      "metadata": {
        "id": "THiqjMz0QfJQ"
      },
      "execution_count": null,
      "outputs": []
    },
    {
      "cell_type": "markdown",
      "metadata": {
        "id": "165QoHksx1oW"
      },
      "source": [
        "## Save raw datasets and indexes\n"
      ]
    },
    {
      "cell_type": "code",
      "execution_count": null,
      "metadata": {
        "id": "j72dPXoDx1ok"
      },
      "outputs": [],
      "source": [
        "np.save('datasets_as_np_arrays/X_final_train_val_paper.npy', X_train_val)\n",
        "np.save('datasets_as_np_arrays/y_final_train_val_paper.npy', y_train_val)\n",
        "\n",
        "np.save('datasets_as_np_arrays/X_final_test.npy', X_test)\n",
        "np.save('datasets_as_np_arrays/y_final_test.npy', y_test)\n",
        "\n",
        "# Save index lists to disk\n",
        "np.save('datasets_as_np_arrays/train_val_idx_paper.npy', train_val_idx)\n",
        "np.save('datasets_as_np_arrays/test_idx_paper.npy', test_idx)"
      ]
    },
    {
      "cell_type": "markdown",
      "metadata": {
        "id": "WhCkLg1c-Njk"
      },
      "source": [
        "## Standardize the data\n",
        "\n",
        "1. Get the means and standard deviations across all of the training set fMRIs\n",
        "2. Standardize both the training and test sets using the calculated means and standard deviations\n",
        "3. Save the scaled datasets"
      ]
    },
    {
      "cell_type": "code",
      "execution_count": null,
      "metadata": {
        "id": "9D8W9nMCBN4M",
        "colab": {
          "base_uri": "https://localhost:8080/"
        },
        "outputId": "45d6d20c-8c06-408f-d0f1-0547fd8e4389"
      },
      "outputs": [
        {
          "output_type": "execute_result",
          "data": {
            "text/plain": [
              "(-7.847354719947522e-05, 3.312373340764462)"
            ]
          },
          "metadata": {},
          "execution_count": 23
        }
      ],
      "source": [
        "train_mean = np.mean(X_train_val)\n",
        "train_std = np.std(X_train_val, ddof=0)\n",
        "train_mean, train_std"
      ]
    },
    {
      "cell_type": "code",
      "source": [
        "X_scaled = (X - train_mean)/train_std\n",
        "X_train_val_scaled = (X_train_val - train_mean)/train_std\n",
        "X_test_scaled = (X_test - train_mean)/train_std"
      ],
      "metadata": {
        "id": "2kFc56YYENaT"
      },
      "execution_count": null,
      "outputs": []
    },
    {
      "cell_type": "code",
      "execution_count": null,
      "metadata": {
        "id": "AvIEqRgD1HtP"
      },
      "outputs": [],
      "source": [
        "# # Save to disk\n",
        "np.save('scaled_datasets_as_np_arrays/X_final_train_val_paper.npy', X_train_val_scaled)\n",
        "np.save('scaled_datasets_as_np_arrays/y_final_train_val_paper.npy', y_train_val)\n",
        "\n",
        "np.save('scaled_datasets_as_np_arrays/X_final_test_paper.npy', X_test_scaled)\n",
        "np.save('scaled_datasets_as_np_arrays/y_final_test_paper.npy', y_test)"
      ]
    },
    {
      "cell_type": "markdown",
      "metadata": {
        "id": "sFq7qf-HRmV8"
      },
      "source": [
        "# Feature extraction\n",
        "\n",
        "The feature extraction steps are performed on ALL of the data because they don't leak information"
      ]
    },
    {
      "cell_type": "markdown",
      "metadata": {
        "id": "KV_GVt-wSQZS"
      },
      "source": [
        "## Import data in memmory map mode"
      ]
    },
    {
      "cell_type": "code",
      "execution_count": null,
      "metadata": {
        "id": "X0mCYicVSWgL"
      },
      "outputs": [],
      "source": [
        "# Scaled_data\n",
        "X = np.load('./data_dir_npy/X_imaging.npy', mmap_mode = 'c')\n",
        "# y = np.load('scaled_datasets_as_np_arrays/y_final.npy', mmap_mode = 'c')"
      ]
    },
    {
      "cell_type": "code",
      "source": [
        "X_df = to_tsfresh_df(X)"
      ],
      "metadata": {
        "id": "KeibGM7DRhoF"
      },
      "execution_count": null,
      "outputs": []
    },
    {
      "cell_type": "code",
      "source": [
        "X_df.shape"
      ],
      "metadata": {
        "colab": {
          "base_uri": "https://localhost:8080/"
        },
        "id": "q7GqGDbeScEG",
        "outputId": "8aadb978-afa7-404f-fd51-1a2c65128beb"
      },
      "execution_count": null,
      "outputs": [
        {
          "output_type": "execute_result",
          "data": {
            "text/plain": [
              "(151760, 201)"
            ]
          },
          "metadata": {},
          "execution_count": 17
        }
      ]
    },
    {
      "cell_type": "code",
      "source": [
        "X_df.id[:5]"
      ],
      "metadata": {
        "id": "1MeU-GyFSjYs",
        "outputId": "d5a424fb-c8c4-47ad-aa82-f1a90a59ebd0",
        "colab": {
          "base_uri": "https://localhost:8080/"
        }
      },
      "execution_count": null,
      "outputs": [
        {
          "output_type": "execute_result",
          "data": {
            "text/plain": [
              "0    0\n",
              "1    0\n",
              "2    0\n",
              "3    0\n",
              "4    0\n",
              "Name: id, dtype: int64"
            ]
          },
          "metadata": {},
          "execution_count": 19
        }
      ]
    },
    {
      "cell_type": "markdown",
      "source": [
        "## Determine the features to be extracted\n",
        "\n",
        "More information on each feature may be viewed here: https://tsfresh.readthedocs.io/en/latest/text/list_of_features.html"
      ],
      "metadata": {
        "id": "9qhAOx1tIIp8"
      }
    },
    {
      "cell_type": "code",
      "source": [
        "fc_parameters = {\n",
        "    \"absolute_sum_of_changes\": None,\n",
        "    \"first_location_of_maximum\": None,\n",
        "    \"first_location_of_minimum\": None,\n",
        "    \"longest_strike_above_mean\": None,\n",
        "    \"longest_strike_below_mean\": None,\n",
        "    \"approximate_entropy\": [\n",
        "                    {\"m\": 2, \"r\": r} for r in [0.1, 0.3, 0.5, 0.7, 0.9] # default: [0.1, 0.3, 0.5, 0.7, 0.9]\n",
        "                ], #high_comp_cost\n",
        "    \"c3\": [{\"lag\": lag} for lag in range(1, 4)], # default: range(1, 4)\n",
        "    \"cid_ce\": [{\"normalize\": True}, {\"normalize\": False}],\n",
        "    \"cwt_coefficients\": [\n",
        "                    {\"widths\": width, \"coeff\": coeff, \"w\": w}\n",
        "                    for width in [(2, 5, 10, 20)] # default: [(2, 5, 10, 20)]\n",
        "                    for coeff in range(15) # default: range(15)\n",
        "                    for w in (2, 5, 10, 20) # default: (2, 5, 10, 20)\n",
        "                ],\n",
        "    \"fft_coefficient\": [\n",
        "                    {\"coeff\": k, \"attr\": a}\n",
        "                    for a, k in product([\"real\", \"imag\", \"abs\", \"angle\"], range(100)) # default: product([\"real\", \"imag\", \"abs\", \"angle\"], range(100)\n",
        "                ],\n",
        "    \"lempel_ziv_complexity\": [{\"bins\": x} for x in [2, 3, 5, 10, 100]], # default: [2, 3, 5, 10, 100]\n",
        "    \"ratio_beyond_r_sigma\":  [\n",
        "                    {\"r\": x} for x in [0.5, 1, 1.5, 2, 2.5, 3, 5, 6, 7, 10] # default: [0.5, 1, 1.5, 2, 2.5, 3, 5, 6, 7, 10]\n",
        "                ],\n",
        "    \"spkt_welch_density\": [{\"coeff\": coeff} for coeff in [2, 5, 8]]\n",
        "}"
      ],
      "metadata": {
        "id": "ByMKXmlQcni1"
      },
      "execution_count": null,
      "outputs": []
    },
    {
      "cell_type": "markdown",
      "source": [
        "## Perform the feature extraction"
      ],
      "metadata": {
        "id": "66sHQK3DIQaC"
      }
    },
    {
      "cell_type": "code",
      "execution_count": null,
      "metadata": {
        "id": "Ha00ikpmt9oW"
      },
      "outputs": [],
      "source": [
        "# Prepares the time series array to be used as a tsfresh dataset to allow feature extraction\n",
        "\n",
        "X_df = to_tsfresh_df(X)\n",
        "\n",
        "if y.ndim == 1:\n",
        "  y = y.reshape(-1,1)"
      ]
    },
    {
      "cell_type": "code",
      "execution_count": null,
      "metadata": {
        "colab": {
          "base_uri": "https://localhost:8080/"
        },
        "id": "uy18sNoZxM9r",
        "outputId": "469b654d-fdba-4e0e-d4e0-d8f54948b0b9"
      },
      "outputs": [
        {
          "output_type": "stream",
          "name": "stderr",
          "text": [
            "Feature Extraction:  60%|██████    | 6/10 [31:11<17:10, 257.54s/it]"
          ]
        }
      ],
      "source": [
        "features_df_custom = extract_features(X_df, column_id = \"id\", n_jobs = 2, default_fc_parameters = fc_parameters)"
      ]
    },
    {
      "cell_type": "code",
      "execution_count": null,
      "metadata": {
        "id": "5qqwPyqlvkUd"
      },
      "outputs": [],
      "source": [
        "features_df_custom['target'] = y\n",
        "features_df_custom.to_csv('./features_data/features_final_df_custom_manuscript.csv', index = False)"
      ]
    },
    {
      "cell_type": "markdown",
      "source": [
        "## Clean the features data"
      ],
      "metadata": {
        "id": "lAddSvLTdfGi"
      }
    },
    {
      "cell_type": "code",
      "execution_count": null,
      "metadata": {
        "id": "SXFEeTT1sdPH"
      },
      "outputs": [],
      "source": [
        "# Drop columns with NaNs\n",
        "features_df_custom_mod = features_df_custom.iloc[:, :-1].dropna(axis = 1)\n",
        "\n",
        "# Standardize the features\n",
        "features_df_custom_mod_train = features_df_custom_mod.iloc[train_idx, :]\n",
        "scaler = StandardScaler()\n",
        "scaler.fit(features_df_custom_mod_train)\n",
        "features_df_custom_mod_scaled = scaler.transform(features_df_custom_mod)\n",
        "\n",
        "# Save the cleaned and scaled version\n",
        "features_df_custom_mod_scaled_df = pd.DataFrame(features_df_custom_mod_scaled)\n",
        "features_df_custom_mod_scaled_df.columns = features_df_custom_mod.columns\n",
        "features_df_custom_mod_scaled_df['target'] = y\n",
        "features_df_custom_mod_scaled_df.to_csv('./features_data/features_final_df_custom_mod.csv', index = False)"
      ]
    },
    {
      "cell_type": "markdown",
      "source": [
        "## Does custom features data contain useful information regarding classification?"
      ],
      "metadata": {
        "id": "EvRQVXj_A9g6"
      }
    },
    {
      "cell_type": "code",
      "source": [
        "features_df = pd.read_csv('./features_data/features_final_df_custom_mod.csv')\n",
        "\n",
        "train_val_idx = np.load('datasets_as_np_arrays/train_val_idx.npy')\n",
        "train_idx = np.load('datasets_as_np_arrays/train_idx.npy')\n",
        "val_idx = np.load('datasets_as_np_arrays/val_idx.npy')\n",
        "test_idx = np.load('datasets_as_np_arrays/test_idx.npy')"
      ],
      "metadata": {
        "id": "tyus5smd7adc"
      },
      "execution_count": null,
      "outputs": []
    },
    {
      "cell_type": "code",
      "source": [
        "y = features_df['target']\n",
        "X = features_df.drop('target', axis = 1)\n",
        "\n",
        "X_train, y_train = X.loc[train_idx, :], y[train_idx]\n",
        "X_val, y_val = X.loc[val_idx, :], y[val_idx]\n",
        "X_train_val, y_train_val = X.loc[train_val_idx, :], y[train_val_idx]\n",
        "X_test, y_test = X.loc[test_idx, :], y[test_idx]"
      ],
      "metadata": {
        "id": "Zi2hPAYF-9PP"
      },
      "execution_count": null,
      "outputs": []
    },
    {
      "cell_type": "code",
      "source": [
        "rfc = RandomForestClassifier(random_state = 42)\n",
        "\n",
        "rfc.fit(X_train, y_train)\n",
        "train_pred = rfc.predict(X_train)\n",
        "val_pred = rfc.predict(X_val)\n",
        "test_pred = rfc.predict(X_test)\n",
        "\n",
        "print(\"Balanced accuracy in train set:\", balanced_accuracy_score(y_train, train_pred))\n",
        "print(\"Balanced accuracy in validation set:\", balanced_accuracy_score(y_val, val_pred))\n",
        "print(\"Balanced accuracy in test set:\", balanced_accuracy_score(y_test, test_pred))"
      ],
      "metadata": {
        "colab": {
          "base_uri": "https://localhost:8080/"
        },
        "id": "_IQxuVJV_x3R",
        "outputId": "d913f609-cc45-4de1-f9d4-323d326e326b"
      },
      "execution_count": null,
      "outputs": [
        {
          "output_type": "stream",
          "name": "stdout",
          "text": [
            "Balanced accuracy in train set: 1.0\n",
            "Balanced accuracy in validation set: 0.7916666666666667\n",
            "Balanced accuracy in test set: 0.75\n"
          ]
        }
      ]
    }
  ]
}