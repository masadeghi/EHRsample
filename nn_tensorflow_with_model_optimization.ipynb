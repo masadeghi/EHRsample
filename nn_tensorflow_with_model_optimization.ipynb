{
  "nbformat": 4,
  "nbformat_minor": 0,
  "metadata": {
    "colab": {
      "provenance": [],
      "authorship_tag": "ABX9TyNtmh6UUumV5HTIUyUli6lu",
      "include_colab_link": true
    },
    "kernelspec": {
      "name": "python3",
      "display_name": "Python 3"
    },
    "language_info": {
      "name": "python"
    }
  },
  "cells": [
    {
      "cell_type": "markdown",
      "metadata": {
        "id": "view-in-github",
        "colab_type": "text"
      },
      "source": [
        "<a href=\"https://colab.research.google.com/github/masadeghi/EHRsample/blob/main/nn_tensorflow_with_model_optimization.ipynb\" target=\"_parent\"><img src=\"https://colab.research.google.com/assets/colab-badge.svg\" alt=\"Open In Colab\"/></a>"
      ]
    },
    {
      "cell_type": "markdown",
      "source": [
        "# **Import dependencies**"
      ],
      "metadata": {
        "id": "jyds2aOeIJtq"
      }
    },
    {
      "cell_type": "code",
      "source": [
        "import pandas as pd\n",
        "import numpy as np\n",
        "import random\n",
        "import time\n",
        "import datetime\n",
        "import matplotlib.pyplot as plt\n",
        "\n",
        "from sklearn.impute import SimpleImputer\n",
        "from sklearn.preprocessing import OneHotEncoder\n",
        "from sklearn.model_selection import train_test_split\n",
        "from sklearn.impute import KNNImputer\n",
        "from sklearn.preprocessing import MinMaxScaler\n",
        "\n",
        "import tensorflow as tf\n",
        "from tensorflow.keras import layers\n",
        "\n",
        "# Set tensorflow random seed\n",
        "tf.random.set_seed(42)"
      ],
      "metadata": {
        "id": "r3GhuaVEF--D"
      },
      "execution_count": 1,
      "outputs": []
    },
    {
      "cell_type": "markdown",
      "source": [
        "# **Import data**\n",
        "\n",
        "1. Download the data from this link (You'll need to sign up in the PhysioNet website and sign a data use agreement.'): https://physionet.org/content/heart-failure-zigong/1.3/#files\n",
        "2. Upload the .zip file to your google drive. (Here, I've uploaded the file to a folder named \"databases\" in my Google drive)\n",
        "3. Read the datasets into pandas dataframes."
      ],
      "metadata": {
        "id": "Ft063vV9D1fV"
      }
    },
    {
      "cell_type": "code",
      "execution_count": 2,
      "metadata": {
        "colab": {
          "base_uri": "https://localhost:8080/"
        },
        "id": "1OHCzSNR9O_G",
        "outputId": "74d85307-bcfe-4aa3-e6bb-7b9caada62c8"
      },
      "outputs": [
        {
          "output_type": "stream",
          "name": "stdout",
          "text": [
            "Mounted at /content/gdrive\n"
          ]
        }
      ],
      "source": [
        "# Mount Google drive\n",
        "from google.colab import drive\n",
        "\n",
        "drive.mount('/content/gdrive')"
      ]
    },
    {
      "cell_type": "code",
      "source": [
        "# Unzip the .zip file containing all the datasets\n",
        "!unzip gdrive/MyDrive/databases/hospitalized-patients-with-heart-failure-integrating-electronic-healthcare-records-and-external-outcome-data-1.3.zip"
      ],
      "metadata": {
        "colab": {
          "base_uri": "https://localhost:8080/"
        },
        "id": "A6czABpX9ZH2",
        "outputId": "6c608430-51d7-47d4-d9fc-a721cefb21b6"
      },
      "execution_count": 3,
      "outputs": [
        {
          "output_type": "stream",
          "name": "stdout",
          "text": [
            "Archive:  gdrive/MyDrive/databases/hospitalized-patients-with-heart-failure-integrating-electronic-healthcare-records-and-external-outcome-data-1.3.zip\n",
            "  inflating: hospitalized-patients-with-heart-failure-integrating-electronic-healthcare-records-and-external-outcome-data-1.3/LICENSE.txt  \n",
            "  inflating: hospitalized-patients-with-heart-failure-integrating-electronic-healthcare-records-and-external-outcome-data-1.3/SHA256SUMS.txt  \n",
            "  inflating: hospitalized-patients-with-heart-failure-integrating-electronic-healthcare-records-and-external-outcome-data-1.3/dat.csv  \n",
            "  inflating: hospitalized-patients-with-heart-failure-integrating-electronic-healthcare-records-and-external-outcome-data-1.3/dat_md.csv  \n",
            "  inflating: hospitalized-patients-with-heart-failure-integrating-electronic-healthcare-records-and-external-outcome-data-1.3/dataDictionary.csv  \n"
          ]
        }
      ]
    },
    {
      "cell_type": "code",
      "source": [
        "# Read the datasets into pandas dataframes\n",
        "patient_data = pd.read_csv('/content/hospitalized-patients-with-heart-failure-integrating-electronic-healthcare-records-and-external-outcome-data-1.3/dat.csv', index_col = 0)\n",
        "treatment_data = pd.read_csv('/content/hospitalized-patients-with-heart-failure-integrating-electronic-healthcare-records-and-external-outcome-data-1.3/dat_md.csv', index_col = 0)\n",
        "dict_data = pd.read_csv('/content/hospitalized-patients-with-heart-failure-integrating-electronic-healthcare-records-and-external-outcome-data-1.3/dataDictionary.csv', index_col = 0)"
      ],
      "metadata": {
        "id": "_yU010e195ub"
      },
      "execution_count": 4,
      "outputs": []
    },
    {
      "cell_type": "markdown",
      "source": [
        "# **Exploratory data analysis and feature engineering**"
      ],
      "metadata": {
        "id": "vz3oTkgDFD_D"
      }
    },
    {
      "cell_type": "markdown",
      "source": [
        "## Step 1: Restructure the treatment data\n",
        "One-hot encode the `treatment_data` dataset so that treatment data (drugs administered to the patients during their hospitalization) could be concatenated with the clinical and lab data (`patient_data` dataset)."
      ],
      "metadata": {
        "id": "tA8JkS7TLdWW"
      }
    },
    {
      "cell_type": "code",
      "source": [
        "# Initialize zeros matrix with desired dimensions, indexes, and column names\n",
        "drugs = np.zeros((len(patient_data['inpatient.number'].unique()),\n",
        "                  len(treatment_data['Drug_name'].unique())))\n",
        "\n",
        "drugs = pd.DataFrame(drugs, index = patient_data['inpatient.number'].unique(), columns = treatment_data['Drug_name'].unique())\n",
        "\n",
        "# Iterate over the rows and columns of the constructed matrix and repalce 0 with 1\n",
        "# in the appropriate column if the treatment was administered.\n",
        "for index, row in drugs.iterrows():\n",
        "  for col in drugs.columns:\n",
        "    subset = treatment_data.loc[treatment_data['inpatient.number'] == index, 'Drug_name']\n",
        "    if col in subset.values:\n",
        "      drugs.loc[index, col] = 1\n",
        "\n",
        "# Concatenate the resulting matrix with the main dataset:\n",
        "# Total data (t_data) = main dataset + drug data\n",
        "patient_data.set_index('inpatient.number', inplace = True)\n",
        "\n",
        "t_data = pd.concat([patient_data, drugs], axis = 1)"
      ],
      "metadata": {
        "id": "CVTt7wzD96Ez"
      },
      "execution_count": 5,
      "outputs": []
    },
    {
      "cell_type": "markdown",
      "source": [
        "## Step 2: Explore the features\n",
        "\n",
        "* Identify features with missing data.\n",
        "* Explore each feature to understand its data structure."
      ],
      "metadata": {
        "id": "-OGdU7lmLbQw"
      }
    },
    {
      "cell_type": "code",
      "source": [
        "# Determining the extent of missing data in the dataset\n",
        "missing_perc = []\n",
        "\n",
        "for i, col in enumerate(t_data.columns):\n",
        "  percentage = t_data[col].isnull().mean()\n",
        "  missing_perc.append((i, col, percentage))\n",
        "\n",
        "missing_perc.sort(key = lambda x: x[2], reverse = True)\n",
        "\n",
        "plt.hist([i[2] for i in missing_perc], bins = 20)\n",
        "plt.show()"
      ],
      "metadata": {
        "colab": {
          "base_uri": "https://localhost:8080/",
          "height": 265
        },
        "id": "uBhcaGIKIcE5",
        "outputId": "35875011-611f-4a7e-8a75-2b5d4bbbd82b"
      },
      "execution_count": 6,
      "outputs": [
        {
          "output_type": "display_data",
          "data": {
            "text/plain": [
              "<Figure size 432x288 with 1 Axes>"
            ],
            "image/png": "[encoded data removed]"
          },
          "metadata": {
            "needs_background": "light"
          }
        }
      ]
    },
    {
      "cell_type": "code",
      "source": [
        "# Explore each variable\n",
        "def summary(colname):\n",
        "  col = t_data[colname]\n",
        "\n",
        "  print(col[:5])\n",
        "\n",
        "  if col.dtype == object:\n",
        "    print('\\n Unique factors: \\n', col.unique())\n",
        "    print('\\n', col.describe(include = 'object'))\n",
        "  else:\n",
        "    print('\\n', col.describe())\n",
        "\n",
        "summary(\"dischargeDay\")"
      ],
      "metadata": {
        "colab": {
          "base_uri": "https://localhost:8080/"
        },
        "id": "MEXw-K0uKxkw",
        "outputId": "2e190fb2-c267-43ed-9e56-2e29e7053710"
      },
      "execution_count": 7,
      "outputs": [
        {
          "output_type": "stream",
          "name": "stdout",
          "text": [
            "857781    11\n",
            "743087     8\n",
            "866418     5\n",
            "775928    11\n",
            "810128     5\n",
            "Name: dischargeDay, dtype: int64\n",
            "\n",
            " count    2008.000000\n",
            "mean        9.420817\n",
            "std         8.030256\n",
            "min         1.000000\n",
            "25%         6.000000\n",
            "50%         8.000000\n",
            "75%        10.000000\n",
            "max       123.000000\n",
            "Name: dischargeDay, dtype: float64\n"
          ]
        }
      ]
    },
    {
      "cell_type": "markdown",
      "source": [
        "## Step 3: Split data into predictor (`X`) and target (`y`) datasets\n",
        "* Log transform `y` to make it's distribution closer to normal."
      ],
      "metadata": {
        "id": "T_gHs48kNFIU"
      }
    },
    {
      "cell_type": "code",
      "source": [
        "y = t_data['dischargeDay']\n",
        "X = t_data.drop('dischargeDay', axis = 1)"
      ],
      "metadata": {
        "id": "0Cgdn17kNMyt"
      },
      "execution_count": 8,
      "outputs": []
    },
    {
      "cell_type": "code",
      "source": [
        "# log transform y\n",
        "import seaborn as sns\n",
        "sns.displot(y)\n",
        "y = np.log(y)\n",
        "sns.displot(y)"
      ],
      "metadata": {
        "colab": {
          "base_uri": "https://localhost:8080/",
          "height": 738
        },
        "id": "OhA3Z1nZPs1S",
        "outputId": "179e0e22-8f98-4148-b175-99632c724a89"
      },
      "execution_count": 9,
      "outputs": [
        {
          "output_type": "execute_result",
          "data": {
            "text/plain": [
              "<seaborn.axisgrid.FacetGrid at 0x7f94b478b640>"
            ]
          },
          "metadata": {},
          "execution_count": 9
        },
        {
          "output_type": "display_data",
          "data": {
            "text/plain": [
              "<Figure size 360x360 with 1 Axes>"
            ],
            "image/png": "[encoded data removed]"
          },
          "metadata": {
            "needs_background": "light"
          }
        },
        {
          "output_type": "display_data",
          "data": {
            "text/plain": [
              "<Figure size 360x360 with 1 Axes>"
            ],
            "image/png": "[encoded data removed]"
          },
          "metadata": {
            "needs_background": "light"
          }
        }
      ]
    },
    {
      "cell_type": "markdown",
      "source": [
        "## Step 4: Remove features that aren't useful in a practical setting\n",
        "Explore the features in `X` to classify them into the following categories:\n",
        "\n",
        "*   Features that are expected to be available at the time of admission or a short while after (e.g., preliminary lab data)\n",
        "*   Features that are expected to be available only at the time of discharge\n",
        "*   Features from echocardiography\n",
        "*   Features that are expected to be available only after patient discharge and on patient follow-up\n",
        "\n",
        "For predicting duration of hospital stay, only the first category could be useful in a clinical setting."
      ],
      "metadata": {
        "id": "PVoRU5yrLxCN"
      }
    },
    {
      "cell_type": "code",
      "source": [
        "# Features only availble at the time of discharge\n",
        "discharge_var = ['DestinationDischarge', 'discharge.department', 'outcome.during.hospitalization']\n",
        "\n",
        "# Features only available after discharge and on patient follow-up\n",
        "future_var = ['death.within.28.days', 're.admission.within.28.days', 'death.within.3.months',\n",
        "              're.admission.within.3.months', 'death.within.6.months', 're.admission.within.6.months',\n",
        "              'time.of.death..days.from.admission.', 're.admission.time..days.from.admission.',\n",
        "              'return.to.emergency.department.within.6.months', 'time.to.emergency.department.within.6.months']\n",
        "\n",
        "# Features only available after an echocardiography\n",
        "echo_var = ['LVEF', 'left.ventricular.end.diastolic.diameter.LV',\n",
        "            'mitral.valve.EMS', 'mitral.valve.AMS', 'EA',\n",
        "            'tricuspid.valve.return.velocity', 'tricuspid.valve.return.pressure']\n",
        "\n",
        "# Remove future_var and discharge_var from X\n",
        "X = X.drop(discharge_var + future_var, axis = 1)"
      ],
      "metadata": {
        "id": "Vjf2k2zf-i3k"
      },
      "execution_count": 10,
      "outputs": []
    },
    {
      "cell_type": "markdown",
      "source": [
        "## Step 5: Remove features with too many missing values"
      ],
      "metadata": {
        "id": "CkVccxJb_UDo"
      }
    },
    {
      "cell_type": "code",
      "source": [
        "# Remove features with more than 20% missing data\n",
        "keepers = [True] * len(X.columns)\n",
        "\n",
        "for i, col in enumerate(X.columns):\n",
        "  if X[col].isnull().mean() > 0.2: # This also removes all echo_vars\n",
        "    keepers[i] = False\n",
        "\n",
        "X = X.loc[:, keepers]"
      ],
      "metadata": {
        "id": "t4cO6fqx_ZtW"
      },
      "execution_count": 11,
      "outputs": []
    },
    {
      "cell_type": "markdown",
      "source": [
        "## Step 6: Convert ordered categorical features to numerical encodings\n",
        "e.g., NYHA classification could be represented as 1.0 to 4.0 to indicate increasing severity of heart failure."
      ],
      "metadata": {
        "id": "vCYCI6dtU-tY"
      }
    },
    {
      "cell_type": "code",
      "source": [
        "convert_ordered = {'NYHA.cardiac.function.classification': {'II': 2, 'III': 3, 'IV': 4},\n",
        "                   'Killip.grade': {'I': 1, 'II': 2, 'III': 3, 'IV': 4},\n",
        "                   'consciousness': {'Clear': 0, 'ResponsiveToSound': 1, 'ResponsiveToPain': 2, 'Nonresponsive': 3},\n",
        "                   'respiratory.support.': {'None': 0, 'NIMV': 1, 'IMV': 2},\n",
        "                   'ageCat': {'(21,29]': 0, '(29,39]': 1, '(39,49]': 2, '(49,59]': 3, '(59,69]': 4, '(69,79]': 5, '(79,89]': 6, '(89,110]': 7},\n",
        "                   'oxygen.inhalation': {'AmbientAir': 0, 'OxygenTherapy': 1},\n",
        "                   'type.II.respiratory.failure': {'NonTypeII': 0, 'TypeII': 1}\n",
        "}\n",
        "\n",
        "X = X.replace(convert_ordered)"
      ],
      "metadata": {
        "id": "RAU1K_o3VoJm"
      },
      "execution_count": 12,
      "outputs": []
    },
    {
      "cell_type": "markdown",
      "source": [
        "## Step 7: One-hot encode non-ordered categorical features"
      ],
      "metadata": {
        "id": "SxuACyZJbVpu"
      }
    },
    {
      "cell_type": "code",
      "source": [
        "non_ordered_cat_features = ['admission.ward', 'admission.way', 'occupation', 'gender', 'type.of.heart.failure']\n",
        "\n",
        "# Replace NAs with most frequent value in the categorical columns.\n",
        "# Occupation is the only categorical feature with missing values\n",
        "value = X['occupation'].mode()[0]\n",
        "X['occupation'].replace(np.nan, value, inplace = True)\n",
        "\n",
        "# OneHotencoding\n",
        "X_obj = X[non_ordered_cat_features]\n",
        "enc = OneHotEncoder(sparse = False) #sparse = False to enable concatenation with the noncategorical variables.\n",
        "X_obj_enc = enc.fit_transform(X_obj)\n",
        "X_obj_enc = pd.DataFrame(X_obj_enc, columns = enc.get_feature_names_out(), index = X.index)\n",
        "\n",
        "#Replace object variables with the onehot encoded version in the original dataset\n",
        "X.drop(X_obj.columns,\n",
        "       axis = 1,\n",
        "       inplace = True)\n",
        "\n",
        "X = pd.concat([X_obj_enc, X], axis = 1)"
      ],
      "metadata": {
        "id": "SK0SKU55PMZy"
      },
      "execution_count": 13,
      "outputs": []
    },
    {
      "cell_type": "markdown",
      "source": [
        "# **Prepare data for input into the model**"
      ],
      "metadata": {
        "id": "lGIxhvR-efck"
      }
    },
    {
      "cell_type": "markdown",
      "source": [
        "## Step 1: Split into train/test datasets"
      ],
      "metadata": {
        "id": "0dwFDsAjeoDi"
      }
    },
    {
      "cell_type": "code",
      "source": [
        "# Split the data\n",
        "X_train, X_test, y_train, y_test = train_test_split(X, y, test_size = 0.2, random_state = 42)"
      ],
      "metadata": {
        "id": "V89B0GqheuWq"
      },
      "execution_count": 14,
      "outputs": []
    },
    {
      "cell_type": "markdown",
      "source": [
        "## Step 2: Impute missing values using the KNN imputer"
      ],
      "metadata": {
        "id": "5rHu-z9se37d"
      }
    },
    {
      "cell_type": "code",
      "source": [
        "imp = KNNImputer()\n",
        "\n",
        "X_train = imp.fit_transform(X_train)\n",
        "X_test = imp.transform(X_test)"
      ],
      "metadata": {
        "id": "8H2OqQMHe7Ip"
      },
      "execution_count": 15,
      "outputs": []
    },
    {
      "cell_type": "markdown",
      "source": [
        "## Step 3: Normalize data"
      ],
      "metadata": {
        "id": "uxKZbt50fCwu"
      }
    },
    {
      "cell_type": "code",
      "source": [
        "scaler = MinMaxScaler()\n",
        "\n",
        "X_train = scaler.fit_transform(X_train)\n",
        "X_test = scaler.transform(X_test)"
      ],
      "metadata": {
        "id": "2o15vz3PfGlF"
      },
      "execution_count": 16,
      "outputs": []
    },
    {
      "cell_type": "markdown",
      "source": [
        "## Step 4: Convert datasets to tensors"
      ],
      "metadata": {
        "id": "79fHa2PFfeUU"
      }
    },
    {
      "cell_type": "code",
      "source": [
        "X_train = tf.cast(tf.constant(np.array(X_train)), dtype = tf.float32)\n",
        "X_test = tf.cast(tf.constant(np.array(X_test)), dtype = tf.float32)\n",
        "\n",
        "y_train = tf.cast(tf.constant(np.array(y_train)), dtype = tf.float32)\n",
        "y_test = tf.cast(tf.constant(np.array(y_test)), dtype = tf.float32)"
      ],
      "metadata": {
        "id": "tfKUK_87fh8U"
      },
      "execution_count": 17,
      "outputs": []
    },
    {
      "cell_type": "markdown",
      "source": [
        "## Step 5: Split `X_test` and `y_test` into validation and test datasets"
      ],
      "metadata": {
        "id": "edN20E6vf2tV"
      }
    },
    {
      "cell_type": "code",
      "source": [
        "X_val, X_test = tf.split(X_test, 2, axis = 0)\n",
        "\n",
        "y_val, y_test = tf.split(y_test, 2, axis = 0)"
      ],
      "metadata": {
        "id": "h9ce8lRGgA4_"
      },
      "execution_count": 18,
      "outputs": []
    },
    {
      "cell_type": "markdown",
      "source": [
        "# **Define base model**"
      ],
      "metadata": {
        "id": "4u57UI5zfYhM"
      }
    },
    {
      "cell_type": "markdown",
      "source": [
        "## Step 1: Create TensorBoard callback"
      ],
      "metadata": {
        "id": "cFhkSWZ3gjEk"
      }
    },
    {
      "cell_type": "code",
      "source": [
        "def create_tensorboard_callback(dir_name, experiment_name):\n",
        "  log_dir = dir_name + '/' + experiment_name + \"/\" + datetime.datetime.now().strftime(\"%Y%m%d-%H%M%S\")\n",
        "  tensorboard_callback = tf.keras.callbacks.TensorBoard(log_dir = log_dir)\n",
        "  print(f\"Saving TensorBoard log files to: {log_dir}\")\n",
        "  return tensorboard_callback"
      ],
      "metadata": {
        "id": "KYGJLYYVgmGQ"
      },
      "execution_count": 19,
      "outputs": []
    },
    {
      "cell_type": "markdown",
      "source": [
        "## Step 2: Create function for plotting loss and MSE curves"
      ],
      "metadata": {
        "id": "plJp-XIagvAq"
      }
    },
    {
      "cell_type": "code",
      "source": [
        "# Create a function to plot loss_curves\n",
        "import matplotlib.pyplot as plt\n",
        "\n",
        "def plot_loss_curves(history):\n",
        "  \"\"\"\n",
        "  Returns separate loss curves for training and validation metrics.\n",
        "\n",
        "  Args:\n",
        "    history: TensorFlow History object.\n",
        "  \n",
        "  Returns:\n",
        "    Plots of training/validation loss.\n",
        "  \"\"\"\n",
        "\n",
        "  loss = history.history[\"loss\"]\n",
        "  val_loss = history.history[\"val_loss\"]\n",
        "\n",
        "  mse = history.history[\"mse\"]\n",
        "  val_mse = history.history[\"val_mse\"]\n",
        "\n",
        "  epochs = range(len(history.history[\"loss\"]))\n",
        "\n",
        "  # Plot loss\n",
        "  plt.plot(epochs, loss, label = \"Training loss\")\n",
        "  plt.plot(epochs, val_loss, label = \"Validation loss\")\n",
        "  plt.title(\"Loss\")\n",
        "  plt.xlabel(\"Epochs\")\n",
        "  plt.legend()\n",
        "\n",
        "  # Plot mse\n",
        "  plt.figure()\n",
        "  plt.plot(epochs, mse, label = \"Training MSE\")\n",
        "  plt.plot(epochs, val_mse, label = \"Validation MSE\")\n",
        "  plt.title(\"MSE\")\n",
        "  plt.xlabel(\"Epochs\")\n",
        "  plt.legend()\n"
      ],
      "metadata": {
        "id": "vV6FddvffbiU"
      },
      "execution_count": 20,
      "outputs": []
    },
    {
      "cell_type": "markdown",
      "source": [
        "## Step 3: Model_0 (Base model)"
      ],
      "metadata": {
        "id": "jQAN5g3TgVF7"
      }
    },
    {
      "cell_type": "code",
      "source": [
        "model_0 = tf.keras.Sequential([\n",
        "    layers.Dense(143, input_shape = X_train[0].shape, name = \"input_layer\"),\n",
        "    layers.Dense(100, activation = \"relu\"),\n",
        "    layers.Dense(1, name = \"output_layer\")\n",
        "])\n",
        "\n",
        "model_0.compile(loss = tf.keras.losses.mse,\n",
        "              optimizer = tf.keras.optimizers.Adam(learning_rate = 0.001),\n",
        "              metrics = [\"mse\"])\n",
        "\n",
        "model_0_history  = model_0.fit(x = X_train, \n",
        "                               y = y_train, \n",
        "                               epochs = 10,\n",
        "                               validation_data = (X_val, y_val),\n",
        "                               callbacks = [create_tensorboard_callback(dir_name = \"nn-predictions\",\n",
        "                                                   experiment_name = \"Model_0\")])"
      ],
      "metadata": {
        "colab": {
          "base_uri": "https://localhost:8080/"
        },
        "id": "sRXDCSiNBBzO",
        "outputId": "c8baf1ce-0a47-4194-f0b7-1d408c8444d9"
      },
      "execution_count": 23,
      "outputs": [
        {
          "output_type": "stream",
          "name": "stdout",
          "text": [
            "Saving TensorBoard log files to: nn-predictions/Model_0/20221229-175604\n",
            "Epoch 1/10\n",
            "51/51 [==============================] - 2s 15ms/step - loss: 0.6504 - mse: 0.6504 - val_loss: 0.2625 - val_mse: 0.2625\n",
            "Epoch 2/10\n",
            "51/51 [==============================] - 0s 8ms/step - loss: 0.3185 - mse: 0.3185 - val_loss: 0.2535 - val_mse: 0.2535\n",
            "Epoch 3/10\n",
            "51/51 [==============================] - 1s 10ms/step - loss: 0.2893 - mse: 0.2893 - val_loss: 0.2322 - val_mse: 0.2322\n",
            "Epoch 4/10\n",
            "51/51 [==============================] - 1s 12ms/step - loss: 0.2781 - mse: 0.2781 - val_loss: 0.2548 - val_mse: 0.2548\n",
            "Epoch 5/10\n",
            "51/51 [==============================] - 0s 6ms/step - loss: 0.2679 - mse: 0.2679 - val_loss: 0.2311 - val_mse: 0.2311\n",
            "Epoch 6/10\n",
            "51/51 [==============================] - 0s 4ms/step - loss: 0.2684 - mse: 0.2684 - val_loss: 0.2417 - val_mse: 0.2417\n",
            "Epoch 7/10\n",
            "51/51 [==============================] - 0s 4ms/step - loss: 0.2626 - mse: 0.2626 - val_loss: 0.2524 - val_mse: 0.2524\n",
            "Epoch 8/10\n",
            "51/51 [==============================] - 0s 3ms/step - loss: 0.2572 - mse: 0.2572 - val_loss: 0.2464 - val_mse: 0.2464\n",
            "Epoch 9/10\n",
            "51/51 [==============================] - 0s 4ms/step - loss: 0.2372 - mse: 0.2372 - val_loss: 0.2363 - val_mse: 0.2363\n",
            "Epoch 10/10\n",
            "51/51 [==============================] - 0s 4ms/step - loss: 0.2171 - mse: 0.2171 - val_loss: 0.2364 - val_mse: 0.2364\n"
          ]
        }
      ]
    },
    {
      "cell_type": "code",
      "source": [
        "plot_loss_curves(model_0_history)"
      ],
      "metadata": {
        "colab": {
          "base_uri": "https://localhost:8080/",
          "height": 573
        },
        "id": "xq_4pG3IUTOD",
        "outputId": "fcac76e4-7eed-4bc6-eb06-b8903bc5087b"
      },
      "execution_count": 24,
      "outputs": [
        {
          "output_type": "display_data",
          "data": {
            "text/plain": [
              "<Figure size 432x288 with 1 Axes>"
            ],
            "image/png": "[encoded data removed]"
          },
          "metadata": {
            "needs_background": "light"
          }
        },
        {
          "output_type": "display_data",
          "data": {
            "text/plain": [
              "<Figure size 432x288 with 1 Axes>"
            ],
            "image/png": "[encoded data removed]"
          },
          "metadata": {
            "needs_background": "light"
          }
        }
      ]
    },
    {
      "cell_type": "markdown",
      "source": [
        "# **Experiments to optimize the model**\n",
        "1. Model_1: Add 1 hidden layer to model_0 to improve bias.\n",
        "2. Model_2: Add 3 hidden layers to model_0 to improve bias.\n",
        "3. Model_3: Add 10 training epochs to model_1 to improve bias.\n",
        "4. Model_4: Add 30 training epochs to model_1 to improve bias.\n",
        "5. Model_5: Add L2 regularization to the hidden layers in model_4 to improve variance.\n",
        "6. Model_6: Increase learning rate in model_5 to 0.01 to improve variance.\n",
        "7. Model_7: Increase learning_rate in model_5 to 0.001 to improve variance.\n",
        "8. Model_8: Train model_8 for 40 more epochs.\n",
        "9. Model_9: Add dropout to model_5 (prob = 0.5) to improve variance.\n",
        "10. Model_10: Add dropout to model_5 (prob = 0.2) to improve variance.\n",
        "11. Model_11: Double the number of units in the hidden layers of model_5.\n",
        "12. Model_12: Quadruple the number of units in the hidden layers of model_5.\n",
        "13. Model_13: Add one hidden layer to model_11."
      ],
      "metadata": {
        "id": "XNrdIdMz2Upl"
      }
    },
    {
      "cell_type": "markdown",
      "source": [
        "### Model_1 (Add 1 hidden layer to Model_0 to improve bias)"
      ],
      "metadata": {
        "id": "pOFjxBW1XoFp"
      }
    },
    {
      "cell_type": "code",
      "source": [
        "model_1 = tf.keras.Sequential([\n",
        "    layers.Dense(143, input_shape = X_train[0].shape, name = \"input_layer\"),\n",
        "    layers.Dense(100, activation = \"relu\"),\n",
        "    layers.Dense(100, activation = \"relu\"),\n",
        "    layers.Dense(1, name = \"output_layer\")\n",
        "])\n",
        "\n",
        "model_1.compile(loss = tf.keras.losses.mse,\n",
        "              optimizer = tf.keras.optimizers.Adam(learning_rate = 0.0001),\n",
        "              metrics = [\"mse\"])\n",
        "\n",
        "model_1_history  = model_1.fit(x = X_train, \n",
        "                               y = y_train, \n",
        "                               epochs = 10,\n",
        "                               validation_data = (X_val, y_val),\n",
        "                               callbacks = [create_tensorboard_callback(dir_name = \"nn-predictions\",\n",
        "                                                   experiment_name = \"Model_1\")])"
      ],
      "metadata": {
        "colab": {
          "base_uri": "https://localhost:8080/"
        },
        "id": "ct4FVAbzyc_g",
        "outputId": "b2bc9e58-70f7-4ede-f9dd-bf5509cdf2dc"
      },
      "execution_count": 31,
      "outputs": [
        {
          "output_type": "stream",
          "name": "stdout",
          "text": [
            "Saving TensorBoard log files to: nn-predictions/Model_1/20221229-175728\n",
            "Epoch 1/10\n",
            "51/51 [==============================] - 1s 7ms/step - loss: 2.2293 - mse: 2.2293 - val_loss: 0.3098 - val_mse: 0.3098\n",
            "Epoch 2/10\n",
            "51/51 [==============================] - 0s 4ms/step - loss: 0.3842 - mse: 0.3842 - val_loss: 0.2824 - val_mse: 0.2824\n",
            "Epoch 3/10\n",
            "51/51 [==============================] - 0s 4ms/step - loss: 0.3513 - mse: 0.3513 - val_loss: 0.2619 - val_mse: 0.2619\n",
            "Epoch 4/10\n",
            "51/51 [==============================] - 0s 4ms/step - loss: 0.3332 - mse: 0.3332 - val_loss: 0.2610 - val_mse: 0.2610\n",
            "Epoch 5/10\n",
            "51/51 [==============================] - 0s 4ms/step - loss: 0.3181 - mse: 0.3181 - val_loss: 0.2523 - val_mse: 0.2523\n",
            "Epoch 6/10\n",
            "51/51 [==============================] - 0s 4ms/step - loss: 0.3068 - mse: 0.3068 - val_loss: 0.2427 - val_mse: 0.2427\n",
            "Epoch 7/10\n",
            "51/51 [==============================] - 0s 6ms/step - loss: 0.2972 - mse: 0.2972 - val_loss: 0.2374 - val_mse: 0.2374\n",
            "Epoch 8/10\n",
            "51/51 [==============================] - 0s 7ms/step - loss: 0.2890 - mse: 0.2890 - val_loss: 0.2372 - val_mse: 0.2372\n",
            "Epoch 9/10\n",
            "51/51 [==============================] - 0s 8ms/step - loss: 0.2820 - mse: 0.2820 - val_loss: 0.2385 - val_mse: 0.2385\n",
            "Epoch 10/10\n",
            "51/51 [==============================] - 0s 7ms/step - loss: 0.2754 - mse: 0.2754 - val_loss: 0.2375 - val_mse: 0.2375\n"
          ]
        }
      ]
    },
    {
      "cell_type": "code",
      "source": [
        "plot_loss_curves(model_1_history)"
      ],
      "metadata": {
        "colab": {
          "base_uri": "https://localhost:8080/",
          "height": 573
        },
        "id": "ehjgsqaFyoPV",
        "outputId": "80b91b16-1a08-4207-81e0-aa27a7c546a3"
      },
      "execution_count": 32,
      "outputs": [
        {
          "output_type": "display_data",
          "data": {
            "text/plain": [
              "<Figure size 432x288 with 1 Axes>"
            ],
            "image/png": "[encoded data removed]"
          },
          "metadata": {
            "needs_background": "light"
          }
        },
        {
          "output_type": "display_data",
          "data": {
            "text/plain": [
              "<Figure size 432x288 with 1 Axes>"
            ],
            "image/png": "[encoded data removed]"
          },
          "metadata": {
            "needs_background": "light"
          }
        }
      ]
    },
    {
      "cell_type": "markdown",
      "source": [
        "### Model_2 (Add 3 hidden layers to model_0 to improve bias)"
      ],
      "metadata": {
        "id": "AXuyeZcWzGst"
      }
    },
    {
      "cell_type": "code",
      "source": [
        "model_2 = tf.keras.Sequential([\n",
        "    layers.Dense(143, input_shape = X_train[0].shape, name = \"input_layer\"),\n",
        "    layers.Dense(100, activation = \"relu\"),\n",
        "    layers.Dense(100, activation = \"relu\"),\n",
        "    layers.Dense(100, activation = \"relu\"),\n",
        "    layers.Dense(100, activation = \"relu\"),\n",
        "    layers.Dense(1, name = \"output_layer\")\n",
        "])\n",
        "\n",
        "model_2.compile(loss = tf.keras.losses.mse,\n",
        "              optimizer = tf.keras.optimizers.Adam(learning_rate = 0.0001),\n",
        "              metrics = [\"mse\"])\n",
        "\n",
        "model_2_history  = model_2.fit(x = X_train, \n",
        "                               y = y_train, \n",
        "                               epochs = 10,\n",
        "                               validation_data = (X_val, y_val),\n",
        "                               callbacks = [create_tensorboard_callback(dir_name = \"nn-predictions\",\n",
        "                                                   experiment_name = \"Model_2\")])"
      ],
      "metadata": {
        "colab": {
          "base_uri": "https://localhost:8080/"
        },
        "id": "XZHWgrPkzEs8",
        "outputId": "938a6c3b-242f-45d2-8a1c-2abd3ffea34b"
      },
      "execution_count": 33,
      "outputs": [
        {
          "output_type": "stream",
          "name": "stdout",
          "text": [
            "Saving TensorBoard log files to: nn-predictions/Model_2/20221229-175743\n",
            "Epoch 1/10\n",
            "51/51 [==============================] - 3s 22ms/step - loss: 2.6107 - mse: 2.6107 - val_loss: 0.4288 - val_mse: 0.4288\n",
            "Epoch 2/10\n",
            "51/51 [==============================] - 0s 9ms/step - loss: 0.3749 - mse: 0.3749 - val_loss: 0.2978 - val_mse: 0.2978\n",
            "Epoch 3/10\n",
            "51/51 [==============================] - 1s 11ms/step - loss: 0.3470 - mse: 0.3470 - val_loss: 0.2809 - val_mse: 0.2809\n",
            "Epoch 4/10\n",
            "51/51 [==============================] - 1s 11ms/step - loss: 0.3371 - mse: 0.3371 - val_loss: 0.2797 - val_mse: 0.2797\n",
            "Epoch 5/10\n",
            "51/51 [==============================] - 0s 10ms/step - loss: 0.3248 - mse: 0.3248 - val_loss: 0.2714 - val_mse: 0.2714\n",
            "Epoch 6/10\n",
            "51/51 [==============================] - 1s 10ms/step - loss: 0.3163 - mse: 0.3163 - val_loss: 0.2605 - val_mse: 0.2605\n",
            "Epoch 7/10\n",
            "51/51 [==============================] - 1s 12ms/step - loss: 0.3083 - mse: 0.3083 - val_loss: 0.2549 - val_mse: 0.2549\n",
            "Epoch 8/10\n",
            "51/51 [==============================] - 1s 10ms/step - loss: 0.3022 - mse: 0.3022 - val_loss: 0.2510 - val_mse: 0.2510\n",
            "Epoch 9/10\n",
            "51/51 [==============================] - 0s 9ms/step - loss: 0.2940 - mse: 0.2940 - val_loss: 0.2502 - val_mse: 0.2502\n",
            "Epoch 10/10\n",
            "51/51 [==============================] - 0s 9ms/step - loss: 0.2879 - mse: 0.2879 - val_loss: 0.2461 - val_mse: 0.2461\n"
          ]
        }
      ]
    },
    {
      "cell_type": "markdown",
      "source": [
        "### Model_3 (Add 10 training epochs to Model_1 to improve bias)"
      ],
      "metadata": {
        "id": "TY_ilvW0zm20"
      }
    },
    {
      "cell_type": "code",
      "source": [
        "model_3 = tf.keras.Sequential([\n",
        "    layers.Dense(143, input_shape = X_train[0].shape, name = \"input_layer\"),\n",
        "    layers.Dense(100, activation = \"relu\"),\n",
        "    layers.Dense(100, activation = \"relu\"),\n",
        "    layers.Dense(1, name = \"output_layer\")\n",
        "])\n",
        "\n",
        "model_3.compile(loss = tf.keras.losses.mse,\n",
        "              optimizer = tf.keras.optimizers.Adam(learning_rate = 0.0001),\n",
        "              metrics = [\"mse\"])\n",
        "\n",
        "model_3_history  = model_3.fit(x = X_train, \n",
        "                               y = y_train, \n",
        "                               epochs = 20,\n",
        "                               validation_data = (X_val, y_val),\n",
        "                               callbacks = [create_tensorboard_callback(dir_name = \"nn-predictions\",\n",
        "                                                   experiment_name = \"Model_3\")])"
      ],
      "metadata": {
        "colab": {
          "base_uri": "https://localhost:8080/"
        },
        "id": "lf5xQ333z4F1",
        "outputId": "fc73c1a7-376d-4bd3-e46f-8566bef9972e"
      },
      "execution_count": 34,
      "outputs": [
        {
          "output_type": "stream",
          "name": "stdout",
          "text": [
            "Saving TensorBoard log files to: nn-predictions/Model_3/20221229-175755\n",
            "Epoch 1/20\n",
            "51/51 [==============================] - 1s 7ms/step - loss: 2.7912 - mse: 2.7912 - val_loss: 0.4193 - val_mse: 0.4193\n",
            "Epoch 2/20\n",
            "51/51 [==============================] - 0s 5ms/step - loss: 0.3759 - mse: 0.3759 - val_loss: 0.2983 - val_mse: 0.2983\n",
            "Epoch 3/20\n",
            "51/51 [==============================] - 0s 4ms/step - loss: 0.3498 - mse: 0.3498 - val_loss: 0.2798 - val_mse: 0.2798\n",
            "Epoch 4/20\n",
            "51/51 [==============================] - 0s 4ms/step - loss: 0.3365 - mse: 0.3365 - val_loss: 0.2784 - val_mse: 0.2784\n",
            "Epoch 5/20\n",
            "51/51 [==============================] - 0s 4ms/step - loss: 0.3224 - mse: 0.3224 - val_loss: 0.2658 - val_mse: 0.2658\n",
            "Epoch 6/20\n",
            "51/51 [==============================] - 0s 4ms/step - loss: 0.3118 - mse: 0.3118 - val_loss: 0.2569 - val_mse: 0.2569\n",
            "Epoch 7/20\n",
            "51/51 [==============================] - 0s 4ms/step - loss: 0.3022 - mse: 0.3022 - val_loss: 0.2505 - val_mse: 0.2505\n",
            "Epoch 8/20\n",
            "51/51 [==============================] - 0s 4ms/step - loss: 0.2948 - mse: 0.2948 - val_loss: 0.2483 - val_mse: 0.2483\n",
            "Epoch 9/20\n",
            "51/51 [==============================] - 0s 4ms/step - loss: 0.2887 - mse: 0.2887 - val_loss: 0.2456 - val_mse: 0.2456\n",
            "Epoch 10/20\n",
            "51/51 [==============================] - 0s 4ms/step - loss: 0.2836 - mse: 0.2836 - val_loss: 0.2431 - val_mse: 0.2431\n",
            "Epoch 11/20\n",
            "51/51 [==============================] - 0s 4ms/step - loss: 0.2808 - mse: 0.2808 - val_loss: 0.2423 - val_mse: 0.2423\n",
            "Epoch 12/20\n",
            "51/51 [==============================] - 0s 5ms/step - loss: 0.2773 - mse: 0.2773 - val_loss: 0.2377 - val_mse: 0.2377\n",
            "Epoch 13/20\n",
            "51/51 [==============================] - 0s 4ms/step - loss: 0.2724 - mse: 0.2724 - val_loss: 0.2368 - val_mse: 0.2368\n",
            "Epoch 14/20\n",
            "51/51 [==============================] - 0s 4ms/step - loss: 0.2701 - mse: 0.2701 - val_loss: 0.2355 - val_mse: 0.2355\n",
            "Epoch 15/20\n",
            "51/51 [==============================] - 0s 4ms/step - loss: 0.2661 - mse: 0.2661 - val_loss: 0.2322 - val_mse: 0.2322\n",
            "Epoch 16/20\n",
            "51/51 [==============================] - 0s 4ms/step - loss: 0.2659 - mse: 0.2659 - val_loss: 0.2311 - val_mse: 0.2311\n",
            "Epoch 17/20\n",
            "51/51 [==============================] - 0s 3ms/step - loss: 0.2615 - mse: 0.2615 - val_loss: 0.2303 - val_mse: 0.2303\n",
            "Epoch 18/20\n",
            "51/51 [==============================] - 0s 4ms/step - loss: 0.2587 - mse: 0.2587 - val_loss: 0.2325 - val_mse: 0.2325\n",
            "Epoch 19/20\n",
            "51/51 [==============================] - 0s 3ms/step - loss: 0.2561 - mse: 0.2561 - val_loss: 0.2291 - val_mse: 0.2291\n",
            "Epoch 20/20\n",
            "51/51 [==============================] - 0s 4ms/step - loss: 0.2541 - mse: 0.2541 - val_loss: 0.2305 - val_mse: 0.2305\n"
          ]
        }
      ]
    },
    {
      "cell_type": "markdown",
      "source": [
        "### Model_4 (Add 30 training epochs to Model_1 to improve bias)"
      ],
      "metadata": {
        "id": "UK418xZx0_Uw"
      }
    },
    {
      "cell_type": "code",
      "source": [
        "model_4 = tf.keras.Sequential([\n",
        "    layers.Dense(143, input_shape = X_train[0].shape, name = \"input_layer\"),\n",
        "    layers.Dense(100, activation = \"relu\"),\n",
        "    layers.Dense(100, activation = \"relu\"),\n",
        "    layers.Dense(1, name = \"output_layer\")\n",
        "])\n",
        "\n",
        "model_4.compile(loss = tf.keras.losses.mse,\n",
        "              optimizer = tf.keras.optimizers.Adam(learning_rate = 0.0001),\n",
        "              metrics = [\"mse\"])\n",
        "\n",
        "model_4_history  = model_4.fit(x = X_train, \n",
        "                               y = y_train, \n",
        "                               epochs = 40,\n",
        "                               validation_data = (X_val, y_val),\n",
        "                               callbacks = [create_tensorboard_callback(dir_name = \"nn-predictions\",\n",
        "                                                   experiment_name = \"Model_4\")])"
      ],
      "metadata": {
        "colab": {
          "base_uri": "https://localhost:8080/"
        },
        "id": "eNNFkrWo1MBk",
        "outputId": "f5b9e43b-ee8b-4225-edd6-c6a7aad048a5"
      },
      "execution_count": 35,
      "outputs": [
        {
          "output_type": "stream",
          "name": "stdout",
          "text": [
            "Saving TensorBoard log files to: nn-predictions/Model_4/20221229-175800\n",
            "Epoch 1/40\n",
            "51/51 [==============================] - 1s 6ms/step - loss: 1.5368 - mse: 1.5368 - val_loss: 0.2883 - val_mse: 0.2883\n",
            "Epoch 2/40\n",
            "51/51 [==============================] - 0s 4ms/step - loss: 0.3533 - mse: 0.3533 - val_loss: 0.2831 - val_mse: 0.2831\n",
            "Epoch 3/40\n",
            "51/51 [==============================] - 0s 4ms/step - loss: 0.3358 - mse: 0.3358 - val_loss: 0.2685 - val_mse: 0.2685\n",
            "Epoch 4/40\n",
            "51/51 [==============================] - 0s 4ms/step - loss: 0.3244 - mse: 0.3244 - val_loss: 0.2662 - val_mse: 0.2662\n",
            "Epoch 5/40\n",
            "51/51 [==============================] - 0s 4ms/step - loss: 0.3128 - mse: 0.3128 - val_loss: 0.2619 - val_mse: 0.2619\n",
            "Epoch 6/40\n",
            "51/51 [==============================] - 0s 4ms/step - loss: 0.3038 - mse: 0.3038 - val_loss: 0.2543 - val_mse: 0.2543\n",
            "Epoch 7/40\n",
            "51/51 [==============================] - 0s 4ms/step - loss: 0.2964 - mse: 0.2964 - val_loss: 0.2494 - val_mse: 0.2494\n",
            "Epoch 8/40\n",
            "51/51 [==============================] - 0s 4ms/step - loss: 0.2897 - mse: 0.2897 - val_loss: 0.2462 - val_mse: 0.2462\n",
            "Epoch 9/40\n",
            "51/51 [==============================] - 0s 4ms/step - loss: 0.2831 - mse: 0.2831 - val_loss: 0.2439 - val_mse: 0.2439\n",
            "Epoch 10/40\n",
            "51/51 [==============================] - 0s 3ms/step - loss: 0.2776 - mse: 0.2776 - val_loss: 0.2429 - val_mse: 0.2429\n",
            "Epoch 11/40\n",
            "51/51 [==============================] - 0s 4ms/step - loss: 0.2739 - mse: 0.2739 - val_loss: 0.2431 - val_mse: 0.2431\n",
            "Epoch 12/40\n",
            "51/51 [==============================] - 0s 4ms/step - loss: 0.2695 - mse: 0.2695 - val_loss: 0.2371 - val_mse: 0.2371\n",
            "Epoch 13/40\n",
            "51/51 [==============================] - 0s 4ms/step - loss: 0.2647 - mse: 0.2647 - val_loss: 0.2368 - val_mse: 0.2368\n",
            "Epoch 14/40\n",
            "51/51 [==============================] - 0s 4ms/step - loss: 0.2616 - mse: 0.2616 - val_loss: 0.2348 - val_mse: 0.2348\n",
            "Epoch 15/40\n",
            "51/51 [==============================] - 0s 4ms/step - loss: 0.2564 - mse: 0.2564 - val_loss: 0.2310 - val_mse: 0.2310\n",
            "Epoch 16/40\n",
            "51/51 [==============================] - 0s 4ms/step - loss: 0.2564 - mse: 0.2564 - val_loss: 0.2290 - val_mse: 0.2290\n",
            "Epoch 17/40\n",
            "51/51 [==============================] - 0s 3ms/step - loss: 0.2514 - mse: 0.2514 - val_loss: 0.2284 - val_mse: 0.2284\n",
            "Epoch 18/40\n",
            "51/51 [==============================] - 0s 5ms/step - loss: 0.2473 - mse: 0.2473 - val_loss: 0.2301 - val_mse: 0.2301\n",
            "Epoch 19/40\n",
            "51/51 [==============================] - 0s 4ms/step - loss: 0.2442 - mse: 0.2442 - val_loss: 0.2272 - val_mse: 0.2272\n",
            "Epoch 20/40\n",
            "51/51 [==============================] - 0s 4ms/step - loss: 0.2410 - mse: 0.2410 - val_loss: 0.2290 - val_mse: 0.2290\n",
            "Epoch 21/40\n",
            "51/51 [==============================] - 0s 4ms/step - loss: 0.2387 - mse: 0.2387 - val_loss: 0.2277 - val_mse: 0.2277\n",
            "Epoch 22/40\n",
            "51/51 [==============================] - 0s 4ms/step - loss: 0.2346 - mse: 0.2346 - val_loss: 0.2234 - val_mse: 0.2234\n",
            "Epoch 23/40\n",
            "51/51 [==============================] - 0s 3ms/step - loss: 0.2323 - mse: 0.2323 - val_loss: 0.2220 - val_mse: 0.2220\n",
            "Epoch 24/40\n",
            "51/51 [==============================] - 0s 4ms/step - loss: 0.2298 - mse: 0.2298 - val_loss: 0.2229 - val_mse: 0.2229\n",
            "Epoch 25/40\n",
            "51/51 [==============================] - 0s 4ms/step - loss: 0.2263 - mse: 0.2263 - val_loss: 0.2211 - val_mse: 0.2211\n",
            "Epoch 26/40\n",
            "51/51 [==============================] - 0s 4ms/step - loss: 0.2237 - mse: 0.2237 - val_loss: 0.2207 - val_mse: 0.2207\n",
            "Epoch 27/40\n",
            "51/51 [==============================] - 0s 4ms/step - loss: 0.2208 - mse: 0.2208 - val_loss: 0.2275 - val_mse: 0.2275\n",
            "Epoch 28/40\n",
            "51/51 [==============================] - 0s 4ms/step - loss: 0.2184 - mse: 0.2184 - val_loss: 0.2219 - val_mse: 0.2219\n",
            "Epoch 29/40\n",
            "51/51 [==============================] - 0s 3ms/step - loss: 0.2161 - mse: 0.2161 - val_loss: 0.2205 - val_mse: 0.2205\n",
            "Epoch 30/40\n",
            "51/51 [==============================] - 0s 4ms/step - loss: 0.2142 - mse: 0.2142 - val_loss: 0.2181 - val_mse: 0.2181\n",
            "Epoch 31/40\n",
            "51/51 [==============================] - 0s 4ms/step - loss: 0.2092 - mse: 0.2092 - val_loss: 0.2365 - val_mse: 0.2365\n",
            "Epoch 32/40\n",
            "51/51 [==============================] - 0s 3ms/step - loss: 0.2113 - mse: 0.2113 - val_loss: 0.2176 - val_mse: 0.2176\n",
            "Epoch 33/40\n",
            "51/51 [==============================] - 0s 4ms/step - loss: 0.2038 - mse: 0.2038 - val_loss: 0.2169 - val_mse: 0.2169\n",
            "Epoch 34/40\n",
            "51/51 [==============================] - 0s 4ms/step - loss: 0.2007 - mse: 0.2007 - val_loss: 0.2139 - val_mse: 0.2139\n",
            "Epoch 35/40\n",
            "51/51 [==============================] - 0s 4ms/step - loss: 0.1991 - mse: 0.1991 - val_loss: 0.2252 - val_mse: 0.2252\n",
            "Epoch 36/40\n",
            "51/51 [==============================] - 0s 4ms/step - loss: 0.1944 - mse: 0.1944 - val_loss: 0.2155 - val_mse: 0.2155\n",
            "Epoch 37/40\n",
            "51/51 [==============================] - 0s 4ms/step - loss: 0.1934 - mse: 0.1934 - val_loss: 0.2232 - val_mse: 0.2232\n",
            "Epoch 38/40\n",
            "51/51 [==============================] - 0s 4ms/step - loss: 0.1912 - mse: 0.1912 - val_loss: 0.2134 - val_mse: 0.2134\n",
            "Epoch 39/40\n",
            "51/51 [==============================] - 0s 4ms/step - loss: 0.1878 - mse: 0.1878 - val_loss: 0.2179 - val_mse: 0.2179\n",
            "Epoch 40/40\n",
            "51/51 [==============================] - 0s 4ms/step - loss: 0.1843 - mse: 0.1843 - val_loss: 0.2286 - val_mse: 0.2286\n"
          ]
        }
      ]
    },
    {
      "cell_type": "code",
      "source": [
        "plot_loss_curves(model_4_history)"
      ],
      "metadata": {
        "colab": {
          "base_uri": "https://localhost:8080/",
          "height": 573
        },
        "id": "svNlTY7h1RvB",
        "outputId": "458edbac-3c4f-47f5-801e-7f86d2408c78"
      },
      "execution_count": 36,
      "outputs": [
        {
          "output_type": "display_data",
          "data": {
            "text/plain": [
              "<Figure size 432x288 with 1 Axes>"
            ],
            "image/png": "[encoded data removed]"
          },
          "metadata": {
            "needs_background": "light"
          }
        },
        {
          "output_type": "display_data",
          "data": {
            "text/plain": [
              "<Figure size 432x288 with 1 Axes>"
            ],
            "image/png": "[encoded data removed]"
          },
          "metadata": {
            "needs_background": "light"
          }
        }
      ]
    },
    {
      "cell_type": "markdown",
      "source": [
        "### Model_5 (Add l2 regularization to the hidden layers in Model_4 to improve variance)"
      ],
      "metadata": {
        "id": "1aO3mNrg1aNx"
      }
    },
    {
      "cell_type": "code",
      "source": [
        "from tensorflow.keras import regularizers\n",
        "\n",
        "model_5 = tf.keras.Sequential([\n",
        "    layers.Dense(143, input_shape = X_train[0].shape, name = \"input_layer\"),\n",
        "    layers.Dense(100, activation = \"relu\", kernel_regularizer = regularizers.L2(l2 = 0.01)),\n",
        "    layers.Dense(100, activation = \"relu\", kernel_regularizer = regularizers.L2(l2 = 0.01)),\n",
        "    layers.Dense(1, name = \"output_layer\")\n",
        "])\n",
        "\n",
        "model_5.compile(loss = tf.keras.losses.mse,\n",
        "              optimizer = tf.keras.optimizers.Adam(learning_rate = 0.0001),\n",
        "              metrics = [\"mse\"])\n",
        "\n",
        "model_5_history  = model_5.fit(x = X_train, \n",
        "                               y = y_train, \n",
        "                               epochs = 40,\n",
        "                               validation_data = (X_val, y_val),\n",
        "                               callbacks = [create_tensorboard_callback(dir_name = \"nn-predictions\",\n",
        "                                                   experiment_name = \"Model_5\")])"
      ],
      "metadata": {
        "colab": {
          "base_uri": "https://localhost:8080/"
        },
        "id": "maipYMPjH9Ux",
        "outputId": "7f23b485-fc50-478e-ae71-040a2ffc66cf"
      },
      "execution_count": 37,
      "outputs": [
        {
          "output_type": "stream",
          "name": "stdout",
          "text": [
            "Saving TensorBoard log files to: nn-predictions/Model_5/20221229-175811\n",
            "Epoch 1/40\n",
            "51/51 [==============================] - 1s 7ms/step - loss: 2.9811 - mse: 0.8377 - val_loss: 2.4173 - val_mse: 0.3138\n",
            "Epoch 2/40\n",
            "51/51 [==============================] - 0s 4ms/step - loss: 2.4230 - mse: 0.3610 - val_loss: 2.3120 - val_mse: 0.2945\n",
            "Epoch 3/40\n",
            "51/51 [==============================] - 0s 4ms/step - loss: 2.3145 - mse: 0.3382 - val_loss: 2.2097 - val_mse: 0.2773\n",
            "Epoch 4/40\n",
            "51/51 [==============================] - 0s 4ms/step - loss: 2.2186 - mse: 0.3267 - val_loss: 2.1249 - val_mse: 0.2762\n",
            "Epoch 5/40\n",
            "51/51 [==============================] - 0s 4ms/step - loss: 2.1249 - mse: 0.3153 - val_loss: 2.0342 - val_mse: 0.2661\n",
            "Epoch 6/40\n",
            "51/51 [==============================] - 0s 4ms/step - loss: 2.0382 - mse: 0.3077 - val_loss: 1.9495 - val_mse: 0.2588\n",
            "Epoch 7/40\n",
            "51/51 [==============================] - 0s 4ms/step - loss: 1.9556 - mse: 0.3008 - val_loss: 1.8708 - val_mse: 0.2541\n",
            "Epoch 8/40\n",
            "51/51 [==============================] - 0s 4ms/step - loss: 1.8780 - mse: 0.2957 - val_loss: 1.7974 - val_mse: 0.2513\n",
            "Epoch 9/40\n",
            "51/51 [==============================] - 0s 5ms/step - loss: 1.8021 - mse: 0.2885 - val_loss: 1.7290 - val_mse: 0.2498\n",
            "Epoch 10/40\n",
            "51/51 [==============================] - 0s 4ms/step - loss: 1.7316 - mse: 0.2836 - val_loss: 1.6634 - val_mse: 0.2481\n",
            "Epoch 11/40\n",
            "51/51 [==============================] - 0s 4ms/step - loss: 1.6663 - mse: 0.2805 - val_loss: 1.6024 - val_mse: 0.2476\n",
            "Epoch 12/40\n",
            "51/51 [==============================] - 0s 4ms/step - loss: 1.6044 - mse: 0.2775 - val_loss: 1.5413 - val_mse: 0.2439\n",
            "Epoch 13/40\n",
            "51/51 [==============================] - 0s 4ms/step - loss: 1.5443 - mse: 0.2734 - val_loss: 1.4859 - val_mse: 0.2429\n",
            "Epoch 14/40\n",
            "51/51 [==============================] - 0s 4ms/step - loss: 1.4887 - mse: 0.2706 - val_loss: 1.4329 - val_mse: 0.2412\n",
            "Epoch 15/40\n",
            "51/51 [==============================] - 0s 4ms/step - loss: 1.4347 - mse: 0.2667 - val_loss: 1.3804 - val_mse: 0.2372\n",
            "Epoch 16/40\n",
            "51/51 [==============================] - 0s 4ms/step - loss: 1.3877 - mse: 0.2669 - val_loss: 1.3336 - val_mse: 0.2364\n",
            "Epoch 17/40\n",
            "51/51 [==============================] - 0s 4ms/step - loss: 1.3386 - mse: 0.2625 - val_loss: 1.2898 - val_mse: 0.2360\n",
            "Epoch 18/40\n",
            "51/51 [==============================] - 0s 4ms/step - loss: 1.2942 - mse: 0.2604 - val_loss: 1.2523 - val_mse: 0.2398\n",
            "Epoch 19/40\n",
            "51/51 [==============================] - 0s 4ms/step - loss: 1.2520 - mse: 0.2584 - val_loss: 1.2087 - val_mse: 0.2351\n",
            "Epoch 20/40\n",
            "51/51 [==============================] - 0s 4ms/step - loss: 1.2125 - mse: 0.2568 - val_loss: 1.1755 - val_mse: 0.2388\n",
            "Epoch 21/40\n",
            "51/51 [==============================] - 0s 4ms/step - loss: 1.1756 - mse: 0.2558 - val_loss: 1.1402 - val_mse: 0.2384\n",
            "Epoch 22/40\n",
            "51/51 [==============================] - 0s 4ms/step - loss: 1.1381 - mse: 0.2522 - val_loss: 1.1029 - val_mse: 0.2341\n",
            "Epoch 23/40\n",
            "51/51 [==============================] - 0s 4ms/step - loss: 1.1055 - mse: 0.2519 - val_loss: 1.0682 - val_mse: 0.2307\n",
            "Epoch 24/40\n",
            "51/51 [==============================] - 0s 4ms/step - loss: 1.0754 - mse: 0.2525 - val_loss: 1.0405 - val_mse: 0.2328\n",
            "Epoch 25/40\n",
            "51/51 [==============================] - 0s 4ms/step - loss: 1.0428 - mse: 0.2489 - val_loss: 1.0104 - val_mse: 0.2310\n",
            "Epoch 26/40\n",
            "51/51 [==============================] - 0s 4ms/step - loss: 1.0144 - mse: 0.2480 - val_loss: 0.9858 - val_mse: 0.2331\n",
            "Epoch 27/40\n",
            "51/51 [==============================] - 0s 4ms/step - loss: 0.9872 - mse: 0.2469 - val_loss: 0.9639 - val_mse: 0.2367\n",
            "Epoch 28/40\n",
            "51/51 [==============================] - 0s 4ms/step - loss: 0.9617 - mse: 0.2462 - val_loss: 0.9364 - val_mse: 0.2333\n",
            "Epoch 29/40\n",
            "51/51 [==============================] - 0s 4ms/step - loss: 0.9374 - mse: 0.2454 - val_loss: 0.9132 - val_mse: 0.2329\n",
            "Epoch 30/40\n",
            "51/51 [==============================] - 0s 4ms/step - loss: 0.9146 - mse: 0.2448 - val_loss: 0.8883 - val_mse: 0.2295\n",
            "Epoch 31/40\n",
            "51/51 [==============================] - 0s 4ms/step - loss: 0.8906 - mse: 0.2418 - val_loss: 0.8923 - val_mse: 0.2541\n",
            "Epoch 32/40\n",
            "51/51 [==============================] - 0s 4ms/step - loss: 0.8755 - mse: 0.2466 - val_loss: 0.8469 - val_mse: 0.2278\n",
            "Epoch 33/40\n",
            "51/51 [==============================] - 0s 4ms/step - loss: 0.8499 - mse: 0.2398 - val_loss: 0.8276 - val_mse: 0.2268\n",
            "Epoch 34/40\n",
            "51/51 [==============================] - 0s 4ms/step - loss: 0.8307 - mse: 0.2384 - val_loss: 0.8093 - val_mse: 0.2259\n",
            "Epoch 35/40\n",
            "51/51 [==============================] - 0s 4ms/step - loss: 0.8132 - mse: 0.2378 - val_loss: 0.7976 - val_mse: 0.2308\n",
            "Epoch 36/40\n",
            "51/51 [==============================] - 0s 4ms/step - loss: 0.7953 - mse: 0.2363 - val_loss: 0.7761 - val_mse: 0.2252\n",
            "Epoch 37/40\n",
            "51/51 [==============================] - 0s 4ms/step - loss: 0.7803 - mse: 0.2367 - val_loss: 0.7666 - val_mse: 0.2307\n",
            "Epoch 38/40\n",
            "51/51 [==============================] - 0s 4ms/step - loss: 0.7674 - mse: 0.2385 - val_loss: 0.7466 - val_mse: 0.2251\n",
            "Epoch 39/40\n",
            "51/51 [==============================] - 0s 4ms/step - loss: 0.7498 - mse: 0.2347 - val_loss: 0.7317 - val_mse: 0.2236\n",
            "Epoch 40/40\n",
            "51/51 [==============================] - 0s 4ms/step - loss: 0.7353 - mse: 0.2335 - val_loss: 0.7272 - val_mse: 0.2321\n"
          ]
        }
      ]
    },
    {
      "cell_type": "markdown",
      "source": [
        "### Model_6 (Increase learning_rate in model_5 to 0.01)\n"
      ],
      "metadata": {
        "id": "xlSZ0ceOJnIA"
      }
    },
    {
      "cell_type": "code",
      "source": [
        "model_6 = tf.keras.Sequential([\n",
        "    layers.Dense(143, input_shape = X_train[0].shape, name = \"input_layer\"),\n",
        "    layers.Dense(100, activation = \"relu\", kernel_regularizer = regularizers.L2(l2 = 0.01)),\n",
        "    layers.Dense(100, activation = \"relu\", kernel_regularizer = regularizers.L2(l2 = 0.01)),\n",
        "    layers.Dense(1, name = \"output_layer\")\n",
        "])\n",
        "\n",
        "model_6.compile(loss = tf.keras.losses.mse,\n",
        "              optimizer = tf.keras.optimizers.Adam(learning_rate = 0.01),\n",
        "              metrics = [\"mse\"])\n",
        "\n",
        "model_6_history  = model_6.fit(x = X_train, \n",
        "                               y = y_train, \n",
        "                               epochs = 40,\n",
        "                               validation_data = (X_val, y_val),\n",
        "                               callbacks = [create_tensorboard_callback(dir_name = \"nn-predictions\",\n",
        "                                                   experiment_name = \"Model_6\")])"
      ],
      "metadata": {
        "colab": {
          "base_uri": "https://localhost:8080/"
        },
        "id": "FRYZHlLkJhN9",
        "outputId": "711f4077-fe1e-4c74-cfa8-303e99a748b1"
      },
      "execution_count": 38,
      "outputs": [
        {
          "output_type": "stream",
          "name": "stdout",
          "text": [
            "Saving TensorBoard log files to: nn-predictions/Model_6/20221229-175821\n",
            "Epoch 1/40\n",
            "51/51 [==============================] - 1s 7ms/step - loss: 1.7515 - mse: 0.5676 - val_loss: 0.8857 - val_mse: 0.2524\n",
            "Epoch 2/40\n",
            "51/51 [==============================] - 0s 4ms/step - loss: 0.7534 - mse: 0.3334 - val_loss: 0.5915 - val_mse: 0.3287\n",
            "Epoch 3/40\n",
            "51/51 [==============================] - 0s 3ms/step - loss: 0.4907 - mse: 0.3022 - val_loss: 0.3688 - val_mse: 0.2403\n",
            "Epoch 4/40\n",
            "51/51 [==============================] - 0s 4ms/step - loss: 0.4313 - mse: 0.3293 - val_loss: 0.3707 - val_mse: 0.2961\n",
            "Epoch 5/40\n",
            "51/51 [==============================] - 0s 4ms/step - loss: 0.3470 - mse: 0.2875 - val_loss: 0.2891 - val_mse: 0.2438\n",
            "Epoch 6/40\n",
            "51/51 [==============================] - 0s 5ms/step - loss: 0.3340 - mse: 0.2961 - val_loss: 0.3103 - val_mse: 0.2786\n",
            "Epoch 7/40\n",
            "51/51 [==============================] - 0s 4ms/step - loss: 0.3077 - mse: 0.2824 - val_loss: 0.3522 - val_mse: 0.3322\n",
            "Epoch 8/40\n",
            "51/51 [==============================] - 0s 4ms/step - loss: 0.3204 - mse: 0.3008 - val_loss: 0.2756 - val_mse: 0.2537\n",
            "Epoch 9/40\n",
            "51/51 [==============================] - 0s 4ms/step - loss: 0.3090 - mse: 0.2924 - val_loss: 0.2735 - val_mse: 0.2609\n",
            "Epoch 10/40\n",
            "51/51 [==============================] - 0s 4ms/step - loss: 0.2919 - mse: 0.2810 - val_loss: 0.2499 - val_mse: 0.2395\n",
            "Epoch 11/40\n",
            "51/51 [==============================] - 0s 4ms/step - loss: 0.2921 - mse: 0.2824 - val_loss: 0.2521 - val_mse: 0.2427\n",
            "Epoch 12/40\n",
            "51/51 [==============================] - 0s 4ms/step - loss: 0.2786 - mse: 0.2702 - val_loss: 0.2471 - val_mse: 0.2388\n",
            "Epoch 13/40\n",
            "51/51 [==============================] - 0s 4ms/step - loss: 0.2958 - mse: 0.2882 - val_loss: 0.2756 - val_mse: 0.2681\n",
            "Epoch 14/40\n",
            "51/51 [==============================] - 0s 4ms/step - loss: 0.2897 - mse: 0.2820 - val_loss: 0.2506 - val_mse: 0.2391\n",
            "Epoch 15/40\n",
            "51/51 [==============================] - 0s 4ms/step - loss: 0.2864 - mse: 0.2778 - val_loss: 0.2801 - val_mse: 0.2729\n",
            "Epoch 16/40\n",
            "51/51 [==============================] - 0s 4ms/step - loss: 0.2845 - mse: 0.2784 - val_loss: 0.3565 - val_mse: 0.3512\n",
            "Epoch 17/40\n",
            "51/51 [==============================] - 0s 4ms/step - loss: 0.3098 - mse: 0.3040 - val_loss: 0.2656 - val_mse: 0.2600\n",
            "Epoch 18/40\n",
            "51/51 [==============================] - 0s 4ms/step - loss: 0.2820 - mse: 0.2764 - val_loss: 0.2705 - val_mse: 0.2653\n",
            "Epoch 19/40\n",
            "51/51 [==============================] - 0s 4ms/step - loss: 0.2772 - mse: 0.2719 - val_loss: 0.2719 - val_mse: 0.2670\n",
            "Epoch 20/40\n",
            "51/51 [==============================] - 0s 4ms/step - loss: 0.2977 - mse: 0.2929 - val_loss: 0.2430 - val_mse: 0.2383\n",
            "Epoch 21/40\n",
            "51/51 [==============================] - 0s 4ms/step - loss: 0.2885 - mse: 0.2838 - val_loss: 0.2461 - val_mse: 0.2413\n",
            "Epoch 22/40\n",
            "51/51 [==============================] - 0s 4ms/step - loss: 0.2709 - mse: 0.2658 - val_loss: 0.2489 - val_mse: 0.2448\n",
            "Epoch 23/40\n",
            "51/51 [==============================] - 0s 4ms/step - loss: 0.2778 - mse: 0.2733 - val_loss: 0.2441 - val_mse: 0.2399\n",
            "Epoch 24/40\n",
            "51/51 [==============================] - 0s 5ms/step - loss: 0.2929 - mse: 0.2876 - val_loss: 0.2956 - val_mse: 0.2913\n",
            "Epoch 25/40\n",
            "51/51 [==============================] - 0s 4ms/step - loss: 0.2764 - mse: 0.2721 - val_loss: 0.2484 - val_mse: 0.2442\n",
            "Epoch 26/40\n",
            "51/51 [==============================] - 0s 4ms/step - loss: 0.2707 - mse: 0.2664 - val_loss: 0.2511 - val_mse: 0.2472\n",
            "Epoch 27/40\n",
            "51/51 [==============================] - 0s 4ms/step - loss: 0.2703 - mse: 0.2663 - val_loss: 0.2469 - val_mse: 0.2431\n",
            "Epoch 28/40\n",
            "51/51 [==============================] - 0s 4ms/step - loss: 0.2706 - mse: 0.2666 - val_loss: 0.2824 - val_mse: 0.2791\n",
            "Epoch 29/40\n",
            "51/51 [==============================] - 0s 4ms/step - loss: 0.2894 - mse: 0.2858 - val_loss: 0.2461 - val_mse: 0.2424\n",
            "Epoch 30/40\n",
            "51/51 [==============================] - 0s 4ms/step - loss: 0.2791 - mse: 0.2753 - val_loss: 0.2450 - val_mse: 0.2414\n",
            "Epoch 31/40\n",
            "51/51 [==============================] - 0s 5ms/step - loss: 0.2736 - mse: 0.2699 - val_loss: 0.2808 - val_mse: 0.2777\n",
            "Epoch 32/40\n",
            "51/51 [==============================] - 0s 4ms/step - loss: 0.2731 - mse: 0.2694 - val_loss: 0.2474 - val_mse: 0.2437\n",
            "Epoch 33/40\n",
            "51/51 [==============================] - 0s 4ms/step - loss: 0.2725 - mse: 0.2686 - val_loss: 0.2645 - val_mse: 0.2607\n",
            "Epoch 34/40\n",
            "51/51 [==============================] - 0s 4ms/step - loss: 0.2715 - mse: 0.2677 - val_loss: 0.2589 - val_mse: 0.2550\n",
            "Epoch 35/40\n",
            "51/51 [==============================] - 0s 4ms/step - loss: 0.2704 - mse: 0.2663 - val_loss: 0.2474 - val_mse: 0.2438\n",
            "Epoch 36/40\n",
            "51/51 [==============================] - 0s 5ms/step - loss: 0.2768 - mse: 0.2722 - val_loss: 0.2492 - val_mse: 0.2438\n",
            "Epoch 37/40\n",
            "51/51 [==============================] - 0s 4ms/step - loss: 0.2685 - mse: 0.2630 - val_loss: 0.2548 - val_mse: 0.2470\n",
            "Epoch 38/40\n",
            "51/51 [==============================] - 0s 4ms/step - loss: 0.2766 - mse: 0.2700 - val_loss: 0.3365 - val_mse: 0.3282\n",
            "Epoch 39/40\n",
            "51/51 [==============================] - 0s 5ms/step - loss: 0.2899 - mse: 0.2803 - val_loss: 0.2713 - val_mse: 0.2646\n",
            "Epoch 40/40\n",
            "51/51 [==============================] - 0s 4ms/step - loss: 0.2753 - mse: 0.2682 - val_loss: 0.2465 - val_mse: 0.2396\n"
          ]
        }
      ]
    },
    {
      "cell_type": "code",
      "source": [
        "plot_loss_curves(model_6_history)"
      ],
      "metadata": {
        "colab": {
          "base_uri": "https://localhost:8080/",
          "height": 573
        },
        "id": "Hulk3UWiJ30X",
        "outputId": "4f6810d2-a039-4e70-fd74-f0c1991e352e"
      },
      "execution_count": 39,
      "outputs": [
        {
          "output_type": "display_data",
          "data": {
            "text/plain": [
              "<Figure size 432x288 with 1 Axes>"
            ],
            "image/png": "[encoded data removed]"
          },
          "metadata": {
            "needs_background": "light"
          }
        },
        {
          "output_type": "display_data",
          "data": {
            "text/plain": [
              "<Figure size 432x288 with 1 Axes>"
            ],
            "image/png": "[encoded data removed]"
          },
          "metadata": {
            "needs_background": "light"
          }
        }
      ]
    },
    {
      "cell_type": "markdown",
      "source": [
        "### Model_7 (Increase learning_rate in model_5 to 0.001)\n"
      ],
      "metadata": {
        "id": "kzvLVlblKAYB"
      }
    },
    {
      "cell_type": "code",
      "source": [
        "model_7 = tf.keras.Sequential([\n",
        "    layers.Dense(143, input_shape = X_train[0].shape, name = \"input_layer\"),\n",
        "    layers.Dense(100, activation = \"relu\", kernel_regularizer = regularizers.L2(l2 = 0.01)),\n",
        "    layers.Dense(100, activation = \"relu\", kernel_regularizer = regularizers.L2(l2 = 0.01)),\n",
        "    layers.Dense(1, name = \"output_layer\")\n",
        "])\n",
        "\n",
        "model_7.compile(loss = tf.keras.losses.mse,\n",
        "              optimizer = tf.keras.optimizers.Adam(learning_rate = 0.001),\n",
        "              metrics = [\"mse\"])\n",
        "\n",
        "model_7_history  = model_7.fit(x = X_train, \n",
        "                               y = y_train, \n",
        "                               epochs = 40,\n",
        "                               validation_data = (X_val, y_val),\n",
        "                               callbacks = [create_tensorboard_callback(dir_name = \"nn-predictions\",\n",
        "                                                   experiment_name = \"Model_7\")])"
      ],
      "metadata": {
        "colab": {
          "base_uri": "https://localhost:8080/"
        },
        "id": "ppeIcgHvJ8cm",
        "outputId": "ca834205-ae37-4421-e895-070bc1e20916"
      },
      "execution_count": 40,
      "outputs": [
        {
          "output_type": "stream",
          "name": "stdout",
          "text": [
            "Saving TensorBoard log files to: nn-predictions/Model_7/20221229-175832\n",
            "Epoch 1/40\n",
            "51/51 [==============================] - 1s 7ms/step - loss: 2.5837 - mse: 0.6649 - val_loss: 1.9051 - val_mse: 0.2625\n",
            "Epoch 2/40\n",
            "51/51 [==============================] - 0s 4ms/step - loss: 1.7495 - mse: 0.3144 - val_loss: 1.5011 - val_mse: 0.2609\n",
            "Epoch 3/40\n",
            "51/51 [==============================] - 0s 4ms/step - loss: 1.3904 - mse: 0.2907 - val_loss: 1.2034 - val_mse: 0.2359\n",
            "Epoch 4/40\n",
            "51/51 [==============================] - 0s 4ms/step - loss: 1.1450 - mse: 0.2755 - val_loss: 1.0353 - val_mse: 0.2595\n",
            "Epoch 5/40\n",
            "51/51 [==============================] - 0s 3ms/step - loss: 0.9778 - mse: 0.2738 - val_loss: 0.8741 - val_mse: 0.2394\n",
            "Epoch 6/40\n",
            "51/51 [==============================] - 0s 4ms/step - loss: 0.8618 - mse: 0.2814 - val_loss: 0.7636 - val_mse: 0.2366\n",
            "Epoch 7/40\n",
            "51/51 [==============================] - 0s 4ms/step - loss: 0.7614 - mse: 0.2765 - val_loss: 0.7161 - val_mse: 0.2740\n",
            "Epoch 8/40\n",
            "51/51 [==============================] - 0s 4ms/step - loss: 0.6879 - mse: 0.2792 - val_loss: 0.6137 - val_mse: 0.2385\n",
            "Epoch 9/40\n",
            "51/51 [==============================] - 0s 4ms/step - loss: 0.6175 - mse: 0.2683 - val_loss: 0.5687 - val_mse: 0.2470\n",
            "Epoch 10/40\n",
            "51/51 [==============================] - 0s 4ms/step - loss: 0.5553 - mse: 0.2558 - val_loss: 0.5156 - val_mse: 0.2379\n",
            "Epoch 11/40\n",
            "51/51 [==============================] - 0s 4ms/step - loss: 0.5198 - mse: 0.2597 - val_loss: 0.5249 - val_mse: 0.2824\n",
            "Epoch 12/40\n",
            "51/51 [==============================] - 0s 4ms/step - loss: 0.4870 - mse: 0.2605 - val_loss: 0.4474 - val_mse: 0.2357\n",
            "Epoch 13/40\n",
            "51/51 [==============================] - 0s 4ms/step - loss: 0.4584 - mse: 0.2583 - val_loss: 0.4361 - val_mse: 0.2480\n",
            "Epoch 14/40\n",
            "51/51 [==============================] - 0s 4ms/step - loss: 0.4312 - mse: 0.2534 - val_loss: 0.4120 - val_mse: 0.2445\n",
            "Epoch 15/40\n",
            "51/51 [==============================] - 0s 4ms/step - loss: 0.4011 - mse: 0.2421 - val_loss: 0.3808 - val_mse: 0.2298\n",
            "Epoch 16/40\n",
            "51/51 [==============================] - 0s 4ms/step - loss: 0.3848 - mse: 0.2412 - val_loss: 0.4058 - val_mse: 0.2696\n",
            "Epoch 17/40\n",
            "51/51 [==============================] - 0s 4ms/step - loss: 0.3765 - mse: 0.2449 - val_loss: 0.3656 - val_mse: 0.2402\n",
            "Epoch 18/40\n",
            "51/51 [==============================] - 0s 4ms/step - loss: 0.3586 - mse: 0.2389 - val_loss: 0.3464 - val_mse: 0.2318\n",
            "Epoch 19/40\n",
            "51/51 [==============================] - 0s 3ms/step - loss: 0.3400 - mse: 0.2288 - val_loss: 0.3823 - val_mse: 0.2757\n",
            "Epoch 20/40\n",
            "51/51 [==============================] - 0s 4ms/step - loss: 0.3625 - mse: 0.2605 - val_loss: 0.3397 - val_mse: 0.2420\n",
            "Epoch 21/40\n",
            "51/51 [==============================] - 0s 4ms/step - loss: 0.3233 - mse: 0.2280 - val_loss: 0.3258 - val_mse: 0.2338\n",
            "Epoch 22/40\n",
            "51/51 [==============================] - 0s 4ms/step - loss: 0.3110 - mse: 0.2216 - val_loss: 0.3235 - val_mse: 0.2376\n",
            "Epoch 23/40\n",
            "51/51 [==============================] - 0s 3ms/step - loss: 0.3039 - mse: 0.2203 - val_loss: 0.3165 - val_mse: 0.2351\n",
            "Epoch 24/40\n",
            "51/51 [==============================] - 0s 4ms/step - loss: 0.3092 - mse: 0.2302 - val_loss: 0.3478 - val_mse: 0.2719\n",
            "Epoch 25/40\n",
            "51/51 [==============================] - 0s 4ms/step - loss: 0.2888 - mse: 0.2146 - val_loss: 0.3122 - val_mse: 0.2394\n",
            "Epoch 26/40\n",
            "51/51 [==============================] - 0s 4ms/step - loss: 0.2827 - mse: 0.2107 - val_loss: 0.3014 - val_mse: 0.2314\n",
            "Epoch 27/40\n",
            "51/51 [==============================] - 0s 4ms/step - loss: 0.2822 - mse: 0.2139 - val_loss: 0.2946 - val_mse: 0.2283\n",
            "Epoch 28/40\n",
            "51/51 [==============================] - 0s 3ms/step - loss: 0.2705 - mse: 0.2052 - val_loss: 0.3107 - val_mse: 0.2469\n",
            "Epoch 29/40\n",
            "51/51 [==============================] - 0s 4ms/step - loss: 0.2732 - mse: 0.2111 - val_loss: 0.2851 - val_mse: 0.2238\n",
            "Epoch 30/40\n",
            "51/51 [==============================] - 0s 4ms/step - loss: 0.2659 - mse: 0.2056 - val_loss: 0.2934 - val_mse: 0.2343\n",
            "Epoch 31/40\n",
            "51/51 [==============================] - 0s 4ms/step - loss: 0.2623 - mse: 0.2041 - val_loss: 0.3246 - val_mse: 0.2677\n",
            "Epoch 32/40\n",
            "51/51 [==============================] - 0s 4ms/step - loss: 0.2556 - mse: 0.1989 - val_loss: 0.2845 - val_mse: 0.2289\n",
            "Epoch 33/40\n",
            "51/51 [==============================] - 0s 3ms/step - loss: 0.2482 - mse: 0.1935 - val_loss: 0.3025 - val_mse: 0.2484\n",
            "Epoch 34/40\n",
            "51/51 [==============================] - 0s 4ms/step - loss: 0.2476 - mse: 0.1943 - val_loss: 0.2919 - val_mse: 0.2400\n",
            "Epoch 35/40\n",
            "51/51 [==============================] - 0s 4ms/step - loss: 0.2445 - mse: 0.1934 - val_loss: 0.2785 - val_mse: 0.2280\n",
            "Epoch 36/40\n",
            "51/51 [==============================] - 0s 4ms/step - loss: 0.2423 - mse: 0.1921 - val_loss: 0.2739 - val_mse: 0.2242\n",
            "Epoch 37/40\n",
            "51/51 [==============================] - 0s 4ms/step - loss: 0.2335 - mse: 0.1839 - val_loss: 0.2876 - val_mse: 0.2385\n",
            "Epoch 38/40\n",
            "51/51 [==============================] - 0s 4ms/step - loss: 0.2423 - mse: 0.1939 - val_loss: 0.2987 - val_mse: 0.2510\n",
            "Epoch 39/40\n",
            "51/51 [==============================] - 0s 4ms/step - loss: 0.2336 - mse: 0.1869 - val_loss: 0.2934 - val_mse: 0.2480\n",
            "Epoch 40/40\n",
            "51/51 [==============================] - 0s 4ms/step - loss: 0.2312 - mse: 0.1858 - val_loss: 0.2813 - val_mse: 0.2359\n"
          ]
        }
      ]
    },
    {
      "cell_type": "code",
      "source": [
        "plot_loss_curves(model_7_history)"
      ],
      "metadata": {
        "colab": {
          "base_uri": "https://localhost:8080/",
          "height": 573
        },
        "id": "Ynb0UPnyKVx3",
        "outputId": "43e7308a-08a8-4989-9570-a1c615bf0915"
      },
      "execution_count": 41,
      "outputs": [
        {
          "output_type": "display_data",
          "data": {
            "text/plain": [
              "<Figure size 432x288 with 1 Axes>"
            ],
            "image/png": "[encoded data removed]"
          },
          "metadata": {
            "needs_background": "light"
          }
        },
        {
          "output_type": "display_data",
          "data": {
            "text/plain": [
              "<Figure size 432x288 with 1 Axes>"
            ],
            "image/png": "[encoded data removed]"
          },
          "metadata": {
            "needs_background": "light"
          }
        }
      ]
    },
    {
      "cell_type": "markdown",
      "source": [
        "### Model_8 (Train Model_5 for 40 more epochs)"
      ],
      "metadata": {
        "id": "6tekRfJzKYYg"
      }
    },
    {
      "cell_type": "code",
      "source": [
        "model_8 = tf.keras.Sequential([\n",
        "    layers.Dense(143, input_shape = X_train[0].shape, name = \"input_layer\"),\n",
        "    layers.Dense(100, activation = \"relu\", kernel_regularizer = regularizers.L2(l2 = 0.01)),\n",
        "    layers.Dense(100, activation = \"relu\", kernel_regularizer = regularizers.L2(l2 = 0.01)),\n",
        "    layers.Dense(1, name = \"output_layer\")\n",
        "])\n",
        "\n",
        "model_8.compile(loss = tf.keras.losses.mse,\n",
        "              optimizer = tf.keras.optimizers.Adam(learning_rate = 0.0001),\n",
        "              metrics = [\"mse\"])\n",
        "\n",
        "model_8_history  = model_8.fit(x = X_train, \n",
        "                               y = y_train, \n",
        "                               epochs = 80,\n",
        "                               validation_data = (X_val, y_val),\n",
        "                               callbacks = [create_tensorboard_callback(dir_name = \"nn-predictions\",\n",
        "                                                   experiment_name = \"Model_8\")])"
      ],
      "metadata": {
        "colab": {
          "base_uri": "https://localhost:8080/"
        },
        "id": "CCbzxSHOKt7Y",
        "outputId": "b850f066-d8a3-4707-af85-703b95c8d746"
      },
      "execution_count": 42,
      "outputs": [
        {
          "output_type": "stream",
          "name": "stdout",
          "text": [
            "Saving TensorBoard log files to: nn-predictions/Model_8/20221229-175843\n",
            "Epoch 1/80\n",
            "51/51 [==============================] - 1s 8ms/step - loss: 4.7309 - mse: 2.5841 - val_loss: 2.5273 - val_mse: 0.4094\n",
            "Epoch 2/80\n",
            "51/51 [==============================] - 0s 4ms/step - loss: 2.4720 - mse: 0.3855 - val_loss: 2.3557 - val_mse: 0.3046\n",
            "Epoch 3/80\n",
            "51/51 [==============================] - 0s 4ms/step - loss: 2.3702 - mse: 0.3523 - val_loss: 2.2627 - val_mse: 0.2803\n",
            "Epoch 4/80\n",
            "51/51 [==============================] - 0s 3ms/step - loss: 2.2853 - mse: 0.3362 - val_loss: 2.1865 - val_mse: 0.2730\n",
            "Epoch 5/80\n",
            "51/51 [==============================] - 0s 5ms/step - loss: 2.2035 - mse: 0.3226 - val_loss: 2.1084 - val_mse: 0.2623\n",
            "Epoch 6/80\n",
            "51/51 [==============================] - 0s 4ms/step - loss: 2.1273 - mse: 0.3130 - val_loss: 2.0362 - val_mse: 0.2557\n",
            "Epoch 7/80\n",
            "51/51 [==============================] - 0s 4ms/step - loss: 2.0549 - mse: 0.3054 - val_loss: 1.9668 - val_mse: 0.2500\n",
            "Epoch 8/80\n",
            "51/51 [==============================] - 0s 4ms/step - loss: 1.9848 - mse: 0.2981 - val_loss: 1.9049 - val_mse: 0.2500\n",
            "Epoch 9/80\n",
            "51/51 [==============================] - 0s 4ms/step - loss: 1.9182 - mse: 0.2919 - val_loss: 1.8414 - val_mse: 0.2457\n",
            "Epoch 10/80\n",
            "51/51 [==============================] - 0s 4ms/step - loss: 1.8556 - mse: 0.2877 - val_loss: 1.7862 - val_mse: 0.2478\n",
            "Epoch 11/80\n",
            "51/51 [==============================] - 0s 4ms/step - loss: 1.7953 - mse: 0.2835 - val_loss: 1.7304 - val_mse: 0.2469\n",
            "Epoch 12/80\n",
            "51/51 [==============================] - 0s 4ms/step - loss: 1.7379 - mse: 0.2800 - val_loss: 1.6706 - val_mse: 0.2399\n",
            "Epoch 13/80\n",
            "51/51 [==============================] - 0s 4ms/step - loss: 1.6815 - mse: 0.2755 - val_loss: 1.6205 - val_mse: 0.2405\n",
            "Epoch 14/80\n",
            "51/51 [==============================] - 0s 4ms/step - loss: 1.6293 - mse: 0.2728 - val_loss: 1.5714 - val_mse: 0.2399\n",
            "Epoch 15/80\n",
            "51/51 [==============================] - 0s 4ms/step - loss: 1.5783 - mse: 0.2694 - val_loss: 1.5228 - val_mse: 0.2379\n",
            "Epoch 16/80\n",
            "51/51 [==============================] - 0s 4ms/step - loss: 1.5325 - mse: 0.2692 - val_loss: 1.4773 - val_mse: 0.2369\n",
            "Epoch 17/80\n",
            "51/51 [==============================] - 0s 4ms/step - loss: 1.4849 - mse: 0.2653 - val_loss: 1.4357 - val_mse: 0.2380\n",
            "Epoch 18/80\n",
            "51/51 [==============================] - 0s 4ms/step - loss: 1.4408 - mse: 0.2630 - val_loss: 1.3949 - val_mse: 0.2382\n",
            "Epoch 19/80\n",
            "51/51 [==============================] - 0s 4ms/step - loss: 1.3988 - mse: 0.2611 - val_loss: 1.3540 - val_mse: 0.2364\n",
            "Epoch 20/80\n",
            "51/51 [==============================] - 0s 4ms/step - loss: 1.3595 - mse: 0.2602 - val_loss: 1.3202 - val_mse: 0.2402\n",
            "Epoch 21/80\n",
            "51/51 [==============================] - 0s 4ms/step - loss: 1.3215 - mse: 0.2589 - val_loss: 1.2841 - val_mse: 0.2401\n",
            "Epoch 22/80\n",
            "51/51 [==============================] - 0s 4ms/step - loss: 1.2832 - mse: 0.2558 - val_loss: 1.2450 - val_mse: 0.2353\n",
            "Epoch 23/80\n",
            "51/51 [==============================] - 0s 4ms/step - loss: 1.2493 - mse: 0.2556 - val_loss: 1.2104 - val_mse: 0.2336\n",
            "Epoch 24/80\n",
            "51/51 [==============================] - 0s 4ms/step - loss: 1.2158 - mse: 0.2544 - val_loss: 1.1826 - val_mse: 0.2374\n",
            "Epoch 25/80\n",
            "51/51 [==============================] - 0s 4ms/step - loss: 1.1833 - mse: 0.2528 - val_loss: 1.1478 - val_mse: 0.2329\n",
            "Epoch 26/80\n",
            "51/51 [==============================] - 0s 4ms/step - loss: 1.1522 - mse: 0.2513 - val_loss: 1.1191 - val_mse: 0.2331\n",
            "Epoch 27/80\n",
            "51/51 [==============================] - 0s 4ms/step - loss: 1.1229 - mse: 0.2504 - val_loss: 1.0941 - val_mse: 0.2359\n",
            "Epoch 28/80\n",
            "51/51 [==============================] - 0s 4ms/step - loss: 1.0952 - mse: 0.2500 - val_loss: 1.0644 - val_mse: 0.2328\n",
            "Epoch 29/80\n",
            "51/51 [==============================] - 0s 4ms/step - loss: 1.0679 - mse: 0.2487 - val_loss: 1.0400 - val_mse: 0.2339\n",
            "Epoch 30/80\n",
            "51/51 [==============================] - 0s 4ms/step - loss: 1.0417 - mse: 0.2475 - val_loss: 1.0134 - val_mse: 0.2316\n",
            "Epoch 31/80\n",
            "51/51 [==============================] - 0s 4ms/step - loss: 1.0158 - mse: 0.2454 - val_loss: 1.0069 - val_mse: 0.2486\n",
            "Epoch 32/80\n",
            "51/51 [==============================] - 0s 4ms/step - loss: 0.9967 - mse: 0.2491 - val_loss: 0.9655 - val_mse: 0.2292\n",
            "Epoch 33/80\n",
            "51/51 [==============================] - 0s 3ms/step - loss: 0.9694 - mse: 0.2436 - val_loss: 0.9455 - val_mse: 0.2305\n",
            "Epoch 34/80\n",
            "51/51 [==============================] - 0s 4ms/step - loss: 0.9475 - mse: 0.2425 - val_loss: 0.9225 - val_mse: 0.2279\n",
            "Epoch 35/80\n",
            "51/51 [==============================] - 0s 4ms/step - loss: 0.9268 - mse: 0.2418 - val_loss: 0.9059 - val_mse: 0.2310\n",
            "Epoch 36/80\n",
            "51/51 [==============================] - 0s 3ms/step - loss: 0.9068 - mse: 0.2410 - val_loss: 0.8840 - val_mse: 0.2279\n",
            "Epoch 37/80\n",
            "51/51 [==============================] - 0s 3ms/step - loss: 0.8880 - mse: 0.2406 - val_loss: 0.8747 - val_mse: 0.2367\n",
            "Epoch 38/80\n",
            "51/51 [==============================] - 0s 4ms/step - loss: 0.8714 - mse: 0.2418 - val_loss: 0.8495 - val_mse: 0.2288\n",
            "Epoch 39/80\n",
            "51/51 [==============================] - 0s 4ms/step - loss: 0.8516 - mse: 0.2388 - val_loss: 0.8311 - val_mse: 0.2268\n",
            "Epoch 40/80\n",
            "51/51 [==============================] - 0s 4ms/step - loss: 0.8347 - mse: 0.2381 - val_loss: 0.8272 - val_mse: 0.2388\n",
            "Epoch 41/80\n",
            "51/51 [==============================] - 0s 4ms/step - loss: 0.8191 - mse: 0.2381 - val_loss: 0.8144 - val_mse: 0.2414\n",
            "Epoch 42/80\n",
            "51/51 [==============================] - 0s 4ms/step - loss: 0.8037 - mse: 0.2376 - val_loss: 0.7990 - val_mse: 0.2406\n",
            "Epoch 43/80\n",
            "51/51 [==============================] - 0s 4ms/step - loss: 0.7915 - mse: 0.2398 - val_loss: 0.7679 - val_mse: 0.2234\n",
            "Epoch 44/80\n",
            "51/51 [==============================] - 0s 4ms/step - loss: 0.7731 - mse: 0.2352 - val_loss: 0.7552 - val_mse: 0.2242\n",
            "Epoch 45/80\n",
            "51/51 [==============================] - 0s 4ms/step - loss: 0.7584 - mse: 0.2336 - val_loss: 0.7404 - val_mse: 0.2224\n",
            "Epoch 46/80\n",
            "51/51 [==============================] - 0s 4ms/step - loss: 0.7441 - mse: 0.2321 - val_loss: 0.7284 - val_mse: 0.2228\n",
            "Epoch 47/80\n",
            "51/51 [==============================] - 0s 4ms/step - loss: 0.7323 - mse: 0.2328 - val_loss: 0.7232 - val_mse: 0.2298\n",
            "Epoch 48/80\n",
            "51/51 [==============================] - 0s 4ms/step - loss: 0.7220 - mse: 0.2343 - val_loss: 0.7081 - val_mse: 0.2264\n",
            "Epoch 49/80\n",
            "51/51 [==============================] - 0s 4ms/step - loss: 0.7060 - mse: 0.2296 - val_loss: 0.7026 - val_mse: 0.2322\n",
            "Epoch 50/80\n",
            "51/51 [==============================] - 0s 4ms/step - loss: 0.6944 - mse: 0.2291 - val_loss: 0.6898 - val_mse: 0.2300\n",
            "Epoch 51/80\n",
            "51/51 [==============================] - 0s 4ms/step - loss: 0.6833 - mse: 0.2286 - val_loss: 0.6723 - val_mse: 0.2230\n",
            "Epoch 52/80\n",
            "51/51 [==============================] - 0s 4ms/step - loss: 0.6740 - mse: 0.2295 - val_loss: 0.6636 - val_mse: 0.2241\n",
            "Epoch 53/80\n",
            "51/51 [==============================] - 0s 4ms/step - loss: 0.6611 - mse: 0.2264 - val_loss: 0.6538 - val_mse: 0.2241\n",
            "Epoch 54/80\n",
            "51/51 [==============================] - 0s 5ms/step - loss: 0.6524 - mse: 0.2273 - val_loss: 0.6461 - val_mse: 0.2258\n",
            "Epoch 55/80\n",
            "51/51 [==============================] - 0s 4ms/step - loss: 0.6426 - mse: 0.2268 - val_loss: 0.6405 - val_mse: 0.2294\n",
            "Epoch 56/80\n",
            "51/51 [==============================] - 0s 4ms/step - loss: 0.6359 - mse: 0.2289 - val_loss: 0.6490 - val_mse: 0.2466\n",
            "Epoch 57/80\n",
            "51/51 [==============================] - 0s 4ms/step - loss: 0.6254 - mse: 0.2270 - val_loss: 0.6176 - val_mse: 0.2236\n",
            "Epoch 58/80\n",
            "51/51 [==============================] - 0s 4ms/step - loss: 0.6127 - mse: 0.2225 - val_loss: 0.6086 - val_mse: 0.2227\n",
            "Epoch 59/80\n",
            "51/51 [==============================] - 0s 4ms/step - loss: 0.6043 - mse: 0.2223 - val_loss: 0.5981 - val_mse: 0.2201\n",
            "Epoch 60/80\n",
            "51/51 [==============================] - 0s 4ms/step - loss: 0.5987 - mse: 0.2244 - val_loss: 0.5890 - val_mse: 0.2186\n",
            "Epoch 61/80\n",
            "51/51 [==============================] - 0s 4ms/step - loss: 0.5868 - mse: 0.2201 - val_loss: 0.5821 - val_mse: 0.2192\n",
            "Epoch 62/80\n",
            "51/51 [==============================] - 0s 4ms/step - loss: 0.5795 - mse: 0.2201 - val_loss: 0.5756 - val_mse: 0.2199\n",
            "Epoch 63/80\n",
            "51/51 [==============================] - 0s 5ms/step - loss: 0.5714 - mse: 0.2190 - val_loss: 0.5744 - val_mse: 0.2256\n",
            "Epoch 64/80\n",
            "51/51 [==============================] - 0s 4ms/step - loss: 0.5648 - mse: 0.2192 - val_loss: 0.5597 - val_mse: 0.2176\n",
            "Epoch 65/80\n",
            "51/51 [==============================] - 0s 4ms/step - loss: 0.5608 - mse: 0.2221 - val_loss: 0.5540 - val_mse: 0.2186\n",
            "Epoch 66/80\n",
            "51/51 [==============================] - 0s 4ms/step - loss: 0.5519 - mse: 0.2196 - val_loss: 0.5499 - val_mse: 0.2210\n",
            "Epoch 67/80\n",
            "51/51 [==============================] - 0s 4ms/step - loss: 0.5426 - mse: 0.2166 - val_loss: 0.5453 - val_mse: 0.2225\n",
            "Epoch 68/80\n",
            "51/51 [==============================] - 0s 4ms/step - loss: 0.5364 - mse: 0.2163 - val_loss: 0.5364 - val_mse: 0.2194\n",
            "Epoch 69/80\n",
            "51/51 [==============================] - 0s 4ms/step - loss: 0.5305 - mse: 0.2162 - val_loss: 0.5330 - val_mse: 0.2217\n",
            "Epoch 70/80\n",
            "51/51 [==============================] - 0s 4ms/step - loss: 0.5246 - mse: 0.2159 - val_loss: 0.5313 - val_mse: 0.2256\n",
            "Epoch 71/80\n",
            "51/51 [==============================] - 0s 4ms/step - loss: 0.5186 - mse: 0.2154 - val_loss: 0.5202 - val_mse: 0.2198\n",
            "Epoch 72/80\n",
            "51/51 [==============================] - 0s 5ms/step - loss: 0.5141 - mse: 0.2162 - val_loss: 0.5138 - val_mse: 0.2186\n",
            "Epoch 73/80\n",
            "51/51 [==============================] - 0s 4ms/step - loss: 0.5055 - mse: 0.2128 - val_loss: 0.5255 - val_mse: 0.2355\n",
            "Epoch 74/80\n",
            "51/51 [==============================] - 0s 4ms/step - loss: 0.4979 - mse: 0.2102 - val_loss: 0.5098 - val_mse: 0.2247\n",
            "Epoch 75/80\n",
            "51/51 [==============================] - 0s 4ms/step - loss: 0.4938 - mse: 0.2111 - val_loss: 0.5062 - val_mse: 0.2260\n",
            "Epoch 76/80\n",
            "51/51 [==============================] - 0s 4ms/step - loss: 0.4880 - mse: 0.2098 - val_loss: 0.5007 - val_mse: 0.2250\n",
            "Epoch 77/80\n",
            "51/51 [==============================] - 0s 5ms/step - loss: 0.4826 - mse: 0.2090 - val_loss: 0.4958 - val_mse: 0.2246\n",
            "Epoch 78/80\n",
            "51/51 [==============================] - 0s 4ms/step - loss: 0.4771 - mse: 0.2080 - val_loss: 0.4882 - val_mse: 0.2213\n",
            "Epoch 79/80\n",
            "51/51 [==============================] - 0s 5ms/step - loss: 0.4735 - mse: 0.2088 - val_loss: 0.4793 - val_mse: 0.2167\n",
            "Epoch 80/80\n",
            "51/51 [==============================] - 0s 4ms/step - loss: 0.4707 - mse: 0.2101 - val_loss: 0.4778 - val_mse: 0.2193\n"
          ]
        }
      ]
    },
    {
      "cell_type": "code",
      "source": [
        "plot_loss_curves(model_8_history)"
      ],
      "metadata": {
        "colab": {
          "base_uri": "https://localhost:8080/",
          "height": 573
        },
        "id": "IzOwLlJrK8tZ",
        "outputId": "d5ea0c85-662c-48d7-bb8e-796f1831663e"
      },
      "execution_count": 43,
      "outputs": [
        {
          "output_type": "display_data",
          "data": {
            "text/plain": [
              "<Figure size 432x288 with 1 Axes>"
            ],
            "image/png": "[encoded data removed]"
          },
          "metadata": {
            "needs_background": "light"
          }
        },
        {
          "output_type": "display_data",
          "data": {
            "text/plain": [
              "<Figure size 432x288 with 1 Axes>"
            ],
            "image/png": "[encoded data removed]"
          },
          "metadata": {
            "needs_background": "light"
          }
        }
      ]
    },
    {
      "cell_type": "markdown",
      "source": [
        "### Model_9 (Add dropout to Model_5 (prob = 0.5) to improve variance)"
      ],
      "metadata": {
        "id": "FtKZDCTuLFG4"
      }
    },
    {
      "cell_type": "code",
      "source": [
        "model_9 = tf.keras.Sequential([\n",
        "    layers.Dense(143, input_shape = X_train[0].shape, name = \"input_layer\"),\n",
        "    layers.Dense(100, activation = \"relu\", kernel_regularizer = regularizers.L2(l2 = 0.01)),\n",
        "    layers.Dropout(0.5),\n",
        "    layers.Dense(100, activation = \"relu\", kernel_regularizer = regularizers.L2(l2 = 0.01)),\n",
        "    layers.Dense(1, name = \"output_layer\")\n",
        "])\n",
        "\n",
        "model_9.compile(loss = tf.keras.losses.mse,\n",
        "              optimizer = tf.keras.optimizers.Adam(learning_rate = 0.0001),\n",
        "              metrics = [\"mse\"])\n",
        "\n",
        "model_9_history  = model_9.fit(x = X_train, \n",
        "                               y = y_train, \n",
        "                               epochs = 40,\n",
        "                               validation_data = (X_val, y_val),\n",
        "                               callbacks = [create_tensorboard_callback(dir_name = \"nn-predictions\",\n",
        "                                                   experiment_name = \"Model_9\")])"
      ],
      "metadata": {
        "colab": {
          "base_uri": "https://localhost:8080/"
        },
        "id": "qPHB9VSJNAxq",
        "outputId": "ede302cb-b694-48d6-904e-7f3890d0ade1"
      },
      "execution_count": 44,
      "outputs": [
        {
          "output_type": "stream",
          "name": "stdout",
          "text": [
            "Saving TensorBoard log files to: nn-predictions/Model_9/20221229-175905\n",
            "Epoch 1/40\n",
            "51/51 [==============================] - 1s 8ms/step - loss: 4.6184 - mse: 2.4714 - val_loss: 2.4173 - val_mse: 0.2960\n",
            "Epoch 2/40\n",
            "51/51 [==============================] - 0s 5ms/step - loss: 2.7657 - mse: 0.6728 - val_loss: 2.3494 - val_mse: 0.2881\n",
            "Epoch 3/40\n",
            "51/51 [==============================] - 0s 4ms/step - loss: 2.6166 - mse: 0.5846 - val_loss: 2.2866 - val_mse: 0.2860\n",
            "Epoch 4/40\n",
            "51/51 [==============================] - 0s 4ms/step - loss: 2.5337 - mse: 0.5623 - val_loss: 2.2135 - val_mse: 0.2732\n",
            "Epoch 5/40\n",
            "51/51 [==============================] - 0s 4ms/step - loss: 2.4343 - mse: 0.5224 - val_loss: 2.1533 - val_mse: 0.2720\n",
            "Epoch 6/40\n",
            "51/51 [==============================] - 0s 4ms/step - loss: 2.3849 - mse: 0.5311 - val_loss: 2.0920 - val_mse: 0.2676\n",
            "Epoch 7/40\n",
            "51/51 [==============================] - 0s 4ms/step - loss: 2.3084 - mse: 0.5106 - val_loss: 2.0298 - val_mse: 0.2603\n",
            "Epoch 8/40\n",
            "51/51 [==============================] - 0s 6ms/step - loss: 2.2220 - mse: 0.4785 - val_loss: 1.9753 - val_mse: 0.2591\n",
            "Epoch 9/40\n",
            "51/51 [==============================] - 1s 11ms/step - loss: 2.1670 - mse: 0.4755 - val_loss: 1.9239 - val_mse: 0.2586\n",
            "Epoch 10/40\n",
            "51/51 [==============================] - 1s 12ms/step - loss: 2.0941 - mse: 0.4526 - val_loss: 1.8867 - val_mse: 0.2706\n",
            "Epoch 11/40\n",
            "51/51 [==============================] - 0s 4ms/step - loss: 2.0147 - mse: 0.4213 - val_loss: 1.8451 - val_mse: 0.2761\n",
            "Epoch 12/40\n",
            "51/51 [==============================] - 0s 4ms/step - loss: 1.9793 - mse: 0.4322 - val_loss: 1.7863 - val_mse: 0.2625\n",
            "Epoch 13/40\n",
            "51/51 [==============================] - 0s 4ms/step - loss: 1.9379 - mse: 0.4353 - val_loss: 1.7507 - val_mse: 0.2705\n",
            "Epoch 14/40\n",
            "51/51 [==============================] - 0s 5ms/step - loss: 1.8931 - mse: 0.4331 - val_loss: 1.7121 - val_mse: 0.2736\n",
            "Epoch 15/40\n",
            "51/51 [==============================] - 0s 4ms/step - loss: 1.8498 - mse: 0.4307 - val_loss: 1.6652 - val_mse: 0.2666\n",
            "Epoch 16/40\n",
            "51/51 [==============================] - 0s 4ms/step - loss: 1.7893 - mse: 0.4093 - val_loss: 1.6220 - val_mse: 0.2617\n",
            "Epoch 17/40\n",
            "51/51 [==============================] - 0s 4ms/step - loss: 1.7334 - mse: 0.3910 - val_loss: 1.5896 - val_mse: 0.2664\n",
            "Epoch 18/40\n",
            "51/51 [==============================] - 0s 4ms/step - loss: 1.7142 - mse: 0.4082 - val_loss: 1.5630 - val_mse: 0.2752\n",
            "Epoch 19/40\n",
            "51/51 [==============================] - 0s 5ms/step - loss: 1.6694 - mse: 0.3981 - val_loss: 1.5169 - val_mse: 0.2631\n",
            "Epoch 20/40\n",
            "51/51 [==============================] - 0s 4ms/step - loss: 1.6348 - mse: 0.3970 - val_loss: 1.4897 - val_mse: 0.2687\n",
            "Epoch 21/40\n",
            "51/51 [==============================] - 0s 4ms/step - loss: 1.5863 - mse: 0.3807 - val_loss: 1.4671 - val_mse: 0.2777\n",
            "Epoch 22/40\n",
            "51/51 [==============================] - 0s 4ms/step - loss: 1.5590 - mse: 0.3843 - val_loss: 1.4516 - val_mse: 0.2926\n",
            "Epoch 23/40\n",
            "51/51 [==============================] - 0s 4ms/step - loss: 1.5192 - mse: 0.3743 - val_loss: 1.4079 - val_mse: 0.2780\n",
            "Epoch 24/40\n",
            "51/51 [==============================] - 0s 5ms/step - loss: 1.4780 - mse: 0.3617 - val_loss: 1.3846 - val_mse: 0.2828\n",
            "Epoch 25/40\n",
            "51/51 [==============================] - 0s 3ms/step - loss: 1.4422 - mse: 0.3536 - val_loss: 1.3545 - val_mse: 0.2797\n",
            "Epoch 26/40\n",
            "51/51 [==============================] - 0s 4ms/step - loss: 1.4281 - mse: 0.3660 - val_loss: 1.3109 - val_mse: 0.2621\n",
            "Epoch 27/40\n",
            "51/51 [==============================] - 0s 4ms/step - loss: 1.3909 - mse: 0.3544 - val_loss: 1.3084 - val_mse: 0.2848\n",
            "Epoch 28/40\n",
            "51/51 [==============================] - 0s 4ms/step - loss: 1.3578 - mse: 0.3459 - val_loss: 1.2640 - val_mse: 0.2645\n",
            "Epoch 29/40\n",
            "51/51 [==============================] - 0s 4ms/step - loss: 1.3399 - mse: 0.3519 - val_loss: 1.2705 - val_mse: 0.2946\n",
            "Epoch 30/40\n",
            "51/51 [==============================] - 0s 4ms/step - loss: 1.3157 - mse: 0.3507 - val_loss: 1.2610 - val_mse: 0.3076\n",
            "Epoch 31/40\n",
            "51/51 [==============================] - 0s 4ms/step - loss: 1.2878 - mse: 0.3450 - val_loss: 1.2503 - val_mse: 0.3188\n",
            "Epoch 32/40\n",
            "51/51 [==============================] - 0s 4ms/step - loss: 1.2743 - mse: 0.3530 - val_loss: 1.1877 - val_mse: 0.2771\n",
            "Epoch 33/40\n",
            "51/51 [==============================] - 0s 4ms/step - loss: 1.2349 - mse: 0.3342 - val_loss: 1.1673 - val_mse: 0.2771\n",
            "Epoch 34/40\n",
            "51/51 [==============================] - 0s 4ms/step - loss: 1.2222 - mse: 0.3417 - val_loss: 1.1441 - val_mse: 0.2736\n",
            "Epoch 35/40\n",
            "51/51 [==============================] - 0s 5ms/step - loss: 1.1971 - mse: 0.3360 - val_loss: 1.1362 - val_mse: 0.2849\n",
            "Epoch 36/40\n",
            "51/51 [==============================] - 0s 5ms/step - loss: 1.1802 - mse: 0.3379 - val_loss: 1.1674 - val_mse: 0.3349\n",
            "Epoch 37/40\n",
            "51/51 [==============================] - 0s 4ms/step - loss: 1.1643 - mse: 0.3404 - val_loss: 1.1308 - val_mse: 0.3162\n",
            "Epoch 38/40\n",
            "51/51 [==============================] - 0s 4ms/step - loss: 1.1403 - mse: 0.3341 - val_loss: 1.1050 - val_mse: 0.3078\n",
            "Epoch 39/40\n",
            "51/51 [==============================] - 0s 4ms/step - loss: 1.1094 - mse: 0.3203 - val_loss: 1.0668 - val_mse: 0.2864\n",
            "Epoch 40/40\n",
            "51/51 [==============================] - 0s 4ms/step - loss: 1.0885 - mse: 0.3160 - val_loss: 1.1081 - val_mse: 0.3443\n"
          ]
        }
      ]
    },
    {
      "cell_type": "code",
      "source": [
        "plot_loss_curves(model_9_history)"
      ],
      "metadata": {
        "colab": {
          "base_uri": "https://localhost:8080/",
          "height": 573
        },
        "id": "yxLzTS8NOj-p",
        "outputId": "20060856-b892-485a-e7cd-dfb1b1b0fe6d"
      },
      "execution_count": 45,
      "outputs": [
        {
          "output_type": "display_data",
          "data": {
            "text/plain": [
              "<Figure size 432x288 with 1 Axes>"
            ],
            "image/png": "[encoded data removed]"
          },
          "metadata": {
            "needs_background": "light"
          }
        },
        {
          "output_type": "display_data",
          "data": {
            "text/plain": [
              "<Figure size 432x288 with 1 Axes>"
            ],
            "image/png": "[encoded data removed]"
          },
          "metadata": {
            "needs_background": "light"
          }
        }
      ]
    },
    {
      "cell_type": "markdown",
      "source": [
        "### Model_10 (Add dropout (prob = 0.2) to Model_5 to improve variance)"
      ],
      "metadata": {
        "id": "FqPRIMvCOmxB"
      }
    },
    {
      "cell_type": "code",
      "source": [
        "model_10 = tf.keras.Sequential([\n",
        "    layers.Dense(143, input_shape = X_train[0].shape, name = \"input_layer\"),\n",
        "    layers.Dense(100, activation = \"relu\", kernel_regularizer = regularizers.L2(l2 = 0.01)),\n",
        "    layers.Dropout(0.2),\n",
        "    layers.Dense(100, activation = \"relu\", kernel_regularizer = regularizers.L2(l2 = 0.01)),\n",
        "    layers.Dense(1, name = \"output_layer\")\n",
        "])\n",
        "\n",
        "model_10.compile(loss = tf.keras.losses.mse,\n",
        "              optimizer = tf.keras.optimizers.Adam(learning_rate = 0.0001),\n",
        "              metrics = [\"mse\"])\n",
        "\n",
        "model_10_history  = model_10.fit(x = X_train, \n",
        "                               y = y_train, \n",
        "                               epochs = 40,\n",
        "                               validation_data = (X_val, y_val),\n",
        "                               callbacks = [create_tensorboard_callback(dir_name = \"nn-predictions\",\n",
        "                                                   experiment_name = \"Model_10\")])"
      ],
      "metadata": {
        "colab": {
          "base_uri": "https://localhost:8080/"
        },
        "id": "xlVuQrQkO5-R",
        "outputId": "12a050df-f4a7-4675-8da6-7278e4d04f34"
      },
      "execution_count": 46,
      "outputs": [
        {
          "output_type": "stream",
          "name": "stdout",
          "text": [
            "Saving TensorBoard log files to: nn-predictions/Model_10/20221229-175916\n",
            "Epoch 1/40\n",
            "51/51 [==============================] - 1s 7ms/step - loss: 4.0839 - mse: 1.9155 - val_loss: 2.4775 - val_mse: 0.3395\n",
            "Epoch 2/40\n",
            "51/51 [==============================] - 0s 3ms/step - loss: 2.5664 - mse: 0.4614 - val_loss: 2.3870 - val_mse: 0.3178\n",
            "Epoch 3/40\n",
            "51/51 [==============================] - 0s 4ms/step - loss: 2.4963 - mse: 0.4602 - val_loss: 2.2952 - val_mse: 0.2943\n",
            "Epoch 4/40\n",
            "51/51 [==============================] - 0s 4ms/step - loss: 2.3915 - mse: 0.4232 - val_loss: 2.2180 - val_mse: 0.2844\n",
            "Epoch 5/40\n",
            "51/51 [==============================] - 0s 4ms/step - loss: 2.2929 - mse: 0.3908 - val_loss: 2.1388 - val_mse: 0.2703\n",
            "Epoch 6/40\n",
            "51/51 [==============================] - 0s 4ms/step - loss: 2.2023 - mse: 0.3643 - val_loss: 2.0670 - val_mse: 0.2613\n",
            "Epoch 7/40\n",
            "51/51 [==============================] - 0s 4ms/step - loss: 2.1397 - mse: 0.3634 - val_loss: 2.0016 - val_mse: 0.2563\n",
            "Epoch 8/40\n",
            "51/51 [==============================] - 0s 4ms/step - loss: 2.0746 - mse: 0.3575 - val_loss: 1.9414 - val_mse: 0.2542\n",
            "Epoch 9/40\n",
            "51/51 [==============================] - 0s 4ms/step - loss: 2.0161 - mse: 0.3558 - val_loss: 1.8839 - val_mse: 0.2523\n",
            "Epoch 10/40\n",
            "51/51 [==============================] - 0s 4ms/step - loss: 1.9521 - mse: 0.3465 - val_loss: 1.8266 - val_mse: 0.2485\n",
            "Epoch 11/40\n",
            "51/51 [==============================] - 0s 4ms/step - loss: 1.8859 - mse: 0.3326 - val_loss: 1.7852 - val_mse: 0.2583\n",
            "Epoch 12/40\n",
            "51/51 [==============================] - 0s 4ms/step - loss: 1.8379 - mse: 0.3349 - val_loss: 1.7250 - val_mse: 0.2472\n",
            "Epoch 13/40\n",
            "51/51 [==============================] - 0s 4ms/step - loss: 1.7745 - mse: 0.3197 - val_loss: 1.6814 - val_mse: 0.2508\n",
            "Epoch 14/40\n",
            "51/51 [==============================] - 0s 4ms/step - loss: 1.7309 - mse: 0.3222 - val_loss: 1.6355 - val_mse: 0.2500\n",
            "Epoch 15/40\n",
            "51/51 [==============================] - 0s 4ms/step - loss: 1.6855 - mse: 0.3211 - val_loss: 1.5787 - val_mse: 0.2366\n",
            "Epoch 16/40\n",
            "51/51 [==============================] - 0s 4ms/step - loss: 1.6433 - mse: 0.3214 - val_loss: 1.5466 - val_mse: 0.2461\n",
            "Epoch 17/40\n",
            "51/51 [==============================] - 0s 4ms/step - loss: 1.5820 - mse: 0.3008 - val_loss: 1.5044 - val_mse: 0.2436\n",
            "Epoch 18/40\n",
            "51/51 [==============================] - 0s 4ms/step - loss: 1.5463 - mse: 0.3042 - val_loss: 1.4732 - val_mse: 0.2508\n",
            "Epoch 19/40\n",
            "51/51 [==============================] - 0s 4ms/step - loss: 1.5077 - mse: 0.3032 - val_loss: 1.4328 - val_mse: 0.2472\n",
            "Epoch 20/40\n",
            "51/51 [==============================] - 0s 4ms/step - loss: 1.4658 - mse: 0.2975 - val_loss: 1.4102 - val_mse: 0.2600\n",
            "Epoch 21/40\n",
            "51/51 [==============================] - 0s 4ms/step - loss: 1.4279 - mse: 0.2941 - val_loss: 1.3828 - val_mse: 0.2665\n",
            "Epoch 22/40\n",
            "51/51 [==============================] - 0s 4ms/step - loss: 1.3994 - mse: 0.2987 - val_loss: 1.3460 - val_mse: 0.2620\n",
            "Epoch 23/40\n",
            "51/51 [==============================] - 0s 4ms/step - loss: 1.3719 - mse: 0.3030 - val_loss: 1.2997 - val_mse: 0.2468\n",
            "Epoch 24/40\n",
            "51/51 [==============================] - 0s 4ms/step - loss: 1.3361 - mse: 0.2978 - val_loss: 1.2822 - val_mse: 0.2594\n",
            "Epoch 25/40\n",
            "51/51 [==============================] - 0s 4ms/step - loss: 1.3048 - mse: 0.2959 - val_loss: 1.2505 - val_mse: 0.2564\n",
            "Epoch 26/40\n",
            "51/51 [==============================] - 0s 4ms/step - loss: 1.2637 - mse: 0.2830 - val_loss: 1.2189 - val_mse: 0.2522\n",
            "Epoch 27/40\n",
            "51/51 [==============================] - 0s 4ms/step - loss: 1.2364 - mse: 0.2827 - val_loss: 1.2066 - val_mse: 0.2666\n",
            "Epoch 28/40\n",
            "51/51 [==============================] - 0s 4ms/step - loss: 1.2151 - mse: 0.2875 - val_loss: 1.1690 - val_mse: 0.2545\n",
            "Epoch 29/40\n",
            "51/51 [==============================] - 0s 4ms/step - loss: 1.1898 - mse: 0.2874 - val_loss: 1.1596 - val_mse: 0.2698\n",
            "Epoch 30/40\n",
            "51/51 [==============================] - 1s 11ms/step - loss: 1.1639 - mse: 0.2856 - val_loss: 1.1380 - val_mse: 0.2718\n",
            "Epoch 31/40\n",
            "51/51 [==============================] - 1s 11ms/step - loss: 1.1350 - mse: 0.2798 - val_loss: 1.1550 - val_mse: 0.3116\n",
            "Epoch 32/40\n",
            "51/51 [==============================] - 0s 4ms/step - loss: 1.1174 - mse: 0.2845 - val_loss: 1.0723 - val_mse: 0.2503\n",
            "Epoch 33/40\n",
            "51/51 [==============================] - 0s 4ms/step - loss: 1.0918 - mse: 0.2801 - val_loss: 1.0634 - val_mse: 0.2623\n",
            "Epoch 34/40\n",
            "51/51 [==============================] - 1s 11ms/step - loss: 1.0655 - mse: 0.2744 - val_loss: 1.0361 - val_mse: 0.2553\n",
            "Epoch 35/40\n",
            "51/51 [==============================] - 0s 10ms/step - loss: 1.0452 - mse: 0.2739 - val_loss: 1.0282 - val_mse: 0.2668\n",
            "Epoch 36/40\n",
            "51/51 [==============================] - 0s 4ms/step - loss: 1.0177 - mse: 0.2655 - val_loss: 1.0060 - val_mse: 0.2635\n",
            "Epoch 37/40\n",
            "51/51 [==============================] - 0s 6ms/step - loss: 1.0071 - mse: 0.2734 - val_loss: 1.0035 - val_mse: 0.2793\n",
            "Epoch 38/40\n",
            "51/51 [==============================] - 1s 12ms/step - loss: 0.9998 - mse: 0.2840 - val_loss: 0.9553 - val_mse: 0.2484\n",
            "Epoch 39/40\n",
            "51/51 [==============================] - 0s 6ms/step - loss: 0.9648 - mse: 0.2661 - val_loss: 0.9498 - val_mse: 0.2598\n",
            "Epoch 40/40\n",
            "51/51 [==============================] - 0s 4ms/step - loss: 0.9496 - mse: 0.2674 - val_loss: 0.9734 - val_mse: 0.2997\n"
          ]
        }
      ]
    },
    {
      "cell_type": "code",
      "source": [
        "plot_loss_curves(model_10_history)"
      ],
      "metadata": {
        "colab": {
          "base_uri": "https://localhost:8080/",
          "height": 573
        },
        "id": "yl3iI-DjPC95",
        "outputId": "f6497be0-88b0-42a1-9b3c-51f3e096d141"
      },
      "execution_count": 47,
      "outputs": [
        {
          "output_type": "display_data",
          "data": {
            "text/plain": [
              "<Figure size 432x288 with 1 Axes>"
            ],
            "image/png": "[encoded data removed]"
          },
          "metadata": {
            "needs_background": "light"
          }
        },
        {
          "output_type": "display_data",
          "data": {
            "text/plain": [
              "<Figure size 432x288 with 1 Axes>"
            ],
            "image/png": "[encoded data removed]"
          },
          "metadata": {
            "needs_background": "light"
          }
        }
      ]
    },
    {
      "cell_type": "markdown",
      "source": [
        "### Model_11 (Double the number of units in the hidden layers of Model_5)"
      ],
      "metadata": {
        "id": "m0muf9HMQSCQ"
      }
    },
    {
      "cell_type": "code",
      "source": [
        "model_11 = tf.keras.Sequential([\n",
        "    layers.Dense(143, input_shape = X_train[0].shape, name = \"input_layer\"),\n",
        "    layers.Dense(200, activation = \"relu\", kernel_regularizer = regularizers.L2(l2 = 0.01)),\n",
        "    layers.Dense(200, activation = \"relu\", kernel_regularizer = regularizers.L2(l2 = 0.01)),\n",
        "    layers.Dense(1, name = \"output_layer\")\n",
        "])\n",
        "\n",
        "model_11.compile(loss = tf.keras.losses.mse,\n",
        "              optimizer = tf.keras.optimizers.Adam(learning_rate = 0.0001),\n",
        "              metrics = [\"mse\"])\n",
        "\n",
        "model_11_history  = model_11.fit(x = X_train, \n",
        "                               y = y_train, \n",
        "                               epochs = 40,\n",
        "                               validation_data = (X_val, y_val),\n",
        "                               callbacks = [create_tensorboard_callback(dir_name = \"nn-predictions\",\n",
        "                                                   experiment_name = \"Model_11\")])"
      ],
      "metadata": {
        "colab": {
          "base_uri": "https://localhost:8080/"
        },
        "id": "x7oU3KMHPE75",
        "outputId": "4d1ef5a4-b947-42a9-f8dc-d8f03c0268c6"
      },
      "execution_count": 48,
      "outputs": [
        {
          "output_type": "stream",
          "name": "stdout",
          "text": [
            "Saving TensorBoard log files to: nn-predictions/Model_11/20221229-175928\n",
            "Epoch 1/40\n",
            "51/51 [==============================] - 1s 8ms/step - loss: 4.6288 - mse: 1.0329 - val_loss: 3.8130 - val_mse: 0.3046\n",
            "Epoch 2/40\n",
            "51/51 [==============================] - 0s 4ms/step - loss: 3.7900 - mse: 0.3694 - val_loss: 3.6130 - val_mse: 0.2865\n",
            "Epoch 3/40\n",
            "51/51 [==============================] - 0s 4ms/step - loss: 3.5809 - mse: 0.3406 - val_loss: 3.4084 - val_mse: 0.2596\n",
            "Epoch 4/40\n",
            "51/51 [==============================] - 0s 4ms/step - loss: 3.3876 - mse: 0.3220 - val_loss: 3.2373 - val_mse: 0.2597\n",
            "Epoch 5/40\n",
            "51/51 [==============================] - 0s 5ms/step - loss: 3.2041 - mse: 0.3054 - val_loss: 3.0611 - val_mse: 0.2457\n",
            "Epoch 6/40\n",
            "51/51 [==============================] - 0s 4ms/step - loss: 3.0356 - mse: 0.2946 - val_loss: 2.9004 - val_mse: 0.2377\n",
            "Epoch 7/40\n",
            "51/51 [==============================] - 0s 4ms/step - loss: 2.8788 - mse: 0.2863 - val_loss: 2.7540 - val_mse: 0.2352\n",
            "Epoch 8/40\n",
            "51/51 [==============================] - 0s 4ms/step - loss: 2.7346 - mse: 0.2818 - val_loss: 2.6168 - val_mse: 0.2332\n",
            "Epoch 9/40\n",
            "51/51 [==============================] - 0s 4ms/step - loss: 2.5966 - mse: 0.2742 - val_loss: 2.4917 - val_mse: 0.2340\n",
            "Epoch 10/40\n",
            "51/51 [==============================] - 0s 5ms/step - loss: 2.4684 - mse: 0.2686 - val_loss: 2.3709 - val_mse: 0.2316\n",
            "Epoch 11/40\n",
            "51/51 [==============================] - 0s 4ms/step - loss: 2.3513 - mse: 0.2660 - val_loss: 2.2603 - val_mse: 0.2318\n",
            "Epoch 12/40\n",
            "51/51 [==============================] - 0s 4ms/step - loss: 2.2400 - mse: 0.2622 - val_loss: 2.1605 - val_mse: 0.2359\n",
            "Epoch 13/40\n",
            "51/51 [==============================] - 0s 4ms/step - loss: 2.1380 - mse: 0.2606 - val_loss: 2.0592 - val_mse: 0.2315\n",
            "Epoch 14/40\n",
            "51/51 [==============================] - 0s 5ms/step - loss: 2.0445 - mse: 0.2607 - val_loss: 1.9740 - val_mse: 0.2365\n",
            "Epoch 15/40\n",
            "51/51 [==============================] - 0s 4ms/step - loss: 1.9503 - mse: 0.2540 - val_loss: 1.8834 - val_mse: 0.2303\n",
            "Epoch 16/40\n",
            "51/51 [==============================] - 0s 5ms/step - loss: 1.8692 - mse: 0.2546 - val_loss: 1.8038 - val_mse: 0.2297\n",
            "Epoch 17/40\n",
            "51/51 [==============================] - 0s 4ms/step - loss: 1.7893 - mse: 0.2513 - val_loss: 1.7300 - val_mse: 0.2296\n",
            "Epoch 18/40\n",
            "51/51 [==============================] - 0s 4ms/step - loss: 1.7156 - mse: 0.2489 - val_loss: 1.6659 - val_mse: 0.2348\n",
            "Epoch 19/40\n",
            "51/51 [==============================] - 0s 5ms/step - loss: 1.6466 - mse: 0.2468 - val_loss: 1.5975 - val_mse: 0.2308\n",
            "Epoch 20/40\n",
            "51/51 [==============================] - 0s 6ms/step - loss: 1.5815 - mse: 0.2444 - val_loss: 1.5361 - val_mse: 0.2300\n",
            "Epoch 21/40\n",
            "51/51 [==============================] - 0s 4ms/step - loss: 1.5247 - mse: 0.2463 - val_loss: 1.4781 - val_mse: 0.2289\n",
            "Epoch 22/40\n",
            "51/51 [==============================] - 0s 4ms/step - loss: 1.4642 - mse: 0.2409 - val_loss: 1.4263 - val_mse: 0.2303\n",
            "Epoch 23/40\n",
            "51/51 [==============================] - 0s 4ms/step - loss: 1.4122 - mse: 0.2408 - val_loss: 1.3729 - val_mse: 0.2272\n",
            "Epoch 24/40\n",
            "51/51 [==============================] - 0s 4ms/step - loss: 1.3633 - mse: 0.2406 - val_loss: 1.3315 - val_mse: 0.2331\n",
            "Epoch 25/40\n",
            "51/51 [==============================] - 0s 4ms/step - loss: 1.3145 - mse: 0.2377 - val_loss: 1.2846 - val_mse: 0.2306\n",
            "Epoch 26/40\n",
            "51/51 [==============================] - 0s 4ms/step - loss: 1.2698 - mse: 0.2361 - val_loss: 1.2408 - val_mse: 0.2285\n",
            "Epoch 27/40\n",
            "51/51 [==============================] - 0s 4ms/step - loss: 1.2270 - mse: 0.2340 - val_loss: 1.2060 - val_mse: 0.2333\n",
            "Epoch 28/40\n",
            "51/51 [==============================] - 0s 5ms/step - loss: 1.1894 - mse: 0.2348 - val_loss: 1.1772 - val_mse: 0.2419\n",
            "Epoch 29/40\n",
            "51/51 [==============================] - 0s 4ms/step - loss: 1.1532 - mse: 0.2350 - val_loss: 1.1307 - val_mse: 0.2306\n",
            "Epoch 30/40\n",
            "51/51 [==============================] - 0s 4ms/step - loss: 1.1191 - mse: 0.2352 - val_loss: 1.0964 - val_mse: 0.2293\n",
            "Epoch 31/40\n",
            "51/51 [==============================] - 0s 5ms/step - loss: 1.0820 - mse: 0.2301 - val_loss: 1.1036 - val_mse: 0.2680\n",
            "Epoch 32/40\n",
            "51/51 [==============================] - 0s 4ms/step - loss: 1.0580 - mse: 0.2365 - val_loss: 1.0343 - val_mse: 0.2277\n",
            "Epoch 33/40\n",
            "51/51 [==============================] - 0s 4ms/step - loss: 1.0202 - mse: 0.2272 - val_loss: 1.0059 - val_mse: 0.2271\n",
            "Epoch 34/40\n",
            "51/51 [==============================] - 0s 4ms/step - loss: 0.9922 - mse: 0.2264 - val_loss: 0.9779 - val_mse: 0.2254\n",
            "Epoch 35/40\n",
            "51/51 [==============================] - 0s 5ms/step - loss: 0.9671 - mse: 0.2268 - val_loss: 0.9559 - val_mse: 0.2285\n",
            "Epoch 36/40\n",
            "51/51 [==============================] - 0s 5ms/step - loss: 0.9385 - mse: 0.2228 - val_loss: 0.9300 - val_mse: 0.2264\n",
            "Epoch 37/40\n",
            "51/51 [==============================] - 0s 4ms/step - loss: 0.9185 - mse: 0.2259 - val_loss: 0.9078 - val_mse: 0.2269\n",
            "Epoch 38/40\n",
            "51/51 [==============================] - 0s 4ms/step - loss: 0.8944 - mse: 0.2241 - val_loss: 0.8838 - val_mse: 0.2245\n",
            "Epoch 39/40\n",
            "51/51 [==============================] - 0s 4ms/step - loss: 0.8737 - mse: 0.2242 - val_loss: 0.8622 - val_mse: 0.2232\n",
            "Epoch 40/40\n",
            "51/51 [==============================] - 0s 4ms/step - loss: 0.8487 - mse: 0.2191 - val_loss: 0.8474 - val_mse: 0.2278\n"
          ]
        }
      ]
    },
    {
      "cell_type": "code",
      "source": [
        "plot_loss_curves(model_11_history)"
      ],
      "metadata": {
        "colab": {
          "base_uri": "https://localhost:8080/",
          "height": 573
        },
        "id": "5TIvMhT1QHlI",
        "outputId": "ad15188e-2513-423b-803f-4c2c5510968f"
      },
      "execution_count": 49,
      "outputs": [
        {
          "output_type": "display_data",
          "data": {
            "text/plain": [
              "<Figure size 432x288 with 1 Axes>"
            ],
            "image/png": "[encoded data removed]"
          },
          "metadata": {
            "needs_background": "light"
          }
        },
        {
          "output_type": "display_data",
          "data": {
            "text/plain": [
              "<Figure size 432x288 with 1 Axes>"
            ],
            "image/png": "[encoded data removed]"
          },
          "metadata": {
            "needs_background": "light"
          }
        }
      ]
    },
    {
      "cell_type": "markdown",
      "source": [
        "### Model_12 (Quadruple the number of units in the hidden layers of Model_5)"
      ],
      "metadata": {
        "id": "kVlXahggQ7A8"
      }
    },
    {
      "cell_type": "code",
      "source": [
        "model_12 = tf.keras.Sequential([\n",
        "    layers.Dense(143, input_shape = X_train[0].shape, name = \"input_layer\"),\n",
        "    layers.Dense(400, activation = \"relu\", kernel_regularizer = regularizers.L2(l2 = 0.01)),\n",
        "    layers.Dense(400, activation = \"relu\", kernel_regularizer = regularizers.L2(l2 = 0.01)),\n",
        "    layers.Dense(1, name = \"output_layer\")\n",
        "])\n",
        "\n",
        "model_12.compile(loss = tf.keras.losses.mse,\n",
        "              optimizer = tf.keras.optimizers.Adam(learning_rate = 0.0001),\n",
        "              metrics = [\"mse\"])\n",
        "\n",
        "model_12_history  = model_12.fit(x = X_train, \n",
        "                               y = y_train, \n",
        "                               epochs = 40,\n",
        "                               validation_data = (X_val, y_val),\n",
        "                               callbacks = [create_tensorboard_callback(dir_name = \"nn-predictions\",\n",
        "                                                   experiment_name = \"Model_12\")])"
      ],
      "metadata": {
        "colab": {
          "base_uri": "https://localhost:8080/"
        },
        "id": "q4dRdacvQLLR",
        "outputId": "994f3331-5d68-41b5-a954-f513195eeb8d"
      },
      "execution_count": 50,
      "outputs": [
        {
          "output_type": "stream",
          "name": "stdout",
          "text": [
            "Saving TensorBoard log files to: nn-predictions/Model_12/20221229-175939\n",
            "Epoch 1/40\n",
            "51/51 [==============================] - 1s 11ms/step - loss: 6.7359 - mse: 0.8279 - val_loss: 5.9572 - val_mse: 0.2954\n",
            "Epoch 2/40\n",
            "51/51 [==============================] - 0s 9ms/step - loss: 5.7743 - mse: 0.3456 - val_loss: 5.4554 - val_mse: 0.2738\n",
            "Epoch 3/40\n",
            "51/51 [==============================] - 0s 8ms/step - loss: 5.2863 - mse: 0.3246 - val_loss: 4.9841 - val_mse: 0.2521\n",
            "Epoch 4/40\n",
            "51/51 [==============================] - 0s 7ms/step - loss: 4.8405 - mse: 0.3114 - val_loss: 4.5787 - val_mse: 0.2608\n",
            "Epoch 5/40\n",
            "51/51 [==============================] - 0s 7ms/step - loss: 4.4315 - mse: 0.2975 - val_loss: 4.1881 - val_mse: 0.2459\n",
            "Epoch 6/40\n",
            "51/51 [==============================] - 0s 8ms/step - loss: 4.0653 - mse: 0.2894 - val_loss: 3.8374 - val_mse: 0.2341\n",
            "Epoch 7/40\n",
            "51/51 [==============================] - 0s 7ms/step - loss: 3.7345 - mse: 0.2813 - val_loss: 3.5300 - val_mse: 0.2323\n",
            "Epoch 8/40\n",
            "51/51 [==============================] - 0s 7ms/step - loss: 3.4394 - mse: 0.2767 - val_loss: 3.2550 - val_mse: 0.2322\n",
            "Epoch 9/40\n",
            "51/51 [==============================] - 0s 7ms/step - loss: 3.1714 - mse: 0.2691 - val_loss: 3.0096 - val_mse: 0.2326\n",
            "Epoch 10/40\n",
            "51/51 [==============================] - 0s 9ms/step - loss: 2.9306 - mse: 0.2624 - val_loss: 2.7811 - val_mse: 0.2254\n",
            "Epoch 11/40\n",
            "51/51 [==============================] - 0s 8ms/step - loss: 2.7171 - mse: 0.2592 - val_loss: 2.5837 - val_mse: 0.2269\n",
            "Epoch 12/40\n",
            "51/51 [==============================] - 0s 7ms/step - loss: 2.5231 - mse: 0.2545 - val_loss: 2.4044 - val_mse: 0.2268\n",
            "Epoch 13/40\n",
            "51/51 [==============================] - 0s 8ms/step - loss: 2.3551 - mse: 0.2564 - val_loss: 2.2404 - val_mse: 0.2232\n",
            "Epoch 14/40\n",
            "51/51 [==============================] - 0s 7ms/step - loss: 2.2034 - mse: 0.2566 - val_loss: 2.1205 - val_mse: 0.2471\n",
            "Epoch 15/40\n",
            "51/51 [==============================] - 0s 8ms/step - loss: 2.0559 - mse: 0.2458 - val_loss: 1.9661 - val_mse: 0.2217\n",
            "Epoch 16/40\n",
            "51/51 [==============================] - 0s 7ms/step - loss: 1.9335 - mse: 0.2466 - val_loss: 1.8514 - val_mse: 0.2242\n",
            "Epoch 17/40\n",
            "51/51 [==============================] - 0s 7ms/step - loss: 1.8205 - mse: 0.2447 - val_loss: 1.7410 - val_mse: 0.2187\n",
            "Epoch 18/40\n",
            "51/51 [==============================] - 0s 7ms/step - loss: 1.7186 - mse: 0.2435 - val_loss: 1.6435 - val_mse: 0.2171\n",
            "Epoch 19/40\n",
            "51/51 [==============================] - 0s 7ms/step - loss: 1.6208 - mse: 0.2368 - val_loss: 1.5576 - val_mse: 0.2179\n",
            "Epoch 20/40\n",
            "51/51 [==============================] - 0s 8ms/step - loss: 1.5386 - mse: 0.2376 - val_loss: 1.4771 - val_mse: 0.2161\n",
            "Epoch 21/40\n",
            "51/51 [==============================] - 0s 7ms/step - loss: 1.4637 - mse: 0.2379 - val_loss: 1.4097 - val_mse: 0.2208\n",
            "Epoch 22/40\n",
            "51/51 [==============================] - 0s 9ms/step - loss: 1.3879 - mse: 0.2308 - val_loss: 1.3392 - val_mse: 0.2156\n",
            "Epoch 23/40\n",
            "51/51 [==============================] - 0s 8ms/step - loss: 1.3238 - mse: 0.2300 - val_loss: 1.2814 - val_mse: 0.2185\n",
            "Epoch 24/40\n",
            "51/51 [==============================] - 0s 7ms/step - loss: 1.2687 - mse: 0.2330 - val_loss: 1.2344 - val_mse: 0.2273\n",
            "Epoch 25/40\n",
            "51/51 [==============================] - 0s 7ms/step - loss: 1.2086 - mse: 0.2265 - val_loss: 1.1716 - val_mse: 0.2158\n",
            "Epoch 26/40\n",
            "51/51 [==============================] - 0s 7ms/step - loss: 1.1592 - mse: 0.2263 - val_loss: 1.1244 - val_mse: 0.2157\n",
            "Epoch 27/40\n",
            "51/51 [==============================] - 0s 7ms/step - loss: 1.1102 - mse: 0.2233 - val_loss: 1.0862 - val_mse: 0.2219\n",
            "Epoch 28/40\n",
            "51/51 [==============================] - 0s 7ms/step - loss: 1.0675 - mse: 0.2230 - val_loss: 1.0634 - val_mse: 0.2402\n",
            "Epoch 29/40\n",
            "51/51 [==============================] - 0s 7ms/step - loss: 1.0280 - mse: 0.2232 - val_loss: 1.0047 - val_mse: 0.2194\n",
            "Epoch 30/40\n",
            "51/51 [==============================] - 0s 8ms/step - loss: 0.9907 - mse: 0.2226 - val_loss: 0.9874 - val_mse: 0.2376\n",
            "Epoch 31/40\n",
            "51/51 [==============================] - 0s 7ms/step - loss: 0.9556 - mse: 0.2216 - val_loss: 0.9968 - val_mse: 0.2801\n",
            "Epoch 32/40\n",
            "51/51 [==============================] - 0s 7ms/step - loss: 0.9283 - mse: 0.2262 - val_loss: 0.9049 - val_mse: 0.2184\n",
            "Epoch 33/40\n",
            "51/51 [==============================] - 0s 8ms/step - loss: 0.8878 - mse: 0.2150 - val_loss: 0.8743 - val_mse: 0.2161\n",
            "Epoch 34/40\n",
            "51/51 [==============================] - 0s 7ms/step - loss: 0.8597 - mse: 0.2147 - val_loss: 0.8443 - val_mse: 0.2129\n",
            "Epoch 35/40\n",
            "51/51 [==============================] - 0s 7ms/step - loss: 0.8311 - mse: 0.2120 - val_loss: 0.8180 - val_mse: 0.2117\n",
            "Epoch 36/40\n",
            "51/51 [==============================] - 0s 7ms/step - loss: 0.8046 - mse: 0.2100 - val_loss: 0.7991 - val_mse: 0.2166\n",
            "Epoch 37/40\n",
            "51/51 [==============================] - 0s 7ms/step - loss: 0.7818 - mse: 0.2102 - val_loss: 0.7733 - val_mse: 0.2130\n",
            "Epoch 38/40\n",
            "51/51 [==============================] - 0s 8ms/step - loss: 0.7592 - mse: 0.2092 - val_loss: 0.7534 - val_mse: 0.2143\n",
            "Epoch 39/40\n",
            "51/51 [==============================] - 0s 7ms/step - loss: 0.7405 - mse: 0.2107 - val_loss: 0.7355 - val_mse: 0.2160\n",
            "Epoch 40/40\n",
            "51/51 [==============================] - 0s 7ms/step - loss: 0.7180 - mse: 0.2077 - val_loss: 0.7144 - val_mse: 0.2137\n"
          ]
        }
      ]
    },
    {
      "cell_type": "code",
      "source": [
        "plot_loss_curves(model_12_history)"
      ],
      "metadata": {
        "colab": {
          "base_uri": "https://localhost:8080/",
          "height": 573
        },
        "id": "EPtABrGTRKIy",
        "outputId": "062ffdbb-02b3-4960-dd0c-1f2699c9ca69"
      },
      "execution_count": 51,
      "outputs": [
        {
          "output_type": "display_data",
          "data": {
            "text/plain": [
              "<Figure size 432x288 with 1 Axes>"
            ],
            "image/png": "[encoded data removed]"
          },
          "metadata": {
            "needs_background": "light"
          }
        },
        {
          "output_type": "display_data",
          "data": {
            "text/plain": [
              "<Figure size 432x288 with 1 Axes>"
            ],
            "image/png": "[encoded data removed]"
          },
          "metadata": {
            "needs_background": "light"
          }
        }
      ]
    },
    {
      "cell_type": "markdown",
      "source": [
        "### Model_13 (Add one hidden layer to Model_11)"
      ],
      "metadata": {
        "id": "SI3-jdk_RT7W"
      }
    },
    {
      "cell_type": "code",
      "source": [
        "model_13 = tf.keras.Sequential([\n",
        "    layers.Dense(143, input_shape = X_train[0].shape, name = \"input_layer\"),\n",
        "    layers.Dense(200, activation = \"relu\", kernel_regularizer = regularizers.L2(l2 = 0.01)),\n",
        "    layers.Dense(200, activation = \"relu\", kernel_regularizer = regularizers.L2(l2 = 0.01)),\n",
        "    layers.Dense(200, activation = \"relu\", kernel_regularizer = regularizers.L2(l2 = 0.01)),\n",
        "    layers.Dense(1, name = \"output_layer\")\n",
        "])\n",
        "\n",
        "model_13.compile(loss = tf.keras.losses.mse,\n",
        "              optimizer = tf.keras.optimizers.Adam(learning_rate = 0.0001),\n",
        "              metrics = [\"mse\"])\n",
        "\n",
        "model_13_history  = model_13.fit(x = X_train, \n",
        "                               y = y_train, \n",
        "                               epochs = 40,\n",
        "                               validation_data = (X_val, y_val),\n",
        "                               callbacks = [create_tensorboard_callback(dir_name = \"nn-predictions\",\n",
        "                                                   experiment_name = \"Model_13\")])"
      ],
      "metadata": {
        "colab": {
          "base_uri": "https://localhost:8080/"
        },
        "id": "rNYBVNTMRiEE",
        "outputId": "1c169e17-8cc4-4893-98b2-96c254dc9c82"
      },
      "execution_count": 52,
      "outputs": [
        {
          "output_type": "stream",
          "name": "stdout",
          "text": [
            "Saving TensorBoard log files to: nn-predictions/Model_13/20221229-180001\n",
            "Epoch 1/40\n",
            "51/51 [==============================] - 1s 8ms/step - loss: 7.1368 - mse: 1.5841 - val_loss: 5.7031 - val_mse: 0.3103\n",
            "Epoch 2/40\n",
            "51/51 [==============================] - 0s 5ms/step - loss: 5.5797 - mse: 0.3468 - val_loss: 5.3430 - val_mse: 0.2802\n",
            "Epoch 3/40\n",
            "51/51 [==============================] - 0s 5ms/step - loss: 5.2326 - mse: 0.3243 - val_loss: 5.0045 - val_mse: 0.2595\n",
            "Epoch 4/40\n",
            "51/51 [==============================] - 0s 6ms/step - loss: 4.9116 - mse: 0.3144 - val_loss: 4.7106 - val_mse: 0.2691\n",
            "Epoch 5/40\n",
            "51/51 [==============================] - 0s 5ms/step - loss: 4.6051 - mse: 0.3020 - val_loss: 4.4107 - val_mse: 0.2537\n",
            "Epoch 6/40\n",
            "51/51 [==============================] - 0s 5ms/step - loss: 4.3216 - mse: 0.2944 - val_loss: 4.1347 - val_mse: 0.2436\n",
            "Epoch 7/40\n",
            "51/51 [==============================] - 0s 5ms/step - loss: 4.0573 - mse: 0.2875 - val_loss: 3.8835 - val_mse: 0.2405\n",
            "Epoch 8/40\n",
            "51/51 [==============================] - 0s 5ms/step - loss: 3.8147 - mse: 0.2845 - val_loss: 3.6516 - val_mse: 0.2391\n",
            "Epoch 9/40\n",
            "51/51 [==============================] - 0s 4ms/step - loss: 3.5855 - mse: 0.2770 - val_loss: 3.4389 - val_mse: 0.2396\n",
            "Epoch 10/40\n",
            "51/51 [==============================] - 0s 5ms/step - loss: 3.3742 - mse: 0.2717 - val_loss: 3.2378 - val_mse: 0.2365\n",
            "Epoch 11/40\n",
            "51/51 [==============================] - 0s 5ms/step - loss: 3.1812 - mse: 0.2696 - val_loss: 3.0534 - val_mse: 0.2354\n",
            "Epoch 12/40\n",
            "51/51 [==============================] - 0s 5ms/step - loss: 3.0008 - mse: 0.2659 - val_loss: 2.8890 - val_mse: 0.2410\n",
            "Epoch 13/40\n",
            "51/51 [==============================] - 0s 5ms/step - loss: 2.8371 - mse: 0.2656 - val_loss: 2.7258 - val_mse: 0.2344\n",
            "Epoch 14/40\n",
            "51/51 [==============================] - 0s 5ms/step - loss: 2.6868 - mse: 0.2660 - val_loss: 2.5907 - val_mse: 0.2439\n",
            "Epoch 15/40\n",
            "51/51 [==============================] - 0s 5ms/step - loss: 2.5397 - mse: 0.2581 - val_loss: 2.4471 - val_mse: 0.2337\n",
            "Epoch 16/40\n",
            "51/51 [==============================] - 0s 5ms/step - loss: 2.4135 - mse: 0.2606 - val_loss: 2.3223 - val_mse: 0.2327\n",
            "Epoch 17/40\n",
            "51/51 [==============================] - 0s 5ms/step - loss: 2.2906 - mse: 0.2568 - val_loss: 2.2064 - val_mse: 0.2310\n",
            "Epoch 18/40\n",
            "51/51 [==============================] - 0s 5ms/step - loss: 2.1778 - mse: 0.2542 - val_loss: 2.1053 - val_mse: 0.2360\n",
            "Epoch 19/40\n",
            "51/51 [==============================] - 0s 5ms/step - loss: 2.0727 - mse: 0.2512 - val_loss: 2.0027 - val_mse: 0.2313\n",
            "Epoch 20/40\n",
            "51/51 [==============================] - 0s 5ms/step - loss: 1.9766 - mse: 0.2497 - val_loss: 1.9124 - val_mse: 0.2319\n",
            "Epoch 21/40\n",
            "51/51 [==============================] - 0s 5ms/step - loss: 1.8913 - mse: 0.2520 - val_loss: 1.8278 - val_mse: 0.2318\n",
            "Epoch 22/40\n",
            "51/51 [==============================] - 0s 5ms/step - loss: 1.8037 - mse: 0.2456 - val_loss: 1.7489 - val_mse: 0.2307\n",
            "Epoch 23/40\n",
            "51/51 [==============================] - 0s 5ms/step - loss: 1.7286 - mse: 0.2461 - val_loss: 1.6725 - val_mse: 0.2273\n",
            "Epoch 24/40\n",
            "51/51 [==============================] - 0s 5ms/step - loss: 1.6583 - mse: 0.2463 - val_loss: 1.6090 - val_mse: 0.2317\n",
            "Epoch 25/40\n",
            "51/51 [==============================] - 0s 5ms/step - loss: 1.5895 - mse: 0.2431 - val_loss: 1.5445 - val_mse: 0.2307\n",
            "Epoch 26/40\n",
            "51/51 [==============================] - 0s 5ms/step - loss: 1.5274 - mse: 0.2422 - val_loss: 1.4828 - val_mse: 0.2278\n",
            "Epoch 27/40\n",
            "51/51 [==============================] - 0s 6ms/step - loss: 1.4679 - mse: 0.2400 - val_loss: 1.4310 - val_mse: 0.2314\n",
            "Epoch 28/40\n",
            "51/51 [==============================] - 0s 5ms/step - loss: 1.4156 - mse: 0.2411 - val_loss: 1.3900 - val_mse: 0.2423\n",
            "Epoch 29/40\n",
            "51/51 [==============================] - 0s 5ms/step - loss: 1.3655 - mse: 0.2413 - val_loss: 1.3296 - val_mse: 0.2302\n",
            "Epoch 30/40\n",
            "51/51 [==============================] - 0s 5ms/step - loss: 1.3190 - mse: 0.2416 - val_loss: 1.2822 - val_mse: 0.2278\n",
            "Epoch 31/40\n",
            "51/51 [==============================] - 0s 6ms/step - loss: 1.2690 - mse: 0.2353 - val_loss: 1.2852 - val_mse: 0.2737\n",
            "Epoch 32/40\n",
            "51/51 [==============================] - 0s 5ms/step - loss: 1.2348 - mse: 0.2424 - val_loss: 1.2012 - val_mse: 0.2289\n",
            "Epoch 33/40\n",
            "51/51 [==============================] - 0s 5ms/step - loss: 1.1875 - mse: 0.2332 - val_loss: 1.1627 - val_mse: 0.2275\n",
            "Epoch 34/40\n",
            "51/51 [==============================] - 0s 5ms/step - loss: 1.1503 - mse: 0.2324 - val_loss: 1.1278 - val_mse: 0.2277\n",
            "Epoch 35/40\n",
            "51/51 [==============================] - 0s 5ms/step - loss: 1.1157 - mse: 0.2319 - val_loss: 1.0927 - val_mse: 0.2260\n",
            "Epoch 36/40\n",
            "51/51 [==============================] - 0s 5ms/step - loss: 1.0812 - mse: 0.2299 - val_loss: 1.0602 - val_mse: 0.2249\n",
            "Epoch 37/40\n",
            "51/51 [==============================] - 0s 5ms/step - loss: 1.0531 - mse: 0.2325 - val_loss: 1.0319 - val_mse: 0.2265\n",
            "Epoch 38/40\n",
            "51/51 [==============================] - 0s 5ms/step - loss: 1.0225 - mse: 0.2308 - val_loss: 1.0026 - val_mse: 0.2255\n",
            "Epoch 39/40\n",
            "51/51 [==============================] - 0s 5ms/step - loss: 0.9942 - mse: 0.2297 - val_loss: 0.9729 - val_mse: 0.2221\n",
            "Epoch 40/40\n",
            "51/51 [==============================] - 0s 5ms/step - loss: 0.9638 - mse: 0.2253 - val_loss: 0.9508 - val_mse: 0.2253\n"
          ]
        }
      ]
    },
    {
      "cell_type": "markdown",
      "source": [
        "# **Conclusions**"
      ],
      "metadata": {
        "id": "_Za7jdY0Dn5v"
      }
    },
    {
      "cell_type": "markdown",
      "source": [
        "## Comparison of experiment results using TensorBoard"
      ],
      "metadata": {
        "id": "-jyyo3iQYQjU"
      }
    },
    {
      "cell_type": "markdown",
      "source": [
        "Results can be viewed [here](https://tensorboard.dev/experiment/17PkL7o2Tn65DBujAakWiw/).\n"
      ],
      "metadata": {
        "id": "RL_nWvKoCvnC"
      }
    },
    {
      "cell_type": "code",
      "source": [
        "# Upload TensorBoard dev records \n",
        "!tensorboard dev upload --logdir ./nn-predictions/ \\\n",
        "--name \"NN regressors for length of hospital stay\" \\\n",
        "--description \"Improvement of the NN model\" \\\n",
        "--one_shot"
      ],
      "metadata": {
        "id": "Z0sjTJieR4QB",
        "colab": {
          "base_uri": "https://localhost:8080/"
        },
        "outputId": "e4eccfdb-aec1-4160-e294-026ff46bea68"
      },
      "execution_count": 53,
      "outputs": [
        {
          "output_type": "stream",
          "name": "stdout",
          "text": [
            "2022-12-29 18:01:33.816822: E tensorflow/stream_executor/cuda/cuda_driver.cc:271] failed call to cuInit: CUDA_ERROR_NO_DEVICE: no CUDA-capable device is detected\n",
            "\n",
            "***** TensorBoard Uploader *****\n",
            "\n",
            "This will upload your TensorBoard logs to https://tensorboard.dev/ from\n",
            "the following directory:\n",
            "\n",
            "./nn-predictions/\n",
            "\n",
            "This TensorBoard will be visible to everyone. Do not upload sensitive\n",
            "data.\n",
            "\n",
            "Your use of this service is subject to Google's Terms of Service\n",
            "<https://policies.google.com/terms> and Privacy Policy\n",
            "<https://policies.google.com/privacy>, and TensorBoard.dev's Terms of Service\n",
            "<https://tensorboard.dev/policy/terms/>.\n",
            "\n",
            "This notice will not be shown again while you are logged into the uploader.\n",
            "To log out, run `tensorboard dev auth revoke`.\n",
            "\n",
            "Continue? (yes/NO) yes\n",
            "\n",
            "Please visit this URL to authorize this application: https://accounts.google.com/o/oauth2/auth?response_type=code&client_id=373649185512-8v619h5kft38l4456nm2dj4ubeqsrvh6.apps.googleusercontent.com&redirect_uri=urn%3Aietf%3Awg%3Aoauth%3A2.0%3Aoob&scope=openid+https%3A%2F%2Fwww.googleapis.com%2Fauth%2Fuserinfo.email&state=ghJoJCzjdUeJuzqgZXq0y3eXXOoXIp&prompt=consent&access_type=offline\n",
            "Enter the authorization code: 4/1AWgavdfk6VIW5X5ZnttrxnwJstTE3CKLgnGT6k8vBt3M3xOalSBfVZ5UO9Y\n",
            "\n",
            "\n",
            "New experiment created. View your TensorBoard at: https://tensorboard.dev/experiment/17PkL7o2Tn65DBujAakWiw/\n",
            "\n",
            "\u001b[1m[2022-12-29T18:01:58]\u001b[0m Started scanning logdir.\n",
            "\u001b[1m[2022-12-29T18:02:16]\u001b[0m Total uploaded: 3420 scalars, 0 tensors, 18 binary objects (891.3 kB)\n",
            "\u001b[1m[2022-12-29T18:02:16]\u001b[0m Done scanning logdir.\n",
            "\n",
            "\n",
            "Done. View your TensorBoard at https://tensorboard.dev/experiment/17PkL7o2Tn65DBujAakWiw/\n"
          ]
        }
      ]
    },
    {
      "cell_type": "markdown",
      "source": [
        "## Final_model\n",
        "\n",
        "Based on TensorBoard, Model_12 is the best model"
      ],
      "metadata": {
        "id": "dtBEC8sWT1FX"
      }
    },
    {
      "cell_type": "code",
      "source": [
        "model_12.evaluate(X_test, y_test)"
      ],
      "metadata": {
        "colab": {
          "base_uri": "https://localhost:8080/"
        },
        "id": "jd7_O6RIU6xK",
        "outputId": "6bfaf2d7-7590-4b3a-b8f6-c5a35f6010c7"
      },
      "execution_count": 56,
      "outputs": [
        {
          "output_type": "stream",
          "name": "stdout",
          "text": [
            "7/7 [==============================] - 0s 5ms/step - loss: 0.7749 - mse: 0.2741\n"
          ]
        },
        {
          "output_type": "execute_result",
          "data": {
            "text/plain": [
              "[0.7748507261276245, 0.2740722596645355]"
            ]
          },
          "metadata": {},
          "execution_count": 56
        }
      ]
    }
  ]
}