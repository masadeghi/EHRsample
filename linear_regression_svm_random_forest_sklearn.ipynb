{
  "cells": [
    {
      "cell_type": "markdown",
      "metadata": {
        "id": "view-in-github",
        "colab_type": "text"
      },
      "source": [
        "<a href=\"https://colab.research.google.com/github/masadeghi/EHRsample/blob/main/linear_regression_svm_random_forest_sklearn.ipynb\" target=\"_parent\"><img src=\"https://colab.research.google.com/assets/colab-badge.svg\" alt=\"Open In Colab\"/></a>"
      ]
    },
    {
      "cell_type": "markdown",
      "metadata": {
        "id": "hB6wTVgIF8LG"
      },
      "source": [
        "# **Import dependencies**"
      ]
    },
    {
      "cell_type": "code",
      "execution_count": 1,
      "metadata": {
        "id": "r3GhuaVEF--D"
      },
      "outputs": [],
      "source": [
        "import pandas as pd\n",
        "import numpy as np\n",
        "import random\n",
        "import time\n",
        "import matplotlib.pyplot as plt\n",
        "\n",
        "from sklearn.preprocessing import OneHotEncoder\n",
        "from sklearn.preprocessing import MinMaxScaler\n",
        "\n",
        "from sklearn.model_selection import train_test_split\n",
        "from sklearn.model_selection import RandomizedSearchCV\n",
        "\n",
        "from sklearn.impute import KNNImputer\n",
        "\n",
        "from sklearn.linear_model import ElasticNetCV\n",
        "from sklearn.svm import SVR\n",
        "from sklearn.ensemble import RandomForestRegressor\n",
        "from sklearn.ensemble import VotingRegressor\n",
        "\n",
        "from sklearn.metrics import mean_squared_error"
      ]
    },
    {
      "cell_type": "markdown",
      "metadata": {
        "id": "Ft063vV9D1fV"
      },
      "source": [
        "# **Import data**\n",
        "\n",
        "1. Download the data from this link (You'll need to sign up in the PhysioNet website and sign a data use agreement.'): https://physionet.org/content/heart-failure-zigong/1.3/#files\n",
        "2. Upload the .zip file to your google drive. (Here, I've uploaded the file to a folder named \"databases\" in my Google drive)\n",
        "3. Read the datasets into pandas dataframes."
      ]
    },
    {
      "cell_type": "code",
      "execution_count": null,
      "metadata": {
        "colab": {
          "base_uri": "https://localhost:8080/"
        },
        "id": "1OHCzSNR9O_G",
        "outputId": "63be7b02-c3ae-44f8-d898-6bb28d7a3553"
      },
      "outputs": [
        {
          "name": "stdout",
          "output_type": "stream",
          "text": [
            "Mounted at /content/gdrive\n"
          ]
        }
      ],
      "source": [
        "# Mount Google drive\n",
        "from google.colab import drive\n",
        "\n",
        "drive.mount('/content/gdrive')"
      ]
    },
    {
      "cell_type": "code",
      "execution_count": null,
      "metadata": {
        "colab": {
          "base_uri": "https://localhost:8080/"
        },
        "id": "A6czABpX9ZH2",
        "outputId": "7c2653c2-ffbe-4933-d809-1604b3406919"
      },
      "outputs": [
        {
          "name": "stdout",
          "output_type": "stream",
          "text": [
            "Archive:  gdrive/MyDrive/databases/hospitalized-patients-with-heart-failure-integrating-electronic-healthcare-records-and-external-outcome-data-1.3.zip\n",
            "  inflating: hospitalized-patients-with-heart-failure-integrating-electronic-healthcare-records-and-external-outcome-data-1.3/LICENSE.txt  \n",
            "  inflating: hospitalized-patients-with-heart-failure-integrating-electronic-healthcare-records-and-external-outcome-data-1.3/SHA256SUMS.txt  \n",
            "  inflating: hospitalized-patients-with-heart-failure-integrating-electronic-healthcare-records-and-external-outcome-data-1.3/dat.csv  \n",
            "  inflating: hospitalized-patients-with-heart-failure-integrating-electronic-healthcare-records-and-external-outcome-data-1.3/dat_md.csv  \n",
            "  inflating: hospitalized-patients-with-heart-failure-integrating-electronic-healthcare-records-and-external-outcome-data-1.3/dataDictionary.csv  \n"
          ]
        }
      ],
      "source": [
        "# Unzip the .zip file containing all the datasets\n",
        "!unzip gdrive/MyDrive/databases/hospitalized-patients-with-heart-failure-integrating-electronic-healthcare-records-and-external-outcome-data-1.3.zip"
      ]
    },
    {
      "cell_type": "code",
      "execution_count": 3,
      "metadata": {
        "id": "_yU010e195ub"
      },
      "outputs": [],
      "source": [
        "# Read the datasets into pandas dataframes\n",
        "patient_data = pd.read_csv('/content/hospitalized-patients-with-heart-failure-integrating-electronic-healthcare-records-and-external-outcome-data-1.3/dat.csv', index_col = 0)\n",
        "treatment_data = pd.read_csv('/content/hospitalized-patients-with-heart-failure-integrating-electronic-healthcare-records-and-external-outcome-data-1.3/dat_md.csv', index_col = 0)\n",
        "dict_data = pd.read_csv('/content/hospitalized-patients-with-heart-failure-integrating-electronic-healthcare-records-and-external-outcome-data-1.3/dataDictionary.csv', index_col = 0)"
      ]
    },
    {
      "cell_type": "markdown",
      "metadata": {
        "id": "vz3oTkgDFD_D"
      },
      "source": [
        "# **Exploratory data analysis and feature engineering**"
      ]
    },
    {
      "cell_type": "markdown",
      "metadata": {
        "id": "tA8JkS7TLdWW"
      },
      "source": [
        "## Step 1: Restructure the treatment data\n",
        "One-hot encode the `treatment_data` dataset so that treatment data (drugs administered to the patients during their hospitalization) could be concatenated with the clinical and lab data (`patient_data` dataset)."
      ]
    },
    {
      "cell_type": "code",
      "execution_count": 4,
      "metadata": {
        "id": "CVTt7wzD96Ez"
      },
      "outputs": [],
      "source": [
        "# Initialize zeros matrix with desired dimensions, indexes, and column names\n",
        "drugs = np.zeros((len(patient_data['inpatient.number'].unique()),\n",
        "                  len(treatment_data['Drug_name'].unique())))\n",
        "\n",
        "drugs = pd.DataFrame(drugs, index = patient_data['inpatient.number'].unique(), columns = treatment_data['Drug_name'].unique())\n",
        "\n",
        "# Iterate over the rows and columns of the constructed matrix and repalce 0 with 1\n",
        "# in the appropriate column if the treatment was administered.\n",
        "for index, row in drugs.iterrows():\n",
        "  for col in drugs.columns:\n",
        "    subset = treatment_data.loc[treatment_data['inpatient.number'] == index, 'Drug_name']\n",
        "    if col in subset.values:\n",
        "      drugs.loc[index, col] = 1\n",
        "\n",
        "# Concatenate the resulting matrix with the main dataset:\n",
        "# Total data (t_data) = main dataset + drug data\n",
        "patient_data.set_index('inpatient.number', inplace = True)\n",
        "\n",
        "t_data = pd.concat([patient_data, drugs], axis = 1)"
      ]
    },
    {
      "cell_type": "markdown",
      "metadata": {
        "id": "-OGdU7lmLbQw"
      },
      "source": [
        "## Step 2: Explore the features\n",
        "\n",
        "* Identify features with missing data.\n",
        "* Explore each feature to understand its data structure."
      ]
    },
    {
      "cell_type": "code",
      "execution_count": 5,
      "metadata": {
        "colab": {
          "base_uri": "https://localhost:8080/",
          "height": 265
        },
        "id": "uBhcaGIKIcE5",
        "outputId": "671f5d4f-a029-43d0-ad64-0a6b64ddc475"
      },
      "outputs": [
        {
          "output_type": "display_data",
          "data": {
            "text/plain": [
              "<Figure size 432x288 with 1 Axes>"
            ],
            "image/png": "[encoded data removed]"
          },
          "metadata": {
            "needs_background": "light"
          }
        }
      ],
      "source": [
        "# Determining the extent of missing data in the dataset\n",
        "missing_perc = []\n",
        "\n",
        "for i, col in enumerate(t_data.columns):\n",
        "  percentage = t_data[col].isnull().mean()\n",
        "  missing_perc.append((i, col, percentage))\n",
        "\n",
        "missing_perc.sort(key = lambda x: x[2], reverse = True)\n",
        "\n",
        "plt.hist([i[2] for i in missing_perc], bins = 20)\n",
        "plt.show()"
      ]
    },
    {
      "cell_type": "code",
      "execution_count": 6,
      "metadata": {
        "colab": {
          "base_uri": "https://localhost:8080/"
        },
        "id": "MEXw-K0uKxkw",
        "outputId": "68b50516-e8bf-4167-f120-d72238108d95"
      },
      "outputs": [
        {
          "output_type": "stream",
          "name": "stdout",
          "text": [
            "857781    11\n",
            "743087     8\n",
            "866418     5\n",
            "775928    11\n",
            "810128     5\n",
            "Name: dischargeDay, dtype: int64\n",
            "\n",
            " count    2008.000000\n",
            "mean        9.420817\n",
            "std         8.030256\n",
            "min         1.000000\n",
            "25%         6.000000\n",
            "50%         8.000000\n",
            "75%        10.000000\n",
            "max       123.000000\n",
            "Name: dischargeDay, dtype: float64\n"
          ]
        }
      ],
      "source": [
        "# Explore each variable\n",
        "def summary(colname):\n",
        "  col = t_data[colname]\n",
        "\n",
        "  print(col[:5])\n",
        "\n",
        "  if col.dtype == object:\n",
        "    print('\\n Unique factors: \\n', col.unique())\n",
        "    print('\\n', col.describe(include = 'object'))\n",
        "  else:\n",
        "    print('\\n', col.describe())\n",
        "\n",
        "summary(\"dischargeDay\")"
      ]
    },
    {
      "cell_type": "markdown",
      "metadata": {
        "id": "T_gHs48kNFIU"
      },
      "source": [
        "## Step 3: Split data into predictor (`X`) and target (`y`) datasets\n",
        "* Log transform `y` to make it's distribution closer to normal."
      ]
    },
    {
      "cell_type": "code",
      "execution_count": 7,
      "metadata": {
        "id": "0Cgdn17kNMyt"
      },
      "outputs": [],
      "source": [
        "y = t_data['dischargeDay']\n",
        "X = t_data.drop('dischargeDay', axis = 1)"
      ]
    },
    {
      "cell_type": "code",
      "execution_count": 8,
      "metadata": {
        "colab": {
          "base_uri": "https://localhost:8080/",
          "height": 739
        },
        "id": "OhA3Z1nZPs1S",
        "outputId": "e7ad945c-334f-4866-b09a-d5e98f3bbc3c"
      },
      "outputs": [
        {
          "output_type": "execute_result",
          "data": {
            "text/plain": [
              "<seaborn.axisgrid.FacetGrid at 0x7f469244e370>"
            ]
          },
          "metadata": {},
          "execution_count": 8
        },
        {
          "output_type": "display_data",
          "data": {
            "text/plain": [
              "<Figure size 360x360 with 1 Axes>"
            ],
            "image/png": "[encoded data removed]"
          },
          "metadata": {
            "needs_background": "light"
          }
        },
        {
          "output_type": "display_data",
          "data": {
            "text/plain": [
              "<Figure size 360x360 with 1 Axes>"
            ],
            "image/png": "[encoded data removed]"
          },
          "metadata": {
            "needs_background": "light"
          }
        }
      ],
      "source": [
        "# log transform y\n",
        "import seaborn as sns\n",
        "sns.displot(y)\n",
        "y = np.log(y)\n",
        "sns.displot(y)"
      ]
    },
    {
      "cell_type": "markdown",
      "metadata": {
        "id": "PVoRU5yrLxCN"
      },
      "source": [
        "## Step 4: Remove features that aren't useful in a practical setting\n",
        "Explore the features in `X` to classify them into the following categories:\n",
        "\n",
        "*   Features that are expected to be available at the time of admission or a short while after (e.g., preliminary lab data)\n",
        "*   Features that are expected to be available only at the time of discharge\n",
        "*   Features from echocardiography\n",
        "*   Features that are expected to be available only after patient discharge and on patient follow-up\n",
        "\n",
        "For predicting duration of hospital stay, only the first category could be useful in a clinical setting."
      ]
    },
    {
      "cell_type": "code",
      "execution_count": 9,
      "metadata": {
        "id": "Vjf2k2zf-i3k"
      },
      "outputs": [],
      "source": [
        "# Features only availble at the time of discharge\n",
        "discharge_var = ['DestinationDischarge', 'discharge.department', 'outcome.during.hospitalization']\n",
        "\n",
        "# Features only available after discharge and on patient follow-up\n",
        "future_var = ['death.within.28.days', 're.admission.within.28.days', 'death.within.3.months',\n",
        "              're.admission.within.3.months', 'death.within.6.months', 're.admission.within.6.months',\n",
        "              'time.of.death..days.from.admission.', 're.admission.time..days.from.admission.',\n",
        "              'return.to.emergency.department.within.6.months', 'time.to.emergency.department.within.6.months']\n",
        "\n",
        "# Features only available after an echocardiography\n",
        "echo_var = ['LVEF', 'left.ventricular.end.diastolic.diameter.LV',\n",
        "            'mitral.valve.EMS', 'mitral.valve.AMS', 'EA',\n",
        "            'tricuspid.valve.return.velocity', 'tricuspid.valve.return.pressure']\n",
        "\n",
        "# Remove future_var and discharge_var from X\n",
        "X = X.drop(discharge_var + future_var, axis = 1)"
      ]
    },
    {
      "cell_type": "markdown",
      "metadata": {
        "id": "CkVccxJb_UDo"
      },
      "source": [
        "## Step 5: Remove features with too many missing values"
      ]
    },
    {
      "cell_type": "code",
      "execution_count": 10,
      "metadata": {
        "id": "t4cO6fqx_ZtW"
      },
      "outputs": [],
      "source": [
        "# Remove features with more than 20% missing data\n",
        "keepers = [True] * len(X.columns)\n",
        "\n",
        "for i, col in enumerate(X.columns):\n",
        "  if X[col].isnull().mean() > 0.2: # This also removes all echo_vars\n",
        "    keepers[i] = False\n",
        "\n",
        "X = X.loc[:, keepers]"
      ]
    },
    {
      "cell_type": "markdown",
      "metadata": {
        "id": "vCYCI6dtU-tY"
      },
      "source": [
        "## Step 6: Convert ordered categorical features to numerical encodings\n",
        "e.g., NYHA classification could be represented as 1.0 to 4.0 to indicate increasing severity of heart failure."
      ]
    },
    {
      "cell_type": "code",
      "execution_count": 11,
      "metadata": {
        "id": "RAU1K_o3VoJm"
      },
      "outputs": [],
      "source": [
        "convert_ordered = {'NYHA.cardiac.function.classification': {'II': 2, 'III': 3, 'IV': 4},\n",
        "                   'Killip.grade': {'I': 1, 'II': 2, 'III': 3, 'IV': 4},\n",
        "                   'consciousness': {'Clear': 0, 'ResponsiveToSound': 1, 'ResponsiveToPain': 2, 'Nonresponsive': 3},\n",
        "                   'respiratory.support.': {'None': 0, 'NIMV': 1, 'IMV': 2},\n",
        "                   'ageCat': {'(21,29]': 0, '(29,39]': 1, '(39,49]': 2, '(49,59]': 3, '(59,69]': 4, '(69,79]': 5, '(79,89]': 6, '(89,110]': 7},\n",
        "                   'oxygen.inhalation': {'AmbientAir': 0, 'OxygenTherapy': 1},\n",
        "                   'type.II.respiratory.failure': {'NonTypeII': 0, 'TypeII': 1}\n",
        "}\n",
        "\n",
        "X = X.replace(convert_ordered)"
      ]
    },
    {
      "cell_type": "markdown",
      "metadata": {
        "id": "SxuACyZJbVpu"
      },
      "source": [
        "## Step 7: One-hot encode non-ordered categorical features"
      ]
    },
    {
      "cell_type": "code",
      "execution_count": 12,
      "metadata": {
        "id": "SK0SKU55PMZy"
      },
      "outputs": [],
      "source": [
        "non_ordered_cat_features = ['admission.ward', 'admission.way', 'occupation', 'gender', 'type.of.heart.failure']\n",
        "\n",
        "# Replace NAs with most frequent value in the categorical columns.\n",
        "# Occupation is the only categorical feature with missing values\n",
        "value = X['occupation'].mode()[0]\n",
        "X['occupation'].replace(np.nan, value, inplace = True)\n",
        "\n",
        "# OneHotencoding\n",
        "X_obj = X[non_ordered_cat_features]\n",
        "enc = OneHotEncoder(sparse = False) #sparse = False to enable concatenation with the noncategorical variables.\n",
        "X_obj_enc = enc.fit_transform(X_obj)\n",
        "X_obj_enc = pd.DataFrame(X_obj_enc, columns = enc.get_feature_names_out(), index = X.index)\n",
        "\n",
        "#Replace object variables with the onehot encoded version in the original dataset\n",
        "X.drop(X_obj.columns,\n",
        "       axis = 1,\n",
        "       inplace = True)\n",
        "\n",
        "X = pd.concat([X_obj_enc, X], axis = 1)"
      ]
    },
    {
      "cell_type": "markdown",
      "metadata": {
        "id": "ZvNlbk6GjiN5"
      },
      "source": [
        "# **Prepare data for input into models**"
      ]
    },
    {
      "cell_type": "markdown",
      "metadata": {
        "id": "0dwFDsAjeoDi"
      },
      "source": [
        "## Step 1: Split into train/test datasets"
      ]
    },
    {
      "cell_type": "code",
      "execution_count": 13,
      "metadata": {
        "id": "V89B0GqheuWq"
      },
      "outputs": [],
      "source": [
        "# Split the data\n",
        "X_train, X_test, y_train, y_test = train_test_split(X, y, test_size = 0.2, random_state = 42)"
      ]
    },
    {
      "cell_type": "markdown",
      "metadata": {
        "id": "5rHu-z9se37d"
      },
      "source": [
        "## Step 2: Impute missing values using the KNN imputer"
      ]
    },
    {
      "cell_type": "code",
      "execution_count": 14,
      "metadata": {
        "id": "8H2OqQMHe7Ip"
      },
      "outputs": [],
      "source": [
        "imp = KNNImputer()\n",
        "\n",
        "X_train = imp.fit_transform(X_train)\n",
        "X_test = imp.transform(X_test)"
      ]
    },
    {
      "cell_type": "markdown",
      "metadata": {
        "id": "uxKZbt50fCwu"
      },
      "source": [
        "## Step 3: Normalize data\n",
        "* Standard scaling can also be used. However, in my experiments, MinMaxScaling performed better than StandardScaling, possibly due to the high number of one-hot-encoded features in the dataset."
      ]
    },
    {
      "cell_type": "code",
      "execution_count": 15,
      "metadata": {
        "id": "2o15vz3PfGlF"
      },
      "outputs": [],
      "source": [
        "scaler = MinMaxScaler()\n",
        "\n",
        "X_train_minmax = scaler.fit_transform(X_train)\n",
        "X_test_minmax = scaler.transform(X_test)"
      ]
    },
    {
      "cell_type": "markdown",
      "metadata": {
        "id": "zCwFUEOd4-Yi"
      },
      "source": [
        "# **Build regularized linear regression model for prediction of hospitalization duration**"
      ]
    },
    {
      "cell_type": "code",
      "execution_count": 16,
      "metadata": {
        "colab": {
          "base_uri": "https://localhost:8080/"
        },
        "id": "sGikp21k54Z_",
        "outputId": "cb15a96c-9108-4743-ef54-7ef2ab5c4211"
      },
      "outputs": [
        {
          "output_type": "stream",
          "name": "stdout",
          "text": [
            "\n",
            "MSE for lin_reg is:  0.2668101254502268\n",
            "\n",
            "Chosen l1-ratio:  0.0\n",
            "\n",
            "Chosen alpha:  0.1\n"
          ]
        }
      ],
      "source": [
        "# Suppress convergence warnings\n",
        "def warn(*args, **kwargs):\n",
        "    pass\n",
        "import warnings\n",
        "warnings.warn = warn\n",
        "\n",
        "lin_reg = ElasticNetCV(l1_ratio = [0, 0.2, 0.5, 0.8, 0.9, 0.95, 0.99, 1],\n",
        "                       alphas = [0, 0.1, 0.2, 0.5, 0.7, 0.9, 1])\n",
        "\n",
        "lin_reg.fit(X_train_minmax, y_train)\n",
        "y_pred = lin_reg.predict(X_test_minmax)\n",
        "lin_reg_result =  mean_squared_error(y_test, y_pred)\n",
        "\n",
        "print('\\nMSE for lin_reg is: ', lin_reg_result)\n",
        "print('\\nChosen l1-ratio: ', lin_reg.l1_ratio_)\n",
        "print('\\nChosen alpha: ', lin_reg.alpha_)"
      ]
    },
    {
      "cell_type": "markdown",
      "metadata": {
        "id": "DuNFkBT5IkWY"
      },
      "source": [
        "# **Build support vector regressor for prediction of hospitalization duration**"
      ]
    },
    {
      "cell_type": "code",
      "execution_count": 24,
      "metadata": {
        "colab": {
          "base_uri": "https://localhost:8080/"
        },
        "id": "nrDfqOXUIqf5",
        "outputId": "97eeccfb-8709-4732-b002-bfda6e5a41e5"
      },
      "outputs": [
        {
          "output_type": "stream",
          "name": "stdout",
          "text": [
            "Fitting 3 folds for each of 10 candidates, totalling 30 fits\n",
            "\n",
            "Best estimator: \n",
            " SVR(C=8.9, gamma=2.0)\n",
            "\n",
            "Best score: \n",
            " -0.3690139331649358\n",
            "\n",
            "Best parameters: \n",
            " {'kernel': 'rbf', 'gamma': 2.0, 'C': 8.9}\n",
            "\n",
            "MSE on test data:  0.3243721573136629\n"
          ]
        }
      ],
      "source": [
        "sv_reg = SVR()\n",
        "\n",
        "random_grid = {'kernel': ['rbf'], #I didn't add the 'linear' kernel to save computational time.\n",
        "               'gamma': [x for x in np.linspace(start = 0.5, stop = 5, num = 10)],\n",
        "               'C': [x for x in np.linspace(start = 0.1, stop = 10, num = 10)]}\n",
        "\n",
        "sv_reg = RandomizedSearchCV(estimator = sv_reg, param_distributions = random_grid, \n",
        "                             cv = 3, verbose = 3, n_jobs = -1, random_state = 42,\n",
        "                             scoring = 'neg_mean_squared_error')\n",
        "\n",
        "\n",
        "sv_reg.fit(X_train, y_train)\n",
        "\n",
        "print('\\nBest estimator: \\n', sv_reg.best_estimator_)\n",
        "print('\\nBest score: \\n', sv_reg.best_score_)\n",
        "print('\\nBest parameters: \\n', sv_reg.best_params_)\n",
        "\n",
        "y_pred = sv_reg.best_estimator_.predict(X_test)\n",
        "\n",
        "svm_reg_result = mean_squared_error(y_test, y_pred)\n",
        "\n",
        "print('\\nMSE on test data: ', svm_reg_result)"
      ]
    },
    {
      "cell_type": "markdown",
      "metadata": {
        "id": "Vjj6vnxC5RgE"
      },
      "source": [
        "# **Build random forest model for prediction of hospitalization duration**"
      ]
    },
    {
      "cell_type": "code",
      "execution_count": 18,
      "metadata": {
        "colab": {
          "base_uri": "https://localhost:8080/"
        },
        "id": "-6-uYyXbLSuN",
        "outputId": "867f8d61-d061-405f-c8d7-cb04859587ab"
      },
      "outputs": [
        {
          "output_type": "stream",
          "name": "stdout",
          "text": [
            "Fitting 3 folds for each of 10 candidates, totalling 30 fits\n",
            "\n",
            "Best estimator \n",
            " RandomForestRegressor(max_depth=45, n_estimators=800)\n",
            "\n",
            "Best score \n",
            " -0.2984132714580838\n",
            "\n",
            "Best parameters \n",
            " {'n_estimators': 800, 'max_features': 'auto', 'max_depth': 45}\n",
            "\n",
            "MSE on test data: 0.25917336914434164\n"
          ]
        }
      ],
      "source": [
        "tuned_rnd_reg = RandomForestRegressor()\n",
        "\n",
        "max_depth = [int(x) for x in np.linspace(3, 110, num = 11)]\n",
        "max_depth.append(None)\n",
        "\n",
        "random_grid = {'max_depth': max_depth,\n",
        "               'n_estimators': [int(x) for x in np.linspace(start = 200, stop = 2000, num = 10)],\n",
        "               'max_features': ['sqrt', 'auto']}\n",
        "\n",
        "tuned_rnd_reg = RandomizedSearchCV(estimator = tuned_rnd_reg, param_distributions = random_grid, \n",
        "                             cv = 3, verbose = 3, n_jobs = -1, random_state = 42,\n",
        "                             scoring = 'neg_mean_squared_error')\n",
        "\n",
        "tuned_rnd_reg.fit(X_train, y_train)\n",
        "\n",
        "print('\\nBest estimator \\n', tuned_rnd_reg.best_estimator_)\n",
        "print('\\nBest score \\n', tuned_rnd_reg.best_score_)\n",
        "print('\\nBest parameters \\n', tuned_rnd_reg.best_params_)\n",
        "\n",
        "y_pred = tuned_rnd_reg.best_estimator_.predict(X_test)\n",
        "\n",
        "tuned_rnd_reg_result = mean_squared_error(y_test, y_pred)\n",
        "\n",
        "print('\\nMSE on test data:', tuned_rnd_reg_result)"
      ]
    },
    {
      "cell_type": "markdown",
      "metadata": {
        "id": "VtpAX6uyJya_"
      },
      "source": [
        "## Step 3: Extract feature importances"
      ]
    },
    {
      "cell_type": "code",
      "execution_count": 22,
      "metadata": {
        "colab": {
          "base_uri": "https://localhost:8080/"
        },
        "id": "1lHx2o-KlkOx",
        "outputId": "be9880bb-8b61-42f7-9b2e-15a1142beb26"
      },
      "outputs": [
        {
          "output_type": "execute_result",
          "data": {
            "text/plain": [
              "Torasemide tablet                  0.036603\n",
              "Furosemide tablet                  0.035096\n",
              "carbon.dioxide.binding.capacity    0.025971\n",
              "cystatin                           0.024288\n",
              "creatine.kinase.isoenzyme          0.022538\n",
              "uric.acid                          0.020454\n",
              "chloride                           0.018294\n",
              "urea                               0.017705\n",
              "alkaline.phosphatase               0.017612\n",
              "platelet                           0.017280\n",
              "dtype: float64"
            ]
          },
          "metadata": {},
          "execution_count": 22
        }
      ],
      "source": [
        "forest_importance = pd.Series(tuned_rnd_reg.best_estimator_.feature_importances_,\n",
        "                              index = X.columns).sort_values(ascending = False)\n",
        "\n",
        "forest_importance[:10]"
      ]
    },
    {
      "cell_type": "markdown",
      "metadata": {
        "id": "7AhaSOrQGfCT"
      },
      "source": [
        "# **Build super ensemble (voting regressor) model**"
      ]
    },
    {
      "cell_type": "code",
      "execution_count": 27,
      "metadata": {
        "colab": {
          "base_uri": "https://localhost:8080/"
        },
        "id": "fkYju3qoF3wB",
        "outputId": "c67a820a-fe92-40d8-ab11-36c41e5c16f1"
      },
      "outputs": [
        {
          "output_type": "stream",
          "name": "stdout",
          "text": [
            "Fitting 3 folds for each of 10 candidates, totalling 30 fits\n",
            "\n",
            "MSE for vote_reg is:  0.2584857464298306\n"
          ]
        }
      ],
      "source": [
        "vote_reg = VotingRegressor(estimators = [('rf', tuned_rnd_reg.best_estimator_), ('lin', lin_reg), ('svr', sv_reg)])\n",
        "\n",
        "vote_reg.fit(X_train_minmax, y_train)\n",
        "\n",
        "y_pred = vote_reg.predict(X_test_minmax)\n",
        "\n",
        "vote_reg_result = mean_squared_error(y_test, y_pred)\n",
        "\n",
        "print('\\nMSE for vote_reg is: ', vote_reg_result)"
      ]
    },
    {
      "cell_type": "markdown",
      "metadata": {
        "id": "8nGnV5Isng9I"
      },
      "source": [
        "# **Conclusion**"
      ]
    },
    {
      "cell_type": "code",
      "execution_count": 28,
      "metadata": {
        "id": "uMwHGtiDnjRS",
        "colab": {
          "base_uri": "https://localhost:8080/"
        },
        "outputId": "f25527a3-2c95-40d7-ca7f-a281f1f315e0"
      },
      "outputs": [
        {
          "output_type": "stream",
          "name": "stdout",
          "text": [
            "MSE on test data:\n",
            "Regularized inear regression:   0.2668\n",
            "SVM regression:   0.3244\n",
            "Random forest regression:   0.2592\n",
            "Super ensemble voting regression:   0.2585\n"
          ]
        }
      ],
      "source": [
        "print('MSE on test data:')\n",
        "print(f'Regularized inear regression: {lin_reg_result:8.4f}')\n",
        "print(f'SVM regression: {svm_reg_result:8.4f}')\n",
        "print(f'Random forest regression: {tuned_rnd_reg_result:8.4f}')\n",
        "print(f'Super ensemble voting regression: {vote_reg_result:8.4f}')"
      ]
    }
  ],
  "metadata": {
    "colab": {
      "provenance": [],
      "authorship_tag": "ABX9TyMmQ0TCyhZMYz0syAswO0Lp",
      "include_colab_link": true
    },
    "kernelspec": {
      "display_name": "Python 3",
      "name": "python3"
    },
    "language_info": {
      "name": "python"
    }
  },
  "nbformat": 4,
  "nbformat_minor": 0
}