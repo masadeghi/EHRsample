{
  "nbformat": 4,
  "nbformat_minor": 0,
  "metadata": {
    "colab": {
      "provenance": [],
      "toc_visible": true,
      "authorship_tag": "ABX9TyNL57zQcEYTq1CrQbCW5GN6",
      "include_colab_link": true
    },
    "kernelspec": {
      "name": "python3",
      "display_name": "Python 3"
    },
    "language_info": {
      "name": "python"
    },
    "gpuClass": "standard"
  },
  "cells": [
    {
      "cell_type": "markdown",
      "metadata": {
        "id": "view-in-github",
        "colab_type": "text"
      },
      "source": [
        "<a href=\"https://colab.research.google.com/github/masadeghi/EHRsample/blob/main/EHRsample.ipynb\" target=\"_parent\"><img src=\"https://colab.research.google.com/assets/colab-badge.svg\" alt=\"Open In Colab\"/></a>"
      ]
    },
    {
      "cell_type": "markdown",
      "source": [
        "# **Import the data from your Google drive account:**\n",
        "\n",
        "After running the first cell, you'll need to authorize access to your Drive."
      ],
      "metadata": {
        "id": "3TTPss2Acb53"
      }
    },
    {
      "cell_type": "code",
      "execution_count": 1,
      "metadata": {
        "colab": {
          "base_uri": "https://localhost:8080/"
        },
        "id": "dDs4AidBcJ1j",
        "outputId": "0ae2a0e8-5cb3-4caa-fd5d-f21c0ccdfa09"
      },
      "outputs": [
        {
          "output_type": "stream",
          "name": "stdout",
          "text": [
            "Mounted at /content/gdrive\n"
          ]
        }
      ],
      "source": [
        "from google.colab import drive\n",
        "\n",
        "drive.mount('/content/gdrive')"
      ]
    },
    {
      "cell_type": "code",
      "source": [
        "!unzip gdrive/MyDrive/Databases/proj2.zip"
      ],
      "metadata": {
        "id": "51MTGIwsm9hN",
        "colab": {
          "base_uri": "https://localhost:8080/"
        },
        "outputId": "38301891-9422-470e-9689-5783510d84ff"
      },
      "execution_count": 2,
      "outputs": [
        {
          "output_type": "stream",
          "name": "stdout",
          "text": [
            "Archive:  gdrive/MyDrive/Databases/proj2.zip\n",
            "  inflating: hospitalized-patients-with-heart-failure-integrating-electronic-healthcare-records-and-external-outcome-data-1.3/LICENSE.txt  \n",
            "  inflating: hospitalized-patients-with-heart-failure-integrating-electronic-healthcare-records-and-external-outcome-data-1.3/SHA256SUMS.txt  \n",
            "  inflating: hospitalized-patients-with-heart-failure-integrating-electronic-healthcare-records-and-external-outcome-data-1.3/dat.csv  \n",
            "  inflating: hospitalized-patients-with-heart-failure-integrating-electronic-healthcare-records-and-external-outcome-data-1.3/dat_md.csv  \n",
            "  inflating: hospitalized-patients-with-heart-failure-integrating-electronic-healthcare-records-and-external-outcome-data-1.3/dataDictionary.csv  \n"
          ]
        }
      ]
    },
    {
      "cell_type": "code",
      "source": [
        "import pandas as pd\n",
        "\n",
        "heart_data = pd.read_csv('/content/hospitalized-patients-with-heart-failure-integrating-electronic-healthcare-records-and-external-outcome-data-1.3/dat.csv', index_col = 0)\n",
        "md_data = pd.read_csv('/content/hospitalized-patients-with-heart-failure-integrating-electronic-healthcare-records-and-external-outcome-data-1.3/dat_md.csv', index_col = 0)\n",
        "dict_data = pd.read_csv('/content/hospitalized-patients-with-heart-failure-integrating-electronic-healthcare-records-and-external-outcome-data-1.3/dataDictionary.csv', index_col = 0)"
      ],
      "metadata": {
        "id": "K6mQ2WxefNgV"
      },
      "execution_count": 3,
      "outputs": []
    },
    {
      "cell_type": "code",
      "source": [
        "# # Understand the columns in the dataset\n",
        "# %load_ext google.colab.data_table\n",
        "# dict_data"
      ],
      "metadata": {
        "id": "t_Kv4i44fd4V"
      },
      "execution_count": 4,
      "outputs": []
    },
    {
      "cell_type": "markdown",
      "source": [
        "Transform the dat_md dataset to represent drug administration using one-hot encoding. Each row will indicate a unique patient (`inpatient.number`) and each column will indicating a unique drug. The transformed dataset can then be concatenated with the main dataset."
      ],
      "metadata": {
        "id": "to9AY2LadJH3"
      }
    },
    {
      "cell_type": "code",
      "source": [
        "# print('md_data dimensions: ', md_data.shape)\n",
        "# %reload_ext google.colab.data_table\n",
        "# md_data"
      ],
      "metadata": {
        "id": "lQfl7856fZhC"
      },
      "execution_count": 5,
      "outputs": []
    },
    {
      "cell_type": "code",
      "source": [
        "# One-hot encoding drug administrations\n",
        "import numpy as np\n",
        "\n",
        "# Initialize zeros matrix with desired dimensions, indexes, and column names\n",
        "drugs = np.zeros((len(heart_data['inpatient.number'].unique()),\n",
        "                  len(md_data['Drug_name'].unique())))\n",
        "\n",
        "drugs = pd.DataFrame(drugs, index = heart_data['inpatient.number'].unique(), columns = md_data['Drug_name'].unique())\n",
        "\n",
        "# Iterate over the rows and columns of the constructed matrix and repalce 0 with 1\n",
        "# in the appropriate column if the treatment was administered.\n",
        "for index, row in drugs.iterrows():\n",
        "  for col in drugs.columns:\n",
        "    subset = md_data.loc[md_data['inpatient.number'] == index, 'Drug_name']\n",
        "    if col in subset.values:\n",
        "      drugs.loc[index, col] = 1\n",
        "\n",
        "# Concatenate the resulting matrix the main dataset:\n",
        "# Total data (t_data) = main dataset + drug data\n",
        "heart_data.set_index('inpatient.number', inplace = True)\n",
        "\n",
        "t_data = pd.concat([heart_data, drugs], axis = 1)"
      ],
      "metadata": {
        "id": "IbzPWAqrSkto"
      },
      "execution_count": 6,
      "outputs": []
    },
    {
      "cell_type": "markdown",
      "source": [
        "Identify features with missing data and explore each variable to get a better feel for the data."
      ],
      "metadata": {
        "id": "O-b9qABtd5Xn"
      }
    },
    {
      "cell_type": "code",
      "source": [
        "# Percentage of missing data in each column (if present)\n",
        "for i, col in enumerate(t_data.columns):\n",
        "  if t_data[col].isnull().mean() > 0:\n",
        "    print(f'{i, col}:', \"%.2f\" % t_data[col].isnull().mean())"
      ],
      "metadata": {
        "colab": {
          "base_uri": "https://localhost:8080/"
        },
        "id": "Lmj54ALPphBa",
        "outputId": "5272f6c9-807d-4e9a-ac8e-5929b16a5a69"
      },
      "execution_count": 7,
      "outputs": [
        {
          "output_type": "stream",
          "name": "stdout",
          "text": [
            "(3, 'occupation'): 0.01\n",
            "(26, 'peptic.ulcer.disease'): 0.00\n",
            "(28, 'moderate.to.severe.chronic.kidney.disease'): 0.00\n",
            "(33, 'liver.disease'): 0.00\n",
            "(35, 'CCI.score'): 0.00\n",
            "(45, 'LVEF'): 0.68\n",
            "(46, 'left.ventricular.end.diastolic.diameter.LV'): 0.35\n",
            "(47, 'mitral.valve.EMS'): 0.51\n",
            "(48, 'mitral.valve.AMS'): 0.73\n",
            "(49, 'EA'): 0.80\n",
            "(50, 'tricuspid.valve.return.velocity'): 0.61\n",
            "(51, 'tricuspid.valve.return.pressure'): 0.91\n",
            "(59, 'time.of.death..days.from.admission.'): 0.98\n",
            "(60, 're.admission.time..days.from.admission.'): 0.55\n",
            "(61, 'return.to.emergency.department.within.6.months'): 0.00\n",
            "(62, 'time.to.emergency.department.within.6.months'): 0.55\n",
            "(63, 'creatinine.enzymatic.method'): 0.01\n",
            "(64, 'urea'): 0.01\n",
            "(65, 'uric.acid'): 0.01\n",
            "(66, 'glomerular.filtration.rate'): 0.03\n",
            "(67, 'cystatin'): 0.02\n",
            "(68, 'white.blood.cell'): 0.01\n",
            "(69, 'monocyte.ratio'): 0.01\n",
            "(70, 'monocyte.count'): 0.01\n",
            "(71, 'red.blood.cell'): 0.01\n",
            "(72, 'coefficient.of.variation.of.red.blood.cell.distribution.width'): 0.01\n",
            "(73, 'standard.deviation.of.red.blood.cell.distribution.width'): 0.01\n",
            "(74, 'mean.corpuscular.volume'): 0.01\n",
            "(75, 'hematocrit'): 0.01\n",
            "(76, 'lymphocyte.count'): 0.01\n",
            "(77, 'mean.hemoglobin.volume'): 0.01\n",
            "(78, 'mean.hemoglobin.concentration'): 0.01\n",
            "(79, 'mean.platelet.volume'): 0.05\n",
            "(80, 'basophil.ratio'): 0.01\n",
            "(81, 'basophil.count'): 0.01\n",
            "(82, 'eosinophil.ratio'): 0.01\n",
            "(83, 'eosinophil.count'): 0.01\n",
            "(84, 'hemoglobin'): 0.01\n",
            "(85, 'platelet'): 0.01\n",
            "(86, 'platelet.distribution.width'): 0.05\n",
            "(87, 'platelet.hematocrit'): 0.05\n",
            "(88, 'neutrophil.ratio'): 0.01\n",
            "(89, 'neutrophil.count'): 0.01\n",
            "(90, 'D.dimer'): 0.08\n",
            "(91, 'international.normalized.ratio'): 0.02\n",
            "(92, 'activated.partial.thromboplastin.time'): 0.02\n",
            "(93, 'thrombin.time'): 0.02\n",
            "(94, 'prothrombin.activity'): 0.02\n",
            "(95, 'prothrombin.time.ratio'): 0.02\n",
            "(96, 'fibrinogen'): 0.02\n",
            "(97, 'high.sensitivity.troponin'): 0.04\n",
            "(98, 'myoglobin'): 0.80\n",
            "(99, 'carbon.dioxide.binding.capacity'): 0.01\n",
            "(100, 'calcium'): 0.01\n",
            "(101, 'potassium'): 0.01\n",
            "(102, 'chloride'): 0.01\n",
            "(103, 'sodium'): 0.01\n",
            "(104, 'Inorganic.Phosphorus'): 0.80\n",
            "(105, 'serum.magnesium'): 0.80\n",
            "(106, 'creatine.kinase.isoenzyme.to.creatine.kinase'): 0.12\n",
            "(107, 'hydroxybutyrate.dehydrogenase.to.lactate.dehydrogenase'): 0.12\n",
            "(108, 'hydroxybutyrate.dehydrogenase'): 0.12\n",
            "(109, 'glutamic.oxaloacetic.transaminase'): 0.13\n",
            "(110, 'creatine.kinase'): 0.12\n",
            "(111, 'creatine.kinase.isoenzyme'): 0.12\n",
            "(112, 'lactate.dehydrogenase'): 0.12\n",
            "(113, 'brain.natriuretic.peptide'): 0.02\n",
            "(114, 'high.sensitivity.protein'): 0.53\n",
            "(115, 'nucleotidase'): 0.26\n",
            "(116, 'fucosidase'): 0.26\n",
            "(117, 'albumin'): 0.05\n",
            "(118, 'white.globulin.ratio'): 0.05\n",
            "(119, 'cholinesterase'): 1.00\n",
            "(120, 'glutamyltranspeptidase'): 0.05\n",
            "(121, 'glutamic.pyruvic.transaminase'): 0.05\n",
            "(122, 'glutamic.oxaliplatin'): 0.71\n",
            "(123, 'indirect.bilirubin'): 0.05\n",
            "(124, 'alkaline.phosphatase'): 0.05\n",
            "(125, 'globulin'): 0.05\n",
            "(126, 'direct.bilirubin'): 0.05\n",
            "(127, 'total.bilirubin'): 0.05\n",
            "(128, 'total.bile.acid'): 0.25\n",
            "(129, 'total.protein'): 0.05\n",
            "(130, 'erythrocyte.sedimentation.rate'): 0.85\n",
            "(131, 'cholesterol'): 0.10\n",
            "(132, 'low.density.lipoprotein.cholesterol'): 0.10\n",
            "(133, 'triglyceride'): 0.10\n",
            "(134, 'high.density.lipoprotein.cholesterol'): 0.10\n",
            "(135, 'homocysteine'): 0.93\n",
            "(136, 'apolipoprotein.A'): 0.91\n",
            "(137, 'apolipoprotein.B'): 0.91\n",
            "(138, 'lipoprotein'): 0.91\n",
            "(139, 'pH'): 0.51\n",
            "(140, 'standard.residual.base'): 0.51\n",
            "(141, 'standard.bicarbonate'): 0.51\n",
            "(142, 'partial.pressure.of.carbon.dioxide'): 0.51\n",
            "(143, 'total.carbon.dioxide'): 0.51\n",
            "(144, 'methemoglobin'): 0.51\n",
            "(145, 'hematocrit.blood.gas'): 0.51\n",
            "(146, 'reduced.hemoglobin'): 0.51\n",
            "(147, 'potassium.ion'): 0.51\n",
            "(148, 'chloride.ion'): 0.51\n",
            "(149, 'sodium.ion'): 0.51\n",
            "(150, 'glucose.blood.gas'): 0.51\n",
            "(151, 'lactate'): 0.51\n",
            "(152, 'measured.residual.base'): 0.51\n",
            "(153, 'measured.bicarbonate'): 0.51\n",
            "(154, 'carboxyhemoglobin'): 0.51\n",
            "(155, 'body.temperature.blood.gas'): 0.51\n",
            "(156, 'oxygen.saturation'): 0.51\n",
            "(157, 'partial.oxygen.pressure'): 0.51\n",
            "(158, 'oxyhemoglobin'): 0.51\n",
            "(159, 'anion.gap'): 0.51\n",
            "(160, 'free.calcium'): 0.51\n",
            "(161, 'total.hemoglobin'): 0.51\n"
          ]
        }
      ]
    },
    {
      "cell_type": "code",
      "source": [
        "# You could use the following function for quick exploration of each variable\n",
        "def summary(colname):\n",
        "  col = t_data[colname]\n",
        "\n",
        "  print(col[:10])\n",
        "\n",
        "  if col.dtype == object:\n",
        "    print('\\n Unique factors: \\n', col.unique())\n",
        "    print('\\n', col.describe(include = 'object'))\n",
        "  else:\n",
        "    print('\\n', col.describe())\n",
        "\n",
        "summary(\"dischargeDay\")"
      ],
      "metadata": {
        "id": "ReXyT3KtxrSi",
        "colab": {
          "base_uri": "https://localhost:8080/"
        },
        "outputId": "5a69961c-6c06-4579-d642-749f31eac406"
      },
      "execution_count": 8,
      "outputs": [
        {
          "output_type": "stream",
          "name": "stdout",
          "text": [
            "857781    11\n",
            "743087     8\n",
            "866418     5\n",
            "775928    11\n",
            "810128     5\n",
            "823318     6\n",
            "844094    10\n",
            "787530    27\n",
            "795420    20\n",
            "829801     4\n",
            "Name: dischargeDay, dtype: int64\n",
            "\n",
            " count    2008.000000\n",
            "mean        9.420817\n",
            "std         8.030256\n",
            "min         1.000000\n",
            "25%         6.000000\n",
            "50%         8.000000\n",
            "75%        10.000000\n",
            "max       123.000000\n",
            "Name: dischargeDay, dtype: float64\n"
          ]
        }
      ]
    },
    {
      "cell_type": "markdown",
      "source": [
        "# **Prepare data for building the models**"
      ],
      "metadata": {
        "id": "H4C9_V0KiZAt"
      }
    },
    {
      "cell_type": "markdown",
      "source": [
        "##**Step 1: Classify variables**\n",
        "Explore the variables in the main dataset to classify them into the following categories:\n",
        "\n",
        "*   Variables that are expected to be available at the time of admission or a short while after (e.g., preliminary lab data)\n",
        "*   Variables that are expected to be available only at the time of discharge\n",
        "*   Variables from echocardiography\n",
        "*   Variables that are expected to be available only after patient discharge and on patient follow-up\n",
        "\n",
        "\n"
      ],
      "metadata": {
        "id": "5hX29gz-cgrH"
      }
    },
    {
      "cell_type": "code",
      "source": [
        "# Note that the indices used here are 1 unit smaller than the original dataset,\n",
        "# because we converted the first column ('inpatient.number') into indices and\n",
        "# dropped it from the dataset. So for example, DestinationDischarge was the \n",
        "# second column in the original dataset (i.e., index = 1), but now it is the\n",
        "# first (i.e., index = 0).\n",
        "\n",
        "# Variables availble at the time of discharge, including duration of hospital stay\n",
        "discharge_var = [0, 4, 52, 163]\n",
        "\n",
        "# Variables only available after discharge and on patient follow-up\n",
        "future_var = list(range(53,63))\n",
        "\n",
        "# Variables from an echocardiography\n",
        "echo_var = list(range(45,52))"
      ],
      "metadata": {
        "id": "i9VTIODHMR0E"
      },
      "execution_count": 9,
      "outputs": []
    },
    {
      "cell_type": "markdown",
      "source": [
        "##**Step 2: Split data into predictor and target datasets**\n",
        "\n",
        "*   Separate data into predictor (X) and target (y) data.\n",
        "*   Remove discharge and future variables from X\n",
        "*   Remove variables with more than 30% missing values from X (echo variables are removed as a result).\n",
        "*   log transform y because it is right skewed"
      ],
      "metadata": {
        "id": "q5W8MV8lH774"
      }
    },
    {
      "cell_type": "code",
      "source": [
        "# Remove discharge and future variables\n",
        "y = t_data['dischargeDay']\n",
        "X = t_data.drop(t_data.columns[discharge_var + future_var], axis = 1) # dischargeDay is within discharge_var"
      ],
      "metadata": {
        "id": "gR_cOro5sb6P"
      },
      "execution_count": 10,
      "outputs": []
    },
    {
      "cell_type": "code",
      "source": [
        "# Remove variables with more than 30% missing data\n",
        "keepers = [True] * len(X.columns)\n",
        "\n",
        "for i, col in enumerate(X.columns):\n",
        "  if X[col].isnull().mean() > 0.3: # This also removes all echo_vars\n",
        "    keepers[i] = False\n",
        "\n",
        "X = X.loc[:, keepers]"
      ],
      "metadata": {
        "id": "IjHNMY-g8UVb"
      },
      "execution_count": 11,
      "outputs": []
    },
    {
      "cell_type": "code",
      "source": [
        "# log transform y\n",
        "import seaborn as sns\n",
        "sns.displot(y)\n",
        "y = np.log(y)\n",
        "sns.displot(y)"
      ],
      "metadata": {
        "colab": {
          "base_uri": "https://localhost:8080/",
          "height": 738
        },
        "id": "-scI-AKSLu_1",
        "outputId": "e87830e2-5717-4b17-f559-86617ecfd839"
      },
      "execution_count": 12,
      "outputs": [
        {
          "output_type": "execute_result",
          "data": {
            "text/plain": [
              "<seaborn.axisgrid.FacetGrid at 0x7f2269a3c590>"
            ]
          },
          "metadata": {},
          "execution_count": 12
        },
        {
          "output_type": "display_data",
          "data": {
            "text/plain": [
              "<Figure size 360x360 with 1 Axes>"
            ],
            "image/png": "[encoded data removed]"
          },
          "metadata": {
            "needs_background": "light"
          }
        },
        {
          "output_type": "display_data",
          "data": {
            "text/plain": [
              "<Figure size 360x360 with 1 Axes>"
            ],
            "image/png": "[encoded data removed]"
          },
          "metadata": {
            "needs_background": "light"
          }
        }
      ]
    },
    {
      "cell_type": "markdown",
      "source": [
        "##**Step 3: Onehot encode categorical variables**\n",
        "One-hot encode the categorical variables in the dataset."
      ],
      "metadata": {
        "id": "4ijbpp9wIMUn"
      }
    },
    {
      "cell_type": "code",
      "source": [
        "import numpy as np\n",
        "\n",
        "# Replace NAs with mode in the categorical (dtype = 'object') variables.\n",
        "# occupation is the only categorical variable with missing values\n",
        "value = X['occupation'].mode()[0]\n",
        "X['occupation'].replace(np.nan, value, inplace = True)\n",
        "\n",
        "# OneHotencoding\n",
        "from sklearn.preprocessing import OneHotEncoder\n",
        "\n",
        "X_obj = X.select_dtypes(include = ['object']).copy()\n",
        "enc = OneHotEncoder(sparse = False) #sparse = False to enable concatenation with the noncategorical variables.\n",
        "X_obj_enc = enc.fit_transform(X_obj)\n",
        "X_obj_enc = pd.DataFrame(X_obj_enc, columns = enc.get_feature_names_out(), index = X.index)\n",
        "\n",
        "#Replace object variables with the onehot encoded version in the original dataset\n",
        "X.drop(X_obj.columns,\n",
        "       axis = 1,\n",
        "       inplace = True)\n",
        "\n",
        "X = pd.concat([X_obj_enc, X], axis = 1)"
      ],
      "metadata": {
        "id": "TofLqm9t9LrC"
      },
      "execution_count": 13,
      "outputs": []
    },
    {
      "cell_type": "markdown",
      "source": [
        "## **Step 4: Split into train/test datasets and impute missing data**\n",
        "*   Split the data into train and test groups\n",
        "*   Impute missing values using a KNN imputer\n",
        "\n",
        "Imputations for the test data is performed based on the train group fit to prevent leakage."
      ],
      "metadata": {
        "id": "9mstqnvLIU6-"
      }
    },
    {
      "cell_type": "code",
      "source": [
        "# Split the data\n",
        "from sklearn.model_selection import train_test_split\n",
        "\n",
        "X_train, X_test, y_train, y_test = train_test_split(X, y, test_size = 0.2, random_state = 42)\n",
        "\n",
        "# Save indices for future data modificatons\n",
        "train_indices = X_train.index\n",
        "test_indices = X_test.index"
      ],
      "metadata": {
        "id": "MCQIdgYTy4wd"
      },
      "execution_count": 14,
      "outputs": []
    },
    {
      "cell_type": "code",
      "source": [
        "# Impute missing values using the KNN imputer\n",
        "from sklearn.impute import KNNImputer\n",
        "\n",
        "imp = KNNImputer()\n",
        "\n",
        "X_train = imp.fit_transform(X_train)\n",
        "X_test = imp.transform(X_test)"
      ],
      "metadata": {
        "id": "iE9i-kHf0V26"
      },
      "execution_count": 15,
      "outputs": []
    },
    {
      "cell_type": "markdown",
      "source": [
        "##**Step 5: Normalization**\n",
        "Scale data and compare three scaling methods:"
      ],
      "metadata": {
        "id": "SuKz1ma8jNSb"
      }
    },
    {
      "cell_type": "markdown",
      "source": [
        "###1. MinMax normalization"
      ],
      "metadata": {
        "id": "ETZ9KL7FlWrR"
      }
    },
    {
      "cell_type": "code",
      "source": [
        "# Scale using MinMax\n",
        "from sklearn.preprocessing import MinMaxScaler\n",
        "\n",
        "scaler = MinMaxScaler()\n",
        "\n",
        "X_train_minmax = scaler.fit_transform(X_train)\n",
        "X_test_minmax = scaler.transform(X_test)"
      ],
      "metadata": {
        "id": "0wr91rnhjtZp"
      },
      "execution_count": 16,
      "outputs": []
    },
    {
      "cell_type": "markdown",
      "source": [
        "###2. Standard scaling all columns in the dataset"
      ],
      "metadata": {
        "id": "z8STg4SClaOK"
      }
    },
    {
      "cell_type": "code",
      "source": [
        "# # Standard scale all variables\n",
        "# from sklearn.preprocessing import StandardScaler\n",
        "\n",
        "# scaler = StandardScaler()\n",
        "\n",
        "# X_train_all_std = scaler.fit_transform(X_train)\n",
        "# X_test_all_std = scaler.transform(X_test)"
      ],
      "metadata": {
        "id": "VQMdVSoKjtHU"
      },
      "execution_count": 17,
      "outputs": []
    },
    {
      "cell_type": "markdown",
      "source": [
        "###3. Standard scaling only the non-onehot-encoded columns in the dataset"
      ],
      "metadata": {
        "id": "lEt6kiRjld0L"
      }
    },
    {
      "cell_type": "code",
      "source": [
        "# # Standard scale only the non-onehot-encoded variables\n",
        "# from sklearn.preprocessing import StandardScaler\n",
        "\n",
        "# # Removing one-hot encoded variables from scaling\n",
        "# X_train = pd.DataFrame(X_train, index = train_indices, columns = X.columns)\n",
        "# X_test = pd.DataFrame(X_test, index = test_indices, columns = X.columns)\n",
        "\n",
        "# non_onehot = [col for col in X_train.columns if len(X_train[col].unique()) != 2]\n",
        "\n",
        "# X_train_non_onehot = X_train.loc[:, non_onehot]\n",
        "# X_train_onehot = X_train.drop(non_onehot, axis = 1)\n",
        "\n",
        "# X_test_non_onehot = X_test.loc[:, non_onehot]\n",
        "# X_test_onehot = X_test.drop(non_onehot, axis = 1)\n",
        "\n",
        "# # Standard scale the non-encoded variables\n",
        "# # Concatenate the resulting dataframe with the rest of the data.\n",
        "# scaler = StandardScaler()\n",
        "\n",
        "# X_train_non_onehot_scaled = scaler.fit_transform(X_train_non_onehot)\n",
        "# X_train_non_onehot_scaled = pd.DataFrame(X_train_non_onehot_scaled, index = X_train_non_onehot.index, columns = X_train_non_onehot.columns)\n",
        "# X_train_part_std = pd.concat([X_train_non_onehot_scaled, X_train_onehot], axis = 1)\n",
        "\n",
        "# X_test_non_onehot_scaled = scaler.transform(X_test_non_onehot)\n",
        "# X_test_non_onehot_scaled = pd.DataFrame(X_test_non_onehot_scaled, index = X_test_non_onehot.index, columns = X_test_non_onehot.columns)\n",
        "# X_test_part_std = pd.concat([X_test_non_onehot_scaled, X_test_onehot], axis = 1)"
      ],
      "metadata": {
        "id": "4fAcdbDlMBNP"
      },
      "execution_count": 18,
      "outputs": []
    },
    {
      "cell_type": "markdown",
      "source": [
        "# **Build regularized linear regression model for prediction of hospitalization duration**"
      ],
      "metadata": {
        "id": "zCwFUEOd4-Yi"
      }
    },
    {
      "cell_type": "code",
      "source": [
        "# Suppress convergence warnings\n",
        "def warn(*args, **kwargs):\n",
        "    pass\n",
        "import warnings\n",
        "warnings.warn = warn\n",
        "\n",
        "# Regularized linear model\n",
        "from sklearn.linear_model import ElasticNetCV\n",
        "from sklearn.metrics import mean_squared_error\n",
        "\n",
        "# Type 1 scaling\n",
        "print(\"The results using data scaled with method 1:\")\n",
        "\n",
        "lin_reg = ElasticNetCV(l1_ratio = [0, 0.2, 0.5, 0.8, 0.9, 0.95, 0.99, 1],\n",
        "                       alphas = [0, 0.1, 0.2, 0.5, 0.7, 0.9, 1])\n",
        "\n",
        "lin_reg.fit(X_train_minmax, y_train)\n",
        "y_pred = lin_reg.predict(X_test_minmax)\n",
        "\n",
        "print('\\nMSE for lin_reg is: ', mean_squared_error(y_test, y_pred))\n",
        "print('\\nChosen l1-ratio: ', lin_reg.l1_ratio_)\n",
        "print('\\nChosen alpha: ', lin_reg.alpha_)\n",
        "\n",
        "# # Type 2 scaling\n",
        "# print(\"\\n__________________________________\\n\")\n",
        "# print(\"The results using data scaled with method 2:\")\n",
        "\n",
        "# lin_reg = ElasticNetCV(l1_ratio = [0, 0.2, 0.5, 0.8, 0.9, 0.95, 0.99, 1],\n",
        "#                        alphas = [0, 0.1, 0.2, 0.5, 0.7, 0.9, 1])\n",
        "\n",
        "# lin_reg.fit(X_train_all_std, y_train)\n",
        "# y_pred = lin_reg.predict(X_test_all_std)\n",
        "\n",
        "# print('\\nMSE for lin_reg is: ', mean_squared_error(y_test, y_pred))\n",
        "# print('\\nChosen l1-ratio: ', lin_reg.l1_ratio_)\n",
        "# print('\\nChosen alpha: ', lin_reg.alpha_)\n",
        "\n",
        "# # Type 3 scaling\n",
        "# print(\"\\n__________________________________\\n\")\n",
        "# print(\"The results using data scaled with method 3:\")\n",
        "\n",
        "# lin_reg = ElasticNetCV(l1_ratio = [0, 0.2, 0.5, 0.8, 0.9, 0.95, 0.99, 1],\n",
        "#                        alphas = [0, 0.1, 0.2, 0.5, 0.7, 0.9, 1])\n",
        "\n",
        "# lin_reg.fit(X_train_part_std, y_train)\n",
        "# y_pred = lin_reg.predict(X_test_part_std)\n",
        "\n",
        "# print('\\nMSE for lin_reg is: ', mean_squared_error(y_test, y_pred))\n",
        "# print('\\nChosen l1-ratio: ', lin_reg.l1_ratio_)\n",
        "# print('\\nChosen alpha: ', lin_reg.alpha_)"
      ],
      "metadata": {
        "colab": {
          "base_uri": "https://localhost:8080/"
        },
        "id": "sGikp21k54Z_",
        "outputId": "bc291ac3-abd7-4511-f42f-9f7aa6411039"
      },
      "execution_count": 19,
      "outputs": [
        {
          "output_type": "stream",
          "name": "stdout",
          "text": [
            "The results using data scaled with method 1:\n",
            "\n",
            "MSE for lin_reg is:  0.2665744616538104\n",
            "\n",
            "Chosen l1-ratio:  0.0\n",
            "\n",
            "Chosen alpha:  0.1\n"
          ]
        }
      ]
    },
    {
      "cell_type": "markdown",
      "source": [
        "# **Build support vector regressor for prediction of hospitalization duration**"
      ],
      "metadata": {
        "id": "DuNFkBT5IkWY"
      }
    },
    {
      "cell_type": "code",
      "source": [
        "# # If you don't want to run the grid search, you could use the following parameters:\n",
        "# # C = 0.1, gamma = 1, kernel = linear (next cell)\n",
        "\n",
        "\n",
        "# from sklearn.svm import SVR\n",
        "# from sklearn.model_selection import GridSearchCV\n",
        "\n",
        "# sv_reg = SVR()\n",
        "\n",
        "# param_grid = {'kernel' : ['linear', 'rbf', 'poly'],\n",
        "#               'gamma' : [0.2, 0.5, 1, 5],\n",
        "#               'C' : [0.1, 1, 10, 30]}\n",
        "\n",
        "# sv_reg = GridSearchCV(sv_reg, param_grid = param_grid, \n",
        "#                               verbose = 3, cv = 5, scoring = 'neg_mean_squared_error')\n",
        "\n",
        "# sv_reg.fit(X_train, y_train)\n",
        "\n",
        "# print('\\nBest estimator: \\n', sv_reg.best_estimator_)\n",
        "# print('\\nBest score: \\n', sv_reg.best_score_)\n",
        "# print('\\nBest parameters: \\n', sv_reg.best_params_)\n",
        "\n",
        "# y_pred = sv_reg.best_estimator_.predict(X_test)\n",
        "\n",
        "# print('\\nMSE on test data: ', mean_squared_error(y_test, y_pred))"
      ],
      "metadata": {
        "id": "nrDfqOXUIqf5"
      },
      "execution_count": null,
      "outputs": []
    },
    {
      "cell_type": "code",
      "source": [
        "# SVR using the optimum parameters\n",
        "from sklearn.svm import SVR\n",
        "\n",
        "# Type 1 scaling\n",
        "print(\"The results using data scaled with method 1:\")\n",
        "\n",
        "sv_reg = SVR(kernel = 'linear', gamma = 1, C = 0.1)\n",
        "\n",
        "sv_reg.fit(X_train_minmax, y_train)\n",
        "y_pred = sv_reg.predict(X_test_minmax)\n",
        "\n",
        "print('\\nMSE for sv_reg is: ', mean_squared_error(y_test, y_pred))\n",
        "\n",
        "# # Type 2 scaling\n",
        "# print(\"\\n__________________________________\\n\")\n",
        "# print(\"The results using data scaled with method 2:\")\n",
        "\n",
        "# sv_reg = SVR(kernel = 'linear', gamma = 1, C = 0.1)\n",
        "\n",
        "# sv_reg.fit(X_train_all_std, y_train)\n",
        "# y_pred = sv_reg.predict(X_test_all_std)\n",
        "\n",
        "# print('\\nMSE for sv_reg is: ', mean_squared_error(y_test, y_pred))\n",
        "\n",
        "# # Type 3 scaling\n",
        "# print(\"\\n__________________________________\\n\")\n",
        "# print(\"The results using data scaled with method 3:\")\n",
        "\n",
        "# sv_reg = SVR(kernel = 'linear', gamma = 1, C = 0.1)\n",
        "\n",
        "# sv_reg.fit(X_train_part_std, y_train)\n",
        "# y_pred = sv_reg.predict(X_test_part_std)\n",
        "\n",
        "# print('\\nMSE for sv_reg is: ', mean_squared_error(y_test, y_pred))"
      ],
      "metadata": {
        "colab": {
          "base_uri": "https://localhost:8080/"
        },
        "id": "z12fL5UmhGhU",
        "outputId": "2e7c7a54-b8de-4813-c983-f92f38fecadf"
      },
      "execution_count": 20,
      "outputs": [
        {
          "output_type": "stream",
          "name": "stdout",
          "text": [
            "The results using data scaled with method 1:\n",
            "\n",
            "MSE for sv_reg is:  0.2650978805431524\n"
          ]
        }
      ]
    },
    {
      "cell_type": "markdown",
      "source": [
        "# **Build random forest model for prediction of hospitalization duration**"
      ],
      "metadata": {
        "id": "Vjj6vnxC5RgE"
      }
    },
    {
      "cell_type": "markdown",
      "source": [
        "**Base model:**"
      ],
      "metadata": {
        "id": "6ig2bFv4IdCu"
      }
    },
    {
      "cell_type": "code",
      "source": [
        "from sklearn.ensemble import RandomForestRegressor\n",
        "\n",
        "# Type 1 scaling\n",
        "print(\"The results using data scaled with method 1:\")\n",
        "\n",
        "nl_reg = RandomForestRegressor(random_state = 42)\n",
        "\n",
        "nl_reg.fit(X_train_minmax, y_train)\n",
        "y_pred = nl_reg.predict(X_test_minmax)\n",
        "\n",
        "print('\\nMSE for end_reg is: ', mean_squared_error(y_test, y_pred))\n",
        "\n",
        "# # Type 2 scaling\n",
        "# print(\"\\n__________________________________\\n\")\n",
        "# print(\"The results using data scaled with method 2:\")\n",
        "\n",
        "# nl_reg = RandomForestRegressor(random_state = random.seed(1))\n",
        "\n",
        "# nl_reg.fit(X_train_all_std, y_train)\n",
        "# y_pred = nl_reg.predict(X_test_all_std)\n",
        "\n",
        "# print('\\nMSE for rnd_reg is: ', mean_squared_error(y_test, y_pred))\n",
        "\n",
        "# # Type 3 scaling\n",
        "# print(\"\\n__________________________________\\n\")\n",
        "# print(\"The results using data scaled with method 3:\")\n",
        "\n",
        "# nl_reg = RandomForestRegressor(random_state = random.seed(1))\n",
        "\n",
        "# nl_reg.fit(X_train_part_std, y_train)\n",
        "# y_pred = nl_reg.predict(X_test_part_std)\n",
        "\n",
        "# print('\\nMSE for rnd_reg is: ', mean_squared_error(y_test, y_pred))"
      ],
      "metadata": {
        "colab": {
          "base_uri": "https://localhost:8080/"
        },
        "id": "uHtv1qxhgsCQ",
        "outputId": "ed7dc2e3-a8ae-4f21-dd6e-06085a63e422"
      },
      "execution_count": 21,
      "outputs": [
        {
          "output_type": "stream",
          "name": "stdout",
          "text": [
            "The results using data scaled with method 1:\n",
            "\n",
            "MSE for end_reg is:  0.26932714027439175\n"
          ]
        }
      ]
    },
    {
      "cell_type": "markdown",
      "source": [
        "##Tune hyperparameters using grid search cross-validation:\n",
        "\n",
        "The code cell is commented out as it did not improve model performance while being computationally time-consuming."
      ],
      "metadata": {
        "id": "s5fgHw4TMonq"
      }
    },
    {
      "cell_type": "code",
      "source": [
        "# # Hyperparameter tuning using grid search\n",
        "\n",
        "# from sklearn.model_selection import GridSearchCV\n",
        "\n",
        "# grd_reg = RandomForestRegressor()\n",
        "\n",
        "# param_grid = {'max_depth': [30, 40, 50],\n",
        "#                'n_estimators': [150, 200, 250]}\n",
        "\n",
        "# grd_reg = GridSearchCV(estimator = grd_reg, param_grid = param_grid, \n",
        "#                                cv = 5, verbose = 3, n_jobs = -1, scoring = 'neg_mean_squared_error')\n",
        "\n",
        "# grd_reg.fit(X_train, y_train)\n",
        "\n",
        "# print('\\nBest estimator: \\n', grd_reg.best_estimator_)\n",
        "# print('\\nBest score: \\n', grd_reg.best_score_)\n",
        "# print('\\nBest parameters: \\n', grd_reg.best_params_)\n",
        "\n",
        "# y_pred = grd_reg.best_estimator_.predict(X_test)\n",
        "\n",
        "# print('\\nMSE on test data: ', mean_squared_error(y_test, y_pred))"
      ],
      "metadata": {
        "id": "k1snYw4fIhZd"
      },
      "execution_count": null,
      "outputs": []
    },
    {
      "cell_type": "markdown",
      "source": [
        "##Tune hyperparameters using randomized search cross-validation:\n",
        "\n",
        "The code cell is commented out as it did not improve model performance while being computationally time-consuming."
      ],
      "metadata": {
        "id": "0eqdp2EZJUAQ"
      }
    },
    {
      "cell_type": "code",
      "source": [
        "# # Hyperparameter tuning using randomized search (the main differentiator from\n",
        "# # the previous cell is the max_features hyperparameter)\n",
        "\n",
        "# from sklearn.model_selection import RandomizedSearchCV\n",
        "\n",
        "# rnd_reg = RandomForestRegressor()\n",
        "\n",
        "# random_grid = {'max_depth': [2, 16, 32, 64, None],\n",
        "#                'n_estimators': [64, 256, 512],\n",
        "#                'max_features': ['sqrt', 0.2, 'auto']}\n",
        "\n",
        "# rnd_reg = RandomizedSearchCV(estimator = rnd_reg, param_distributions = random_grid, \n",
        "#                                cv = 5, verbose = 3, n_jobs = -1, random_state = 42, scoring = 'neg_mean_squared_error')\n",
        "\n",
        "# rnd_reg.fit(X_train, y_train)\n",
        "\n",
        "# print('\\nBest estimator \\n', rnd_reg.best_estimator_)\n",
        "# print('\\nBest score \\n', rnd_reg.best_score_)\n",
        "# print('\\nBest parameters \\n', rnd_reg.best_params_)\n",
        "\n",
        "# y_pred = rnd_re.best_estimator_.predict(X_test)\n",
        "\n",
        "# print('\\nMSE on test data:', mean_squared_error(y_test, y_pred))"
      ],
      "metadata": {
        "id": "-6-uYyXbLSuN"
      },
      "execution_count": null,
      "outputs": []
    },
    {
      "cell_type": "markdown",
      "source": [
        "##Extract feature importances:"
      ],
      "metadata": {
        "id": "VtpAX6uyJya_"
      }
    },
    {
      "cell_type": "code",
      "source": [
        "forest_importance = pd.Series(nl_reg.feature_importances_,\n",
        "                              index = X_train.columns).sort_values(ascending = False)\n",
        "\n",
        "forest_importance[:10]"
      ],
      "metadata": {
        "colab": {
          "base_uri": "https://localhost:8080/"
        },
        "id": "1lHx2o-KlkOx",
        "outputId": "a5ccc77d-de15-44c6-9218-b6ec8f575740"
      },
      "execution_count": null,
      "outputs": [
        {
          "output_type": "execute_result",
          "data": {
            "text/plain": [
              "Torasemide tablet                  0.037065\n",
              "Furosemide tablet                  0.035587\n",
              "carbon.dioxide.binding.capacity    0.025066\n",
              "cystatin                           0.024320\n",
              "creatine.kinase.isoenzyme          0.018745\n",
              "chloride                           0.018652\n",
              "uric.acid                          0.018447\n",
              "urea                               0.018395\n",
              "platelet                           0.017509\n",
              "total.protein                      0.016943\n",
              "dtype: float64"
            ]
          },
          "metadata": {},
          "execution_count": 21
        }
      ]
    },
    {
      "cell_type": "markdown",
      "source": [
        "# **Build super ensemble (voting regressor) model**"
      ],
      "metadata": {
        "id": "7AhaSOrQGfCT"
      }
    },
    {
      "cell_type": "code",
      "source": [
        "from sklearn.ensemble import VotingRegressor\n",
        "\n",
        "# Type 1 scaling\n",
        "print(\"The results using data scaled with method 1:\")\n",
        "\n",
        "vote_reg = VotingRegressor(estimators = [('rf', nl_reg), ('lin', lin_reg), ('svr', sv_reg)])\n",
        "\n",
        "vote_reg.fit(X_train_minmax, y_train)\n",
        "y_pred = vote_reg.predict(X_test_minmax)\n",
        "\n",
        "print('\\nMSE for sv_reg is: ', mean_squared_error(y_test, y_pred))\n",
        "\n",
        "# # Type 2 scaling\n",
        "# print(\"\\n__________________________________\\n\")\n",
        "# print(\"The results using data scaled with method 2:\")\n",
        "\n",
        "# vote_reg = VotingRegressor(estimators = [('rf', nl_reg), ('lin', lin_reg), ('svr', sv_reg)])\n",
        "\n",
        "# vote_reg.fit(X_train_all_std, y_train)\n",
        "# y_pred = vote_reg.predict(X_test_all_std)\n",
        "\n",
        "# print('\\nMSE for sv_reg is: ', mean_squared_error(y_test, y_pred))\n",
        "\n",
        "# # Type 3 scaling\n",
        "# print(\"\\n__________________________________\\n\")\n",
        "# print(\"The results using data scaled with method 3:\")\n",
        "\n",
        "# vote_reg = VotingRegressor(estimators = [('rf', nl_reg), ('lin', lin_reg), ('svr', sv_reg)])\n",
        "\n",
        "# vote_reg.fit(X_train_part_std, y_train)\n",
        "# y_pred = vote_reg.predict(X_test_part_std)\n",
        "\n",
        "# print('\\nMSE for sv_reg is: ', mean_squared_error(y_test, y_pred))"
      ],
      "metadata": {
        "colab": {
          "base_uri": "https://localhost:8080/"
        },
        "id": "fkYju3qoF3wB",
        "outputId": "2b5ced10-938e-49cb-cee1-ee6943829da6"
      },
      "execution_count": 22,
      "outputs": [
        {
          "output_type": "stream",
          "name": "stdout",
          "text": [
            "The results using data scaled with method 1:\n",
            "\n",
            "MSE for sv_reg is:  0.25572273237199433\n"
          ]
        }
      ]
    },
    {
      "cell_type": "markdown",
      "source": [
        "# **Build a neural network regressor**"
      ],
      "metadata": {
        "id": "iPNIqbZp02Od"
      }
    },
    {
      "cell_type": "code",
      "source": [
        "import tensorflow as tf\n",
        "from tensorflow.keras import layers\n",
        "\n",
        "# Set random seed\n",
        "tf.random.set_seed(42)"
      ],
      "metadata": {
        "id": "1Jn_DHcM06kT"
      },
      "execution_count": 20,
      "outputs": []
    },
    {
      "cell_type": "markdown",
      "source": [
        "## Convert datasets to tensors"
      ],
      "metadata": {
        "id": "ntSUQNpCZUkc"
      }
    },
    {
      "cell_type": "code",
      "source": [
        "# Convert data into tensors\n",
        "X_train_minmax_tensor = tf.cast(tf.constant(np.array(X_train_minmax)), dtype = tf.float32) # MinMax standardization gives the best results (experimentation not shown)\n",
        "X_test_minmax_tensor = tf.cast(tf.constant(np.array(X_test_minmax)), dtype = tf.float32)\n",
        "\n",
        "# X_train_all_std_tensor = tf.cast(tf.constant(np.array(X_train_all_std)), dtype = tf.float32)\n",
        "# X_test_all_std_tensor = tf.cast(tf.constant(np.array(X_test_all_std)), dtype = tf.float32)\n",
        "\n",
        "# X_train_part_std_tensor = tf.cast(tf.constant(np.array(X_train_part_std)), dtype = tf.float32)\n",
        "# X_test_part_std_tensor = tf.cast(tf.constant(np.array(X_test_part_std)), dtype = tf.float32)\n",
        "\n",
        "y_train_tensor = tf.cast(tf.constant(np.array(y_train)), dtype = tf.float32)\n",
        "y_test_tensor = tf.cast(tf.constant(np.array(y_test)), dtype = tf.float32)"
      ],
      "metadata": {
        "id": "JXpXfAsJ1oDW"
      },
      "execution_count": 82,
      "outputs": []
    },
    {
      "cell_type": "code",
      "source": [
        "# Split test_data into validation and test data\n",
        "X_val_minmax_tensor, X_test_minmax_tensor = tf.split(X_test_minmax_tensor, 2, axis = 0) # MinMax standardization gives the best results (experimentation not shown)\n",
        "\n",
        "# X_val_all_std_tensor, X_test_all_std_tensor = tf.split(X_test_all_std_tensor, 2, axis = 0)\n",
        "\n",
        "# X_val_part_std_tensor, X_test_part_std_tensor = tf.split(X_test_part_std_tensor, 2, axis = 0)\n",
        "\n",
        "y_val_tensor, y_test_tensor = tf.split(y_test_tensor, 2, axis = 0)"
      ],
      "metadata": {
        "id": "qOu3ppycI_Go"
      },
      "execution_count": 83,
      "outputs": []
    },
    {
      "cell_type": "markdown",
      "source": [
        "## Create TensorBoard callback"
      ],
      "metadata": {
        "id": "holrQXiEZacv"
      }
    },
    {
      "cell_type": "code",
      "source": [
        "# Create TensorBoard callback\n",
        "import datetime\n",
        "\n",
        "def create_tensorboard_callback(dir_name, experiment_name):\n",
        "  log_dir = dir_name + '/' + experiment_name + \"/\" + datetime.datetime.now().strftime(\"%Y%m%d-%H%M%S\")\n",
        "  tensorboard_callback = tf.keras.callbacks.TensorBoard(log_dir = log_dir)\n",
        "  print(f\"Saving TensorBoard log files to: {log_dir}\")\n",
        "  return tensorboard_callback"
      ],
      "metadata": {
        "id": "wtxejBUuh1XR"
      },
      "execution_count": 23,
      "outputs": []
    },
    {
      "cell_type": "markdown",
      "source": [
        "## Create function for plotting loss and MSE curves"
      ],
      "metadata": {
        "id": "DlvO9_x_ZeqY"
      }
    },
    {
      "cell_type": "code",
      "source": [
        "# Create a function to plot loss_curves\n",
        "import matplotlib.pyplot as plt\n",
        "\n",
        "def plot_loss_curves(history):\n",
        "  \"\"\"\n",
        "  Returns separate loss curves for training and validation metrics.\n",
        "\n",
        "  Args:\n",
        "    history: TensorFlow History object.\n",
        "  \n",
        "  Returns:\n",
        "    Plots of training/validation loss.\n",
        "  \"\"\"\n",
        "\n",
        "  loss = history.history[\"loss\"]\n",
        "  val_loss = history.history[\"val_loss\"]\n",
        "\n",
        "  mse = history.history[\"mse\"]\n",
        "  val_mse = history.history[\"val_mse\"]\n",
        "\n",
        "  epochs = range(len(history.history[\"loss\"]))\n",
        "\n",
        "  # Plot loss\n",
        "  plt.plot(epochs, loss, label = \"Training loss\")\n",
        "  plt.plot(epochs, val_loss, label = \"Validation loss\")\n",
        "  plt.title(\"Loss\")\n",
        "  plt.xlabel(\"Epochs\")\n",
        "  plt.legend()\n",
        "\n",
        "  # Plot mse\n",
        "  plt.figure()\n",
        "  plt.plot(epochs, mse, label = \"Training MSE\")\n",
        "  plt.plot(epochs, val_mse, label = \"Validation MSE\")\n",
        "  plt.title(\"MSE\")\n",
        "  plt.xlabel(\"Epochs\")\n",
        "  plt.legend()"
      ],
      "metadata": {
        "id": "XSU0PvUnxikH"
      },
      "execution_count": 44,
      "outputs": []
    },
    {
      "cell_type": "markdown",
      "source": [
        "## Build models and experiment to find final architecture"
      ],
      "metadata": {
        "id": "rS04Lx4IZjwn"
      }
    },
    {
      "cell_type": "markdown",
      "source": [
        "### Model_0 (Base model)"
      ],
      "metadata": {
        "id": "jQAN5g3TgVF7"
      }
    },
    {
      "cell_type": "code",
      "source": [
        "model_0 = tf.keras.Sequential([\n",
        "    layers.Dense(166, input_shape = X_train_minmax_tensor[0].shape, name = \"input_layer\"),\n",
        "    layers.Dense(100, activation = \"relu\"),\n",
        "    layers.Dense(1, name = \"output_layer\")\n",
        "])\n",
        "\n",
        "model_0.compile(loss = tf.keras.losses.mse,\n",
        "              optimizer = tf.keras.optimizers.Adam(learning_rate = 0.0001),\n",
        "              metrics = [\"mse\"])\n",
        "\n",
        "model_0_history  = model_0.fit(x = X_train_minmax_tensor, \n",
        "                               y = y_train_tensor, \n",
        "                               epochs = 10,\n",
        "                               validation_data = (X_val_minmax_tensor, y_val_tensor),\n",
        "                               callbacks = [create_tensorboard_callback(dir_name = \"nn-predictions\",\n",
        "                                                   experiment_name = \"Model_0\")])"
      ],
      "metadata": {
        "colab": {
          "base_uri": "https://localhost:8080/"
        },
        "id": "sRXDCSiNBBzO",
        "outputId": "d18fcbed-3328-4ebe-b023-a120710c7773"
      },
      "execution_count": 25,
      "outputs": [
        {
          "output_type": "stream",
          "name": "stdout",
          "text": [
            "Saving TensorBoard log files to: nn-predictions/Model_0/20221127-122801\n",
            "Epoch 1/10\n",
            "51/51 [==============================] - 2s 8ms/step - loss: 0.9546 - mse: 0.9546 - val_loss: 0.3307 - val_mse: 0.3307\n",
            "Epoch 2/10\n",
            "51/51 [==============================] - 0s 3ms/step - loss: 0.3780 - mse: 0.3780 - val_loss: 0.3073 - val_mse: 0.3073\n",
            "Epoch 3/10\n",
            "51/51 [==============================] - 0s 4ms/step - loss: 0.3448 - mse: 0.3448 - val_loss: 0.2872 - val_mse: 0.2872\n",
            "Epoch 4/10\n",
            "51/51 [==============================] - 0s 4ms/step - loss: 0.3236 - mse: 0.3236 - val_loss: 0.2806 - val_mse: 0.2806\n",
            "Epoch 5/10\n",
            "51/51 [==============================] - 0s 4ms/step - loss: 0.3070 - mse: 0.3070 - val_loss: 0.2716 - val_mse: 0.2716\n",
            "Epoch 6/10\n",
            "51/51 [==============================] - 0s 4ms/step - loss: 0.2963 - mse: 0.2963 - val_loss: 0.2661 - val_mse: 0.2661\n",
            "Epoch 7/10\n",
            "51/51 [==============================] - 0s 4ms/step - loss: 0.2877 - mse: 0.2877 - val_loss: 0.2609 - val_mse: 0.2609\n",
            "Epoch 8/10\n",
            "51/51 [==============================] - 0s 4ms/step - loss: 0.2816 - mse: 0.2816 - val_loss: 0.2577 - val_mse: 0.2577\n",
            "Epoch 9/10\n",
            "51/51 [==============================] - 0s 4ms/step - loss: 0.2745 - mse: 0.2745 - val_loss: 0.2567 - val_mse: 0.2567\n",
            "Epoch 10/10\n",
            "51/51 [==============================] - 0s 4ms/step - loss: 0.2688 - mse: 0.2688 - val_loss: 0.2552 - val_mse: 0.2552\n"
          ]
        }
      ]
    },
    {
      "cell_type": "code",
      "source": [
        "plot_loss_curves(model_0_history)"
      ],
      "metadata": {
        "colab": {
          "base_uri": "https://localhost:8080/",
          "height": 573
        },
        "id": "xq_4pG3IUTOD",
        "outputId": "409a050a-f8bb-4dea-9b4e-b90eeda47355"
      },
      "execution_count": 45,
      "outputs": [
        {
          "output_type": "display_data",
          "data": {
            "text/plain": [
              "<Figure size 432x288 with 1 Axes>"
            ],
            "image/png": "[encoded data removed]"
          },
          "metadata": {
            "needs_background": "light"
          }
        },
        {
          "output_type": "display_data",
          "data": {
            "text/plain": [
              "<Figure size 432x288 with 1 Axes>"
            ],
            "image/png": "[encoded data removed]"
          },
          "metadata": {
            "needs_background": "light"
          }
        }
      ]
    },
    {
      "cell_type": "markdown",
      "source": [
        "### Model_1 (Add 1 hidden layer to improve bias)"
      ],
      "metadata": {
        "id": "pOFjxBW1XoFp"
      }
    },
    {
      "cell_type": "code",
      "source": [
        "model_1 = tf.keras.Sequential([\n",
        "    layers.Dense(166, input_shape = X_train_minmax_tensor[0].shape, name = \"input_layer\"),\n",
        "    layers.Dense(100, activation = \"relu\"),\n",
        "    layers.Dense(100, activation = \"relu\"),\n",
        "    layers.Dense(1, name = \"output_layer\")\n",
        "])\n",
        "\n",
        "model_1.compile(loss = tf.keras.losses.mse,\n",
        "              optimizer = tf.keras.optimizers.Adam(learning_rate = 0.0001),\n",
        "              metrics = [\"mse\"])\n",
        "\n",
        "model_1_history  = model_1.fit(x = X_train_minmax_tensor, \n",
        "                               y = y_train_tensor, \n",
        "                               epochs = 10,\n",
        "                               validation_data = (X_val_minmax_tensor, y_val_tensor),\n",
        "                               callbacks = [create_tensorboard_callback(dir_name = \"nn-predictions\",\n",
        "                                                   experiment_name = \"Model_1\")])"
      ],
      "metadata": {
        "colab": {
          "base_uri": "https://localhost:8080/"
        },
        "id": "ct4FVAbzyc_g",
        "outputId": "42bd693e-12f8-4710-949d-3ae0943c4b25"
      },
      "execution_count": 27,
      "outputs": [
        {
          "output_type": "stream",
          "name": "stdout",
          "text": [
            "Saving TensorBoard log files to: nn-predictions/Model_1/20221127-122823\n",
            "Epoch 1/10\n",
            "51/51 [==============================] - 1s 7ms/step - loss: 1.3142 - mse: 1.3142 - val_loss: 0.3738 - val_mse: 0.3738\n",
            "Epoch 2/10\n",
            "51/51 [==============================] - 0s 4ms/step - loss: 0.3705 - mse: 0.3705 - val_loss: 0.3233 - val_mse: 0.3233\n",
            "Epoch 3/10\n",
            "51/51 [==============================] - 0s 4ms/step - loss: 0.3395 - mse: 0.3395 - val_loss: 0.3035 - val_mse: 0.3035\n",
            "Epoch 4/10\n",
            "51/51 [==============================] - 0s 4ms/step - loss: 0.3227 - mse: 0.3227 - val_loss: 0.3000 - val_mse: 0.3000\n",
            "Epoch 5/10\n",
            "51/51 [==============================] - 0s 5ms/step - loss: 0.3073 - mse: 0.3073 - val_loss: 0.2885 - val_mse: 0.2885\n",
            "Epoch 6/10\n",
            "51/51 [==============================] - 0s 4ms/step - loss: 0.2963 - mse: 0.2963 - val_loss: 0.2786 - val_mse: 0.2786\n",
            "Epoch 7/10\n",
            "51/51 [==============================] - 0s 5ms/step - loss: 0.2866 - mse: 0.2866 - val_loss: 0.2718 - val_mse: 0.2718\n",
            "Epoch 8/10\n",
            "51/51 [==============================] - 0s 5ms/step - loss: 0.2795 - mse: 0.2795 - val_loss: 0.2679 - val_mse: 0.2679\n",
            "Epoch 9/10\n",
            "51/51 [==============================] - 0s 4ms/step - loss: 0.2711 - mse: 0.2711 - val_loss: 0.2654 - val_mse: 0.2654\n",
            "Epoch 10/10\n",
            "51/51 [==============================] - 0s 4ms/step - loss: 0.2654 - mse: 0.2654 - val_loss: 0.2621 - val_mse: 0.2621\n"
          ]
        }
      ]
    },
    {
      "cell_type": "code",
      "source": [
        "plot_loss_curves(model_1_history)"
      ],
      "metadata": {
        "colab": {
          "base_uri": "https://localhost:8080/",
          "height": 295
        },
        "id": "ehjgsqaFyoPV",
        "outputId": "98b831c8-0917-4b01-8872-cc3bb7b9cf69"
      },
      "execution_count": 28,
      "outputs": [
        {
          "output_type": "display_data",
          "data": {
            "text/plain": [
              "<Figure size 432x288 with 1 Axes>"
            ],
            "image/png": "[encoded data removed]"
          },
          "metadata": {
            "needs_background": "light"
          }
        }
      ]
    },
    {
      "cell_type": "markdown",
      "source": [
        "### Model_2 (Add 3 hidden layers to improve bias)"
      ],
      "metadata": {
        "id": "AXuyeZcWzGst"
      }
    },
    {
      "cell_type": "code",
      "source": [
        "model_2 = tf.keras.Sequential([\n",
        "    layers.Dense(166, input_shape = X_train_minmax_tensor[0].shape, name = \"input_layer\"),\n",
        "    layers.Dense(100, activation = \"relu\"),\n",
        "    layers.Dense(100, activation = \"relu\"),\n",
        "    layers.Dense(100, activation = \"relu\"),\n",
        "    layers.Dense(100, activation = \"relu\"),\n",
        "    layers.Dense(1, name = \"output_layer\")\n",
        "])\n",
        "\n",
        "model_2.compile(loss = tf.keras.losses.mse,\n",
        "              optimizer = tf.keras.optimizers.Adam(learning_rate = 0.0001),\n",
        "              metrics = [\"mse\"])\n",
        "\n",
        "model_2_history  = model_2.fit(x = X_train_minmax_tensor, \n",
        "                               y = y_train_tensor, \n",
        "                               epochs = 10,\n",
        "                               validation_data = (X_val_minmax_tensor, y_val_tensor),\n",
        "                               callbacks = [create_tensorboard_callback(dir_name = \"nn-predictions\",\n",
        "                                                   experiment_name = \"Model_2\")])"
      ],
      "metadata": {
        "colab": {
          "base_uri": "https://localhost:8080/"
        },
        "id": "XZHWgrPkzEs8",
        "outputId": "d99709c4-308d-436e-d846-37498ef468ca"
      },
      "execution_count": 29,
      "outputs": [
        {
          "output_type": "stream",
          "name": "stdout",
          "text": [
            "Saving TensorBoard log files to: nn-predictions/Model_2/20221127-122845\n",
            "Epoch 1/10\n",
            "51/51 [==============================] - 2s 18ms/step - loss: 1.6446 - mse: 1.6446 - val_loss: 0.3557 - val_mse: 0.3557\n",
            "Epoch 2/10\n",
            "51/51 [==============================] - 1s 11ms/step - loss: 0.3544 - mse: 0.3544 - val_loss: 0.2915 - val_mse: 0.2915\n",
            "Epoch 3/10\n",
            "51/51 [==============================] - 0s 6ms/step - loss: 0.3293 - mse: 0.3293 - val_loss: 0.2813 - val_mse: 0.2813\n",
            "Epoch 4/10\n",
            "51/51 [==============================] - 0s 8ms/step - loss: 0.3189 - mse: 0.3189 - val_loss: 0.2847 - val_mse: 0.2847\n",
            "Epoch 5/10\n",
            "51/51 [==============================] - 1s 11ms/step - loss: 0.3060 - mse: 0.3060 - val_loss: 0.2686 - val_mse: 0.2686\n",
            "Epoch 6/10\n",
            "51/51 [==============================] - 1s 11ms/step - loss: 0.2965 - mse: 0.2965 - val_loss: 0.2592 - val_mse: 0.2592\n",
            "Epoch 7/10\n",
            "51/51 [==============================] - 1s 11ms/step - loss: 0.2880 - mse: 0.2880 - val_loss: 0.2543 - val_mse: 0.2543\n",
            "Epoch 8/10\n",
            "51/51 [==============================] - 0s 9ms/step - loss: 0.2829 - mse: 0.2829 - val_loss: 0.2505 - val_mse: 0.2505\n",
            "Epoch 9/10\n",
            "51/51 [==============================] - 0s 9ms/step - loss: 0.2749 - mse: 0.2749 - val_loss: 0.2500 - val_mse: 0.2500\n",
            "Epoch 10/10\n",
            "51/51 [==============================] - 1s 13ms/step - loss: 0.2669 - mse: 0.2669 - val_loss: 0.2475 - val_mse: 0.2475\n"
          ]
        }
      ]
    },
    {
      "cell_type": "markdown",
      "source": [
        "### Model_3 (Add 10 training epochs to Model_1 to improve bias)"
      ],
      "metadata": {
        "id": "TY_ilvW0zm20"
      }
    },
    {
      "cell_type": "code",
      "source": [
        "model_3 = tf.keras.Sequential([\n",
        "    layers.Dense(166, input_shape = X_train_minmax_tensor[0].shape, name = \"input_layer\"),\n",
        "    layers.Dense(100, activation = \"relu\"),\n",
        "    layers.Dense(100, activation = \"relu\"),\n",
        "    layers.Dense(1, name = \"output_layer\")\n",
        "])\n",
        "\n",
        "model_3.compile(loss = tf.keras.losses.mse,\n",
        "              optimizer = tf.keras.optimizers.Adam(learning_rate = 0.0001),\n",
        "              metrics = [\"mse\"])\n",
        "\n",
        "model_3_history  = model_3.fit(x = X_train_minmax_tensor, \n",
        "                               y = y_train_tensor, \n",
        "                               epochs = 20,\n",
        "                               validation_data = (X_val_minmax_tensor, y_val_tensor),\n",
        "                               callbacks = [create_tensorboard_callback(dir_name = \"nn-predictions\",\n",
        "                                                   experiment_name = \"Model_3\")])"
      ],
      "metadata": {
        "colab": {
          "base_uri": "https://localhost:8080/"
        },
        "id": "lf5xQ333z4F1",
        "outputId": "83dbfb91-d8d4-4e21-cffd-e763af252d62"
      },
      "execution_count": 30,
      "outputs": [
        {
          "output_type": "stream",
          "name": "stdout",
          "text": [
            "Saving TensorBoard log files to: nn-predictions/Model_3/20221127-122926\n",
            "Epoch 1/20\n",
            "51/51 [==============================] - 1s 10ms/step - loss: 1.8242 - mse: 1.8242 - val_loss: 0.3445 - val_mse: 0.3445\n",
            "Epoch 2/20\n",
            "51/51 [==============================] - 0s 5ms/step - loss: 0.3829 - mse: 0.3829 - val_loss: 0.3016 - val_mse: 0.3016\n",
            "Epoch 3/20\n",
            "51/51 [==============================] - 0s 4ms/step - loss: 0.3558 - mse: 0.3558 - val_loss: 0.2861 - val_mse: 0.2861\n",
            "Epoch 4/20\n",
            "51/51 [==============================] - 0s 5ms/step - loss: 0.3404 - mse: 0.3404 - val_loss: 0.2831 - val_mse: 0.2831\n",
            "Epoch 5/20\n",
            "51/51 [==============================] - 0s 5ms/step - loss: 0.3256 - mse: 0.3256 - val_loss: 0.2699 - val_mse: 0.2699\n",
            "Epoch 6/20\n",
            "51/51 [==============================] - 0s 5ms/step - loss: 0.3141 - mse: 0.3141 - val_loss: 0.2629 - val_mse: 0.2629\n",
            "Epoch 7/20\n",
            "51/51 [==============================] - 0s 4ms/step - loss: 0.3040 - mse: 0.3040 - val_loss: 0.2574 - val_mse: 0.2574\n",
            "Epoch 8/20\n",
            "51/51 [==============================] - 0s 5ms/step - loss: 0.2957 - mse: 0.2957 - val_loss: 0.2536 - val_mse: 0.2536\n",
            "Epoch 9/20\n",
            "51/51 [==============================] - 0s 5ms/step - loss: 0.2870 - mse: 0.2870 - val_loss: 0.2529 - val_mse: 0.2529\n",
            "Epoch 10/20\n",
            "51/51 [==============================] - 0s 4ms/step - loss: 0.2786 - mse: 0.2786 - val_loss: 0.2502 - val_mse: 0.2502\n",
            "Epoch 11/20\n",
            "51/51 [==============================] - 0s 4ms/step - loss: 0.2727 - mse: 0.2727 - val_loss: 0.2502 - val_mse: 0.2502\n",
            "Epoch 12/20\n",
            "51/51 [==============================] - 0s 5ms/step - loss: 0.2661 - mse: 0.2661 - val_loss: 0.2476 - val_mse: 0.2476\n",
            "Epoch 13/20\n",
            "51/51 [==============================] - 0s 7ms/step - loss: 0.2604 - mse: 0.2604 - val_loss: 0.2458 - val_mse: 0.2458\n",
            "Epoch 14/20\n",
            "51/51 [==============================] - 0s 4ms/step - loss: 0.2562 - mse: 0.2562 - val_loss: 0.2445 - val_mse: 0.2445\n",
            "Epoch 15/20\n",
            "51/51 [==============================] - 0s 4ms/step - loss: 0.2496 - mse: 0.2496 - val_loss: 0.2444 - val_mse: 0.2444\n",
            "Epoch 16/20\n",
            "51/51 [==============================] - 0s 4ms/step - loss: 0.2483 - mse: 0.2483 - val_loss: 0.2424 - val_mse: 0.2424\n",
            "Epoch 17/20\n",
            "51/51 [==============================] - 0s 4ms/step - loss: 0.2418 - mse: 0.2418 - val_loss: 0.2438 - val_mse: 0.2438\n",
            "Epoch 18/20\n",
            "51/51 [==============================] - 0s 4ms/step - loss: 0.2370 - mse: 0.2370 - val_loss: 0.2492 - val_mse: 0.2492\n",
            "Epoch 19/20\n",
            "51/51 [==============================] - 0s 4ms/step - loss: 0.2329 - mse: 0.2329 - val_loss: 0.2449 - val_mse: 0.2449\n",
            "Epoch 20/20\n",
            "51/51 [==============================] - 0s 4ms/step - loss: 0.2292 - mse: 0.2292 - val_loss: 0.2485 - val_mse: 0.2485\n"
          ]
        }
      ]
    },
    {
      "cell_type": "markdown",
      "source": [
        "### Model_4 (Add 30 training epochs to improve bias)"
      ],
      "metadata": {
        "id": "UK418xZx0_Uw"
      }
    },
    {
      "cell_type": "code",
      "source": [
        "model_4 = tf.keras.Sequential([\n",
        "    layers.Dense(166, input_shape = X_train_minmax_tensor[0].shape, name = \"input_layer\"),\n",
        "    layers.Dense(100, activation = \"relu\"),\n",
        "    layers.Dense(100, activation = \"relu\"),\n",
        "    layers.Dense(1, name = \"output_layer\")\n",
        "])\n",
        "\n",
        "model_4.compile(loss = tf.keras.losses.mse,\n",
        "              optimizer = tf.keras.optimizers.Adam(learning_rate = 0.0001),\n",
        "              metrics = [\"mse\"])\n",
        "\n",
        "model_4_history  = model_4.fit(x = X_train_minmax_tensor, \n",
        "                               y = y_train_tensor, \n",
        "                               epochs = 40,\n",
        "                               validation_data = (X_val_minmax_tensor, y_val_tensor),\n",
        "                               callbacks = [create_tensorboard_callback(dir_name = \"nn-predictions\",\n",
        "                                                   experiment_name = \"Model_4\")])"
      ],
      "metadata": {
        "colab": {
          "base_uri": "https://localhost:8080/"
        },
        "id": "eNNFkrWo1MBk",
        "outputId": "27c72ac8-0da0-41f9-8ff7-d1827f574901"
      },
      "execution_count": 31,
      "outputs": [
        {
          "output_type": "stream",
          "name": "stdout",
          "text": [
            "Saving TensorBoard log files to: nn-predictions/Model_4/20221127-122948\n",
            "Epoch 1/40\n",
            "51/51 [==============================] - 3s 22ms/step - loss: 1.3115 - mse: 1.3115 - val_loss: 0.3643 - val_mse: 0.3643\n",
            "Epoch 2/40\n",
            "51/51 [==============================] - 1s 13ms/step - loss: 0.3998 - mse: 0.3998 - val_loss: 0.3113 - val_mse: 0.3113\n",
            "Epoch 3/40\n",
            "51/51 [==============================] - 1s 10ms/step - loss: 0.3555 - mse: 0.3555 - val_loss: 0.2820 - val_mse: 0.2820\n",
            "Epoch 4/40\n",
            "51/51 [==============================] - 1s 13ms/step - loss: 0.3304 - mse: 0.3304 - val_loss: 0.2757 - val_mse: 0.2757\n",
            "Epoch 5/40\n",
            "51/51 [==============================] - 1s 14ms/step - loss: 0.3095 - mse: 0.3095 - val_loss: 0.2604 - val_mse: 0.2604\n",
            "Epoch 6/40\n",
            "51/51 [==============================] - 1s 12ms/step - loss: 0.2944 - mse: 0.2944 - val_loss: 0.2532 - val_mse: 0.2532\n",
            "Epoch 7/40\n",
            "51/51 [==============================] - 1s 12ms/step - loss: 0.2831 - mse: 0.2831 - val_loss: 0.2469 - val_mse: 0.2469\n",
            "Epoch 8/40\n",
            "51/51 [==============================] - 1s 13ms/step - loss: 0.2758 - mse: 0.2758 - val_loss: 0.2443 - val_mse: 0.2443\n",
            "Epoch 9/40\n",
            "51/51 [==============================] - 1s 13ms/step - loss: 0.2692 - mse: 0.2692 - val_loss: 0.2452 - val_mse: 0.2452\n",
            "Epoch 10/40\n",
            "51/51 [==============================] - 1s 13ms/step - loss: 0.2620 - mse: 0.2620 - val_loss: 0.2435 - val_mse: 0.2435\n",
            "Epoch 11/40\n",
            "51/51 [==============================] - 1s 12ms/step - loss: 0.2583 - mse: 0.2583 - val_loss: 0.2447 - val_mse: 0.2447\n",
            "Epoch 12/40\n",
            "51/51 [==============================] - 1s 11ms/step - loss: 0.2534 - mse: 0.2534 - val_loss: 0.2467 - val_mse: 0.2467\n",
            "Epoch 13/40\n",
            "51/51 [==============================] - 1s 12ms/step - loss: 0.2492 - mse: 0.2492 - val_loss: 0.2432 - val_mse: 0.2432\n",
            "Epoch 14/40\n",
            "51/51 [==============================] - 1s 11ms/step - loss: 0.2471 - mse: 0.2471 - val_loss: 0.2439 - val_mse: 0.2439\n",
            "Epoch 15/40\n",
            "51/51 [==============================] - 1s 15ms/step - loss: 0.2407 - mse: 0.2407 - val_loss: 0.2446 - val_mse: 0.2446\n",
            "Epoch 16/40\n",
            "51/51 [==============================] - 1s 14ms/step - loss: 0.2403 - mse: 0.2403 - val_loss: 0.2428 - val_mse: 0.2428\n",
            "Epoch 17/40\n",
            "51/51 [==============================] - 1s 17ms/step - loss: 0.2350 - mse: 0.2350 - val_loss: 0.2444 - val_mse: 0.2444\n",
            "Epoch 18/40\n",
            "51/51 [==============================] - 1s 15ms/step - loss: 0.2310 - mse: 0.2310 - val_loss: 0.2502 - val_mse: 0.2502\n",
            "Epoch 19/40\n",
            "51/51 [==============================] - 1s 11ms/step - loss: 0.2276 - mse: 0.2276 - val_loss: 0.2462 - val_mse: 0.2462\n",
            "Epoch 20/40\n",
            "51/51 [==============================] - 0s 9ms/step - loss: 0.2246 - mse: 0.2246 - val_loss: 0.2487 - val_mse: 0.2487\n",
            "Epoch 21/40\n",
            "51/51 [==============================] - 1s 10ms/step - loss: 0.2224 - mse: 0.2224 - val_loss: 0.2482 - val_mse: 0.2482\n",
            "Epoch 22/40\n",
            "51/51 [==============================] - 1s 13ms/step - loss: 0.2166 - mse: 0.2166 - val_loss: 0.2479 - val_mse: 0.2479\n",
            "Epoch 23/40\n",
            "51/51 [==============================] - 1s 12ms/step - loss: 0.2137 - mse: 0.2137 - val_loss: 0.2460 - val_mse: 0.2460\n",
            "Epoch 24/40\n",
            "51/51 [==============================] - 1s 17ms/step - loss: 0.2116 - mse: 0.2116 - val_loss: 0.2507 - val_mse: 0.2507\n",
            "Epoch 25/40\n",
            "51/51 [==============================] - 1s 13ms/step - loss: 0.2069 - mse: 0.2069 - val_loss: 0.2507 - val_mse: 0.2507\n",
            "Epoch 26/40\n",
            "51/51 [==============================] - 1s 14ms/step - loss: 0.2045 - mse: 0.2045 - val_loss: 0.2542 - val_mse: 0.2542\n",
            "Epoch 27/40\n",
            "51/51 [==============================] - 1s 10ms/step - loss: 0.2003 - mse: 0.2003 - val_loss: 0.2558 - val_mse: 0.2558\n",
            "Epoch 28/40\n",
            "51/51 [==============================] - 1s 18ms/step - loss: 0.1970 - mse: 0.1970 - val_loss: 0.2590 - val_mse: 0.2590\n",
            "Epoch 29/40\n",
            "51/51 [==============================] - 1s 15ms/step - loss: 0.1955 - mse: 0.1955 - val_loss: 0.2581 - val_mse: 0.2581\n",
            "Epoch 30/40\n",
            "51/51 [==============================] - 1s 15ms/step - loss: 0.1922 - mse: 0.1922 - val_loss: 0.2546 - val_mse: 0.2546\n",
            "Epoch 31/40\n",
            "51/51 [==============================] - 1s 13ms/step - loss: 0.1864 - mse: 0.1864 - val_loss: 0.2771 - val_mse: 0.2771\n",
            "Epoch 32/40\n",
            "51/51 [==============================] - 1s 14ms/step - loss: 0.1861 - mse: 0.1861 - val_loss: 0.2612 - val_mse: 0.2612\n",
            "Epoch 33/40\n",
            "51/51 [==============================] - 1s 10ms/step - loss: 0.1790 - mse: 0.1790 - val_loss: 0.2587 - val_mse: 0.2587\n",
            "Epoch 34/40\n",
            "51/51 [==============================] - 1s 10ms/step - loss: 0.1764 - mse: 0.1764 - val_loss: 0.2562 - val_mse: 0.2562\n",
            "Epoch 35/40\n",
            "51/51 [==============================] - 1s 11ms/step - loss: 0.1732 - mse: 0.1732 - val_loss: 0.2633 - val_mse: 0.2633\n",
            "Epoch 36/40\n",
            "51/51 [==============================] - 1s 12ms/step - loss: 0.1687 - mse: 0.1687 - val_loss: 0.2592 - val_mse: 0.2592\n",
            "Epoch 37/40\n",
            "51/51 [==============================] - 1s 11ms/step - loss: 0.1673 - mse: 0.1673 - val_loss: 0.2656 - val_mse: 0.2656\n",
            "Epoch 38/40\n",
            "51/51 [==============================] - 1s 13ms/step - loss: 0.1636 - mse: 0.1636 - val_loss: 0.2630 - val_mse: 0.2630\n",
            "Epoch 39/40\n",
            "51/51 [==============================] - 1s 14ms/step - loss: 0.1610 - mse: 0.1610 - val_loss: 0.2618 - val_mse: 0.2618\n",
            "Epoch 40/40\n",
            "51/51 [==============================] - 1s 10ms/step - loss: 0.1556 - mse: 0.1556 - val_loss: 0.2729 - val_mse: 0.2729\n"
          ]
        }
      ]
    },
    {
      "cell_type": "code",
      "source": [
        "plot_loss_curves(model_4_history)"
      ],
      "metadata": {
        "colab": {
          "base_uri": "https://localhost:8080/",
          "height": 295
        },
        "id": "svNlTY7h1RvB",
        "outputId": "57e2a572-92f2-4af5-b6e6-d3594e9e0da9"
      },
      "execution_count": 32,
      "outputs": [
        {
          "output_type": "display_data",
          "data": {
            "text/plain": [
              "<Figure size 432x288 with 1 Axes>"
            ],
            "image/png": "[encoded data removed]"
          },
          "metadata": {
            "needs_background": "light"
          }
        }
      ]
    },
    {
      "cell_type": "markdown",
      "source": [
        "### Model_5 (Add l2 regularization to the hidden layers in Model_4 to improve variance)"
      ],
      "metadata": {
        "id": "1aO3mNrg1aNx"
      }
    },
    {
      "cell_type": "code",
      "source": [
        "from tensorflow.keras import regularizers\n",
        "\n",
        "model_5 = tf.keras.Sequential([\n",
        "    layers.Dense(166, input_shape = X_train_minmax_tensor[0].shape, name = \"input_layer\"),\n",
        "    layers.Dense(100, activation = \"relu\", kernel_regularizer = regularizers.L2(l2 = 0.01)),\n",
        "    layers.Dense(100, activation = \"relu\", kernel_regularizer = regularizers.L2(l2 = 0.01)),\n",
        "    layers.Dense(1, name = \"output_layer\")\n",
        "])\n",
        "\n",
        "model_5.compile(loss = tf.keras.losses.mse,\n",
        "              optimizer = tf.keras.optimizers.Adam(learning_rate = 0.0001),\n",
        "              metrics = [\"mse\"])\n",
        "\n",
        "model_5_history  = model_5.fit(x = X_train_minmax_tensor, \n",
        "                               y = y_train_tensor, \n",
        "                               epochs = 40,\n",
        "                               validation_data = (X_val_minmax_tensor, y_val_tensor),\n",
        "                               callbacks = [create_tensorboard_callback(dir_name = \"nn-predictions\",\n",
        "                                                   experiment_name = \"Model_5\")])"
      ],
      "metadata": {
        "colab": {
          "base_uri": "https://localhost:8080/"
        },
        "id": "maipYMPjH9Ux",
        "outputId": "8a588713-eb84-4676-8ce8-b5ff08174037"
      },
      "execution_count": 34,
      "outputs": [
        {
          "output_type": "stream",
          "name": "stdout",
          "text": [
            "Saving TensorBoard log files to: nn-predictions/Model_5/20221127-125251\n",
            "Epoch 1/40\n",
            "51/51 [==============================] - 1s 8ms/step - loss: 3.4526 - mse: 1.2365 - val_loss: 2.5215 - val_mse: 0.3393\n",
            "Epoch 2/40\n",
            "51/51 [==============================] - 0s 4ms/step - loss: 2.4907 - mse: 0.3460 - val_loss: 2.4103 - val_mse: 0.3059\n",
            "Epoch 3/40\n",
            "51/51 [==============================] - 0s 5ms/step - loss: 2.3931 - mse: 0.3266 - val_loss: 2.3169 - val_mse: 0.2909\n",
            "Epoch 4/40\n",
            "51/51 [==============================] - 0s 4ms/step - loss: 2.3043 - mse: 0.3161 - val_loss: 2.2366 - val_mse: 0.2887\n",
            "Epoch 5/40\n",
            "51/51 [==============================] - 0s 5ms/step - loss: 2.2154 - mse: 0.3043 - val_loss: 2.1526 - val_mse: 0.2808\n",
            "Epoch 6/40\n",
            "51/51 [==============================] - 0s 5ms/step - loss: 2.1323 - mse: 0.2963 - val_loss: 2.0727 - val_mse: 0.2746\n",
            "Epoch 7/40\n",
            "51/51 [==============================] - 0s 5ms/step - loss: 2.0528 - mse: 0.2893 - val_loss: 1.9967 - val_mse: 0.2696\n",
            "Epoch 8/40\n",
            "51/51 [==============================] - 0s 5ms/step - loss: 1.9778 - mse: 0.2839 - val_loss: 1.9258 - val_mse: 0.2670\n",
            "Epoch 9/40\n",
            "51/51 [==============================] - 0s 5ms/step - loss: 1.9050 - mse: 0.2778 - val_loss: 1.8604 - val_mse: 0.2667\n",
            "Epoch 10/40\n",
            "51/51 [==============================] - 0s 4ms/step - loss: 1.8361 - mse: 0.2728 - val_loss: 1.7964 - val_mse: 0.2653\n",
            "Epoch 11/40\n",
            "51/51 [==============================] - 0s 4ms/step - loss: 1.7714 - mse: 0.2693 - val_loss: 1.7377 - val_mse: 0.2664\n",
            "Epoch 12/40\n",
            "51/51 [==============================] - 0s 4ms/step - loss: 1.7101 - mse: 0.2665 - val_loss: 1.6763 - val_mse: 0.2621\n",
            "Epoch 13/40\n",
            "51/51 [==============================] - 0s 4ms/step - loss: 1.6504 - mse: 0.2627 - val_loss: 1.6200 - val_mse: 0.2602\n",
            "Epoch 14/40\n",
            "51/51 [==============================] - 0s 5ms/step - loss: 1.5958 - mse: 0.2611 - val_loss: 1.5672 - val_mse: 0.2591\n",
            "Epoch 15/40\n",
            "51/51 [==============================] - 0s 5ms/step - loss: 1.5414 - mse: 0.2572 - val_loss: 1.5173 - val_mse: 0.2583\n",
            "Epoch 16/40\n",
            "51/51 [==============================] - 0s 4ms/step - loss: 1.4936 - mse: 0.2576 - val_loss: 1.4677 - val_mse: 0.2556\n",
            "Epoch 17/40\n",
            "51/51 [==============================] - 0s 5ms/step - loss: 1.4430 - mse: 0.2526 - val_loss: 1.4236 - val_mse: 0.2559\n",
            "Epoch 18/40\n",
            "51/51 [==============================] - 0s 5ms/step - loss: 1.3975 - mse: 0.2505 - val_loss: 1.3833 - val_mse: 0.2581\n",
            "Epoch 19/40\n",
            "51/51 [==============================] - 0s 4ms/step - loss: 1.3539 - mse: 0.2482 - val_loss: 1.3390 - val_mse: 0.2541\n",
            "Epoch 20/40\n",
            "51/51 [==============================] - 0s 4ms/step - loss: 1.3130 - mse: 0.2467 - val_loss: 1.3039 - val_mse: 0.2573\n",
            "Epoch 21/40\n",
            "51/51 [==============================] - 0s 4ms/step - loss: 1.2743 - mse: 0.2454 - val_loss: 1.2618 - val_mse: 0.2517\n",
            "Epoch 22/40\n",
            "51/51 [==============================] - 0s 5ms/step - loss: 1.2356 - mse: 0.2422 - val_loss: 1.2293 - val_mse: 0.2538\n",
            "Epoch 23/40\n",
            "51/51 [==============================] - 0s 4ms/step - loss: 1.2004 - mse: 0.2409 - val_loss: 1.1926 - val_mse: 0.2501\n",
            "Epoch 24/40\n",
            "51/51 [==============================] - 0s 4ms/step - loss: 1.1676 - mse: 0.2405 - val_loss: 1.1627 - val_mse: 0.2518\n",
            "Epoch 25/40\n",
            "51/51 [==============================] - 0s 4ms/step - loss: 1.1351 - mse: 0.2388 - val_loss: 1.1308 - val_mse: 0.2500\n",
            "Epoch 26/40\n",
            "51/51 [==============================] - 0s 5ms/step - loss: 1.1039 - mse: 0.2370 - val_loss: 1.1045 - val_mse: 0.2523\n",
            "Epoch 27/40\n",
            "51/51 [==============================] - 0s 4ms/step - loss: 1.0743 - mse: 0.2354 - val_loss: 1.0824 - val_mse: 0.2576\n",
            "Epoch 28/40\n",
            "51/51 [==============================] - 0s 4ms/step - loss: 1.0474 - mse: 0.2352 - val_loss: 1.0484 - val_mse: 0.2496\n",
            "Epoch 29/40\n",
            "51/51 [==============================] - 0s 4ms/step - loss: 1.0197 - mse: 0.2329 - val_loss: 1.0259 - val_mse: 0.2519\n",
            "Epoch 30/40\n",
            "51/51 [==============================] - 0s 5ms/step - loss: 0.9954 - mse: 0.2329 - val_loss: 0.9976 - val_mse: 0.2471\n",
            "Epoch 31/40\n",
            "51/51 [==============================] - 0s 5ms/step - loss: 0.9690 - mse: 0.2294 - val_loss: 0.9991 - val_mse: 0.2713\n",
            "Epoch 32/40\n",
            "51/51 [==============================] - 0s 4ms/step - loss: 0.9510 - mse: 0.2334 - val_loss: 0.9529 - val_mse: 0.2462\n",
            "Epoch 33/40\n",
            "51/51 [==============================] - 0s 5ms/step - loss: 0.9232 - mse: 0.2263 - val_loss: 0.9307 - val_mse: 0.2442\n",
            "Epoch 34/40\n",
            "51/51 [==============================] - 0s 4ms/step - loss: 0.9020 - mse: 0.2251 - val_loss: 0.9099 - val_mse: 0.2429\n",
            "Epoch 35/40\n",
            "51/51 [==============================] - 0s 5ms/step - loss: 0.8827 - mse: 0.2248 - val_loss: 0.8962 - val_mse: 0.2478\n",
            "Epoch 36/40\n",
            "51/51 [==============================] - 0s 4ms/step - loss: 0.8620 - mse: 0.2223 - val_loss: 0.8731 - val_mse: 0.2425\n",
            "Epoch 37/40\n",
            "51/51 [==============================] - 0s 4ms/step - loss: 0.8443 - mse: 0.2220 - val_loss: 0.8602 - val_mse: 0.2466\n",
            "Epoch 38/40\n",
            "51/51 [==============================] - 0s 4ms/step - loss: 0.8283 - mse: 0.2226 - val_loss: 0.8375 - val_mse: 0.2402\n",
            "Epoch 39/40\n",
            "51/51 [==============================] - 0s 5ms/step - loss: 0.8106 - mse: 0.2208 - val_loss: 0.8219 - val_mse: 0.2401\n",
            "Epoch 40/40\n",
            "51/51 [==============================] - 0s 4ms/step - loss: 0.7931 - mse: 0.2184 - val_loss: 0.8143 - val_mse: 0.2473\n"
          ]
        }
      ]
    },
    {
      "cell_type": "markdown",
      "source": [
        "### Model_6 (Increase learning_rate in model_5 to 0.01)\n"
      ],
      "metadata": {
        "id": "xlSZ0ceOJnIA"
      }
    },
    {
      "cell_type": "code",
      "source": [
        "model_6 = tf.keras.Sequential([\n",
        "    layers.Dense(166, input_shape = X_train_minmax_tensor[0].shape, name = \"input_layer\"),\n",
        "    layers.Dense(100, activation = \"relu\", kernel_regularizer = regularizers.L2(l2 = 0.01)),\n",
        "    layers.Dense(100, activation = \"relu\", kernel_regularizer = regularizers.L2(l2 = 0.01)),\n",
        "    layers.Dense(1, name = \"output_layer\")\n",
        "])\n",
        "\n",
        "model_6.compile(loss = tf.keras.losses.mse,\n",
        "              optimizer = tf.keras.optimizers.Adam(learning_rate = 0.01),\n",
        "              metrics = [\"mse\"])\n",
        "\n",
        "model_6_history  = model_6.fit(x = X_train_minmax_tensor, \n",
        "                               y = y_train_tensor, \n",
        "                               epochs = 40,\n",
        "                               validation_data = (X_val_minmax_tensor, y_val_tensor),\n",
        "                               callbacks = [create_tensorboard_callback(dir_name = \"nn-predictions\",\n",
        "                                                   experiment_name = \"Model_6\")])"
      ],
      "metadata": {
        "colab": {
          "base_uri": "https://localhost:8080/"
        },
        "id": "FRYZHlLkJhN9",
        "outputId": "76bc96b5-14e8-4ba7-e120-df0114deb218"
      },
      "execution_count": 35,
      "outputs": [
        {
          "output_type": "stream",
          "name": "stdout",
          "text": [
            "Saving TensorBoard log files to: nn-predictions/Model_6/20221127-125429\n",
            "Epoch 1/40\n",
            "51/51 [==============================] - 1s 9ms/step - loss: 2.2374 - mse: 0.7960 - val_loss: 1.2259 - val_mse: 0.3007\n",
            "Epoch 2/40\n",
            "51/51 [==============================] - 0s 4ms/step - loss: 1.0060 - mse: 0.3474 - val_loss: 0.8055 - val_mse: 0.3525\n",
            "Epoch 3/40\n",
            "51/51 [==============================] - 0s 5ms/step - loss: 0.6533 - mse: 0.3102 - val_loss: 0.5200 - val_mse: 0.2676\n",
            "Epoch 4/40\n",
            "51/51 [==============================] - 0s 5ms/step - loss: 0.5214 - mse: 0.3187 - val_loss: 0.4379 - val_mse: 0.2740\n",
            "Epoch 5/40\n",
            "51/51 [==============================] - 0s 4ms/step - loss: 0.4246 - mse: 0.2942 - val_loss: 0.3785 - val_mse: 0.2770\n",
            "Epoch 6/40\n",
            "51/51 [==============================] - 0s 5ms/step - loss: 0.3806 - mse: 0.2955 - val_loss: 0.3208 - val_mse: 0.2497\n",
            "Epoch 7/40\n",
            "51/51 [==============================] - 0s 5ms/step - loss: 0.3487 - mse: 0.2892 - val_loss: 0.3373 - val_mse: 0.2880\n",
            "Epoch 8/40\n",
            "51/51 [==============================] - 0s 5ms/step - loss: 0.3464 - mse: 0.3028 - val_loss: 0.2863 - val_mse: 0.2483\n",
            "Epoch 9/40\n",
            "51/51 [==============================] - 0s 5ms/step - loss: 0.3221 - mse: 0.2879 - val_loss: 0.2889 - val_mse: 0.2594\n",
            "Epoch 10/40\n",
            "51/51 [==============================] - 0s 4ms/step - loss: 0.3139 - mse: 0.2880 - val_loss: 0.2786 - val_mse: 0.2549\n",
            "Epoch 11/40\n",
            "51/51 [==============================] - 0s 5ms/step - loss: 0.2992 - mse: 0.2776 - val_loss: 0.2665 - val_mse: 0.2475\n",
            "Epoch 12/40\n",
            "51/51 [==============================] - 0s 5ms/step - loss: 0.2873 - mse: 0.2699 - val_loss: 0.2666 - val_mse: 0.2500\n",
            "Epoch 13/40\n",
            "51/51 [==============================] - 0s 5ms/step - loss: 0.3102 - mse: 0.2952 - val_loss: 0.2789 - val_mse: 0.2643\n",
            "Epoch 14/40\n",
            "51/51 [==============================] - 0s 4ms/step - loss: 0.2926 - mse: 0.2794 - val_loss: 0.2667 - val_mse: 0.2543\n",
            "Epoch 15/40\n",
            "51/51 [==============================] - 0s 5ms/step - loss: 0.2998 - mse: 0.2882 - val_loss: 0.3329 - val_mse: 0.3224\n",
            "Epoch 16/40\n",
            "51/51 [==============================] - 0s 5ms/step - loss: 0.2984 - mse: 0.2874 - val_loss: 0.3427 - val_mse: 0.3325\n",
            "Epoch 17/40\n",
            "51/51 [==============================] - 0s 4ms/step - loss: 0.3055 - mse: 0.2951 - val_loss: 0.2651 - val_mse: 0.2555\n",
            "Epoch 18/40\n",
            "51/51 [==============================] - 0s 5ms/step - loss: 0.2806 - mse: 0.2709 - val_loss: 0.3218 - val_mse: 0.3135\n",
            "Epoch 19/40\n",
            "51/51 [==============================] - 0s 4ms/step - loss: 0.2840 - mse: 0.2752 - val_loss: 0.2898 - val_mse: 0.2818\n",
            "Epoch 20/40\n",
            "51/51 [==============================] - 0s 5ms/step - loss: 0.2921 - mse: 0.2841 - val_loss: 0.2771 - val_mse: 0.2688\n",
            "Epoch 21/40\n",
            "51/51 [==============================] - 0s 5ms/step - loss: 0.2860 - mse: 0.2780 - val_loss: 0.2666 - val_mse: 0.2590\n",
            "Epoch 22/40\n",
            "51/51 [==============================] - 0s 4ms/step - loss: 0.2815 - mse: 0.2732 - val_loss: 0.2630 - val_mse: 0.2559\n",
            "Epoch 23/40\n",
            "51/51 [==============================] - 0s 4ms/step - loss: 0.2788 - mse: 0.2712 - val_loss: 0.2590 - val_mse: 0.2520\n",
            "Epoch 24/40\n",
            "51/51 [==============================] - 0s 5ms/step - loss: 0.2900 - mse: 0.2832 - val_loss: 0.3157 - val_mse: 0.3094\n",
            "Epoch 25/40\n",
            "51/51 [==============================] - 0s 5ms/step - loss: 0.2744 - mse: 0.2676 - val_loss: 0.2588 - val_mse: 0.2522\n",
            "Epoch 26/40\n",
            "51/51 [==============================] - 0s 5ms/step - loss: 0.2715 - mse: 0.2647 - val_loss: 0.2588 - val_mse: 0.2528\n",
            "Epoch 27/40\n",
            "51/51 [==============================] - 0s 4ms/step - loss: 0.2724 - mse: 0.2662 - val_loss: 0.2613 - val_mse: 0.2551\n",
            "Epoch 28/40\n",
            "51/51 [==============================] - 0s 5ms/step - loss: 0.2713 - mse: 0.2652 - val_loss: 0.2772 - val_mse: 0.2719\n",
            "Epoch 29/40\n",
            "51/51 [==============================] - 0s 4ms/step - loss: 0.2928 - mse: 0.2871 - val_loss: 0.2682 - val_mse: 0.2622\n",
            "Epoch 30/40\n",
            "51/51 [==============================] - 0s 5ms/step - loss: 0.2736 - mse: 0.2677 - val_loss: 0.2652 - val_mse: 0.2588\n",
            "Epoch 31/40\n",
            "51/51 [==============================] - 0s 4ms/step - loss: 0.2722 - mse: 0.2666 - val_loss: 0.2780 - val_mse: 0.2730\n",
            "Epoch 32/40\n",
            "51/51 [==============================] - 0s 4ms/step - loss: 0.2735 - mse: 0.2680 - val_loss: 0.2583 - val_mse: 0.2529\n",
            "Epoch 33/40\n",
            "51/51 [==============================] - 0s 4ms/step - loss: 0.2687 - mse: 0.2632 - val_loss: 0.2864 - val_mse: 0.2808\n",
            "Epoch 34/40\n",
            "51/51 [==============================] - 0s 4ms/step - loss: 0.2702 - mse: 0.2649 - val_loss: 0.2697 - val_mse: 0.2639\n",
            "Epoch 35/40\n",
            "51/51 [==============================] - 0s 5ms/step - loss: 0.2689 - mse: 0.2635 - val_loss: 0.2612 - val_mse: 0.2566\n",
            "Epoch 36/40\n",
            "51/51 [==============================] - 0s 5ms/step - loss: 0.2732 - mse: 0.2684 - val_loss: 0.2687 - val_mse: 0.2630\n",
            "Epoch 37/40\n",
            "51/51 [==============================] - 0s 4ms/step - loss: 0.2694 - mse: 0.2644 - val_loss: 0.2625 - val_mse: 0.2572\n",
            "Epoch 38/40\n",
            "51/51 [==============================] - 0s 5ms/step - loss: 0.2746 - mse: 0.2697 - val_loss: 0.2850 - val_mse: 0.2802\n",
            "Epoch 39/40\n",
            "51/51 [==============================] - 0s 5ms/step - loss: 0.2732 - mse: 0.2676 - val_loss: 0.2799 - val_mse: 0.2751\n",
            "Epoch 40/40\n",
            "51/51 [==============================] - 0s 4ms/step - loss: 0.2703 - mse: 0.2654 - val_loss: 0.2514 - val_mse: 0.2470\n"
          ]
        }
      ]
    },
    {
      "cell_type": "code",
      "source": [
        "plot_loss_curves(model_6_history)"
      ],
      "metadata": {
        "colab": {
          "base_uri": "https://localhost:8080/",
          "height": 573
        },
        "id": "Hulk3UWiJ30X",
        "outputId": "93515660-05c0-4c74-cdb7-1cdc50c390e5"
      },
      "execution_count": 48,
      "outputs": [
        {
          "output_type": "display_data",
          "data": {
            "text/plain": [
              "<Figure size 432x288 with 1 Axes>"
            ],
            "image/png": "[encoded data removed]"
          },
          "metadata": {
            "needs_background": "light"
          }
        },
        {
          "output_type": "display_data",
          "data": {
            "text/plain": [
              "<Figure size 432x288 with 1 Axes>"
            ],
            "image/png": "[encoded data removed]"
          },
          "metadata": {
            "needs_background": "light"
          }
        }
      ]
    },
    {
      "cell_type": "markdown",
      "source": [
        "### Model_7 (Increase learning_rate in model_5 to 0.001)\n"
      ],
      "metadata": {
        "id": "kzvLVlblKAYB"
      }
    },
    {
      "cell_type": "code",
      "source": [
        "model_7 = tf.keras.Sequential([\n",
        "    layers.Dense(166, input_shape = X_train_minmax_tensor[0].shape, name = \"input_layer\"),\n",
        "    layers.Dense(100, activation = \"relu\", kernel_regularizer = regularizers.L2(l2 = 0.01)),\n",
        "    layers.Dense(100, activation = \"relu\", kernel_regularizer = regularizers.L2(l2 = 0.01)),\n",
        "    layers.Dense(1, name = \"output_layer\")\n",
        "])\n",
        "\n",
        "model_7.compile(loss = tf.keras.losses.mse,\n",
        "              optimizer = tf.keras.optimizers.Adam(learning_rate = 0.001),\n",
        "              metrics = [\"mse\"])\n",
        "\n",
        "model_7_history  = model_7.fit(x = X_train_minmax_tensor, \n",
        "                               y = y_train_tensor, \n",
        "                               epochs = 40,\n",
        "                               validation_data = (X_val_minmax_tensor, y_val_tensor),\n",
        "                               callbacks = [create_tensorboard_callback(dir_name = \"nn-predictions\",\n",
        "                                                   experiment_name = \"Model_7\")])"
      ],
      "metadata": {
        "colab": {
          "base_uri": "https://localhost:8080/"
        },
        "id": "ppeIcgHvJ8cm",
        "outputId": "b68ac907-cd6f-426c-9e68-5613db72218d"
      },
      "execution_count": 37,
      "outputs": [
        {
          "output_type": "stream",
          "name": "stdout",
          "text": [
            "Saving TensorBoard log files to: nn-predictions/Model_7/20221127-125628\n",
            "Epoch 1/40\n",
            "51/51 [==============================] - 1s 8ms/step - loss: 2.3959 - mse: 0.4989 - val_loss: 1.8025 - val_mse: 0.2581\n",
            "Epoch 2/40\n",
            "51/51 [==============================] - 0s 4ms/step - loss: 1.5907 - mse: 0.2934 - val_loss: 1.3259 - val_mse: 0.2531\n",
            "Epoch 3/40\n",
            "51/51 [==============================] - 0s 5ms/step - loss: 1.2004 - mse: 0.2771 - val_loss: 1.0357 - val_mse: 0.2485\n",
            "Epoch 4/40\n",
            "51/51 [==============================] - 0s 5ms/step - loss: 0.9667 - mse: 0.2726 - val_loss: 0.8681 - val_mse: 0.2600\n",
            "Epoch 5/40\n",
            "51/51 [==============================] - 0s 4ms/step - loss: 0.8088 - mse: 0.2631 - val_loss: 0.7361 - val_mse: 0.2497\n",
            "Epoch 6/40\n",
            "51/51 [==============================] - 0s 4ms/step - loss: 0.7103 - mse: 0.2682 - val_loss: 0.6432 - val_mse: 0.2438\n",
            "Epoch 7/40\n",
            "51/51 [==============================] - 0s 4ms/step - loss: 0.6364 - mse: 0.2698 - val_loss: 0.7113 - val_mse: 0.3780\n",
            "Epoch 8/40\n",
            "51/51 [==============================] - 0s 4ms/step - loss: 0.5725 - mse: 0.2639 - val_loss: 0.5287 - val_mse: 0.2446\n",
            "Epoch 9/40\n",
            "51/51 [==============================] - 0s 5ms/step - loss: 0.5231 - mse: 0.2577 - val_loss: 0.4895 - val_mse: 0.2441\n",
            "Epoch 10/40\n",
            "51/51 [==============================] - 0s 4ms/step - loss: 0.4727 - mse: 0.2431 - val_loss: 0.4668 - val_mse: 0.2525\n",
            "Epoch 11/40\n",
            "51/51 [==============================] - 0s 4ms/step - loss: 0.4504 - mse: 0.2483 - val_loss: 0.4897 - val_mse: 0.3000\n",
            "Epoch 12/40\n",
            "51/51 [==============================] - 0s 4ms/step - loss: 0.4217 - mse: 0.2432 - val_loss: 0.4125 - val_mse: 0.2440\n",
            "Epoch 13/40\n",
            "51/51 [==============================] - 0s 4ms/step - loss: 0.4022 - mse: 0.2420 - val_loss: 0.4293 - val_mse: 0.2771\n",
            "Epoch 14/40\n",
            "51/51 [==============================] - 0s 4ms/step - loss: 0.3858 - mse: 0.2413 - val_loss: 0.3830 - val_mse: 0.2452\n",
            "Epoch 15/40\n",
            "51/51 [==============================] - 0s 4ms/step - loss: 0.3557 - mse: 0.2238 - val_loss: 0.3737 - val_mse: 0.2470\n",
            "Epoch 16/40\n",
            "51/51 [==============================] - 0s 4ms/step - loss: 0.3433 - mse: 0.2220 - val_loss: 0.3983 - val_mse: 0.2818\n",
            "Epoch 17/40\n",
            "51/51 [==============================] - 0s 5ms/step - loss: 0.3384 - mse: 0.2247 - val_loss: 0.3623 - val_mse: 0.2534\n",
            "Epoch 18/40\n",
            "51/51 [==============================] - 0s 4ms/step - loss: 0.3247 - mse: 0.2201 - val_loss: 0.3532 - val_mse: 0.2525\n",
            "Epoch 19/40\n",
            "51/51 [==============================] - 0s 4ms/step - loss: 0.3095 - mse: 0.2113 - val_loss: 0.3666 - val_mse: 0.2721\n",
            "Epoch 20/40\n",
            "51/51 [==============================] - 0s 4ms/step - loss: 0.3218 - mse: 0.2303 - val_loss: 0.3507 - val_mse: 0.2620\n",
            "Epoch 21/40\n",
            "51/51 [==============================] - 0s 5ms/step - loss: 0.2984 - mse: 0.2108 - val_loss: 0.3458 - val_mse: 0.2609\n",
            "Epoch 22/40\n",
            "51/51 [==============================] - 0s 4ms/step - loss: 0.2854 - mse: 0.2026 - val_loss: 0.3348 - val_mse: 0.2542\n",
            "Epoch 23/40\n",
            "51/51 [==============================] - 0s 4ms/step - loss: 0.2788 - mse: 0.2001 - val_loss: 0.3246 - val_mse: 0.2477\n",
            "Epoch 24/40\n",
            "51/51 [==============================] - 0s 4ms/step - loss: 0.2847 - mse: 0.2092 - val_loss: 0.3758 - val_mse: 0.3031\n",
            "Epoch 25/40\n",
            "51/51 [==============================] - 0s 4ms/step - loss: 0.2676 - mse: 0.1964 - val_loss: 0.3354 - val_mse: 0.2651\n",
            "Epoch 26/40\n",
            "51/51 [==============================] - 0s 5ms/step - loss: 0.2561 - mse: 0.1861 - val_loss: 0.3307 - val_mse: 0.2626\n",
            "Epoch 27/40\n",
            "51/51 [==============================] - 0s 5ms/step - loss: 0.2554 - mse: 0.1884 - val_loss: 0.3272 - val_mse: 0.2616\n",
            "Epoch 28/40\n",
            "51/51 [==============================] - 0s 4ms/step - loss: 0.2496 - mse: 0.1847 - val_loss: 0.3395 - val_mse: 0.2760\n",
            "Epoch 29/40\n",
            "51/51 [==============================] - 0s 5ms/step - loss: 0.2515 - mse: 0.1890 - val_loss: 0.3232 - val_mse: 0.2612\n",
            "Epoch 30/40\n",
            "51/51 [==============================] - 0s 4ms/step - loss: 0.2389 - mse: 0.1774 - val_loss: 0.3223 - val_mse: 0.2618\n",
            "Epoch 31/40\n",
            "51/51 [==============================] - 0s 5ms/step - loss: 0.2334 - mse: 0.1729 - val_loss: 0.3622 - val_mse: 0.3027\n",
            "Epoch 32/40\n",
            "51/51 [==============================] - 0s 5ms/step - loss: 0.2318 - mse: 0.1725 - val_loss: 0.3225 - val_mse: 0.2637\n",
            "Epoch 33/40\n",
            "51/51 [==============================] - 0s 5ms/step - loss: 0.2235 - mse: 0.1653 - val_loss: 0.3396 - val_mse: 0.2824\n",
            "Epoch 34/40\n",
            "51/51 [==============================] - 0s 4ms/step - loss: 0.2205 - mse: 0.1637 - val_loss: 0.3124 - val_mse: 0.2567\n",
            "Epoch 35/40\n",
            "51/51 [==============================] - 0s 5ms/step - loss: 0.2236 - mse: 0.1679 - val_loss: 0.3161 - val_mse: 0.2613\n",
            "Epoch 36/40\n",
            "51/51 [==============================] - 0s 4ms/step - loss: 0.2271 - mse: 0.1728 - val_loss: 0.3176 - val_mse: 0.2639\n",
            "Epoch 37/40\n",
            "51/51 [==============================] - 0s 4ms/step - loss: 0.2109 - mse: 0.1571 - val_loss: 0.3269 - val_mse: 0.2738\n",
            "Epoch 38/40\n",
            "51/51 [==============================] - 0s 4ms/step - loss: 0.2139 - mse: 0.1613 - val_loss: 0.3304 - val_mse: 0.2783\n",
            "Epoch 39/40\n",
            "51/51 [==============================] - 0s 4ms/step - loss: 0.2080 - mse: 0.1566 - val_loss: 0.3287 - val_mse: 0.2780\n",
            "Epoch 40/40\n",
            "51/51 [==============================] - 0s 4ms/step - loss: 0.2041 - mse: 0.1527 - val_loss: 0.3117 - val_mse: 0.2607\n"
          ]
        }
      ]
    },
    {
      "cell_type": "code",
      "source": [
        "plot_loss_curves(model_7_history)"
      ],
      "metadata": {
        "colab": {
          "base_uri": "https://localhost:8080/",
          "height": 573
        },
        "id": "Ynb0UPnyKVx3",
        "outputId": "94d8e40f-86c0-4b27-bc1a-7640b8907ba6"
      },
      "execution_count": 47,
      "outputs": [
        {
          "output_type": "display_data",
          "data": {
            "text/plain": [
              "<Figure size 432x288 with 1 Axes>"
            ],
            "image/png": "[encoded data removed]"
          },
          "metadata": {
            "needs_background": "light"
          }
        },
        {
          "output_type": "display_data",
          "data": {
            "text/plain": [
              "<Figure size 432x288 with 1 Axes>"
            ],
            "image/png": "[encoded data removed]"
          },
          "metadata": {
            "needs_background": "light"
          }
        }
      ]
    },
    {
      "cell_type": "markdown",
      "source": [
        "### Model_8 (train Model_5 for 40 more epochs)"
      ],
      "metadata": {
        "id": "6tekRfJzKYYg"
      }
    },
    {
      "cell_type": "code",
      "source": [
        "model_8 = tf.keras.Sequential([\n",
        "    layers.Dense(166, input_shape = X_train_minmax_tensor[0].shape, name = \"input_layer\"),\n",
        "    layers.Dense(100, activation = \"relu\", kernel_regularizer = regularizers.L2(l2 = 0.01)),\n",
        "    layers.Dense(100, activation = \"relu\", kernel_regularizer = regularizers.L2(l2 = 0.01)),\n",
        "    layers.Dense(1, name = \"output_layer\")\n",
        "])\n",
        "\n",
        "model_8.compile(loss = tf.keras.losses.mse,\n",
        "              optimizer = tf.keras.optimizers.Adam(learning_rate = 0.0001),\n",
        "              metrics = [\"mse\"])\n",
        "\n",
        "model_8_history  = model_8.fit(x = X_train_minmax_tensor, \n",
        "                               y = y_train_tensor, \n",
        "                               epochs = 80,\n",
        "                               validation_data = (X_val_minmax_tensor, y_val_tensor),\n",
        "                               callbacks = [create_tensorboard_callback(dir_name = \"nn-predictions\",\n",
        "                                                   experiment_name = \"Model_8\")])"
      ],
      "metadata": {
        "colab": {
          "base_uri": "https://localhost:8080/"
        },
        "id": "CCbzxSHOKt7Y",
        "outputId": "9398f3fc-f778-4fb7-ac71-233018681c77"
      },
      "execution_count": 39,
      "outputs": [
        {
          "output_type": "stream",
          "name": "stdout",
          "text": [
            "Saving TensorBoard log files to: nn-predictions/Model_8/20221127-125858\n",
            "Epoch 1/80\n",
            "51/51 [==============================] - 1s 8ms/step - loss: 3.2484 - mse: 1.0120 - val_loss: 2.5421 - val_mse: 0.3366\n",
            "Epoch 2/80\n",
            "51/51 [==============================] - 0s 5ms/step - loss: 2.5499 - mse: 0.3768 - val_loss: 2.4484 - val_mse: 0.3106\n",
            "Epoch 3/80\n",
            "51/51 [==============================] - 0s 4ms/step - loss: 2.4476 - mse: 0.3431 - val_loss: 2.3512 - val_mse: 0.2825\n",
            "Epoch 4/80\n",
            "51/51 [==============================] - 0s 7ms/step - loss: 2.3595 - mse: 0.3243 - val_loss: 2.2843 - val_mse: 0.2850\n",
            "Epoch 5/80\n",
            "51/51 [==============================] - 0s 9ms/step - loss: 2.2739 - mse: 0.3074 - val_loss: 2.2037 - val_mse: 0.2724\n",
            "Epoch 6/80\n",
            "51/51 [==============================] - 0s 9ms/step - loss: 2.1963 - mse: 0.2971 - val_loss: 2.1271 - val_mse: 0.2621\n",
            "Epoch 7/80\n",
            "51/51 [==============================] - 0s 8ms/step - loss: 2.1220 - mse: 0.2882 - val_loss: 2.0584 - val_mse: 0.2577\n",
            "Epoch 8/80\n",
            "51/51 [==============================] - 0s 6ms/step - loss: 2.0524 - mse: 0.2820 - val_loss: 1.9926 - val_mse: 0.2543\n",
            "Epoch 9/80\n",
            "51/51 [==============================] - 0s 5ms/step - loss: 1.9844 - mse: 0.2751 - val_loss: 1.9328 - val_mse: 0.2543\n",
            "Epoch 10/80\n",
            "51/51 [==============================] - 0s 6ms/step - loss: 1.9193 - mse: 0.2689 - val_loss: 1.8724 - val_mse: 0.2517\n",
            "Epoch 11/80\n",
            "51/51 [==============================] - 0s 5ms/step - loss: 1.8593 - mse: 0.2656 - val_loss: 1.8166 - val_mse: 0.2514\n",
            "Epoch 12/80\n",
            "51/51 [==============================] - 0s 5ms/step - loss: 1.8010 - mse: 0.2618 - val_loss: 1.7666 - val_mse: 0.2549\n",
            "Epoch 13/80\n",
            "51/51 [==============================] - 0s 5ms/step - loss: 1.7462 - mse: 0.2594 - val_loss: 1.7103 - val_mse: 0.2499\n",
            "Epoch 14/80\n",
            "51/51 [==============================] - 0s 5ms/step - loss: 1.6938 - mse: 0.2570 - val_loss: 1.6632 - val_mse: 0.2516\n",
            "Epoch 15/80\n",
            "51/51 [==============================] - 0s 5ms/step - loss: 1.6415 - mse: 0.2528 - val_loss: 1.6141 - val_mse: 0.2495\n",
            "Epoch 16/80\n",
            "51/51 [==============================] - 0s 5ms/step - loss: 1.5972 - mse: 0.2545 - val_loss: 1.5663 - val_mse: 0.2468\n",
            "Epoch 17/80\n",
            "51/51 [==============================] - 0s 4ms/step - loss: 1.5482 - mse: 0.2495 - val_loss: 1.5231 - val_mse: 0.2466\n",
            "Epoch 18/80\n",
            "51/51 [==============================] - 0s 4ms/step - loss: 1.5041 - mse: 0.2478 - val_loss: 1.4862 - val_mse: 0.2512\n",
            "Epoch 19/80\n",
            "51/51 [==============================] - 0s 5ms/step - loss: 1.4615 - mse: 0.2456 - val_loss: 1.4429 - val_mse: 0.2473\n",
            "Epoch 20/80\n",
            "51/51 [==============================] - 0s 4ms/step - loss: 1.4210 - mse: 0.2439 - val_loss: 1.4053 - val_mse: 0.2477\n",
            "Epoch 21/80\n",
            "51/51 [==============================] - 0s 4ms/step - loss: 1.3834 - mse: 0.2433 - val_loss: 1.3664 - val_mse: 0.2449\n",
            "Epoch 22/80\n",
            "51/51 [==============================] - 0s 4ms/step - loss: 1.3450 - mse: 0.2403 - val_loss: 1.3324 - val_mse: 0.2456\n",
            "Epoch 23/80\n",
            "51/51 [==============================] - 0s 4ms/step - loss: 1.3098 - mse: 0.2392 - val_loss: 1.2978 - val_mse: 0.2442\n",
            "Epoch 24/80\n",
            "51/51 [==============================] - 0s 4ms/step - loss: 1.2769 - mse: 0.2389 - val_loss: 1.2670 - val_mse: 0.2454\n",
            "Epoch 25/80\n",
            "51/51 [==============================] - 0s 5ms/step - loss: 1.2436 - mse: 0.2369 - val_loss: 1.2348 - val_mse: 0.2439\n",
            "Epoch 26/80\n",
            "51/51 [==============================] - 0s 4ms/step - loss: 1.2124 - mse: 0.2357 - val_loss: 1.2080 - val_mse: 0.2464\n",
            "Epoch 27/80\n",
            "51/51 [==============================] - 0s 4ms/step - loss: 1.1819 - mse: 0.2340 - val_loss: 1.1826 - val_mse: 0.2493\n",
            "Epoch 28/80\n",
            "51/51 [==============================] - 0s 5ms/step - loss: 1.1543 - mse: 0.2340 - val_loss: 1.1553 - val_mse: 0.2490\n",
            "Epoch 29/80\n",
            "51/51 [==============================] - 0s 4ms/step - loss: 1.1272 - mse: 0.2334 - val_loss: 1.1259 - val_mse: 0.2453\n",
            "Epoch 30/80\n",
            "51/51 [==============================] - 0s 4ms/step - loss: 1.1019 - mse: 0.2334 - val_loss: 1.0979 - val_mse: 0.2420\n",
            "Epoch 31/80\n",
            "51/51 [==============================] - 0s 5ms/step - loss: 1.0734 - mse: 0.2291 - val_loss: 1.1038 - val_mse: 0.2718\n",
            "Epoch 32/80\n",
            "51/51 [==============================] - 0s 5ms/step - loss: 1.0559 - mse: 0.2348 - val_loss: 1.0528 - val_mse: 0.2433\n",
            "Epoch 33/80\n",
            "51/51 [==============================] - 0s 5ms/step - loss: 1.0251 - mse: 0.2261 - val_loss: 1.0285 - val_mse: 0.2405\n",
            "Epoch 34/80\n",
            "51/51 [==============================] - 0s 4ms/step - loss: 1.0027 - mse: 0.2249 - val_loss: 1.0081 - val_mse: 0.2408\n",
            "Epoch 35/80\n",
            "51/51 [==============================] - 0s 5ms/step - loss: 0.9824 - mse: 0.2248 - val_loss: 0.9910 - val_mse: 0.2437\n",
            "Epoch 36/80\n",
            "51/51 [==============================] - 0s 4ms/step - loss: 0.9599 - mse: 0.2220 - val_loss: 0.9683 - val_mse: 0.2402\n",
            "Epoch 37/80\n",
            "51/51 [==============================] - 0s 5ms/step - loss: 0.9418 - mse: 0.2228 - val_loss: 0.9509 - val_mse: 0.2414\n",
            "Epoch 38/80\n",
            "51/51 [==============================] - 0s 4ms/step - loss: 0.9235 - mse: 0.2226 - val_loss: 0.9312 - val_mse: 0.2394\n",
            "Epoch 39/80\n",
            "51/51 [==============================] - 0s 4ms/step - loss: 0.9053 - mse: 0.2218 - val_loss: 0.9129 - val_mse: 0.2382\n",
            "Epoch 40/80\n",
            "51/51 [==============================] - 0s 5ms/step - loss: 0.8850 - mse: 0.2182 - val_loss: 0.9018 - val_mse: 0.2434\n",
            "Epoch 41/80\n",
            "51/51 [==============================] - 0s 5ms/step - loss: 0.8669 - mse: 0.2162 - val_loss: 0.8956 - val_mse: 0.2531\n",
            "Epoch 42/80\n",
            "51/51 [==============================] - 0s 5ms/step - loss: 0.8516 - mse: 0.2163 - val_loss: 0.8772 - val_mse: 0.2497\n",
            "Epoch 43/80\n",
            "51/51 [==============================] - 0s 4ms/step - loss: 0.8380 - mse: 0.2175 - val_loss: 0.8496 - val_mse: 0.2365\n",
            "Epoch 44/80\n",
            "51/51 [==============================] - 0s 4ms/step - loss: 0.8222 - mse: 0.2160 - val_loss: 0.8394 - val_mse: 0.2404\n",
            "Epoch 45/80\n",
            "51/51 [==============================] - 0s 4ms/step - loss: 0.8058 - mse: 0.2131 - val_loss: 0.8225 - val_mse: 0.2369\n",
            "Epoch 46/80\n",
            "51/51 [==============================] - 0s 4ms/step - loss: 0.7892 - mse: 0.2097 - val_loss: 0.8084 - val_mse: 0.2356\n",
            "Epoch 47/80\n",
            "51/51 [==============================] - 0s 4ms/step - loss: 0.7775 - mse: 0.2109 - val_loss: 0.8024 - val_mse: 0.2422\n",
            "Epoch 48/80\n",
            "51/51 [==============================] - 0s 4ms/step - loss: 0.7660 - mse: 0.2116 - val_loss: 0.7865 - val_mse: 0.2382\n",
            "Epoch 49/80\n",
            "51/51 [==============================] - 0s 4ms/step - loss: 0.7495 - mse: 0.2070 - val_loss: 0.7771 - val_mse: 0.2405\n",
            "Epoch 50/80\n",
            "51/51 [==============================] - 0s 4ms/step - loss: 0.7354 - mse: 0.2043 - val_loss: 0.7815 - val_mse: 0.2562\n",
            "Epoch 51/80\n",
            "51/51 [==============================] - 0s 4ms/step - loss: 0.7251 - mse: 0.2050 - val_loss: 0.7503 - val_mse: 0.2357\n",
            "Epoch 52/80\n",
            "51/51 [==============================] - 0s 5ms/step - loss: 0.7124 - mse: 0.2028 - val_loss: 0.7426 - val_mse: 0.2383\n",
            "Epoch 53/80\n",
            "51/51 [==============================] - 0s 4ms/step - loss: 0.6991 - mse: 0.1998 - val_loss: 0.7317 - val_mse: 0.2376\n",
            "Epoch 54/80\n",
            "51/51 [==============================] - 0s 5ms/step - loss: 0.6887 - mse: 0.1993 - val_loss: 0.7346 - val_mse: 0.2504\n",
            "Epoch 55/80\n",
            "51/51 [==============================] - 0s 4ms/step - loss: 0.6779 - mse: 0.1983 - val_loss: 0.7250 - val_mse: 0.2504\n",
            "Epoch 56/80\n",
            "51/51 [==============================] - 0s 5ms/step - loss: 0.6672 - mse: 0.1967 - val_loss: 0.7317 - val_mse: 0.2660\n",
            "Epoch 57/80\n",
            "51/51 [==============================] - 0s 4ms/step - loss: 0.6580 - mse: 0.1965 - val_loss: 0.6955 - val_mse: 0.2385\n",
            "Epoch 58/80\n",
            "51/51 [==============================] - 0s 5ms/step - loss: 0.6439 - mse: 0.1911 - val_loss: 0.6906 - val_mse: 0.2423\n",
            "Epoch 59/80\n",
            "51/51 [==============================] - 0s 5ms/step - loss: 0.6353 - mse: 0.1910 - val_loss: 0.6802 - val_mse: 0.2401\n",
            "Epoch 60/80\n",
            "51/51 [==============================] - 0s 4ms/step - loss: 0.6279 - mse: 0.1918 - val_loss: 0.6661 - val_mse: 0.2340\n",
            "Epoch 61/80\n",
            "51/51 [==============================] - 0s 4ms/step - loss: 0.6168 - mse: 0.1885 - val_loss: 0.6647 - val_mse: 0.2405\n",
            "Epoch 62/80\n",
            "51/51 [==============================] - 0s 4ms/step - loss: 0.6058 - mse: 0.1852 - val_loss: 0.6562 - val_mse: 0.2395\n",
            "Epoch 63/80\n",
            "51/51 [==============================] - 0s 4ms/step - loss: 0.5975 - mse: 0.1843 - val_loss: 0.6549 - val_mse: 0.2455\n",
            "Epoch 64/80\n",
            "51/51 [==============================] - 0s 5ms/step - loss: 0.5884 - mse: 0.1823 - val_loss: 0.6383 - val_mse: 0.2359\n",
            "Epoch 65/80\n",
            "51/51 [==============================] - 0s 4ms/step - loss: 0.5821 - mse: 0.1832 - val_loss: 0.6429 - val_mse: 0.2477\n",
            "Epoch 66/80\n",
            "51/51 [==============================] - 0s 4ms/step - loss: 0.5750 - mse: 0.1830 - val_loss: 0.6317 - val_mse: 0.2432\n",
            "Epoch 67/80\n",
            "51/51 [==============================] - 0s 5ms/step - loss: 0.5636 - mse: 0.1782 - val_loss: 0.6297 - val_mse: 0.2476\n",
            "Epoch 68/80\n",
            "51/51 [==============================] - 0s 4ms/step - loss: 0.5561 - mse: 0.1769 - val_loss: 0.6167 - val_mse: 0.2408\n",
            "Epoch 69/80\n",
            "51/51 [==============================] - 0s 5ms/step - loss: 0.5489 - mse: 0.1760 - val_loss: 0.6136 - val_mse: 0.2437\n",
            "Epoch 70/80\n",
            "51/51 [==============================] - 0s 4ms/step - loss: 0.5392 - mse: 0.1722 - val_loss: 0.6235 - val_mse: 0.2596\n",
            "Epoch 71/80\n",
            "51/51 [==============================] - 0s 4ms/step - loss: 0.5314 - mse: 0.1701 - val_loss: 0.5986 - val_mse: 0.2403\n",
            "Epoch 72/80\n",
            "51/51 [==============================] - 0s 4ms/step - loss: 0.5296 - mse: 0.1740 - val_loss: 0.6005 - val_mse: 0.2479\n",
            "Epoch 73/80\n",
            "51/51 [==============================] - 0s 4ms/step - loss: 0.5232 - mse: 0.1733 - val_loss: 0.6081 - val_mse: 0.2610\n",
            "Epoch 74/80\n",
            "51/51 [==============================] - 0s 4ms/step - loss: 0.5104 - mse: 0.1657 - val_loss: 0.5902 - val_mse: 0.2482\n",
            "Epoch 75/80\n",
            "51/51 [==============================] - 0s 4ms/step - loss: 0.5052 - mse: 0.1658 - val_loss: 0.5878 - val_mse: 0.2510\n",
            "Epoch 76/80\n",
            "51/51 [==============================] - 0s 5ms/step - loss: 0.4972 - mse: 0.1626 - val_loss: 0.5936 - val_mse: 0.2617\n",
            "Epoch 77/80\n",
            "51/51 [==============================] - 0s 4ms/step - loss: 0.4925 - mse: 0.1628 - val_loss: 0.5746 - val_mse: 0.2475\n",
            "Epoch 78/80\n",
            "51/51 [==============================] - 0s 5ms/step - loss: 0.4846 - mse: 0.1598 - val_loss: 0.5703 - val_mse: 0.2479\n",
            "Epoch 79/80\n",
            "51/51 [==============================] - 0s 4ms/step - loss: 0.4798 - mse: 0.1598 - val_loss: 0.5585 - val_mse: 0.2408\n",
            "Epoch 80/80\n",
            "51/51 [==============================] - 0s 5ms/step - loss: 0.4725 - mse: 0.1570 - val_loss: 0.5632 - val_mse: 0.2500\n"
          ]
        }
      ]
    },
    {
      "cell_type": "code",
      "source": [
        "plot_loss_curves(model_8_history)"
      ],
      "metadata": {
        "colab": {
          "base_uri": "https://localhost:8080/",
          "height": 573
        },
        "id": "IzOwLlJrK8tZ",
        "outputId": "1c73f833-9779-4273-f5d5-536ad4297efe"
      },
      "execution_count": 46,
      "outputs": [
        {
          "output_type": "display_data",
          "data": {
            "text/plain": [
              "<Figure size 432x288 with 1 Axes>"
            ],
            "image/png": "[encoded data removed]"
          },
          "metadata": {
            "needs_background": "light"
          }
        },
        {
          "output_type": "display_data",
          "data": {
            "text/plain": [
              "<Figure size 432x288 with 1 Axes>"
            ],
            "image/png": "[encoded data removed]"
          },
          "metadata": {
            "needs_background": "light"
          }
        }
      ]
    },
    {
      "cell_type": "markdown",
      "source": [
        "### Model_9 (adding dropout to Model_5 (prob = 0.5) to improve variance)"
      ],
      "metadata": {
        "id": "FtKZDCTuLFG4"
      }
    },
    {
      "cell_type": "code",
      "source": [
        "model_9 = tf.keras.Sequential([\n",
        "    layers.Dense(166, input_shape = X_train_minmax_tensor[0].shape, name = \"input_layer\"),\n",
        "    layers.Dense(100, activation = \"relu\", kernel_regularizer = regularizers.L2(l2 = 0.01)),\n",
        "    layers.Dropout(0.5),\n",
        "    layers.Dense(100, activation = \"relu\", kernel_regularizer = regularizers.L2(l2 = 0.01)),\n",
        "    layers.Dense(1, name = \"output_layer\")\n",
        "])\n",
        "\n",
        "model_9.compile(loss = tf.keras.losses.mse,\n",
        "              optimizer = tf.keras.optimizers.Adam(learning_rate = 0.0001),\n",
        "              metrics = [\"mse\"])\n",
        "\n",
        "model_9_history  = model_9.fit(x = X_train_minmax_tensor, \n",
        "                               y = y_train_tensor, \n",
        "                               epochs = 40,\n",
        "                               validation_data = (X_val_minmax_tensor, y_val_tensor),\n",
        "                               callbacks = [create_tensorboard_callback(dir_name = \"nn-predictions\",\n",
        "                                                   experiment_name = \"Model_9\")])"
      ],
      "metadata": {
        "colab": {
          "base_uri": "https://localhost:8080/"
        },
        "id": "qPHB9VSJNAxq",
        "outputId": "4e0a8e25-3391-4e89-b472-84d13543e796"
      },
      "execution_count": 49,
      "outputs": [
        {
          "output_type": "stream",
          "name": "stdout",
          "text": [
            "Saving TensorBoard log files to: nn-predictions/Model_9/20221127-131456\n",
            "Epoch 1/40\n",
            "51/51 [==============================] - 1s 8ms/step - loss: 3.5823 - mse: 1.3390 - val_loss: 2.5603 - val_mse: 0.3479\n",
            "Epoch 2/40\n",
            "51/51 [==============================] - 0s 5ms/step - loss: 2.8140 - mse: 0.6334 - val_loss: 2.5121 - val_mse: 0.3659\n",
            "Epoch 3/40\n",
            "51/51 [==============================] - 0s 5ms/step - loss: 2.6380 - mse: 0.5241 - val_loss: 2.4086 - val_mse: 0.3292\n",
            "Epoch 4/40\n",
            "51/51 [==============================] - 0s 6ms/step - loss: 2.5590 - mse: 0.5117 - val_loss: 2.3774 - val_mse: 0.3644\n",
            "Epoch 5/40\n",
            "51/51 [==============================] - 0s 10ms/step - loss: 2.4698 - mse: 0.4881 - val_loss: 2.2966 - val_mse: 0.3485\n",
            "Epoch 6/40\n",
            "51/51 [==============================] - 0s 9ms/step - loss: 2.3737 - mse: 0.4562 - val_loss: 2.2201 - val_mse: 0.3353\n",
            "Epoch 7/40\n",
            "51/51 [==============================] - 0s 8ms/step - loss: 2.2981 - mse: 0.4432 - val_loss: 2.1739 - val_mse: 0.3507\n",
            "Epoch 8/40\n",
            "51/51 [==============================] - 0s 10ms/step - loss: 2.2461 - mse: 0.4517 - val_loss: 2.1233 - val_mse: 0.3595\n",
            "Epoch 9/40\n",
            "51/51 [==============================] - 1s 10ms/step - loss: 2.1674 - mse: 0.4310 - val_loss: 2.0690 - val_mse: 0.3617\n",
            "Epoch 10/40\n",
            "51/51 [==============================] - 0s 9ms/step - loss: 2.1042 - mse: 0.4235 - val_loss: 2.0524 - val_mse: 0.3999\n",
            "Epoch 11/40\n",
            "51/51 [==============================] - 1s 12ms/step - loss: 2.0410 - mse: 0.4138 - val_loss: 2.0320 - val_mse: 0.4321\n",
            "Epoch 12/40\n",
            "51/51 [==============================] - 1s 16ms/step - loss: 1.9747 - mse: 0.3992 - val_loss: 1.9427 - val_mse: 0.3933\n",
            "Epoch 13/40\n",
            "51/51 [==============================] - 1s 11ms/step - loss: 1.9082 - mse: 0.3823 - val_loss: 1.9053 - val_mse: 0.4044\n",
            "Epoch 14/40\n",
            "51/51 [==============================] - 0s 5ms/step - loss: 1.8639 - mse: 0.3857 - val_loss: 1.8706 - val_mse: 0.4163\n",
            "Epoch 15/40\n",
            "51/51 [==============================] - 0s 6ms/step - loss: 1.8377 - mse: 0.4052 - val_loss: 1.8087 - val_mse: 0.3992\n",
            "Epoch 16/40\n",
            "51/51 [==============================] - 0s 5ms/step - loss: 1.7620 - mse: 0.3733 - val_loss: 1.7886 - val_mse: 0.4220\n",
            "Epoch 17/40\n",
            "51/51 [==============================] - 0s 5ms/step - loss: 1.7097 - mse: 0.3633 - val_loss: 1.7751 - val_mse: 0.4500\n",
            "Epoch 18/40\n",
            "51/51 [==============================] - 0s 4ms/step - loss: 1.6768 - mse: 0.3710 - val_loss: 1.7452 - val_mse: 0.4598\n",
            "Epoch 19/40\n",
            "51/51 [==============================] - 0s 6ms/step - loss: 1.6299 - mse: 0.3631 - val_loss: 1.6830 - val_mse: 0.4357\n",
            "Epoch 20/40\n",
            "51/51 [==============================] - 0s 5ms/step - loss: 1.5801 - mse: 0.3506 - val_loss: 1.6740 - val_mse: 0.4633\n",
            "Epoch 21/40\n",
            "51/51 [==============================] - 0s 5ms/step - loss: 1.5406 - mse: 0.3471 - val_loss: 1.7234 - val_mse: 0.5481\n",
            "Epoch 22/40\n",
            "51/51 [==============================] - 0s 6ms/step - loss: 1.4945 - mse: 0.3356 - val_loss: 1.6466 - val_mse: 0.5051\n",
            "Epoch 23/40\n",
            "51/51 [==============================] - 0s 5ms/step - loss: 1.4685 - mse: 0.3428 - val_loss: 1.5913 - val_mse: 0.4822\n",
            "Epoch 24/40\n",
            "51/51 [==============================] - 0s 5ms/step - loss: 1.4173 - mse: 0.3233 - val_loss: 1.6037 - val_mse: 0.5259\n",
            "Epoch 25/40\n",
            "51/51 [==============================] - 0s 4ms/step - loss: 1.3945 - mse: 0.3312 - val_loss: 1.5536 - val_mse: 0.5057\n",
            "Epoch 26/40\n",
            "51/51 [==============================] - 0s 5ms/step - loss: 1.3713 - mse: 0.3375 - val_loss: 1.5030 - val_mse: 0.4841\n",
            "Epoch 27/40\n",
            "51/51 [==============================] - 0s 5ms/step - loss: 1.3252 - mse: 0.3198 - val_loss: 1.5163 - val_mse: 0.5253\n",
            "Epoch 28/40\n",
            "51/51 [==============================] - 0s 5ms/step - loss: 1.2912 - mse: 0.3132 - val_loss: 1.4192 - val_mse: 0.4549\n",
            "Epoch 29/40\n",
            "51/51 [==============================] - 0s 5ms/step - loss: 1.2749 - mse: 0.3232 - val_loss: 1.5001 - val_mse: 0.5616\n",
            "Epoch 30/40\n",
            "51/51 [==============================] - 0s 5ms/step - loss: 1.2507 - mse: 0.3241 - val_loss: 1.4514 - val_mse: 0.5375\n",
            "Epoch 31/40\n",
            "51/51 [==============================] - 0s 5ms/step - loss: 1.2254 - mse: 0.3231 - val_loss: 1.4920 - val_mse: 0.6020\n",
            "Epoch 32/40\n",
            "51/51 [==============================] - 0s 5ms/step - loss: 1.1958 - mse: 0.3168 - val_loss: 1.3715 - val_mse: 0.5041\n",
            "Epoch 33/40\n",
            "51/51 [==============================] - 0s 5ms/step - loss: 1.1594 - mse: 0.3027 - val_loss: 1.4059 - val_mse: 0.5605\n",
            "Epoch 34/40\n",
            "51/51 [==============================] - 0s 5ms/step - loss: 1.1475 - mse: 0.3124 - val_loss: 1.3710 - val_mse: 0.5468\n",
            "Epoch 35/40\n",
            "51/51 [==============================] - 0s 6ms/step - loss: 1.1279 - mse: 0.3136 - val_loss: 1.3493 - val_mse: 0.5454\n",
            "Epoch 36/40\n",
            "51/51 [==============================] - 0s 5ms/step - loss: 1.1020 - mse: 0.3078 - val_loss: 1.4130 - val_mse: 0.6292\n",
            "Epoch 37/40\n",
            "51/51 [==============================] - 0s 5ms/step - loss: 1.0771 - mse: 0.3024 - val_loss: 1.3935 - val_mse: 0.6285\n",
            "Epoch 38/40\n",
            "51/51 [==============================] - 0s 5ms/step - loss: 1.0813 - mse: 0.3251 - val_loss: 1.3182 - val_mse: 0.5714\n",
            "Epoch 39/40\n",
            "51/51 [==============================] - 0s 5ms/step - loss: 1.0430 - mse: 0.3047 - val_loss: 1.3031 - val_mse: 0.5738\n",
            "Epoch 40/40\n",
            "51/51 [==============================] - 0s 5ms/step - loss: 1.0193 - mse: 0.2984 - val_loss: 1.3952 - val_mse: 0.6832\n"
          ]
        }
      ]
    },
    {
      "cell_type": "code",
      "source": [
        "plot_loss_curves(model_9_history)"
      ],
      "metadata": {
        "colab": {
          "base_uri": "https://localhost:8080/",
          "height": 573
        },
        "id": "yxLzTS8NOj-p",
        "outputId": "f1390b52-c4ee-4ed9-e10e-c1ecf9db403f"
      },
      "execution_count": 50,
      "outputs": [
        {
          "output_type": "display_data",
          "data": {
            "text/plain": [
              "<Figure size 432x288 with 1 Axes>"
            ],
            "image/png": "[encoded data removed]"
          },
          "metadata": {
            "needs_background": "light"
          }
        },
        {
          "output_type": "display_data",
          "data": {
            "text/plain": [
              "<Figure size 432x288 with 1 Axes>"
            ],
            "image/png": "[encoded data removed]"
          },
          "metadata": {
            "needs_background": "light"
          }
        }
      ]
    },
    {
      "cell_type": "markdown",
      "source": [
        "### Model_10 (Adding Dropout (prob = 0.2) to Model_5 to improve variance)"
      ],
      "metadata": {
        "id": "FqPRIMvCOmxB"
      }
    },
    {
      "cell_type": "code",
      "source": [
        "model_10 = tf.keras.Sequential([\n",
        "    layers.Dense(166, input_shape = X_train_minmax_tensor[0].shape, name = \"input_layer\"),\n",
        "    layers.Dense(100, activation = \"relu\", kernel_regularizer = regularizers.L2(l2 = 0.01)),\n",
        "    layers.Dropout(0.2),\n",
        "    layers.Dense(100, activation = \"relu\", kernel_regularizer = regularizers.L2(l2 = 0.01)),\n",
        "    layers.Dense(1, name = \"output_layer\")\n",
        "])\n",
        "\n",
        "model_10.compile(loss = tf.keras.losses.mse,\n",
        "              optimizer = tf.keras.optimizers.Adam(learning_rate = 0.0001),\n",
        "              metrics = [\"mse\"])\n",
        "\n",
        "model_10_history  = model_10.fit(x = X_train_minmax_tensor, \n",
        "                               y = y_train_tensor, \n",
        "                               epochs = 40,\n",
        "                               validation_data = (X_val_minmax_tensor, y_val_tensor),\n",
        "                               callbacks = [create_tensorboard_callback(dir_name = \"nn-predictions\",\n",
        "                                                   experiment_name = \"Model_10\")])"
      ],
      "metadata": {
        "colab": {
          "base_uri": "https://localhost:8080/"
        },
        "id": "xlVuQrQkO5-R",
        "outputId": "da6b75a5-4729-4037-902e-1171ed2ba3d6"
      },
      "execution_count": 51,
      "outputs": [
        {
          "output_type": "stream",
          "name": "stdout",
          "text": [
            "Saving TensorBoard log files to: nn-predictions/Model_10/20221127-131704\n",
            "Epoch 1/40\n",
            "51/51 [==============================] - 1s 9ms/step - loss: 3.3123 - mse: 1.0924 - val_loss: 2.4971 - val_mse: 0.3111\n",
            "Epoch 2/40\n",
            "51/51 [==============================] - 0s 6ms/step - loss: 2.5739 - mse: 0.4242 - val_loss: 2.4074 - val_mse: 0.2966\n",
            "Epoch 3/40\n",
            "51/51 [==============================] - 0s 5ms/step - loss: 2.4806 - mse: 0.4062 - val_loss: 2.3175 - val_mse: 0.2818\n",
            "Epoch 4/40\n",
            "51/51 [==============================] - 0s 5ms/step - loss: 2.3749 - mse: 0.3750 - val_loss: 2.2524 - val_mse: 0.2907\n",
            "Epoch 5/40\n",
            "51/51 [==============================] - 0s 5ms/step - loss: 2.2834 - mse: 0.3563 - val_loss: 2.1540 - val_mse: 0.2638\n",
            "Epoch 6/40\n",
            "51/51 [==============================] - 0s 5ms/step - loss: 2.2001 - mse: 0.3434 - val_loss: 2.0826 - val_mse: 0.2615\n",
            "Epoch 7/40\n",
            "51/51 [==============================] - 0s 5ms/step - loss: 2.1248 - mse: 0.3360 - val_loss: 2.0076 - val_mse: 0.2528\n",
            "Epoch 8/40\n",
            "51/51 [==============================] - 0s 6ms/step - loss: 2.0476 - mse: 0.3240 - val_loss: 1.9465 - val_mse: 0.2557\n",
            "Epoch 9/40\n",
            "51/51 [==============================] - 0s 5ms/step - loss: 1.9709 - mse: 0.3098 - val_loss: 1.8902 - val_mse: 0.2607\n",
            "Epoch 10/40\n",
            "51/51 [==============================] - 0s 5ms/step - loss: 1.9179 - mse: 0.3170 - val_loss: 1.8306 - val_mse: 0.2599\n",
            "Epoch 11/40\n",
            "51/51 [==============================] - 0s 5ms/step - loss: 1.8546 - mse: 0.3113 - val_loss: 1.7790 - val_mse: 0.2648\n",
            "Epoch 12/40\n",
            "51/51 [==============================] - 0s 5ms/step - loss: 1.7935 - mse: 0.3054 - val_loss: 1.7169 - val_mse: 0.2566\n",
            "Epoch 13/40\n",
            "51/51 [==============================] - 0s 5ms/step - loss: 1.7353 - mse: 0.3002 - val_loss: 1.6685 - val_mse: 0.2600\n",
            "Epoch 14/40\n",
            "51/51 [==============================] - 0s 5ms/step - loss: 1.6855 - mse: 0.3009 - val_loss: 1.6180 - val_mse: 0.2587\n",
            "Epoch 15/40\n",
            "51/51 [==============================] - 0s 5ms/step - loss: 1.6324 - mse: 0.2961 - val_loss: 1.5574 - val_mse: 0.2453\n",
            "Epoch 16/40\n",
            "51/51 [==============================] - 0s 5ms/step - loss: 1.5904 - mse: 0.3004 - val_loss: 1.5156 - val_mse: 0.2489\n",
            "Epoch 17/40\n",
            "51/51 [==============================] - 0s 5ms/step - loss: 1.5360 - mse: 0.2902 - val_loss: 1.4802 - val_mse: 0.2565\n",
            "Epoch 18/40\n",
            "51/51 [==============================] - 0s 6ms/step - loss: 1.4873 - mse: 0.2837 - val_loss: 1.4489 - val_mse: 0.2667\n",
            "Epoch 19/40\n",
            "51/51 [==============================] - 0s 5ms/step - loss: 1.4439 - mse: 0.2809 - val_loss: 1.3925 - val_mse: 0.2498\n",
            "Epoch 20/40\n",
            "51/51 [==============================] - 0s 5ms/step - loss: 1.4080 - mse: 0.2837 - val_loss: 1.3706 - val_mse: 0.2658\n",
            "Epoch 21/40\n",
            "51/51 [==============================] - 0s 5ms/step - loss: 1.3721 - mse: 0.2848 - val_loss: 1.3402 - val_mse: 0.2716\n",
            "Epoch 22/40\n",
            "51/51 [==============================] - 0s 5ms/step - loss: 1.3369 - mse: 0.2851 - val_loss: 1.3012 - val_mse: 0.2674\n",
            "Epoch 23/40\n",
            "51/51 [==============================] - 0s 4ms/step - loss: 1.2955 - mse: 0.2777 - val_loss: 1.2568 - val_mse: 0.2560\n",
            "Epoch 24/40\n",
            "51/51 [==============================] - 0s 5ms/step - loss: 1.2634 - mse: 0.2780 - val_loss: 1.2334 - val_mse: 0.2644\n",
            "Epoch 25/40\n",
            "51/51 [==============================] - 0s 5ms/step - loss: 1.2323 - mse: 0.2781 - val_loss: 1.2015 - val_mse: 0.2630\n",
            "Epoch 26/40\n",
            "51/51 [==============================] - 0s 5ms/step - loss: 1.2025 - mse: 0.2782 - val_loss: 1.1732 - val_mse: 0.2638\n",
            "Epoch 27/40\n",
            "51/51 [==============================] - 0s 5ms/step - loss: 1.1615 - mse: 0.2657 - val_loss: 1.1536 - val_mse: 0.2724\n",
            "Epoch 28/40\n",
            "51/51 [==============================] - 0s 5ms/step - loss: 1.1396 - mse: 0.2713 - val_loss: 1.1242 - val_mse: 0.2697\n",
            "Epoch 29/40\n",
            "51/51 [==============================] - 0s 5ms/step - loss: 1.1120 - mse: 0.2700 - val_loss: 1.1043 - val_mse: 0.2756\n",
            "Epoch 30/40\n",
            "51/51 [==============================] - 0s 5ms/step - loss: 1.0876 - mse: 0.2708 - val_loss: 1.0722 - val_mse: 0.2681\n",
            "Epoch 31/40\n",
            "51/51 [==============================] - 0s 5ms/step - loss: 1.0673 - mse: 0.2747 - val_loss: 1.0919 - val_mse: 0.3116\n",
            "Epoch 32/40\n",
            "51/51 [==============================] - 0s 5ms/step - loss: 1.0424 - mse: 0.2729 - val_loss: 1.0114 - val_mse: 0.2535\n",
            "Epoch 33/40\n",
            "51/51 [==============================] - 0s 5ms/step - loss: 1.0102 - mse: 0.2629 - val_loss: 0.9978 - val_mse: 0.2615\n",
            "Epoch 34/40\n",
            "51/51 [==============================] - 0s 5ms/step - loss: 0.9836 - mse: 0.2575 - val_loss: 0.9672 - val_mse: 0.2517\n",
            "Epoch 35/40\n",
            "51/51 [==============================] - 0s 5ms/step - loss: 0.9716 - mse: 0.2658 - val_loss: 0.9775 - val_mse: 0.2820\n",
            "Epoch 36/40\n",
            "51/51 [==============================] - 0s 4ms/step - loss: 0.9465 - mse: 0.2604 - val_loss: 0.9346 - val_mse: 0.2582\n",
            "Epoch 37/40\n",
            "51/51 [==============================] - 0s 5ms/step - loss: 0.9379 - mse: 0.2705 - val_loss: 0.9397 - val_mse: 0.2820\n",
            "Epoch 38/40\n",
            "51/51 [==============================] - 0s 5ms/step - loss: 0.9110 - mse: 0.2618 - val_loss: 0.9022 - val_mse: 0.2621\n",
            "Epoch 39/40\n",
            "51/51 [==============================] - 0s 5ms/step - loss: 0.8968 - mse: 0.2649 - val_loss: 0.8850 - val_mse: 0.2618\n",
            "Epoch 40/40\n",
            "51/51 [==============================] - 0s 5ms/step - loss: 0.8714 - mse: 0.2562 - val_loss: 0.9094 - val_mse: 0.3026\n"
          ]
        }
      ]
    },
    {
      "cell_type": "code",
      "source": [
        "plot_loss_curves(model_10_history)"
      ],
      "metadata": {
        "colab": {
          "base_uri": "https://localhost:8080/",
          "height": 573
        },
        "id": "yl3iI-DjPC95",
        "outputId": "ee25dc6e-c46e-4d59-9907-852da657a206"
      },
      "execution_count": 52,
      "outputs": [
        {
          "output_type": "display_data",
          "data": {
            "text/plain": [
              "<Figure size 432x288 with 1 Axes>"
            ],
            "image/png": "[encoded data removed]"
          },
          "metadata": {
            "needs_background": "light"
          }
        },
        {
          "output_type": "display_data",
          "data": {
            "text/plain": [
              "<Figure size 432x288 with 1 Axes>"
            ],
            "image/png": "[encoded data removed]"
          },
          "metadata": {
            "needs_background": "light"
          }
        }
      ]
    },
    {
      "cell_type": "markdown",
      "source": [
        "### Model_11 (Double the number of units in the hidden layers of Model_5)"
      ],
      "metadata": {
        "id": "m0muf9HMQSCQ"
      }
    },
    {
      "cell_type": "code",
      "source": [
        "model_11 = tf.keras.Sequential([\n",
        "    layers.Dense(166, input_shape = X_train_minmax_tensor[0].shape, name = \"input_layer\"),\n",
        "    layers.Dense(200, activation = \"relu\", kernel_regularizer = regularizers.L2(l2 = 0.01)),\n",
        "    layers.Dense(200, activation = \"relu\", kernel_regularizer = regularizers.L2(l2 = 0.01)),\n",
        "    layers.Dense(1, name = \"output_layer\")\n",
        "])\n",
        "\n",
        "model_11.compile(loss = tf.keras.losses.mse,\n",
        "              optimizer = tf.keras.optimizers.Adam(learning_rate = 0.0001),\n",
        "              metrics = [\"mse\"])\n",
        "\n",
        "model_11_history  = model_11.fit(x = X_train_minmax_tensor, \n",
        "                               y = y_train_tensor, \n",
        "                               epochs = 40,\n",
        "                               validation_data = (X_val_minmax_tensor, y_val_tensor),\n",
        "                               callbacks = [create_tensorboard_callback(dir_name = \"nn-predictions\",\n",
        "                                                   experiment_name = \"Model_11\")])"
      ],
      "metadata": {
        "colab": {
          "base_uri": "https://localhost:8080/"
        },
        "id": "x7oU3KMHPE75",
        "outputId": "c96ea212-7bd9-4dbc-8c83-650e269cfc88"
      },
      "execution_count": 55,
      "outputs": [
        {
          "output_type": "stream",
          "name": "stdout",
          "text": [
            "Saving TensorBoard log files to: nn-predictions/Model_11/20221127-132441\n",
            "Epoch 1/40\n",
            "51/51 [==============================] - 1s 8ms/step - loss: 5.2448 - mse: 1.5124 - val_loss: 3.9875 - val_mse: 0.3401\n",
            "Epoch 2/40\n",
            "51/51 [==============================] - 0s 5ms/step - loss: 3.9306 - mse: 0.3714 - val_loss: 3.7638 - val_mse: 0.2989\n",
            "Epoch 3/40\n",
            "51/51 [==============================] - 0s 5ms/step - loss: 3.7204 - mse: 0.3421 - val_loss: 3.5647 - val_mse: 0.2786\n",
            "Epoch 4/40\n",
            "51/51 [==============================] - 0s 5ms/step - loss: 3.5272 - mse: 0.3253 - val_loss: 3.3871 - val_mse: 0.2743\n",
            "Epoch 5/40\n",
            "51/51 [==============================] - 0s 4ms/step - loss: 3.3424 - mse: 0.3097 - val_loss: 3.2082 - val_mse: 0.2604\n",
            "Epoch 6/40\n",
            "51/51 [==============================] - 0s 5ms/step - loss: 3.1706 - mse: 0.2989 - val_loss: 3.0438 - val_mse: 0.2521\n",
            "Epoch 7/40\n",
            "51/51 [==============================] - 0s 5ms/step - loss: 3.0100 - mse: 0.2902 - val_loss: 2.8924 - val_mse: 0.2480\n",
            "Epoch 8/40\n",
            "51/51 [==============================] - 0s 5ms/step - loss: 2.8624 - mse: 0.2856 - val_loss: 2.7503 - val_mse: 0.2443\n",
            "Epoch 9/40\n",
            "51/51 [==============================] - 0s 4ms/step - loss: 2.7207 - mse: 0.2777 - val_loss: 2.6216 - val_mse: 0.2449\n",
            "Epoch 10/40\n",
            "51/51 [==============================] - 0s 5ms/step - loss: 2.5886 - mse: 0.2713 - val_loss: 2.4978 - val_mse: 0.2428\n",
            "Epoch 11/40\n",
            "51/51 [==============================] - 0s 4ms/step - loss: 2.4671 - mse: 0.2678 - val_loss: 2.3832 - val_mse: 0.2423\n",
            "Epoch 12/40\n",
            "51/51 [==============================] - 0s 5ms/step - loss: 2.3531 - mse: 0.2644 - val_loss: 2.2803 - val_mse: 0.2465\n",
            "Epoch 13/40\n",
            "51/51 [==============================] - 0s 5ms/step - loss: 2.2485 - mse: 0.2634 - val_loss: 2.1748 - val_mse: 0.2409\n",
            "Epoch 14/40\n",
            "51/51 [==============================] - 0s 5ms/step - loss: 2.1510 - mse: 0.2627 - val_loss: 2.0841 - val_mse: 0.2436\n",
            "Epoch 15/40\n",
            "51/51 [==============================] - 0s 5ms/step - loss: 2.0536 - mse: 0.2558 - val_loss: 1.9937 - val_mse: 0.2406\n",
            "Epoch 16/40\n",
            "51/51 [==============================] - 0s 5ms/step - loss: 1.9708 - mse: 0.2578 - val_loss: 1.9090 - val_mse: 0.2380\n",
            "Epoch 17/40\n",
            "51/51 [==============================] - 0s 5ms/step - loss: 1.8876 - mse: 0.2540 - val_loss: 1.8323 - val_mse: 0.2379\n",
            "Epoch 18/40\n",
            "51/51 [==============================] - 0s 5ms/step - loss: 1.8112 - mse: 0.2519 - val_loss: 1.7646 - val_mse: 0.2423\n",
            "Epoch 19/40\n",
            "51/51 [==============================] - 0s 5ms/step - loss: 1.7386 - mse: 0.2490 - val_loss: 1.6929 - val_mse: 0.2379\n",
            "Epoch 20/40\n",
            "51/51 [==============================] - 0s 5ms/step - loss: 1.6717 - mse: 0.2477 - val_loss: 1.6311 - val_mse: 0.2395\n",
            "Epoch 21/40\n",
            "51/51 [==============================] - 0s 5ms/step - loss: 1.6104 - mse: 0.2477 - val_loss: 1.5687 - val_mse: 0.2366\n",
            "Epoch 22/40\n",
            "51/51 [==============================] - 0s 5ms/step - loss: 1.5488 - mse: 0.2439 - val_loss: 1.5137 - val_mse: 0.2375\n",
            "Epoch 23/40\n",
            "51/51 [==============================] - 0s 5ms/step - loss: 1.4939 - mse: 0.2435 - val_loss: 1.4584 - val_mse: 0.2350\n",
            "Epoch 24/40\n",
            "51/51 [==============================] - 0s 5ms/step - loss: 1.4431 - mse: 0.2440 - val_loss: 1.4105 - val_mse: 0.2370\n",
            "Epoch 25/40\n",
            "51/51 [==============================] - 0s 5ms/step - loss: 1.3921 - mse: 0.2415 - val_loss: 1.3645 - val_mse: 0.2380\n",
            "Epoch 26/40\n",
            "51/51 [==============================] - 0s 5ms/step - loss: 1.3451 - mse: 0.2401 - val_loss: 1.3184 - val_mse: 0.2361\n",
            "Epoch 27/40\n",
            "51/51 [==============================] - 0s 5ms/step - loss: 1.3003 - mse: 0.2385 - val_loss: 1.2800 - val_mse: 0.2398\n",
            "Epoch 28/40\n",
            "51/51 [==============================] - 0s 6ms/step - loss: 1.2605 - mse: 0.2396 - val_loss: 1.2448 - val_mse: 0.2443\n",
            "Epoch 29/40\n",
            "51/51 [==============================] - 0s 5ms/step - loss: 1.2211 - mse: 0.2388 - val_loss: 1.1991 - val_mse: 0.2360\n",
            "Epoch 30/40\n",
            "51/51 [==============================] - 0s 5ms/step - loss: 1.1849 - mse: 0.2391 - val_loss: 1.1629 - val_mse: 0.2352\n",
            "Epoch 31/40\n",
            "51/51 [==============================] - 0s 5ms/step - loss: 1.1466 - mse: 0.2353 - val_loss: 1.1708 - val_mse: 0.2770\n",
            "Epoch 32/40\n",
            "51/51 [==============================] - 0s 5ms/step - loss: 1.1204 - mse: 0.2419 - val_loss: 1.0966 - val_mse: 0.2342\n",
            "Epoch 33/40\n",
            "51/51 [==============================] - 0s 5ms/step - loss: 1.0809 - mse: 0.2331 - val_loss: 1.0656 - val_mse: 0.2331\n",
            "Epoch 34/40\n",
            "51/51 [==============================] - 0s 5ms/step - loss: 1.0506 - mse: 0.2321 - val_loss: 1.0378 - val_mse: 0.2338\n",
            "Epoch 35/40\n",
            "51/51 [==============================] - 0s 4ms/step - loss: 1.0229 - mse: 0.2321 - val_loss: 1.0100 - val_mse: 0.2332\n",
            "Epoch 36/40\n",
            "51/51 [==============================] - 0s 5ms/step - loss: 0.9931 - mse: 0.2290 - val_loss: 0.9842 - val_mse: 0.2333\n",
            "Epoch 37/40\n",
            "51/51 [==============================] - 0s 4ms/step - loss: 0.9700 - mse: 0.2312 - val_loss: 0.9585 - val_mse: 0.2324\n",
            "Epoch 38/40\n",
            "51/51 [==============================] - 0s 4ms/step - loss: 0.9453 - mse: 0.2307 - val_loss: 0.9338 - val_mse: 0.2312\n",
            "Epoch 39/40\n",
            "51/51 [==============================] - 0s 5ms/step - loss: 0.9238 - mse: 0.2320 - val_loss: 0.9092 - val_mse: 0.2289\n",
            "Epoch 40/40\n",
            "51/51 [==============================] - 0s 5ms/step - loss: 0.8967 - mse: 0.2269 - val_loss: 0.8906 - val_mse: 0.2317\n"
          ]
        }
      ]
    },
    {
      "cell_type": "code",
      "source": [
        "plot_loss_curves(model_11_history)"
      ],
      "metadata": {
        "colab": {
          "base_uri": "https://localhost:8080/",
          "height": 573
        },
        "id": "5TIvMhT1QHlI",
        "outputId": "d852a770-575b-4aca-acea-3a70817b96b6"
      },
      "execution_count": 57,
      "outputs": [
        {
          "output_type": "display_data",
          "data": {
            "text/plain": [
              "<Figure size 432x288 with 1 Axes>"
            ],
            "image/png": "[encoded data removed]"
          },
          "metadata": {
            "needs_background": "light"
          }
        },
        {
          "output_type": "display_data",
          "data": {
            "text/plain": [
              "<Figure size 432x288 with 1 Axes>"
            ],
            "image/png": "[encoded data removed]"
          },
          "metadata": {
            "needs_background": "light"
          }
        }
      ]
    },
    {
      "cell_type": "markdown",
      "source": [
        "### Model_12 (Quadruple the number of units in the hidden layers of Model_5)"
      ],
      "metadata": {
        "id": "kVlXahggQ7A8"
      }
    },
    {
      "cell_type": "code",
      "source": [
        "model_12 = tf.keras.Sequential([\n",
        "    layers.Dense(166, input_shape = X_train_minmax_tensor[0].shape, name = \"input_layer\"),\n",
        "    layers.Dense(400, activation = \"relu\", kernel_regularizer = regularizers.L2(l2 = 0.01)),\n",
        "    layers.Dense(400, activation = \"relu\", kernel_regularizer = regularizers.L2(l2 = 0.01)),\n",
        "    layers.Dense(1, name = \"output_layer\")\n",
        "])\n",
        "\n",
        "model_12.compile(loss = tf.keras.losses.mse,\n",
        "              optimizer = tf.keras.optimizers.Adam(learning_rate = 0.0001),\n",
        "              metrics = [\"mse\"])\n",
        "\n",
        "model_12_history  = model_12.fit(x = X_train_minmax_tensor, \n",
        "                               y = y_train_tensor, \n",
        "                               epochs = 40,\n",
        "                               validation_data = (X_val_minmax_tensor, y_val_tensor),\n",
        "                               callbacks = [create_tensorboard_callback(dir_name = \"nn-predictions\",\n",
        "                                                   experiment_name = \"Model_12\")])"
      ],
      "metadata": {
        "colab": {
          "base_uri": "https://localhost:8080/"
        },
        "id": "q4dRdacvQLLR",
        "outputId": "dd223aed-4c6c-43c6-bacf-4e0fe704baf2"
      },
      "execution_count": 58,
      "outputs": [
        {
          "output_type": "stream",
          "name": "stdout",
          "text": [
            "Saving TensorBoard log files to: nn-predictions/Model_12/20221127-132607\n",
            "Epoch 1/40\n",
            "51/51 [==============================] - 1s 11ms/step - loss: 7.0737 - mse: 0.9203 - val_loss: 6.2111 - val_mse: 0.2937\n",
            "Epoch 2/40\n",
            "51/51 [==============================] - 0s 9ms/step - loss: 6.0246 - mse: 0.3326 - val_loss: 5.7317 - val_mse: 0.2796\n",
            "Epoch 3/40\n",
            "51/51 [==============================] - 0s 9ms/step - loss: 5.5508 - mse: 0.3132 - val_loss: 5.2696 - val_mse: 0.2569\n",
            "Epoch 4/40\n",
            "51/51 [==============================] - 0s 8ms/step - loss: 5.1138 - mse: 0.3005 - val_loss: 4.8729 - val_mse: 0.2677\n",
            "Epoch 5/40\n",
            "51/51 [==============================] - 0s 8ms/step - loss: 4.7086 - mse: 0.2854 - val_loss: 4.4862 - val_mse: 0.2532\n",
            "Epoch 6/40\n",
            "51/51 [==============================] - 0s 8ms/step - loss: 4.3450 - mse: 0.2776 - val_loss: 4.1347 - val_mse: 0.2394\n",
            "Epoch 7/40\n",
            "51/51 [==============================] - 0s 9ms/step - loss: 4.0135 - mse: 0.2688 - val_loss: 3.8252 - val_mse: 0.2368\n",
            "Epoch 8/40\n",
            "51/51 [==============================] - 0s 8ms/step - loss: 3.7184 - mse: 0.2661 - val_loss: 3.5474 - val_mse: 0.2363\n",
            "Epoch 9/40\n",
            "51/51 [==============================] - 0s 9ms/step - loss: 3.4457 - mse: 0.2569 - val_loss: 3.3014 - val_mse: 0.2401\n",
            "Epoch 10/40\n",
            "51/51 [==============================] - 0s 9ms/step - loss: 3.2015 - mse: 0.2515 - val_loss: 3.0671 - val_mse: 0.2325\n",
            "Epoch 11/40\n",
            "51/51 [==============================] - 0s 9ms/step - loss: 2.9822 - mse: 0.2483 - val_loss: 2.8642 - val_mse: 0.2345\n",
            "Epoch 12/40\n",
            "51/51 [==============================] - 0s 8ms/step - loss: 2.7825 - mse: 0.2442 - val_loss: 2.6793 - val_mse: 0.2356\n",
            "Epoch 13/40\n",
            "51/51 [==============================] - 0s 9ms/step - loss: 2.6077 - mse: 0.2464 - val_loss: 2.5074 - val_mse: 0.2314\n",
            "Epoch 14/40\n",
            "51/51 [==============================] - 0s 8ms/step - loss: 2.4475 - mse: 0.2457 - val_loss: 2.3761 - val_mse: 0.2518\n",
            "Epoch 15/40\n",
            "51/51 [==============================] - 0s 9ms/step - loss: 2.2940 - mse: 0.2369 - val_loss: 2.2215 - val_mse: 0.2343\n",
            "Epoch 16/40\n",
            "51/51 [==============================] - 0s 8ms/step - loss: 2.1650 - mse: 0.2395 - val_loss: 2.0977 - val_mse: 0.2361\n",
            "Epoch 17/40\n",
            "51/51 [==============================] - 0s 8ms/step - loss: 2.0422 - mse: 0.2360 - val_loss: 1.9769 - val_mse: 0.2286\n",
            "Epoch 18/40\n",
            "51/51 [==============================] - 0s 9ms/step - loss: 1.9314 - mse: 0.2342 - val_loss: 1.8719 - val_mse: 0.2277\n",
            "Epoch 19/40\n",
            "51/51 [==============================] - 0s 8ms/step - loss: 1.8260 - mse: 0.2282 - val_loss: 1.7778 - val_mse: 0.2286\n",
            "Epoch 20/40\n",
            "51/51 [==============================] - 0s 8ms/step - loss: 1.7355 - mse: 0.2289 - val_loss: 1.6901 - val_mse: 0.2278\n",
            "Epoch 21/40\n",
            "51/51 [==============================] - 0s 8ms/step - loss: 1.6519 - mse: 0.2288 - val_loss: 1.6113 - val_mse: 0.2293\n",
            "Epoch 22/40\n",
            "51/51 [==============================] - 0s 8ms/step - loss: 1.5688 - mse: 0.2224 - val_loss: 1.5367 - val_mse: 0.2280\n",
            "Epoch 23/40\n",
            "51/51 [==============================] - 0s 9ms/step - loss: 1.4969 - mse: 0.2216 - val_loss: 1.4669 - val_mse: 0.2266\n",
            "Epoch 24/40\n",
            "51/51 [==============================] - 0s 8ms/step - loss: 1.4332 - mse: 0.2239 - val_loss: 1.4148 - val_mse: 0.2379\n",
            "Epoch 25/40\n",
            "51/51 [==============================] - 0s 8ms/step - loss: 1.3659 - mse: 0.2175 - val_loss: 1.3475 - val_mse: 0.2293\n",
            "Epoch 26/40\n",
            "51/51 [==============================] - 0s 9ms/step - loss: 1.3088 - mse: 0.2168 - val_loss: 1.2898 - val_mse: 0.2257\n",
            "Epoch 27/40\n",
            "51/51 [==============================] - 0s 9ms/step - loss: 1.2532 - mse: 0.2142 - val_loss: 1.2454 - val_mse: 0.2326\n",
            "Epoch 28/40\n",
            "51/51 [==============================] - 0s 9ms/step - loss: 1.2034 - mse: 0.2137 - val_loss: 1.2222 - val_mse: 0.2572\n",
            "Epoch 29/40\n",
            "51/51 [==============================] - 0s 8ms/step - loss: 1.1573 - mse: 0.2137 - val_loss: 1.1526 - val_mse: 0.2318\n",
            "Epoch 30/40\n",
            "51/51 [==============================] - 0s 9ms/step - loss: 1.1139 - mse: 0.2133 - val_loss: 1.1310 - val_mse: 0.2517\n",
            "Epoch 31/40\n",
            "51/51 [==============================] - 0s 9ms/step - loss: 1.0719 - mse: 0.2113 - val_loss: 1.1408 - val_mse: 0.3005\n",
            "Epoch 32/40\n",
            "51/51 [==============================] - 0s 8ms/step - loss: 1.0364 - mse: 0.2135 - val_loss: 1.0415 - val_mse: 0.2371\n",
            "Epoch 33/40\n",
            "51/51 [==============================] - 0s 8ms/step - loss: 0.9908 - mse: 0.2028 - val_loss: 1.0071 - val_mse: 0.2365\n",
            "Epoch 34/40\n",
            "51/51 [==============================] - 0s 8ms/step - loss: 0.9574 - mse: 0.2024 - val_loss: 0.9637 - val_mse: 0.2250\n",
            "Epoch 35/40\n",
            "51/51 [==============================] - 0s 9ms/step - loss: 0.9237 - mse: 0.1997 - val_loss: 0.9311 - val_mse: 0.2225\n",
            "Epoch 36/40\n",
            "51/51 [==============================] - 0s 8ms/step - loss: 0.8920 - mse: 0.1975 - val_loss: 0.9096 - val_mse: 0.2295\n",
            "Epoch 37/40\n",
            "51/51 [==============================] - 0s 8ms/step - loss: 0.8634 - mse: 0.1964 - val_loss: 0.8778 - val_mse: 0.2246\n",
            "Epoch 38/40\n",
            "51/51 [==============================] - 0s 8ms/step - loss: 0.8369 - mse: 0.1962 - val_loss: 0.8580 - val_mse: 0.2303\n",
            "Epoch 39/40\n",
            "51/51 [==============================] - 0s 8ms/step - loss: 0.8144 - mse: 0.1985 - val_loss: 0.8289 - val_mse: 0.2255\n",
            "Epoch 40/40\n",
            "51/51 [==============================] - 0s 9ms/step - loss: 0.7879 - mse: 0.1957 - val_loss: 0.8140 - val_mse: 0.2335\n"
          ]
        }
      ]
    },
    {
      "cell_type": "code",
      "source": [
        "plot_loss_curves(model_12_history)"
      ],
      "metadata": {
        "colab": {
          "base_uri": "https://localhost:8080/",
          "height": 573
        },
        "id": "EPtABrGTRKIy",
        "outputId": "482624c4-f391-4c24-e2a4-ad6156583d12"
      },
      "execution_count": 59,
      "outputs": [
        {
          "output_type": "display_data",
          "data": {
            "text/plain": [
              "<Figure size 432x288 with 1 Axes>"
            ],
            "image/png": "[encoded data removed]"
          },
          "metadata": {
            "needs_background": "light"
          }
        },
        {
          "output_type": "display_data",
          "data": {
            "text/plain": [
              "<Figure size 432x288 with 1 Axes>"
            ],
            "image/png": "[encoded data removed]"
          },
          "metadata": {
            "needs_background": "light"
          }
        }
      ]
    },
    {
      "cell_type": "markdown",
      "source": [
        "### Model_13 (Add one hidden layer to Model_11)"
      ],
      "metadata": {
        "id": "SI3-jdk_RT7W"
      }
    },
    {
      "cell_type": "code",
      "source": [
        "model_13 = tf.keras.Sequential([\n",
        "    layers.Dense(166, input_shape = X_train_minmax_tensor[0].shape, name = \"input_layer\"),\n",
        "    layers.Dense(200, activation = \"relu\", kernel_regularizer = regularizers.L2(l2 = 0.01)),\n",
        "    layers.Dense(200, activation = \"relu\", kernel_regularizer = regularizers.L2(l2 = 0.01)),\n",
        "    layers.Dense(200, activation = \"relu\", kernel_regularizer = regularizers.L2(l2 = 0.01)),\n",
        "    layers.Dense(1, name = \"output_layer\")\n",
        "])\n",
        "\n",
        "model_13.compile(loss = tf.keras.losses.mse,\n",
        "              optimizer = tf.keras.optimizers.Adam(learning_rate = 0.0001),\n",
        "              metrics = [\"mse\"])\n",
        "\n",
        "model_13_history  = model_13.fit(x = X_train_minmax_tensor, \n",
        "                               y = y_train_tensor, \n",
        "                               epochs = 40,\n",
        "                               validation_data = (X_val_minmax_tensor, y_val_tensor),\n",
        "                               callbacks = [create_tensorboard_callback(dir_name = \"nn-predictions\",\n",
        "                                                   experiment_name = \"Model_13\")])"
      ],
      "metadata": {
        "colab": {
          "base_uri": "https://localhost:8080/"
        },
        "id": "rNYBVNTMRiEE",
        "outputId": "4b4dcc6a-758d-4890-ac6f-01aa776e2b38"
      },
      "execution_count": 61,
      "outputs": [
        {
          "output_type": "stream",
          "name": "stdout",
          "text": [
            "Saving TensorBoard log files to: nn-predictions/Model_13/20221127-132858\n",
            "Epoch 1/40\n",
            "51/51 [==============================] - 1s 9ms/step - loss: 6.7916 - mse: 1.1147 - val_loss: 5.8131 - val_mse: 0.3064\n",
            "Epoch 2/40\n",
            "51/51 [==============================] - 0s 5ms/step - loss: 5.6947 - mse: 0.3563 - val_loss: 5.4497 - val_mse: 0.2914\n",
            "Epoch 3/40\n",
            "51/51 [==============================] - 0s 5ms/step - loss: 5.3257 - mse: 0.3312 - val_loss: 5.0872 - val_mse: 0.2661\n",
            "Epoch 4/40\n",
            "51/51 [==============================] - 0s 6ms/step - loss: 4.9813 - mse: 0.3165 - val_loss: 4.7716 - val_mse: 0.2716\n",
            "Epoch 5/40\n",
            "51/51 [==============================] - 0s 6ms/step - loss: 4.6536 - mse: 0.3001 - val_loss: 4.4548 - val_mse: 0.2557\n",
            "Epoch 6/40\n",
            "51/51 [==============================] - 0s 6ms/step - loss: 4.3526 - mse: 0.2905 - val_loss: 4.1617 - val_mse: 0.2433\n",
            "Epoch 7/40\n",
            "51/51 [==============================] - 0s 5ms/step - loss: 4.0730 - mse: 0.2824 - val_loss: 3.8967 - val_mse: 0.2399\n",
            "Epoch 8/40\n",
            "51/51 [==============================] - 0s 6ms/step - loss: 3.8163 - mse: 0.2780 - val_loss: 3.6536 - val_mse: 0.2394\n",
            "Epoch 9/40\n",
            "51/51 [==============================] - 0s 5ms/step - loss: 3.5753 - mse: 0.2701 - val_loss: 3.4291 - val_mse: 0.2385\n",
            "Epoch 10/40\n",
            "51/51 [==============================] - 0s 5ms/step - loss: 3.3528 - mse: 0.2637 - val_loss: 3.2188 - val_mse: 0.2358\n",
            "Epoch 11/40\n",
            "51/51 [==============================] - 0s 5ms/step - loss: 3.1494 - mse: 0.2602 - val_loss: 3.0298 - val_mse: 0.2386\n",
            "Epoch 12/40\n",
            "51/51 [==============================] - 0s 6ms/step - loss: 2.9614 - mse: 0.2573 - val_loss: 2.8522 - val_mse: 0.2388\n",
            "Epoch 13/40\n",
            "51/51 [==============================] - 0s 5ms/step - loss: 2.7911 - mse: 0.2577 - val_loss: 2.6854 - val_mse: 0.2356\n",
            "Epoch 14/40\n",
            "51/51 [==============================] - 0s 5ms/step - loss: 2.6345 - mse: 0.2583 - val_loss: 2.5505 - val_mse: 0.2514\n",
            "Epoch 15/40\n",
            "51/51 [==============================] - 0s 6ms/step - loss: 2.4818 - mse: 0.2505 - val_loss: 2.3982 - val_mse: 0.2376\n",
            "Epoch 16/40\n",
            "51/51 [==============================] - 0s 5ms/step - loss: 2.3496 - mse: 0.2519 - val_loss: 2.2710 - val_mse: 0.2389\n",
            "Epoch 17/40\n",
            "51/51 [==============================] - 0s 6ms/step - loss: 2.2244 - mse: 0.2498 - val_loss: 2.1491 - val_mse: 0.2347\n",
            "Epoch 18/40\n",
            "51/51 [==============================] - 0s 5ms/step - loss: 2.1106 - mse: 0.2495 - val_loss: 2.0388 - val_mse: 0.2334\n",
            "Epoch 19/40\n",
            "51/51 [==============================] - 0s 5ms/step - loss: 2.0000 - mse: 0.2438 - val_loss: 1.9394 - val_mse: 0.2345\n",
            "Epoch 20/40\n",
            "51/51 [==============================] - 0s 5ms/step - loss: 1.9041 - mse: 0.2446 - val_loss: 1.8476 - val_mse: 0.2355\n",
            "Epoch 21/40\n",
            "51/51 [==============================] - 0s 5ms/step - loss: 1.8155 - mse: 0.2452 - val_loss: 1.7633 - val_mse: 0.2370\n",
            "Epoch 22/40\n",
            "51/51 [==============================] - 0s 5ms/step - loss: 1.7277 - mse: 0.2399 - val_loss: 1.6841 - val_mse: 0.2369\n",
            "Epoch 23/40\n",
            "51/51 [==============================] - 0s 5ms/step - loss: 1.6511 - mse: 0.2398 - val_loss: 1.6091 - val_mse: 0.2354\n",
            "Epoch 24/40\n",
            "51/51 [==============================] - 0s 5ms/step - loss: 1.5818 - mse: 0.2414 - val_loss: 1.5484 - val_mse: 0.2430\n",
            "Epoch 25/40\n",
            "51/51 [==============================] - 0s 5ms/step - loss: 1.5120 - mse: 0.2375 - val_loss: 1.4793 - val_mse: 0.2371\n",
            "Epoch 26/40\n",
            "51/51 [==============================] - 0s 5ms/step - loss: 1.4499 - mse: 0.2361 - val_loss: 1.4208 - val_mse: 0.2370\n",
            "Epoch 27/40\n",
            "51/51 [==============================] - 0s 5ms/step - loss: 1.3917 - mse: 0.2349 - val_loss: 1.3716 - val_mse: 0.2428\n",
            "Epoch 28/40\n",
            "51/51 [==============================] - 0s 5ms/step - loss: 1.3400 - mse: 0.2359 - val_loss: 1.3386 - val_mse: 0.2608\n",
            "Epoch 29/40\n",
            "51/51 [==============================] - 0s 5ms/step - loss: 1.2912 - mse: 0.2363 - val_loss: 1.2694 - val_mse: 0.2387\n",
            "Epoch 30/40\n",
            "51/51 [==============================] - 0s 6ms/step - loss: 1.2454 - mse: 0.2362 - val_loss: 1.2373 - val_mse: 0.2507\n",
            "Epoch 31/40\n",
            "51/51 [==============================] - 0s 5ms/step - loss: 1.2005 - mse: 0.2338 - val_loss: 1.2534 - val_mse: 0.3080\n",
            "Epoch 32/40\n",
            "51/51 [==============================] - 0s 5ms/step - loss: 1.1683 - mse: 0.2411 - val_loss: 1.1473 - val_mse: 0.2395\n",
            "Epoch 33/40\n",
            "51/51 [==============================] - 0s 6ms/step - loss: 1.1191 - mse: 0.2285 - val_loss: 1.1112 - val_mse: 0.2387\n",
            "Epoch 34/40\n",
            "51/51 [==============================] - 0s 5ms/step - loss: 1.0840 - mse: 0.2277 - val_loss: 1.0795 - val_mse: 0.2400\n",
            "Epoch 35/40\n",
            "51/51 [==============================] - 0s 6ms/step - loss: 1.0514 - mse: 0.2272 - val_loss: 1.0442 - val_mse: 0.2360\n",
            "Epoch 36/40\n",
            "51/51 [==============================] - 0s 6ms/step - loss: 1.0173 - mse: 0.2237 - val_loss: 1.0210 - val_mse: 0.2422\n",
            "Epoch 37/40\n",
            "51/51 [==============================] - 0s 6ms/step - loss: 0.9912 - mse: 0.2259 - val_loss: 0.9884 - val_mse: 0.2373\n",
            "Epoch 38/40\n",
            "51/51 [==============================] - 0s 5ms/step - loss: 0.9628 - mse: 0.2245 - val_loss: 0.9640 - val_mse: 0.2391\n",
            "Epoch 39/40\n",
            "51/51 [==============================] - 0s 6ms/step - loss: 0.9407 - mse: 0.2278 - val_loss: 0.9383 - val_mse: 0.2380\n",
            "Epoch 40/40\n",
            "51/51 [==============================] - 0s 5ms/step - loss: 0.9106 - mse: 0.2215 - val_loss: 0.9157 - val_mse: 0.2384\n"
          ]
        }
      ]
    },
    {
      "cell_type": "markdown",
      "source": [
        "## Comparison of experiment results using TensorBoard"
      ],
      "metadata": {
        "id": "-jyyo3iQYQjU"
      }
    },
    {
      "cell_type": "code",
      "source": [
        "# Upload TensorBoard dev records - Results can be viewed in \n",
        "# https://tensorboard.dev/experiment/diofNSNyQeCL71pAe3bG2Q/#scalars&runSelectionState=eyJNb2RlbF8wLzIwMjIxMTI3LTEyMjgwMS90cmFpbiI6ZmFsc2UsIk1vZGVsXzAvMjAyMjExMjctMTIyODAxL3ZhbGlkYXRpb24iOmZhbHNlLCJNb2RlbF8xLzIwMjIxMTI3LTEyMjgyMy90cmFpbiI6ZmFsc2UsIk1vZGVsXzEvMjAyMjExMjctMTIyODIzL3ZhbGlkYXRpb24iOmZhbHNlLCJNb2RlbF8xMC8yMDIyMTEyNy0xMzE3MDQvdHJhaW4iOmZhbHNlLCJNb2RlbF8xMC8yMDIyMTEyNy0xMzE3MDQvdmFsaWRhdGlvbiI6ZmFsc2UsIk1vZGVsXzExLzIwMjIxMTI3LTEzMjQ0MS90cmFpbiI6ZmFsc2UsIk1vZGVsXzExLzIwMjIxMTI3LTEzMjQ0MS92YWxpZGF0aW9uIjp0cnVlLCJNb2RlbF8xMi8yMDIyMTEyNy0xMzI2MDcvdHJhaW4iOmZhbHNlLCJNb2RlbF8xMi8yMDIyMTEyNy0xMzI2MDcvdmFsaWRhdGlvbiI6dHJ1ZSwiTW9kZWxfMTMvMjAyMjExMjctMTMyODU4L3RyYWluIjpmYWxzZSwiTW9kZWxfMTMvMjAyMjExMjctMTMyODU4L3ZhbGlkYXRpb24iOnRydWUsIk1vZGVsXzIvMjAyMjExMjctMTIyODQ1L3RyYWluIjpmYWxzZSwiTW9kZWxfMi8yMDIyMTEyNy0xMjI4NDUvdmFsaWRhdGlvbiI6ZmFsc2UsIk1vZGVsXzMvMjAyMjExMjctMTIyOTI2L3RyYWluIjpmYWxzZSwiTW9kZWxfMy8yMDIyMTEyNy0xMjI5MjYvdmFsaWRhdGlvbiI6ZmFsc2UsIk1vZGVsXzQvMjAyMjExMjctMTIyOTQ4L3RyYWluIjpmYWxzZSwiTW9kZWxfNC8yMDIyMTEyNy0xMjI5NDgvdmFsaWRhdGlvbiI6ZmFsc2UsIk1vZGVsXzUvMjAyMjExMjctMTI1MjUxL3RyYWluIjpmYWxzZSwiTW9kZWxfNS8yMDIyMTEyNy0xMjUyNTEvdmFsaWRhdGlvbiI6ZmFsc2UsIk1vZGVsXzYvMjAyMjExMjctMTI1NDI5L3RyYWluIjpmYWxzZSwiTW9kZWxfNi8yMDIyMTEyNy0xMjU0MjkvdmFsaWRhdGlvbiI6ZmFsc2UsIk1vZGVsXzcvMjAyMjExMjctMTI1NjI4L3RyYWluIjpmYWxzZSwiTW9kZWxfNy8yMDIyMTEyNy0xMjU2MjgvdmFsaWRhdGlvbiI6ZmFsc2UsIk1vZGVsXzgvMjAyMjExMjctMTI1ODU4L3RyYWluIjpmYWxzZSwiTW9kZWxfOC8yMDIyMTEyNy0xMjU4NTgvdmFsaWRhdGlvbiI6ZmFsc2UsIk1vZGVsXzkvMjAyMjExMjctMTMxNDU2L3RyYWluIjpmYWxzZSwiTW9kZWxfOS8yMDIyMTEyNy0xMzE0NTYvdmFsaWRhdGlvbiI6ZmFsc2V9&_smoothingWeight=0.5\n",
        "!tensorboard dev upload --logdir ./nn-predictions/ \\\n",
        "--name \"NN regressors for length of hospital stay\" \\\n",
        "--description \"Improvement of the NN model\" \\\n",
        "--one_shot"
      ],
      "metadata": {
        "id": "Z0sjTJieR4QB"
      },
      "execution_count": null,
      "outputs": []
    },
    {
      "cell_type": "markdown",
      "source": [
        "## Final_model\n",
        "\n",
        "Based on TensorBoard, Model_12 is the best model"
      ],
      "metadata": {
        "id": "dtBEC8sWT1FX"
      }
    },
    {
      "cell_type": "code",
      "source": [
        "model_12.evaluate(X_test_minmax_tensor, y_test_tensor)"
      ],
      "metadata": {
        "colab": {
          "base_uri": "https://localhost:8080/"
        },
        "id": "jd7_O6RIU6xK",
        "outputId": "848312b7-f356-4037-f5b6-b552bd615b31"
      },
      "execution_count": 66,
      "outputs": [
        {
          "output_type": "stream",
          "name": "stdout",
          "text": [
            "7/7 [==============================] - 0s 4ms/step - loss: 0.8574 - mse: 0.2768\n"
          ]
        },
        {
          "output_type": "execute_result",
          "data": {
            "text/plain": [
              "[0.8573504686355591, 0.2768371105194092]"
            ]
          },
          "metadata": {},
          "execution_count": 66
        }
      ]
    }
  ]
}