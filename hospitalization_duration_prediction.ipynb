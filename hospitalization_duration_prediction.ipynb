{
  "nbformat": 4,
  "nbformat_minor": 0,
  "metadata": {
    "colab": {
      "provenance": [],
      "authorship_tag": "ABX9TyNS7zVBhuMs+Gen6RKPQLxL",
      "include_colab_link": true
    },
    "kernelspec": {
      "name": "python3",
      "display_name": "Python 3"
    },
    "language_info": {
      "name": "python"
    },
    "gpuClass": "standard"
  },
  "cells": [
    {
      "cell_type": "markdown",
      "metadata": {
        "id": "view-in-github",
        "colab_type": "text"
      },
      "source": [
        "<a href=\"https://colab.research.google.com/github/masadeghi/EHRsample/blob/main/hospitalization_duration_prediction.ipynb\" target=\"_parent\"><img src=\"https://colab.research.google.com/assets/colab-badge.svg\" alt=\"Open In Colab\"/></a>"
      ]
    },
    {
      "cell_type": "markdown",
      "source": [
        "# **Import the data from your Google drive account:**\n",
        "\n",
        "After running the first cell, you'll need to authorize access to your Drive."
      ],
      "metadata": {
        "id": "3TTPss2Acb53"
      }
    },
    {
      "cell_type": "code",
      "execution_count": 4,
      "metadata": {
        "colab": {
          "base_uri": "https://localhost:8080/"
        },
        "id": "dDs4AidBcJ1j",
        "outputId": "66b7bc08-3313-4719-8937-7267a90f24a2"
      },
      "outputs": [
        {
          "output_type": "stream",
          "name": "stdout",
          "text": [
            "Mounted at /content/gdrive\n"
          ]
        }
      ],
      "source": [
        "from google.colab import drive\n",
        "\n",
        "drive.mount('/content/gdrive')"
      ]
    },
    {
      "cell_type": "code",
      "source": [
        "!unzip gdrive/MyDrive/Databases/proj2.zip"
      ],
      "metadata": {
        "id": "51MTGIwsm9hN",
        "colab": {
          "base_uri": "https://localhost:8080/"
        },
        "outputId": "cb1744fc-9ce0-4fb8-a3f4-3ea2c6e2d2bf"
      },
      "execution_count": 5,
      "outputs": [
        {
          "output_type": "stream",
          "name": "stdout",
          "text": [
            "Archive:  gdrive/MyDrive/Databases/proj2.zip\n",
            "  inflating: hospitalized-patients-with-heart-failure-integrating-electronic-healthcare-records-and-external-outcome-data-1.3/LICENSE.txt  \n",
            "  inflating: hospitalized-patients-with-heart-failure-integrating-electronic-healthcare-records-and-external-outcome-data-1.3/SHA256SUMS.txt  \n",
            "  inflating: hospitalized-patients-with-heart-failure-integrating-electronic-healthcare-records-and-external-outcome-data-1.3/dat.csv  \n",
            "  inflating: hospitalized-patients-with-heart-failure-integrating-electronic-healthcare-records-and-external-outcome-data-1.3/dat_md.csv  \n",
            "  inflating: hospitalized-patients-with-heart-failure-integrating-electronic-healthcare-records-and-external-outcome-data-1.3/dataDictionary.csv  \n"
          ]
        }
      ]
    },
    {
      "cell_type": "code",
      "source": [
        "import pandas as pd\n",
        "\n",
        "heart_data = pd.read_csv('/content/hospitalized-patients-with-heart-failure-integrating-electronic-healthcare-records-and-external-outcome-data-1.3/dat.csv')\n",
        "md_data = pd.read_csv('/content/hospitalized-patients-with-heart-failure-integrating-electronic-healthcare-records-and-external-outcome-data-1.3/dat_md.csv')\n",
        "dict_data = pd.read_csv('/content/hospitalized-patients-with-heart-failure-integrating-electronic-healthcare-records-and-external-outcome-data-1.3/dataDictionary.csv')"
      ],
      "metadata": {
        "id": "K6mQ2WxefNgV"
      },
      "execution_count": 6,
      "outputs": []
    },
    {
      "cell_type": "markdown",
      "source": [
        "Explore the variables in the main dataset to classify them into the following categories:\n",
        "\n",
        "\n",
        "*   Variables that are expected to be available at the time of admission or a short while after (e.g., preliminary lab data)\n",
        "*   Variables that are expected to be available only at the time of discharge\n",
        "*   Variables from echocardiography\n",
        "*   Variables that are expected to be available only after patient discharge and on patient follow-up\n",
        "\n",
        "\n"
      ],
      "metadata": {
        "id": "5hX29gz-cgrH"
      }
    },
    {
      "cell_type": "code",
      "source": [
        "# dict_data contains explanations for each feature in the dataset\n",
        "\"\"\"\n",
        "%load_ext google.colab.data_table\n",
        "dict_data\n",
        "\"\"\""
      ],
      "metadata": {
        "id": "t_Kv4i44fd4V"
      },
      "execution_count": null,
      "outputs": []
    },
    {
      "cell_type": "code",
      "source": [
        "# Variables availble at the time of discharge, including duration of hospital stay\n",
        "discharge_var = [1, 5, 53, 164]\n",
        "\n",
        "# Variables only available after discharge and on patient follow-up\n",
        "future_var = list(range(54,64))\n",
        "\n",
        "# Variables from an echocardiography\n",
        "echo_var = list(range(46,53))"
      ],
      "metadata": {
        "id": "i9VTIODHMR0E"
      },
      "execution_count": 8,
      "outputs": []
    },
    {
      "cell_type": "markdown",
      "source": [
        "Transform the dat_md dataset to represent drug administration using one-hot encoding. Each row will indicate a unique patient (`inpatient.number`) and each column will indicating a unique drug. The transformed dataset can then be concatenated with the main dataset."
      ],
      "metadata": {
        "id": "to9AY2LadJH3"
      }
    },
    {
      "cell_type": "code",
      "source": [
        "\"\"\"\n",
        "print('md_data dimensions: ', md_data.shape)\n",
        "%reload_ext google.colab.data_table\n",
        "md_data\n",
        "\"\"\""
      ],
      "metadata": {
        "id": "lQfl7856fZhC"
      },
      "execution_count": null,
      "outputs": []
    },
    {
      "cell_type": "code",
      "source": [
        "# One-hot encoding drug administrations\n",
        "import numpy as np\n",
        "\n",
        "# Initialize zeros matrix with desired dimensions, indexes, and column names\n",
        "drugs = np.zeros((len(heart_data['inpatient.number'].unique()),\n",
        "                  len(md_data['Drug_name'].unique())))\n",
        "\n",
        "drugs = pd.DataFrame(drugs, index = heart_data['inpatient.number'].unique(), columns = md_data['Drug_name'].unique())\n",
        "\n",
        "# Iterate over the rows and columns of the constructed matrix and repalce 0 with 1\n",
        "# in the appropriate column if the treatment was administered.\n",
        "for index, row in drugs.iterrows():\n",
        "  for col in drugs.columns:\n",
        "    subset = md_data.loc[md_data['inpatient.number'] == index, 'Drug_name']\n",
        "    if col in subset.values:\n",
        "      drugs.loc[index, col] = 1\n",
        "\n",
        "# Concatenate the resulting matrix the main dataset:\n",
        "# Total data (t_data) = main dataset + drug data\n",
        "heart_data.set_index('inpatient.number', inplace = True)\n",
        "\n",
        "t_data = pd.concat([heart_data, drugs], axis = 1)"
      ],
      "metadata": {
        "id": "IbzPWAqrSkto"
      },
      "execution_count": 10,
      "outputs": []
    },
    {
      "cell_type": "markdown",
      "source": [
        "Identify features with missing data and explore each variable to get a better feel for the data."
      ],
      "metadata": {
        "id": "O-b9qABtd5Xn"
      }
    },
    {
      "cell_type": "code",
      "source": [
        "# Percentage of missing data in each column (if present)\n",
        "for i, col in enumerate(t_data.columns):\n",
        "  if t_data[col].isnull().mean() > 0:\n",
        "    print(f'{i, col}:', \"%.2f\" % t_data[col].isnull().mean())"
      ],
      "metadata": {
        "colab": {
          "base_uri": "https://localhost:8080/"
        },
        "id": "Lmj54ALPphBa",
        "outputId": "07b87443-7e40-4cbe-848c-8ca46e1f5855"
      },
      "execution_count": 11,
      "outputs": [
        {
          "output_type": "stream",
          "name": "stdout",
          "text": [
            "(4, 'occupation'): 0.01\n",
            "(27, 'peptic.ulcer.disease'): 0.00\n",
            "(29, 'moderate.to.severe.chronic.kidney.disease'): 0.00\n",
            "(34, 'liver.disease'): 0.00\n",
            "(36, 'CCI.score'): 0.00\n",
            "(46, 'LVEF'): 0.68\n",
            "(47, 'left.ventricular.end.diastolic.diameter.LV'): 0.35\n",
            "(48, 'mitral.valve.EMS'): 0.51\n",
            "(49, 'mitral.valve.AMS'): 0.73\n",
            "(50, 'EA'): 0.80\n",
            "(51, 'tricuspid.valve.return.velocity'): 0.61\n",
            "(52, 'tricuspid.valve.return.pressure'): 0.91\n",
            "(60, 'time.of.death..days.from.admission.'): 0.98\n",
            "(61, 're.admission.time..days.from.admission.'): 0.55\n",
            "(62, 'return.to.emergency.department.within.6.months'): 0.00\n",
            "(63, 'time.to.emergency.department.within.6.months'): 0.55\n",
            "(64, 'creatinine.enzymatic.method'): 0.01\n",
            "(65, 'urea'): 0.01\n",
            "(66, 'uric.acid'): 0.01\n",
            "(67, 'glomerular.filtration.rate'): 0.03\n",
            "(68, 'cystatin'): 0.02\n",
            "(69, 'white.blood.cell'): 0.01\n",
            "(70, 'monocyte.ratio'): 0.01\n",
            "(71, 'monocyte.count'): 0.01\n",
            "(72, 'red.blood.cell'): 0.01\n",
            "(73, 'coefficient.of.variation.of.red.blood.cell.distribution.width'): 0.01\n",
            "(74, 'standard.deviation.of.red.blood.cell.distribution.width'): 0.01\n",
            "(75, 'mean.corpuscular.volume'): 0.01\n",
            "(76, 'hematocrit'): 0.01\n",
            "(77, 'lymphocyte.count'): 0.01\n",
            "(78, 'mean.hemoglobin.volume'): 0.01\n",
            "(79, 'mean.hemoglobin.concentration'): 0.01\n",
            "(80, 'mean.platelet.volume'): 0.05\n",
            "(81, 'basophil.ratio'): 0.01\n",
            "(82, 'basophil.count'): 0.01\n",
            "(83, 'eosinophil.ratio'): 0.01\n",
            "(84, 'eosinophil.count'): 0.01\n",
            "(85, 'hemoglobin'): 0.01\n",
            "(86, 'platelet'): 0.01\n",
            "(87, 'platelet.distribution.width'): 0.05\n",
            "(88, 'platelet.hematocrit'): 0.05\n",
            "(89, 'neutrophil.ratio'): 0.01\n",
            "(90, 'neutrophil.count'): 0.01\n",
            "(91, 'D.dimer'): 0.08\n",
            "(92, 'international.normalized.ratio'): 0.02\n",
            "(93, 'activated.partial.thromboplastin.time'): 0.02\n",
            "(94, 'thrombin.time'): 0.02\n",
            "(95, 'prothrombin.activity'): 0.02\n",
            "(96, 'prothrombin.time.ratio'): 0.02\n",
            "(97, 'fibrinogen'): 0.02\n",
            "(98, 'high.sensitivity.troponin'): 0.04\n",
            "(99, 'myoglobin'): 0.80\n",
            "(100, 'carbon.dioxide.binding.capacity'): 0.01\n",
            "(101, 'calcium'): 0.01\n",
            "(102, 'potassium'): 0.01\n",
            "(103, 'chloride'): 0.01\n",
            "(104, 'sodium'): 0.01\n",
            "(105, 'Inorganic.Phosphorus'): 0.80\n",
            "(106, 'serum.magnesium'): 0.80\n",
            "(107, 'creatine.kinase.isoenzyme.to.creatine.kinase'): 0.12\n",
            "(108, 'hydroxybutyrate.dehydrogenase.to.lactate.dehydrogenase'): 0.12\n",
            "(109, 'hydroxybutyrate.dehydrogenase'): 0.12\n",
            "(110, 'glutamic.oxaloacetic.transaminase'): 0.13\n",
            "(111, 'creatine.kinase'): 0.12\n",
            "(112, 'creatine.kinase.isoenzyme'): 0.12\n",
            "(113, 'lactate.dehydrogenase'): 0.12\n",
            "(114, 'brain.natriuretic.peptide'): 0.02\n",
            "(115, 'high.sensitivity.protein'): 0.53\n",
            "(116, 'nucleotidase'): 0.26\n",
            "(117, 'fucosidase'): 0.26\n",
            "(118, 'albumin'): 0.05\n",
            "(119, 'white.globulin.ratio'): 0.05\n",
            "(120, 'cholinesterase'): 1.00\n",
            "(121, 'glutamyltranspeptidase'): 0.05\n",
            "(122, 'glutamic.pyruvic.transaminase'): 0.05\n",
            "(123, 'glutamic.oxaliplatin'): 0.71\n",
            "(124, 'indirect.bilirubin'): 0.05\n",
            "(125, 'alkaline.phosphatase'): 0.05\n",
            "(126, 'globulin'): 0.05\n",
            "(127, 'direct.bilirubin'): 0.05\n",
            "(128, 'total.bilirubin'): 0.05\n",
            "(129, 'total.bile.acid'): 0.25\n",
            "(130, 'total.protein'): 0.05\n",
            "(131, 'erythrocyte.sedimentation.rate'): 0.85\n",
            "(132, 'cholesterol'): 0.10\n",
            "(133, 'low.density.lipoprotein.cholesterol'): 0.10\n",
            "(134, 'triglyceride'): 0.10\n",
            "(135, 'high.density.lipoprotein.cholesterol'): 0.10\n",
            "(136, 'homocysteine'): 0.93\n",
            "(137, 'apolipoprotein.A'): 0.91\n",
            "(138, 'apolipoprotein.B'): 0.91\n",
            "(139, 'lipoprotein'): 0.91\n",
            "(140, 'pH'): 0.51\n",
            "(141, 'standard.residual.base'): 0.51\n",
            "(142, 'standard.bicarbonate'): 0.51\n",
            "(143, 'partial.pressure.of.carbon.dioxide'): 0.51\n",
            "(144, 'total.carbon.dioxide'): 0.51\n",
            "(145, 'methemoglobin'): 0.51\n",
            "(146, 'hematocrit.blood.gas'): 0.51\n",
            "(147, 'reduced.hemoglobin'): 0.51\n",
            "(148, 'potassium.ion'): 0.51\n",
            "(149, 'chloride.ion'): 0.51\n",
            "(150, 'sodium.ion'): 0.51\n",
            "(151, 'glucose.blood.gas'): 0.51\n",
            "(152, 'lactate'): 0.51\n",
            "(153, 'measured.residual.base'): 0.51\n",
            "(154, 'measured.bicarbonate'): 0.51\n",
            "(155, 'carboxyhemoglobin'): 0.51\n",
            "(156, 'body.temperature.blood.gas'): 0.51\n",
            "(157, 'oxygen.saturation'): 0.51\n",
            "(158, 'partial.oxygen.pressure'): 0.51\n",
            "(159, 'oxyhemoglobin'): 0.51\n",
            "(160, 'anion.gap'): 0.51\n",
            "(161, 'free.calcium'): 0.51\n",
            "(162, 'total.hemoglobin'): 0.51\n"
          ]
        }
      ]
    },
    {
      "cell_type": "code",
      "source": [
        "# You could use the following function for quick exploration of each variable\n",
        "def summary(colname):\n",
        "  col = t_data[colname]\n",
        "\n",
        "  print(col[:10])\n",
        "\n",
        "  if col.dtype == object:\n",
        "    print('\\n Unique factors: \\n', col.unique())\n",
        "    print('\\n', col.describe(include = 'object'))\n",
        "  else:\n",
        "    print('\\n', col.describe())"
      ],
      "metadata": {
        "id": "ReXyT3KtxrSi"
      },
      "execution_count": 12,
      "outputs": []
    },
    {
      "cell_type": "markdown",
      "source": [
        "# **Prepare data for building the models**"
      ],
      "metadata": {
        "id": "H4C9_V0KiZAt"
      }
    },
    {
      "cell_type": "markdown",
      "source": [
        "**Step 1:** \n",
        "\n",
        "*   Separate data into predictor (X) and target (y) data.\n",
        "*   Remove discharge and future variables from X\n",
        "*   Remove variables with more than 30% missing values from X (echo variables are removed as a result).\n",
        "*   log transform y because it is right skewed"
      ],
      "metadata": {
        "id": "q5W8MV8lH774"
      }
    },
    {
      "cell_type": "code",
      "source": [
        "# Remove discharge and future variables\n",
        "y = t_data['dischargeDay']\n",
        "X = t_data.drop(t_data.columns[discharge_var + future_var], axis = 1) # dischargeDay is within discharge_var\n",
        "\n",
        "# Remove variables with more than 30% missing data\n",
        "keepers = [True] * len(X.columns)\n",
        "\n",
        "for i, col in enumerate(X.columns):\n",
        "  if X[col].isnull().mean() > 0.3:\n",
        "    keepers[i] = False\n",
        "\n",
        "X = X.loc[:, keepers]"
      ],
      "metadata": {
        "id": "gR_cOro5sb6P"
      },
      "execution_count": 13,
      "outputs": []
    },
    {
      "cell_type": "code",
      "source": [
        "# log transform y\n",
        "import seaborn as sns\n",
        "sns.displot(y)\n",
        "y = np.log(y)\n",
        "sns.displot(y)"
      ],
      "metadata": {
        "colab": {
          "base_uri": "https://localhost:8080/",
          "height": 738
        },
        "id": "-scI-AKSLu_1",
        "outputId": "0ee07216-42f5-4ef0-a799-87a8b3161482"
      },
      "execution_count": 14,
      "outputs": [
        {
          "output_type": "execute_result",
          "data": {
            "text/plain": [
              "<seaborn.axisgrid.FacetGrid at 0x7fcdf675b8d0>"
            ]
          },
          "metadata": {},
          "execution_count": 14
        },
        {
          "output_type": "display_data",
          "data": {
            "text/plain": [
              "<Figure size 360x360 with 1 Axes>"
            ],
            "image/png": "[encoded data removed]"
          },
          "metadata": {
            "needs_background": "light"
          }
        },
        {
          "output_type": "display_data",
          "data": {
            "text/plain": [
              "<Figure size 360x360 with 1 Axes>"
            ],
            "image/png": "[encoded data removed]"
          },
          "metadata": {
            "needs_background": "light"
          }
        }
      ]
    },
    {
      "cell_type": "markdown",
      "source": [
        "**Step 2:**\n",
        "One-hot encode the categorical variables in the dataset."
      ],
      "metadata": {
        "id": "4ijbpp9wIMUn"
      }
    },
    {
      "cell_type": "code",
      "source": [
        "import numpy as np\n",
        "\n",
        "# Replace NAs with mode in the categorical (dtype = 'object') variables.\n",
        "# occupation is the only categorical variable with missing values\n",
        "value = X['occupation'].mode()[0]\n",
        "X['occupation'].replace(np.nan, value, inplace = True)\n",
        "\n",
        "# OneHotencoding\n",
        "from sklearn.preprocessing import OneHotEncoder\n",
        "\n",
        "X_obj = X.select_dtypes(include = ['object']).copy()\n",
        "enc = OneHotEncoder(sparse = False) #sparse = False to enable concatenation with the noncategorical variables.\n",
        "X_obj_enc = enc.fit_transform(X_obj)\n",
        "X_obj_enc = pd.DataFrame(X_obj_enc, columns = enc.get_feature_names_out(), index = X.index)\n",
        "\n",
        "#Replace object variables with the onehot encoded version in the original dataset\n",
        "X.drop(X_obj.columns,\n",
        "       axis = 1,\n",
        "       inplace = True)\n",
        "\n",
        "X = pd.concat([X_obj_enc, X], axis = 1)"
      ],
      "metadata": {
        "id": "TofLqm9t9LrC"
      },
      "execution_count": 15,
      "outputs": []
    },
    {
      "cell_type": "markdown",
      "source": [
        "**Step 3:**\n",
        "*   Split the data into train and test groups\n",
        "*   Impute missing values using a KNN imputer\n",
        "*   Standard scale the variables that aren't one-hot encoded (since we will use svm and linear regression models).\n",
        "\n",
        "Imputations and scaling for the test data are performed based on the train group fit to prevent leakage."
      ],
      "metadata": {
        "id": "9mstqnvLIU6-"
      }
    },
    {
      "cell_type": "code",
      "source": [
        "# Split the data\n",
        "from sklearn.model_selection import train_test_split\n",
        "\n",
        "X_train, X_test, y_train, y_test = train_test_split(X, y, test_size = 0.2, random_state = 42)\n",
        "\n",
        "# Save indices for future data modificatons\n",
        "train_indices = X_train.index\n",
        "test_indices = X_test.index"
      ],
      "metadata": {
        "id": "MCQIdgYTy4wd"
      },
      "execution_count": 16,
      "outputs": []
    },
    {
      "cell_type": "code",
      "source": [
        "# Impute missing values using the KNN imputer\n",
        "from sklearn.impute import KNNImputer\n",
        "\n",
        "imp = KNNImputer()\n",
        "\n",
        "X_train = imp.fit_transform(X_train)\n",
        "X_test = imp.transform(X_test)"
      ],
      "metadata": {
        "id": "iE9i-kHf0V26"
      },
      "execution_count": 17,
      "outputs": []
    },
    {
      "cell_type": "code",
      "source": [
        "# Removing one-hot encoded variables from scaling\n",
        "X_train = pd.DataFrame(X_train, index = train_indices, columns = X.columns)\n",
        "X_test = pd.DataFrame(X_test, index = test_indices, columns = X.columns)\n",
        "\n",
        "non_one_hot = [col for col in X_train.columns if len(X_train[col].unique()) != 2]\n",
        "\n",
        "X_train_non_hot = X_train.loc[:, non_one_hot]\n",
        "X_train_hot = X_train.drop(non_one_hot, axis = 1)\n",
        "\n",
        "X_test_non_hot = X_test.loc[:, non_one_hot]\n",
        "X_test_hot = X_test.drop(non_one_hot, axis = 1)"
      ],
      "metadata": {
        "id": "4fAcdbDlMBNP"
      },
      "execution_count": 18,
      "outputs": []
    },
    {
      "cell_type": "code",
      "source": [
        "# Standard scale the non-encoded variables\n",
        "# Concatenate the resulting dataframe with the rest of the data.\n",
        "from sklearn.preprocessing import StandardScaler\n",
        "\n",
        "scaler = StandardScaler()\n",
        "\n",
        "X_train_non_hot_scaled = scaler.fit_transform(X_train_non_hot)\n",
        "X_train_non_hot_scaled = pd.DataFrame(X_train_non_hot_scaled, index = X_train_non_hot.index, columns = X_train_non_hot.columns)\n",
        "X_train = pd.concat([X_train_non_hot_scaled, X_train_hot], axis = 1)\n",
        "\n",
        "X_test_non_hot_scaled = scaler.transform(X_test_non_hot)\n",
        "X_test_non_hot_scaled = pd.DataFrame(X_test_non_hot_scaled, index = X_test_non_hot.index, columns = X_test_non_hot.columns)\n",
        "X_test = pd.concat([X_test_non_hot_scaled, X_test_hot], axis = 1)"
      ],
      "metadata": {
        "id": "RaIgdcP3MFNH"
      },
      "execution_count": 19,
      "outputs": []
    },
    {
      "cell_type": "markdown",
      "source": [
        "# **Build random forest model for prediction of hospitalization duration**"
      ],
      "metadata": {
        "id": "Vjj6vnxC5RgE"
      }
    },
    {
      "cell_type": "markdown",
      "source": [
        "**Base model:**"
      ],
      "metadata": {
        "id": "6ig2bFv4IdCu"
      }
    },
    {
      "cell_type": "code",
      "source": [
        "from sklearn.ensemble import RandomForestRegressor\n",
        "from sklearn.metrics import mean_squared_error\n",
        "\n",
        "nl_reg = RandomForestRegressor()\n",
        "\n",
        "nl_reg.fit(X_train, y_train)\n",
        "\n",
        "y_pred = nl_reg.predict(X_test)\n",
        "\n",
        "mean_squared_error(y_test, y_pred)"
      ],
      "metadata": {
        "colab": {
          "base_uri": "https://localhost:8080/"
        },
        "id": "uHtv1qxhgsCQ",
        "outputId": "f2aba678-aaec-4708-9ebe-b5b74d745e40"
      },
      "execution_count": 20,
      "outputs": [
        {
          "output_type": "execute_result",
          "data": {
            "text/plain": [
              "0.26340461484817573"
            ]
          },
          "metadata": {},
          "execution_count": 20
        }
      ]
    },
    {
      "cell_type": "markdown",
      "source": [
        "**Tune hyperparameters using grid search cross-validation:**\n",
        "\n",
        "The code cell is commented out as it did not improve model performance while being computationally time-consuming."
      ],
      "metadata": {
        "id": "s5fgHw4TMonq"
      }
    },
    {
      "cell_type": "code",
      "source": [
        "# Hyperparameter tuning using grid search\n",
        "\"\"\"\n",
        "from sklearn.model_selection import GridSearchCV\n",
        "\n",
        "grd_reg = RandomForestRegressor()\n",
        "\n",
        "param_grid = {'max_depth': [30, 40, 50],\n",
        "               'n_estimators': [150, 200, 250]}\n",
        "\n",
        "grd_reg = GridSearchCV(estimator = grd_reg, param_grid = param_grid, \n",
        "                               cv = 5, verbose = 3, n_jobs = -1, scoring = 'neg_mean_squared_error')\n",
        "\n",
        "grd_reg.fit(X_train, y_train)\n",
        "\n",
        "print('\\nBest estimator: \\n', grd_reg.best_estimator_)\n",
        "print('\\nBest score: \\n', grd_reg.best_score_)\n",
        "print('\\nBest parameters: \\n', grd_reg.best_params_)\n",
        "\n",
        "y_pred = grd_reg.best_estimator_.predict(X_test)\n",
        "\n",
        "print('\\nMSE on test data: ', mean_squared_error(y_test, y_pred))\n",
        "\"\"\""
      ],
      "metadata": {
        "id": "k1snYw4fIhZd"
      },
      "execution_count": null,
      "outputs": []
    },
    {
      "cell_type": "markdown",
      "source": [
        "**Tune hyperparameters using randomized search cross-validation:**\n",
        "\n",
        "The code cell is commented out as it did not improve model performance while being computationally time-consuming."
      ],
      "metadata": {
        "id": "0eqdp2EZJUAQ"
      }
    },
    {
      "cell_type": "code",
      "source": [
        "# Hyperparameter tuning using randomized search (the main differentiator from\n",
        "# the previous cell is the max_features hyperparameter)\n",
        "\"\"\"\n",
        "from sklearn.model_selection import RandomizedSearchCV\n",
        "\n",
        "rnd_reg = RandomForestRegressor()\n",
        "\n",
        "random_grid = {'max_depth': [2, 16, 32, 64, None],\n",
        "               'n_estimators': [64, 256, 512],\n",
        "               'max_features': ['sqrt', 0.2, 'auto']}\n",
        "\n",
        "rnd_reg = RandomizedSearchCV(estimator = rnd_reg, param_distributions = random_grid, \n",
        "                               cv = 5, verbose = 3, n_jobs = -1, random_state = 42, scoring = 'neg_mean_squared_error')\n",
        "\n",
        "rnd_reg.fit(X_train, y_train)\n",
        "\n",
        "print('\\nBest estimator \\n', rnd_reg.best_estimator_)\n",
        "print('\\nBest score \\n', rnd_reg.best_score_)\n",
        "print('\\nBest parameters \\n', rnd_reg.best_params_)\n",
        "\n",
        "y_pred = rnd_re.best_estimator_.predict(X_test)\n",
        "\n",
        "print('\\nMSE on test data:', mean_squared_error(y_test, y_pred))\n",
        "\"\"\""
      ],
      "metadata": {
        "id": "-6-uYyXbLSuN"
      },
      "execution_count": null,
      "outputs": []
    },
    {
      "cell_type": "markdown",
      "source": [
        "**Extract feature importances:**"
      ],
      "metadata": {
        "id": "VtpAX6uyJya_"
      }
    },
    {
      "cell_type": "code",
      "source": [
        "forest_importance = pd.Series(nl_reg.feature_importances_,\n",
        "                              index = X_train.columns).sort_values(ascending = False)\n",
        "\n",
        "forest_importance[:10]"
      ],
      "metadata": {
        "colab": {
          "base_uri": "https://localhost:8080/"
        },
        "id": "1lHx2o-KlkOx",
        "outputId": "a5ccc77d-de15-44c6-9218-b6ec8f575740"
      },
      "execution_count": 21,
      "outputs": [
        {
          "output_type": "execute_result",
          "data": {
            "text/plain": [
              "Torasemide tablet                  0.037065\n",
              "Furosemide tablet                  0.035587\n",
              "carbon.dioxide.binding.capacity    0.025066\n",
              "cystatin                           0.024320\n",
              "creatine.kinase.isoenzyme          0.018745\n",
              "chloride                           0.018652\n",
              "uric.acid                          0.018447\n",
              "urea                               0.018395\n",
              "platelet                           0.017509\n",
              "total.protein                      0.016943\n",
              "dtype: float64"
            ]
          },
          "metadata": {},
          "execution_count": 21
        }
      ]
    },
    {
      "cell_type": "markdown",
      "source": [
        "# **Build regularized linear regression model for prediction of hospitalization duration**"
      ],
      "metadata": {
        "id": "zCwFUEOd4-Yi"
      }
    },
    {
      "cell_type": "code",
      "source": [
        "# Suppress convergence warnings\n",
        "def warn(*args, **kwargs):\n",
        "    pass\n",
        "import warnings\n",
        "warnings.warn = warn\n",
        "\n",
        "# Regularized linear model\n",
        "from sklearn.linear_model import ElasticNetCV\n",
        "\n",
        "lin_reg = ElasticNetCV(l1_ratio = [0, 0.2, 0.5, 0.8, 0.9, 0.95, 0.99, 1],\n",
        "                       alphas = [0, 0.1, 0.2, 0.5, 0.7, 0.9, 1])\n",
        "\n",
        "lin_reg.fit(X_train, y_train)\n",
        "\n",
        "y_pred = lin_reg.predict(X_test)\n",
        "\n",
        "print('MSE for lin_reg is: ', mean_squared_error(y_test, y_pred))\n",
        "print('\\nChosen l1-ratio: ', lin_reg.l1_ratio_)\n",
        "print('\\nChosen alpha: ', lin_reg.alpha_)"
      ],
      "metadata": {
        "colab": {
          "base_uri": "https://localhost:8080/"
        },
        "id": "sGikp21k54Z_",
        "outputId": "3e9202c0-004b-4a66-8864-329e0c0e7757"
      },
      "execution_count": 26,
      "outputs": [
        {
          "output_type": "stream",
          "name": "stdout",
          "text": [
            "MSE for lin_reg is:  0.2699469963032169\n",
            "\n",
            "Chosen l1-ratio:  0.0\n",
            "\n",
            "Chosen alpha:  0.1\n"
          ]
        }
      ]
    },
    {
      "cell_type": "markdown",
      "source": [
        "# **Build support vector regressor for prediction of hospitalization duration**"
      ],
      "metadata": {
        "id": "DuNFkBT5IkWY"
      }
    },
    {
      "cell_type": "code",
      "source": [
        "# If you don't want to run the grid search, you could use the following parameters:\n",
        "# C = 0.1, gamma = 1, kernel = linear (next cell)\n",
        "\n",
        "\"\"\"\n",
        "from sklearn.svm import SVR\n",
        "from sklearn.model_selection import GridSearchCV\n",
        "\n",
        "sv_reg = SVR()\n",
        "\n",
        "param_grid = {'kernel' : ['linear', 'rbf', 'poly'],\n",
        "              'gamma' : [0.2, 0.5, 1, 5],\n",
        "              'C' : [0.1, 1, 10, 30]}\n",
        "\n",
        "sv_reg = GridSearchCV(sv_reg, param_grid = param_grid, \n",
        "                              verbose = 3, cv = 5, scoring = 'neg_mean_squared_error')\n",
        "\n",
        "sv_reg.fit(X_train, y_train)\n",
        "\n",
        "print('\\nBest estimator: \\n', sv_reg.best_estimator_)\n",
        "print('\\nBest score: \\n', sv_reg.best_score_)\n",
        "print('\\nBest parameters: \\n', sv_reg.best_params_)\n",
        "\n",
        "y_pred = sv_reg.best_estimator_.predict(X_test)\n",
        "\n",
        "print('\\nMSE on test data: ', mean_squared_error(y_test, y_pred))\n",
        "\"\"\""
      ],
      "metadata": {
        "id": "nrDfqOXUIqf5"
      },
      "execution_count": null,
      "outputs": []
    },
    {
      "cell_type": "code",
      "source": [
        "# SVR using the optimum parameters\n",
        "from sklearn.svm import SVR\n",
        "\n",
        "sv_reg = SVR(kernel = 'linear', gamma = 1, C = 0.1)\n",
        "\n",
        "sv_reg.fit(X_train, y_train)\n",
        "\n",
        "y_pred = sv_reg.predict(X_test)\n",
        "\n",
        "mean_squared_error(y_test, y_pred)"
      ],
      "metadata": {
        "colab": {
          "base_uri": "https://localhost:8080/"
        },
        "id": "z12fL5UmhGhU",
        "outputId": "581cafb9-19bb-46bf-cc32-7508f527b630"
      },
      "execution_count": 30,
      "outputs": [
        {
          "output_type": "execute_result",
          "data": {
            "text/plain": [
              "0.26978063980952033"
            ]
          },
          "metadata": {},
          "execution_count": 30
        }
      ]
    },
    {
      "cell_type": "markdown",
      "source": [
        "# **Build super ensemble (voting regressor) model**"
      ],
      "metadata": {
        "id": "7AhaSOrQGfCT"
      }
    },
    {
      "cell_type": "code",
      "source": [
        "from sklearn.ensemble import VotingRegressor\n",
        "\n",
        "vote_reg = VotingRegressor(estimators = [('rf', nl_reg), ('lin', lin_reg), ('svr', sv_reg)])\n",
        "\n",
        "vote_reg.fit(X_train, y_train)\n",
        "\n",
        "y_pred = vote_reg.predict(X_test)\n",
        "\n",
        "mean_squared_error(y_test, y_pred)"
      ],
      "metadata": {
        "colab": {
          "base_uri": "https://localhost:8080/"
        },
        "id": "fkYju3qoF3wB",
        "outputId": "70fd3626-933c-4297-bb32-237399b19c77"
      },
      "execution_count": 31,
      "outputs": [
        {
          "output_type": "execute_result",
          "data": {
            "text/plain": [
              "0.25587761618511057"
            ]
          },
          "metadata": {},
          "execution_count": 31
        }
      ]
    }
  ]
}